{
  "nbformat": 4,
  "nbformat_minor": 5,
  "metadata": {
    "kernelspec": {
      "display_name": "Python 3",
      "language": "python",
      "name": "python3"
    },
    "language_info": {
      "codemirror_mode": {
        "name": "ipython",
        "version": 3
      },
      "file_extension": ".py",
      "mimetype": "text/x-python",
      "name": "python",
      "nbconvert_exporter": "python",
      "pygments_lexer": "ipython3",
      "version": "3.9.4"
    },
    "colab": {
      "name": "Automate Kmeans Clustering - Silhouette Method.ipynb",
      "provenance": [],
      "include_colab_link": true
    }
  },
  "cells": [
    {
      "cell_type": "markdown",
      "metadata": {
        "id": "view-in-github",
        "colab_type": "text"
      },
      "source": [
        "<a href=\"https://colab.research.google.com/github/Priyanka-Kugapriya/Clustering_notebook/blob/main/Automate_Kmeans_Clustering_Silhouette_Method.ipynb\" target=\"_parent\"><img src=\"https://colab.research.google.com/assets/colab-badge.svg\" alt=\"Open In Colab\"/></a>"
      ]
    },
    {
      "cell_type": "code",
      "metadata": {
        "id": "c73d97a6"
      },
      "source": [
        "import pandas as pd\n",
        "import plotly.express as px\n",
        "import plotly.graph_objects as go\n",
        "import numpy as np\n",
        "from sklearn.cluster import KMeans\n",
        "from sklearn.metrics import silhouette_score\n",
        "# pd.set_option('display.max_rows',None,'display.max_columns',None)"
      ],
      "id": "c73d97a6",
      "execution_count": 1,
      "outputs": []
    },
    {
      "cell_type": "code",
      "metadata": {
        "id": "ea6e0355"
      },
      "source": [
        "df= pd.read_csv(\"CustomerW3_IT_6_Test_20210225182626301.csv\",header=None)"
      ],
      "id": "ea6e0355",
      "execution_count": 2,
      "outputs": []
    },
    {
      "cell_type": "code",
      "metadata": {
        "id": "5b9f80de"
      },
      "source": [
        "#naming columns\n",
        "df.columns = ['0','1','2', '3','4','5','6','7','8','9','10','11','12','13','14']"
      ],
      "id": "5b9f80de",
      "execution_count": 3,
      "outputs": []
    },
    {
      "cell_type": "code",
      "metadata": {
        "id": "5eea1b9e"
      },
      "source": [
        "#drop columns of no value\n",
        "df.drop(['3','5','14', '7', '9', '11', '13'],axis='columns', inplace=True)"
      ],
      "id": "5eea1b9e",
      "execution_count": 4,
      "outputs": []
    },
    {
      "cell_type": "code",
      "metadata": {
        "id": "35216f55"
      },
      "source": [
        "#create df\n",
        "test = df.to_dict(orient=\"records\")"
      ],
      "id": "35216f55",
      "execution_count": 5,
      "outputs": []
    },
    {
      "cell_type": "code",
      "metadata": {
        "id": "5985332d"
      },
      "source": [
        "frame_define = []\n",
        "for i in test:\n",
        "  key_arr = i.keys()\n",
        "  for key in key_arr:\n",
        "    if key not in ['0','1']:\n",
        "      dc1 = {}\n",
        "      dc1['X'] = i.get('0')\n",
        "      dc1['Y'] = i.get('1')\n",
        "      dc1['Column'] = key\n",
        "      dc1['Value'] = i.get(key)\n",
        "      frame_define.append(dc1)"
      ],
      "id": "5985332d",
      "execution_count": 6,
      "outputs": []
    },
    {
      "cell_type": "code",
      "metadata": {
        "id": "a1fe8aba"
      },
      "source": [
        "df2 = pd.DataFrame(frame_define)"
      ],
      "id": "a1fe8aba",
      "execution_count": 7,
      "outputs": []
    },
    {
      "cell_type": "code",
      "metadata": {
        "colab": {
          "base_uri": "https://localhost:8080/",
          "height": 419
        },
        "id": "062ca89f",
        "outputId": "8302d45a-520d-4e76-f034-b79363265127"
      },
      "source": [
        "df2"
      ],
      "id": "062ca89f",
      "execution_count": 8,
      "outputs": [
        {
          "output_type": "execute_result",
          "data": {
            "text/html": [
              "<div>\n",
              "<style scoped>\n",
              "    .dataframe tbody tr th:only-of-type {\n",
              "        vertical-align: middle;\n",
              "    }\n",
              "\n",
              "    .dataframe tbody tr th {\n",
              "        vertical-align: top;\n",
              "    }\n",
              "\n",
              "    .dataframe thead th {\n",
              "        text-align: right;\n",
              "    }\n",
              "</style>\n",
              "<table border=\"1\" class=\"dataframe\">\n",
              "  <thead>\n",
              "    <tr style=\"text-align: right;\">\n",
              "      <th></th>\n",
              "      <th>X</th>\n",
              "      <th>Y</th>\n",
              "      <th>Column</th>\n",
              "      <th>Value</th>\n",
              "    </tr>\n",
              "  </thead>\n",
              "  <tbody>\n",
              "    <tr>\n",
              "      <th>0</th>\n",
              "      <td>0</td>\n",
              "      <td>0</td>\n",
              "      <td>2</td>\n",
              "      <td>331.497681</td>\n",
              "    </tr>\n",
              "    <tr>\n",
              "      <th>1</th>\n",
              "      <td>0</td>\n",
              "      <td>0</td>\n",
              "      <td>4</td>\n",
              "      <td>366.443085</td>\n",
              "    </tr>\n",
              "    <tr>\n",
              "      <th>2</th>\n",
              "      <td>0</td>\n",
              "      <td>0</td>\n",
              "      <td>6</td>\n",
              "      <td>0.000000</td>\n",
              "    </tr>\n",
              "    <tr>\n",
              "      <th>3</th>\n",
              "      <td>0</td>\n",
              "      <td>0</td>\n",
              "      <td>8</td>\n",
              "      <td>0.000000</td>\n",
              "    </tr>\n",
              "    <tr>\n",
              "      <th>4</th>\n",
              "      <td>0</td>\n",
              "      <td>0</td>\n",
              "      <td>10</td>\n",
              "      <td>0.000000</td>\n",
              "    </tr>\n",
              "    <tr>\n",
              "      <th>...</th>\n",
              "      <td>...</td>\n",
              "      <td>...</td>\n",
              "      <td>...</td>\n",
              "      <td>...</td>\n",
              "    </tr>\n",
              "    <tr>\n",
              "      <th>4070017</th>\n",
              "      <td>94</td>\n",
              "      <td>2293759</td>\n",
              "      <td>4</td>\n",
              "      <td>0.000000</td>\n",
              "    </tr>\n",
              "    <tr>\n",
              "      <th>4070018</th>\n",
              "      <td>94</td>\n",
              "      <td>2293759</td>\n",
              "      <td>6</td>\n",
              "      <td>0.000000</td>\n",
              "    </tr>\n",
              "    <tr>\n",
              "      <th>4070019</th>\n",
              "      <td>94</td>\n",
              "      <td>2293759</td>\n",
              "      <td>8</td>\n",
              "      <td>0.000000</td>\n",
              "    </tr>\n",
              "    <tr>\n",
              "      <th>4070020</th>\n",
              "      <td>94</td>\n",
              "      <td>2293759</td>\n",
              "      <td>10</td>\n",
              "      <td>0.000000</td>\n",
              "    </tr>\n",
              "    <tr>\n",
              "      <th>4070021</th>\n",
              "      <td>94</td>\n",
              "      <td>2293759</td>\n",
              "      <td>12</td>\n",
              "      <td>0.000000</td>\n",
              "    </tr>\n",
              "  </tbody>\n",
              "</table>\n",
              "<p>4070022 rows × 4 columns</p>\n",
              "</div>"
            ],
            "text/plain": [
              "          X        Y Column       Value\n",
              "0         0        0      2  331.497681\n",
              "1         0        0      4  366.443085\n",
              "2         0        0      6    0.000000\n",
              "3         0        0      8    0.000000\n",
              "4         0        0     10    0.000000\n",
              "...      ..      ...    ...         ...\n",
              "4070017  94  2293759      4    0.000000\n",
              "4070018  94  2293759      6    0.000000\n",
              "4070019  94  2293759      8    0.000000\n",
              "4070020  94  2293759     10    0.000000\n",
              "4070021  94  2293759     12    0.000000\n",
              "\n",
              "[4070022 rows x 4 columns]"
            ]
          },
          "metadata": {
            "tags": []
          },
          "execution_count": 8
        }
      ]
    },
    {
      "cell_type": "code",
      "metadata": {
        "id": "5116d83d"
      },
      "source": [
        "#removed 0 values\n",
        "df3 = df2.loc[~((df2['Value'] == 0))]"
      ],
      "id": "5116d83d",
      "execution_count": 9,
      "outputs": []
    },
    {
      "cell_type": "code",
      "metadata": {
        "scrolled": true,
        "colab": {
          "base_uri": "https://localhost:8080/",
          "height": 419
        },
        "id": "d88585b5",
        "outputId": "51c4c0ef-f769-4059-abd2-9e4597fbd7e3"
      },
      "source": [
        "df3"
      ],
      "id": "d88585b5",
      "execution_count": 10,
      "outputs": [
        {
          "output_type": "execute_result",
          "data": {
            "text/html": [
              "<div>\n",
              "<style scoped>\n",
              "    .dataframe tbody tr th:only-of-type {\n",
              "        vertical-align: middle;\n",
              "    }\n",
              "\n",
              "    .dataframe tbody tr th {\n",
              "        vertical-align: top;\n",
              "    }\n",
              "\n",
              "    .dataframe thead th {\n",
              "        text-align: right;\n",
              "    }\n",
              "</style>\n",
              "<table border=\"1\" class=\"dataframe\">\n",
              "  <thead>\n",
              "    <tr style=\"text-align: right;\">\n",
              "      <th></th>\n",
              "      <th>X</th>\n",
              "      <th>Y</th>\n",
              "      <th>Column</th>\n",
              "      <th>Value</th>\n",
              "    </tr>\n",
              "  </thead>\n",
              "  <tbody>\n",
              "    <tr>\n",
              "      <th>0</th>\n",
              "      <td>0</td>\n",
              "      <td>0</td>\n",
              "      <td>2</td>\n",
              "      <td>331.497681</td>\n",
              "    </tr>\n",
              "    <tr>\n",
              "      <th>1</th>\n",
              "      <td>0</td>\n",
              "      <td>0</td>\n",
              "      <td>4</td>\n",
              "      <td>366.443085</td>\n",
              "    </tr>\n",
              "    <tr>\n",
              "      <th>6</th>\n",
              "      <td>0</td>\n",
              "      <td>0</td>\n",
              "      <td>2</td>\n",
              "      <td>328.913696</td>\n",
              "    </tr>\n",
              "    <tr>\n",
              "      <th>7</th>\n",
              "      <td>0</td>\n",
              "      <td>0</td>\n",
              "      <td>4</td>\n",
              "      <td>362.517304</td>\n",
              "    </tr>\n",
              "    <tr>\n",
              "      <th>8</th>\n",
              "      <td>0</td>\n",
              "      <td>0</td>\n",
              "      <td>6</td>\n",
              "      <td>2372.153320</td>\n",
              "    </tr>\n",
              "    <tr>\n",
              "      <th>...</th>\n",
              "      <td>...</td>\n",
              "      <td>...</td>\n",
              "      <td>...</td>\n",
              "      <td>...</td>\n",
              "    </tr>\n",
              "    <tr>\n",
              "      <th>4069998</th>\n",
              "      <td>94</td>\n",
              "      <td>2293759</td>\n",
              "      <td>2</td>\n",
              "      <td>329.762146</td>\n",
              "    </tr>\n",
              "    <tr>\n",
              "      <th>4070004</th>\n",
              "      <td>94</td>\n",
              "      <td>2293759</td>\n",
              "      <td>2</td>\n",
              "      <td>333.106567</td>\n",
              "    </tr>\n",
              "    <tr>\n",
              "      <th>4070005</th>\n",
              "      <td>94</td>\n",
              "      <td>2293759</td>\n",
              "      <td>4</td>\n",
              "      <td>363.926758</td>\n",
              "    </tr>\n",
              "    <tr>\n",
              "      <th>4070010</th>\n",
              "      <td>94</td>\n",
              "      <td>2293759</td>\n",
              "      <td>2</td>\n",
              "      <td>328.430756</td>\n",
              "    </tr>\n",
              "    <tr>\n",
              "      <th>4070016</th>\n",
              "      <td>94</td>\n",
              "      <td>2293759</td>\n",
              "      <td>2</td>\n",
              "      <td>333.265350</td>\n",
              "    </tr>\n",
              "  </tbody>\n",
              "</table>\n",
              "<p>1491755 rows × 4 columns</p>\n",
              "</div>"
            ],
            "text/plain": [
              "          X        Y Column        Value\n",
              "0         0        0      2   331.497681\n",
              "1         0        0      4   366.443085\n",
              "6         0        0      2   328.913696\n",
              "7         0        0      4   362.517304\n",
              "8         0        0      6  2372.153320\n",
              "...      ..      ...    ...          ...\n",
              "4069998  94  2293759      2   329.762146\n",
              "4070004  94  2293759      2   333.106567\n",
              "4070005  94  2293759      4   363.926758\n",
              "4070010  94  2293759      2   328.430756\n",
              "4070016  94  2293759      2   333.265350\n",
              "\n",
              "[1491755 rows x 4 columns]"
            ]
          },
          "metadata": {
            "tags": []
          },
          "execution_count": 10
        }
      ]
    },
    {
      "cell_type": "code",
      "metadata": {
        "id": "522b158e"
      },
      "source": [
        "points = 150^2\n",
        "\n",
        "df3_filtered = df3[(df3[\"X\"]^2 + df3[\"Y\"]^2  > points)]"
      ],
      "id": "522b158e",
      "execution_count": 11,
      "outputs": []
    },
    {
      "cell_type": "code",
      "metadata": {
        "colab": {
          "base_uri": "https://localhost:8080/",
          "height": 419
        },
        "id": "be4fad14",
        "outputId": "55653af2-ff37-4fe2-a969-5d37819ad507"
      },
      "source": [
        "df3_filtered"
      ],
      "id": "be4fad14",
      "execution_count": 12,
      "outputs": [
        {
          "output_type": "execute_result",
          "data": {
            "text/html": [
              "<div>\n",
              "<style scoped>\n",
              "    .dataframe tbody tr th:only-of-type {\n",
              "        vertical-align: middle;\n",
              "    }\n",
              "\n",
              "    .dataframe tbody tr th {\n",
              "        vertical-align: top;\n",
              "    }\n",
              "\n",
              "    .dataframe thead th {\n",
              "        text-align: right;\n",
              "    }\n",
              "</style>\n",
              "<table border=\"1\" class=\"dataframe\">\n",
              "  <thead>\n",
              "    <tr style=\"text-align: right;\">\n",
              "      <th></th>\n",
              "      <th>X</th>\n",
              "      <th>Y</th>\n",
              "      <th>Column</th>\n",
              "      <th>Value</th>\n",
              "    </tr>\n",
              "  </thead>\n",
              "  <tbody>\n",
              "    <tr>\n",
              "      <th>14466</th>\n",
              "      <td>152</td>\n",
              "      <td>0</td>\n",
              "      <td>2</td>\n",
              "      <td>328.267670</td>\n",
              "    </tr>\n",
              "    <tr>\n",
              "      <th>14467</th>\n",
              "      <td>152</td>\n",
              "      <td>0</td>\n",
              "      <td>4</td>\n",
              "      <td>362.008758</td>\n",
              "    </tr>\n",
              "    <tr>\n",
              "      <th>14472</th>\n",
              "      <td>165</td>\n",
              "      <td>0</td>\n",
              "      <td>2</td>\n",
              "      <td>329.303833</td>\n",
              "    </tr>\n",
              "    <tr>\n",
              "      <th>14473</th>\n",
              "      <td>165</td>\n",
              "      <td>0</td>\n",
              "      <td>4</td>\n",
              "      <td>364.356018</td>\n",
              "    </tr>\n",
              "    <tr>\n",
              "      <th>14478</th>\n",
              "      <td>179</td>\n",
              "      <td>0</td>\n",
              "      <td>2</td>\n",
              "      <td>330.778625</td>\n",
              "    </tr>\n",
              "    <tr>\n",
              "      <th>...</th>\n",
              "      <td>...</td>\n",
              "      <td>...</td>\n",
              "      <td>...</td>\n",
              "      <td>...</td>\n",
              "    </tr>\n",
              "    <tr>\n",
              "      <th>4069998</th>\n",
              "      <td>94</td>\n",
              "      <td>2293759</td>\n",
              "      <td>2</td>\n",
              "      <td>329.762146</td>\n",
              "    </tr>\n",
              "    <tr>\n",
              "      <th>4070004</th>\n",
              "      <td>94</td>\n",
              "      <td>2293759</td>\n",
              "      <td>2</td>\n",
              "      <td>333.106567</td>\n",
              "    </tr>\n",
              "    <tr>\n",
              "      <th>4070005</th>\n",
              "      <td>94</td>\n",
              "      <td>2293759</td>\n",
              "      <td>4</td>\n",
              "      <td>363.926758</td>\n",
              "    </tr>\n",
              "    <tr>\n",
              "      <th>4070010</th>\n",
              "      <td>94</td>\n",
              "      <td>2293759</td>\n",
              "      <td>2</td>\n",
              "      <td>328.430756</td>\n",
              "    </tr>\n",
              "    <tr>\n",
              "      <th>4070016</th>\n",
              "      <td>94</td>\n",
              "      <td>2293759</td>\n",
              "      <td>2</td>\n",
              "      <td>333.265350</td>\n",
              "    </tr>\n",
              "  </tbody>\n",
              "</table>\n",
              "<p>1486434 rows × 4 columns</p>\n",
              "</div>"
            ],
            "text/plain": [
              "           X        Y Column       Value\n",
              "14466    152        0      2  328.267670\n",
              "14467    152        0      4  362.008758\n",
              "14472    165        0      2  329.303833\n",
              "14473    165        0      4  364.356018\n",
              "14478    179        0      2  330.778625\n",
              "...      ...      ...    ...         ...\n",
              "4069998   94  2293759      2  329.762146\n",
              "4070004   94  2293759      2  333.106567\n",
              "4070005   94  2293759      4  363.926758\n",
              "4070010   94  2293759      2  328.430756\n",
              "4070016   94  2293759      2  333.265350\n",
              "\n",
              "[1486434 rows x 4 columns]"
            ]
          },
          "metadata": {
            "tags": []
          },
          "execution_count": 12
        }
      ]
    },
    {
      "cell_type": "code",
      "metadata": {
        "colab": {
          "base_uri": "https://localhost:8080/",
          "height": 419
        },
        "id": "43f06075",
        "outputId": "de6cbce8-30f5-4907-b384-182207cd6fbb"
      },
      "source": [
        "#reset index\n",
        "df3_filtered.reset_index()"
      ],
      "id": "43f06075",
      "execution_count": 13,
      "outputs": [
        {
          "output_type": "execute_result",
          "data": {
            "text/html": [
              "<div>\n",
              "<style scoped>\n",
              "    .dataframe tbody tr th:only-of-type {\n",
              "        vertical-align: middle;\n",
              "    }\n",
              "\n",
              "    .dataframe tbody tr th {\n",
              "        vertical-align: top;\n",
              "    }\n",
              "\n",
              "    .dataframe thead th {\n",
              "        text-align: right;\n",
              "    }\n",
              "</style>\n",
              "<table border=\"1\" class=\"dataframe\">\n",
              "  <thead>\n",
              "    <tr style=\"text-align: right;\">\n",
              "      <th></th>\n",
              "      <th>index</th>\n",
              "      <th>X</th>\n",
              "      <th>Y</th>\n",
              "      <th>Column</th>\n",
              "      <th>Value</th>\n",
              "    </tr>\n",
              "  </thead>\n",
              "  <tbody>\n",
              "    <tr>\n",
              "      <th>0</th>\n",
              "      <td>14466</td>\n",
              "      <td>152</td>\n",
              "      <td>0</td>\n",
              "      <td>2</td>\n",
              "      <td>328.267670</td>\n",
              "    </tr>\n",
              "    <tr>\n",
              "      <th>1</th>\n",
              "      <td>14467</td>\n",
              "      <td>152</td>\n",
              "      <td>0</td>\n",
              "      <td>4</td>\n",
              "      <td>362.008758</td>\n",
              "    </tr>\n",
              "    <tr>\n",
              "      <th>2</th>\n",
              "      <td>14472</td>\n",
              "      <td>165</td>\n",
              "      <td>0</td>\n",
              "      <td>2</td>\n",
              "      <td>329.303833</td>\n",
              "    </tr>\n",
              "    <tr>\n",
              "      <th>3</th>\n",
              "      <td>14473</td>\n",
              "      <td>165</td>\n",
              "      <td>0</td>\n",
              "      <td>4</td>\n",
              "      <td>364.356018</td>\n",
              "    </tr>\n",
              "    <tr>\n",
              "      <th>4</th>\n",
              "      <td>14478</td>\n",
              "      <td>179</td>\n",
              "      <td>0</td>\n",
              "      <td>2</td>\n",
              "      <td>330.778625</td>\n",
              "    </tr>\n",
              "    <tr>\n",
              "      <th>...</th>\n",
              "      <td>...</td>\n",
              "      <td>...</td>\n",
              "      <td>...</td>\n",
              "      <td>...</td>\n",
              "      <td>...</td>\n",
              "    </tr>\n",
              "    <tr>\n",
              "      <th>1486429</th>\n",
              "      <td>4069998</td>\n",
              "      <td>94</td>\n",
              "      <td>2293759</td>\n",
              "      <td>2</td>\n",
              "      <td>329.762146</td>\n",
              "    </tr>\n",
              "    <tr>\n",
              "      <th>1486430</th>\n",
              "      <td>4070004</td>\n",
              "      <td>94</td>\n",
              "      <td>2293759</td>\n",
              "      <td>2</td>\n",
              "      <td>333.106567</td>\n",
              "    </tr>\n",
              "    <tr>\n",
              "      <th>1486431</th>\n",
              "      <td>4070005</td>\n",
              "      <td>94</td>\n",
              "      <td>2293759</td>\n",
              "      <td>4</td>\n",
              "      <td>363.926758</td>\n",
              "    </tr>\n",
              "    <tr>\n",
              "      <th>1486432</th>\n",
              "      <td>4070010</td>\n",
              "      <td>94</td>\n",
              "      <td>2293759</td>\n",
              "      <td>2</td>\n",
              "      <td>328.430756</td>\n",
              "    </tr>\n",
              "    <tr>\n",
              "      <th>1486433</th>\n",
              "      <td>4070016</td>\n",
              "      <td>94</td>\n",
              "      <td>2293759</td>\n",
              "      <td>2</td>\n",
              "      <td>333.265350</td>\n",
              "    </tr>\n",
              "  </tbody>\n",
              "</table>\n",
              "<p>1486434 rows × 5 columns</p>\n",
              "</div>"
            ],
            "text/plain": [
              "           index    X        Y Column       Value\n",
              "0          14466  152        0      2  328.267670\n",
              "1          14467  152        0      4  362.008758\n",
              "2          14472  165        0      2  329.303833\n",
              "3          14473  165        0      4  364.356018\n",
              "4          14478  179        0      2  330.778625\n",
              "...          ...  ...      ...    ...         ...\n",
              "1486429  4069998   94  2293759      2  329.762146\n",
              "1486430  4070004   94  2293759      2  333.106567\n",
              "1486431  4070005   94  2293759      4  363.926758\n",
              "1486432  4070010   94  2293759      2  328.430756\n",
              "1486433  4070016   94  2293759      2  333.265350\n",
              "\n",
              "[1486434 rows x 5 columns]"
            ]
          },
          "metadata": {
            "tags": []
          },
          "execution_count": 13
        }
      ]
    },
    {
      "cell_type": "code",
      "metadata": {
        "scrolled": false,
        "colab": {
          "base_uri": "https://localhost:8080/"
        },
        "id": "cd37abab",
        "outputId": "bbb94c0c-19f8-4d90-cb63-d93a175d21eb"
      },
      "source": [
        "#reducing dataset\n",
        "df3_filtered['num']=df3_filtered.index\n",
        "df3_filtered=df3_filtered[df3_filtered['num']%50==0]"
      ],
      "id": "cd37abab",
      "execution_count": 14,
      "outputs": [
        {
          "output_type": "stream",
          "text": [
            "/usr/local/lib/python3.7/dist-packages/ipykernel_launcher.py:2: SettingWithCopyWarning:\n",
            "\n",
            "\n",
            "A value is trying to be set on a copy of a slice from a DataFrame.\n",
            "Try using .loc[row_indexer,col_indexer] = value instead\n",
            "\n",
            "See the caveats in the documentation: https://pandas.pydata.org/pandas-docs/stable/user_guide/indexing.html#returning-a-view-versus-a-copy\n",
            "\n"
          ],
          "name": "stderr"
        }
      ]
    },
    {
      "cell_type": "code",
      "metadata": {
        "id": "f33c4c24"
      },
      "source": [
        "X = df3_filtered.iloc[:, [3]].values\n",
        "df4 = pd.DataFrame(X)"
      ],
      "id": "f33c4c24",
      "execution_count": 15,
      "outputs": []
    },
    {
      "cell_type": "code",
      "metadata": {
        "colab": {
          "base_uri": "https://localhost:8080/",
          "height": 419
        },
        "id": "01387749",
        "outputId": "4de23172-f1bd-41fa-85d9-544a544ab370"
      },
      "source": [
        "df4"
      ],
      "id": "01387749",
      "execution_count": 16,
      "outputs": [
        {
          "output_type": "execute_result",
          "data": {
            "text/html": [
              "<div>\n",
              "<style scoped>\n",
              "    .dataframe tbody tr th:only-of-type {\n",
              "        vertical-align: middle;\n",
              "    }\n",
              "\n",
              "    .dataframe tbody tr th {\n",
              "        vertical-align: top;\n",
              "    }\n",
              "\n",
              "    .dataframe thead th {\n",
              "        text-align: right;\n",
              "    }\n",
              "</style>\n",
              "<table border=\"1\" class=\"dataframe\">\n",
              "  <thead>\n",
              "    <tr style=\"text-align: right;\">\n",
              "      <th></th>\n",
              "      <th>0</th>\n",
              "    </tr>\n",
              "  </thead>\n",
              "  <tbody>\n",
              "    <tr>\n",
              "      <th>0</th>\n",
              "      <td>332.737396</td>\n",
              "    </tr>\n",
              "    <tr>\n",
              "      <th>1</th>\n",
              "      <td>330.063629</td>\n",
              "    </tr>\n",
              "    <tr>\n",
              "      <th>2</th>\n",
              "      <td>330.119293</td>\n",
              "    </tr>\n",
              "    <tr>\n",
              "      <th>3</th>\n",
              "      <td>329.064087</td>\n",
              "    </tr>\n",
              "    <tr>\n",
              "      <th>4</th>\n",
              "      <td>332.305817</td>\n",
              "    </tr>\n",
              "    <tr>\n",
              "      <th>...</th>\n",
              "      <td>...</td>\n",
              "    </tr>\n",
              "    <tr>\n",
              "      <th>35390</th>\n",
              "      <td>361.759003</td>\n",
              "    </tr>\n",
              "    <tr>\n",
              "      <th>35391</th>\n",
              "      <td>329.251679</td>\n",
              "    </tr>\n",
              "    <tr>\n",
              "      <th>35392</th>\n",
              "      <td>329.366669</td>\n",
              "    </tr>\n",
              "    <tr>\n",
              "      <th>35393</th>\n",
              "      <td>331.729919</td>\n",
              "    </tr>\n",
              "    <tr>\n",
              "      <th>35394</th>\n",
              "      <td>333.619995</td>\n",
              "    </tr>\n",
              "  </tbody>\n",
              "</table>\n",
              "<p>35395 rows × 1 columns</p>\n",
              "</div>"
            ],
            "text/plain": [
              "                0\n",
              "0      332.737396\n",
              "1      330.063629\n",
              "2      330.119293\n",
              "3      329.064087\n",
              "4      332.305817\n",
              "...           ...\n",
              "35390  361.759003\n",
              "35391  329.251679\n",
              "35392  329.366669\n",
              "35393  331.729919\n",
              "35394  333.619995\n",
              "\n",
              "[35395 rows x 1 columns]"
            ]
          },
          "metadata": {
            "tags": []
          },
          "execution_count": 16
        }
      ]
    },
    {
      "cell_type": "code",
      "metadata": {
        "id": "d43b463f"
      },
      "source": [
        "import pandas as pd\n",
        "from sklearn.preprocessing import MinMaxScaler\n",
        "from sklearn.cluster import KMeans\n",
        "import matplotlib.pyplot as plt"
      ],
      "id": "d43b463f",
      "execution_count": 17,
      "outputs": []
    },
    {
      "cell_type": "code",
      "metadata": {
        "id": "dd88fac2"
      },
      "source": [
        "from sklearn.cluster import KMeans\n",
        "\n",
        "Sum_of_squared_distances = []\n",
        "K = range(1,15)\n",
        "for k in K:\n",
        "    km = KMeans(n_clusters=k)\n",
        "    km = km.fit(df4)\n",
        "    Sum_of_squared_distances.append(km.inertia_)"
      ],
      "id": "dd88fac2",
      "execution_count": 18,
      "outputs": []
    },
    {
      "cell_type": "code",
      "metadata": {
        "colab": {
          "base_uri": "https://localhost:8080/",
          "height": 295
        },
        "id": "56502868",
        "outputId": "fa72ddd9-2c0a-4587-c309-26f5b2a7220d"
      },
      "source": [
        "plt.plot(K, Sum_of_squared_distances, 'bx-')\n",
        "plt.xlabel('k')\n",
        "plt.ylabel('Sum_of_squared_distances')\n",
        "plt.title('Elbow Method For Optimal k')\n",
        "plt.show()"
      ],
      "id": "56502868",
      "execution_count": 19,
      "outputs": [
        {
          "output_type": "display_data",
          "data": {
            "image/png": "[encoded data removed]",
            "text/plain": [
              "<Figure size 432x288 with 1 Axes>"
            ]
          },
          "metadata": {
            "tags": [],
            "needs_background": "light"
          }
        }
      ]
    },
    {
      "cell_type": "code",
      "metadata": {
        "id": "2ac8a8e5"
      },
      "source": [
        "num_clusters = np.arange(2,10)\n",
        "results = {}\n",
        "for size in num_clusters:\n",
        "    model = KMeans(n_clusters = size).fit(X)\n",
        "    predictions = model.predict(X)\n",
        "    results[size] = silhouette_score(X, predictions)\n",
        "\n",
        "best_size = max(results, key=results.get)"
      ],
      "id": "2ac8a8e5",
      "execution_count": 20,
      "outputs": []
    },
    {
      "cell_type": "code",
      "metadata": {
        "colab": {
          "base_uri": "https://localhost:8080/"
        },
        "id": "cc9b5565",
        "outputId": "951066bb-fbff-4c1e-d0df-958e9dc7f3d6"
      },
      "source": [
        "best_size"
      ],
      "id": "cc9b5565",
      "execution_count": 21,
      "outputs": [
        {
          "output_type": "execute_result",
          "data": {
            "text/plain": [
              "5"
            ]
          },
          "metadata": {
            "tags": []
          },
          "execution_count": 21
        }
      ]
    },
    {
      "cell_type": "code",
      "metadata": {
        "id": "d7f944d4"
      },
      "source": [
        "kmeans = KMeans(n_clusters=best_size).fit(df4)\n",
        "df4['labels'] = kmeans.labels_"
      ],
      "id": "d7f944d4",
      "execution_count": 22,
      "outputs": []
    },
    {
      "cell_type": "code",
      "metadata": {
        "id": "018f19fd"
      },
      "source": [
        "df4.columns = ['Values','Labels']"
      ],
      "id": "018f19fd",
      "execution_count": 23,
      "outputs": []
    },
    {
      "cell_type": "code",
      "metadata": {
        "id": "8f2b94fc"
      },
      "source": [
        "column = df4[\"Labels\"]\n",
        "total_count = column.count()\n",
        "value_count = df4['Labels'].value_counts()"
      ],
      "id": "8f2b94fc",
      "execution_count": 24,
      "outputs": []
    },
    {
      "cell_type": "code",
      "metadata": {
        "scrolled": true,
        "colab": {
          "base_uri": "https://localhost:8080/",
          "height": 419
        },
        "id": "d69bfcd4",
        "outputId": "c1f28177-d3a0-4cc1-9a8a-7bb39ab41b6d"
      },
      "source": [
        "df4"
      ],
      "id": "d69bfcd4",
      "execution_count": 25,
      "outputs": [
        {
          "output_type": "execute_result",
          "data": {
            "text/html": [
              "<div>\n",
              "<style scoped>\n",
              "    .dataframe tbody tr th:only-of-type {\n",
              "        vertical-align: middle;\n",
              "    }\n",
              "\n",
              "    .dataframe tbody tr th {\n",
              "        vertical-align: top;\n",
              "    }\n",
              "\n",
              "    .dataframe thead th {\n",
              "        text-align: right;\n",
              "    }\n",
              "</style>\n",
              "<table border=\"1\" class=\"dataframe\">\n",
              "  <thead>\n",
              "    <tr style=\"text-align: right;\">\n",
              "      <th></th>\n",
              "      <th>Values</th>\n",
              "      <th>Labels</th>\n",
              "    </tr>\n",
              "  </thead>\n",
              "  <tbody>\n",
              "    <tr>\n",
              "      <th>0</th>\n",
              "      <td>332.737396</td>\n",
              "      <td>0</td>\n",
              "    </tr>\n",
              "    <tr>\n",
              "      <th>1</th>\n",
              "      <td>330.063629</td>\n",
              "      <td>0</td>\n",
              "    </tr>\n",
              "    <tr>\n",
              "      <th>2</th>\n",
              "      <td>330.119293</td>\n",
              "      <td>0</td>\n",
              "    </tr>\n",
              "    <tr>\n",
              "      <th>3</th>\n",
              "      <td>329.064087</td>\n",
              "      <td>0</td>\n",
              "    </tr>\n",
              "    <tr>\n",
              "      <th>4</th>\n",
              "      <td>332.305817</td>\n",
              "      <td>0</td>\n",
              "    </tr>\n",
              "    <tr>\n",
              "      <th>...</th>\n",
              "      <td>...</td>\n",
              "      <td>...</td>\n",
              "    </tr>\n",
              "    <tr>\n",
              "      <th>35390</th>\n",
              "      <td>361.759003</td>\n",
              "      <td>0</td>\n",
              "    </tr>\n",
              "    <tr>\n",
              "      <th>35391</th>\n",
              "      <td>329.251679</td>\n",
              "      <td>0</td>\n",
              "    </tr>\n",
              "    <tr>\n",
              "      <th>35392</th>\n",
              "      <td>329.366669</td>\n",
              "      <td>0</td>\n",
              "    </tr>\n",
              "    <tr>\n",
              "      <th>35393</th>\n",
              "      <td>331.729919</td>\n",
              "      <td>0</td>\n",
              "    </tr>\n",
              "    <tr>\n",
              "      <th>35394</th>\n",
              "      <td>333.619995</td>\n",
              "      <td>0</td>\n",
              "    </tr>\n",
              "  </tbody>\n",
              "</table>\n",
              "<p>35395 rows × 2 columns</p>\n",
              "</div>"
            ],
            "text/plain": [
              "           Values  Labels\n",
              "0      332.737396       0\n",
              "1      330.063629       0\n",
              "2      330.119293       0\n",
              "3      329.064087       0\n",
              "4      332.305817       0\n",
              "...           ...     ...\n",
              "35390  361.759003       0\n",
              "35391  329.251679       0\n",
              "35392  329.366669       0\n",
              "35393  331.729919       0\n",
              "35394  333.619995       0\n",
              "\n",
              "[35395 rows x 2 columns]"
            ]
          },
          "metadata": {
            "tags": []
          },
          "execution_count": 25
        }
      ]
    },
    {
      "cell_type": "code",
      "metadata": {
        "colab": {
          "base_uri": "https://localhost:8080/",
          "height": 295
        },
        "id": "3b085257",
        "outputId": "5dae76ff-86e6-4037-ca35-195ce913b374"
      },
      "source": [
        "import matplotlib.pyplot as plot\n",
        "\n",
        "df4.plot.scatter(x=\"Labels\", y=\"Values\", title= \"Scatter plot\");\n",
        "plot.show(block=True);"
      ],
      "id": "3b085257",
      "execution_count": 26,
      "outputs": [
        {
          "output_type": "display_data",
          "data": {
            "image/png": "[encoded data removed]",
            "text/plain": [
              "<Figure size 432x288 with 1 Axes>"
            ]
          },
          "metadata": {
            "tags": [],
            "needs_background": "light"
          }
        }
      ]
    },
    {
      "cell_type": "markdown",
      "metadata": {
        "id": "059163fa"
      },
      "source": [
        "### Analyzing the clusteres dataframe"
      ],
      "id": "059163fa"
    },
    {
      "cell_type": "code",
      "metadata": {
        "colab": {
          "base_uri": "https://localhost:8080/"
        },
        "id": "8496b560",
        "outputId": "e4d6d0eb-fb67-4c73-9161-26040ab4d02f"
      },
      "source": [
        "max_label = value_count/total_count*100\n",
        "max_label"
      ],
      "id": "8496b560",
      "execution_count": 27,
      "outputs": [
        {
          "output_type": "execute_result",
          "data": {
            "text/plain": [
              "0    48.876960\n",
              "3    24.314169\n",
              "1    13.857890\n",
              "2    11.476197\n",
              "4     1.474785\n",
              "Name: Labels, dtype: float64"
            ]
          },
          "metadata": {
            "tags": []
          },
          "execution_count": 27
        }
      ]
    },
    {
      "cell_type": "code",
      "metadata": {
        "id": "fbaef7fd"
      },
      "source": [
        "df4_label_0 = df4[df4['Labels']==0].copy()\n",
        "df4_label_1 = df4[df4['Labels']==1].copy()\n",
        "df4_label_2 = df4[df4['Labels']==2].copy()\n",
        "df4_label_3 = df4[df4['Labels']==3].copy()\n",
        "df4_label_4 = df4[df4['Labels']==4].copy()"
      ],
      "id": "fbaef7fd",
      "execution_count": 28,
      "outputs": []
    },
    {
      "cell_type": "markdown",
      "metadata": {
        "id": "95667c68"
      },
      "source": [
        "### Second set of clustering"
      ],
      "id": "95667c68"
    },
    {
      "cell_type": "code",
      "metadata": {
        "colab": {
          "base_uri": "https://localhost:8080/",
          "height": 419
        },
        "id": "b4a33a08",
        "outputId": "c2977120-086a-45e8-f2e7-dfbac4cb8afe"
      },
      "source": [
        "#label4\n",
        "df4_label_4['Second_label'] = 4\n",
        "df4_label_4"
      ],
      "id": "b4a33a08",
      "execution_count": 29,
      "outputs": [
        {
          "output_type": "execute_result",
          "data": {
            "text/html": [
              "<div>\n",
              "<style scoped>\n",
              "    .dataframe tbody tr th:only-of-type {\n",
              "        vertical-align: middle;\n",
              "    }\n",
              "\n",
              "    .dataframe tbody tr th {\n",
              "        vertical-align: top;\n",
              "    }\n",
              "\n",
              "    .dataframe thead th {\n",
              "        text-align: right;\n",
              "    }\n",
              "</style>\n",
              "<table border=\"1\" class=\"dataframe\">\n",
              "  <thead>\n",
              "    <tr style=\"text-align: right;\">\n",
              "      <th></th>\n",
              "      <th>Values</th>\n",
              "      <th>Labels</th>\n",
              "      <th>Second_label</th>\n",
              "    </tr>\n",
              "  </thead>\n",
              "  <tbody>\n",
              "    <tr>\n",
              "      <th>145</th>\n",
              "      <td>14.974587</td>\n",
              "      <td>4</td>\n",
              "      <td>4</td>\n",
              "    </tr>\n",
              "    <tr>\n",
              "      <th>146</th>\n",
              "      <td>16.408611</td>\n",
              "      <td>4</td>\n",
              "      <td>4</td>\n",
              "    </tr>\n",
              "    <tr>\n",
              "      <th>148</th>\n",
              "      <td>11.322171</td>\n",
              "      <td>4</td>\n",
              "      <td>4</td>\n",
              "    </tr>\n",
              "    <tr>\n",
              "      <th>149</th>\n",
              "      <td>11.778818</td>\n",
              "      <td>4</td>\n",
              "      <td>4</td>\n",
              "    </tr>\n",
              "    <tr>\n",
              "      <th>150</th>\n",
              "      <td>11.251677</td>\n",
              "      <td>4</td>\n",
              "      <td>4</td>\n",
              "    </tr>\n",
              "    <tr>\n",
              "      <th>...</th>\n",
              "      <td>...</td>\n",
              "      <td>...</td>\n",
              "      <td>...</td>\n",
              "    </tr>\n",
              "    <tr>\n",
              "      <th>32479</th>\n",
              "      <td>12.127464</td>\n",
              "      <td>4</td>\n",
              "      <td>4</td>\n",
              "    </tr>\n",
              "    <tr>\n",
              "      <th>32480</th>\n",
              "      <td>23.867085</td>\n",
              "      <td>4</td>\n",
              "      <td>4</td>\n",
              "    </tr>\n",
              "    <tr>\n",
              "      <th>32487</th>\n",
              "      <td>13.844185</td>\n",
              "      <td>4</td>\n",
              "      <td>4</td>\n",
              "    </tr>\n",
              "    <tr>\n",
              "      <th>32488</th>\n",
              "      <td>12.608395</td>\n",
              "      <td>4</td>\n",
              "      <td>4</td>\n",
              "    </tr>\n",
              "    <tr>\n",
              "      <th>32489</th>\n",
              "      <td>18.618200</td>\n",
              "      <td>4</td>\n",
              "      <td>4</td>\n",
              "    </tr>\n",
              "  </tbody>\n",
              "</table>\n",
              "<p>522 rows × 3 columns</p>\n",
              "</div>"
            ],
            "text/plain": [
              "          Values  Labels  Second_label\n",
              "145    14.974587       4             4\n",
              "146    16.408611       4             4\n",
              "148    11.322171       4             4\n",
              "149    11.778818       4             4\n",
              "150    11.251677       4             4\n",
              "...          ...     ...           ...\n",
              "32479  12.127464       4             4\n",
              "32480  23.867085       4             4\n",
              "32487  13.844185       4             4\n",
              "32488  12.608395       4             4\n",
              "32489  18.618200       4             4\n",
              "\n",
              "[522 rows x 3 columns]"
            ]
          },
          "metadata": {
            "tags": []
          },
          "execution_count": 29
        }
      ]
    },
    {
      "cell_type": "code",
      "metadata": {
        "id": "745b3e08"
      },
      "source": [
        "#label0\n",
        "X0 = df4_label_0.iloc[:, [0]].values\n",
        "df4_vlabel_0 = pd.DataFrame(X0)"
      ],
      "id": "745b3e08",
      "execution_count": 30,
      "outputs": []
    },
    {
      "cell_type": "code",
      "metadata": {
        "colab": {
          "base_uri": "https://localhost:8080/",
          "height": 419
        },
        "id": "5b9e181a",
        "outputId": "2ef4809b-c094-4ffb-9421-9b2f41cb710a"
      },
      "source": [
        "df4_vlabel_0"
      ],
      "id": "5b9e181a",
      "execution_count": 31,
      "outputs": [
        {
          "output_type": "execute_result",
          "data": {
            "text/html": [
              "<div>\n",
              "<style scoped>\n",
              "    .dataframe tbody tr th:only-of-type {\n",
              "        vertical-align: middle;\n",
              "    }\n",
              "\n",
              "    .dataframe tbody tr th {\n",
              "        vertical-align: top;\n",
              "    }\n",
              "\n",
              "    .dataframe thead th {\n",
              "        text-align: right;\n",
              "    }\n",
              "</style>\n",
              "<table border=\"1\" class=\"dataframe\">\n",
              "  <thead>\n",
              "    <tr style=\"text-align: right;\">\n",
              "      <th></th>\n",
              "      <th>0</th>\n",
              "    </tr>\n",
              "  </thead>\n",
              "  <tbody>\n",
              "    <tr>\n",
              "      <th>0</th>\n",
              "      <td>332.737396</td>\n",
              "    </tr>\n",
              "    <tr>\n",
              "      <th>1</th>\n",
              "      <td>330.063629</td>\n",
              "    </tr>\n",
              "    <tr>\n",
              "      <th>2</th>\n",
              "      <td>330.119293</td>\n",
              "    </tr>\n",
              "    <tr>\n",
              "      <th>3</th>\n",
              "      <td>329.064087</td>\n",
              "    </tr>\n",
              "    <tr>\n",
              "      <th>4</th>\n",
              "      <td>332.305817</td>\n",
              "    </tr>\n",
              "    <tr>\n",
              "      <th>...</th>\n",
              "      <td>...</td>\n",
              "    </tr>\n",
              "    <tr>\n",
              "      <th>17295</th>\n",
              "      <td>361.759003</td>\n",
              "    </tr>\n",
              "    <tr>\n",
              "      <th>17296</th>\n",
              "      <td>329.251679</td>\n",
              "    </tr>\n",
              "    <tr>\n",
              "      <th>17297</th>\n",
              "      <td>329.366669</td>\n",
              "    </tr>\n",
              "    <tr>\n",
              "      <th>17298</th>\n",
              "      <td>331.729919</td>\n",
              "    </tr>\n",
              "    <tr>\n",
              "      <th>17299</th>\n",
              "      <td>333.619995</td>\n",
              "    </tr>\n",
              "  </tbody>\n",
              "</table>\n",
              "<p>17300 rows × 1 columns</p>\n",
              "</div>"
            ],
            "text/plain": [
              "                0\n",
              "0      332.737396\n",
              "1      330.063629\n",
              "2      330.119293\n",
              "3      329.064087\n",
              "4      332.305817\n",
              "...           ...\n",
              "17295  361.759003\n",
              "17296  329.251679\n",
              "17297  329.366669\n",
              "17298  331.729919\n",
              "17299  333.619995\n",
              "\n",
              "[17300 rows x 1 columns]"
            ]
          },
          "metadata": {
            "tags": []
          },
          "execution_count": 31
        }
      ]
    },
    {
      "cell_type": "code",
      "metadata": {
        "id": "9d6ded41"
      },
      "source": [
        "from sklearn.cluster import KMeans\n",
        "\n",
        "Sum_of_squared_distances = []\n",
        "K = range(1,15)\n",
        "for k in K:\n",
        "    km = KMeans(n_clusters=k)\n",
        "    km = km.fit(df4_vlabel_0)\n",
        "    Sum_of_squared_distances.append(km.inertia_)"
      ],
      "id": "9d6ded41",
      "execution_count": 32,
      "outputs": []
    },
    {
      "cell_type": "code",
      "metadata": {
        "scrolled": false,
        "colab": {
          "base_uri": "https://localhost:8080/",
          "height": 295
        },
        "id": "6c4443ac",
        "outputId": "db2fd142-9921-4b91-9bb9-8a7ba1a4996b"
      },
      "source": [
        "plt.plot(K, Sum_of_squared_distances, 'bx-')\n",
        "plt.xlabel('k')\n",
        "plt.ylabel('Sum_of_squared_distances')\n",
        "plt.title('Elbow Method For Optimal k')\n",
        "plt.show()"
      ],
      "id": "6c4443ac",
      "execution_count": 33,
      "outputs": [
        {
          "output_type": "display_data",
          "data": {
            "image/png": "[encoded data removed]",
            "text/plain": [
              "<Figure size 432x288 with 1 Axes>"
            ]
          },
          "metadata": {
            "tags": [],
            "needs_background": "light"
          }
        }
      ]
    },
    {
      "cell_type": "markdown",
      "metadata": {
        "id": "4349e9e0"
      },
      "source": [
        "#### Silhouette analysis for label 0"
      ],
      "id": "4349e9e0"
    },
    {
      "cell_type": "code",
      "metadata": {
        "id": "c5222010"
      },
      "source": [
        "num_clusters = np.arange(2,10)\n",
        "results = {}\n",
        "for size in num_clusters:\n",
        "    model = KMeans(n_clusters = size).fit(df4_vlabel_0)\n",
        "    predictions = model.predict(df4_vlabel_0)\n",
        "    results[size] = silhouette_score(df4_vlabel_0, predictions)\n",
        "\n",
        "best_size0 = max(results, key=results.get)"
      ],
      "id": "c5222010",
      "execution_count": 34,
      "outputs": []
    },
    {
      "cell_type": "code",
      "metadata": {
        "colab": {
          "base_uri": "https://localhost:8080/"
        },
        "id": "820e2f96",
        "outputId": "fc294182-f76d-4c6e-e18a-fe7d50ed1eb6"
      },
      "source": [
        "best_size0"
      ],
      "id": "820e2f96",
      "execution_count": 35,
      "outputs": [
        {
          "output_type": "execute_result",
          "data": {
            "text/plain": [
              "2"
            ]
          },
          "metadata": {
            "tags": []
          },
          "execution_count": 35
        }
      ]
    },
    {
      "cell_type": "code",
      "metadata": {
        "id": "a33c972a"
      },
      "source": [
        "kmeans = KMeans(n_clusters=best_size0).fit(df4_vlabel_0)\n",
        "df4_label_0['Second_label'] = kmeans.labels_"
      ],
      "id": "a33c972a",
      "execution_count": 36,
      "outputs": []
    },
    {
      "cell_type": "code",
      "metadata": {
        "scrolled": true,
        "colab": {
          "base_uri": "https://localhost:8080/"
        },
        "id": "8cde97a5",
        "outputId": "926ce72b-3716-49bc-9242-67cd0c4362a2"
      },
      "source": [
        "df4_label_0['Second_label'].value_counts()"
      ],
      "id": "8cde97a5",
      "execution_count": 37,
      "outputs": [
        {
          "output_type": "execute_result",
          "data": {
            "text/plain": [
              "0    16907\n",
              "1      393\n",
              "Name: Second_label, dtype: int64"
            ]
          },
          "metadata": {
            "tags": []
          },
          "execution_count": 37
        }
      ]
    },
    {
      "cell_type": "code",
      "metadata": {
        "colab": {
          "base_uri": "https://localhost:8080/",
          "height": 419
        },
        "id": "cc0a685a",
        "outputId": "6f762549-bb27-4522-9a73-1e460b8adc8b"
      },
      "source": [
        "df4_label_0"
      ],
      "id": "cc0a685a",
      "execution_count": 38,
      "outputs": [
        {
          "output_type": "execute_result",
          "data": {
            "text/html": [
              "<div>\n",
              "<style scoped>\n",
              "    .dataframe tbody tr th:only-of-type {\n",
              "        vertical-align: middle;\n",
              "    }\n",
              "\n",
              "    .dataframe tbody tr th {\n",
              "        vertical-align: top;\n",
              "    }\n",
              "\n",
              "    .dataframe thead th {\n",
              "        text-align: right;\n",
              "    }\n",
              "</style>\n",
              "<table border=\"1\" class=\"dataframe\">\n",
              "  <thead>\n",
              "    <tr style=\"text-align: right;\">\n",
              "      <th></th>\n",
              "      <th>Values</th>\n",
              "      <th>Labels</th>\n",
              "      <th>Second_label</th>\n",
              "    </tr>\n",
              "  </thead>\n",
              "  <tbody>\n",
              "    <tr>\n",
              "      <th>0</th>\n",
              "      <td>332.737396</td>\n",
              "      <td>0</td>\n",
              "      <td>0</td>\n",
              "    </tr>\n",
              "    <tr>\n",
              "      <th>1</th>\n",
              "      <td>330.063629</td>\n",
              "      <td>0</td>\n",
              "      <td>0</td>\n",
              "    </tr>\n",
              "    <tr>\n",
              "      <th>2</th>\n",
              "      <td>330.119293</td>\n",
              "      <td>0</td>\n",
              "      <td>0</td>\n",
              "    </tr>\n",
              "    <tr>\n",
              "      <th>3</th>\n",
              "      <td>329.064087</td>\n",
              "      <td>0</td>\n",
              "      <td>0</td>\n",
              "    </tr>\n",
              "    <tr>\n",
              "      <th>4</th>\n",
              "      <td>332.305817</td>\n",
              "      <td>0</td>\n",
              "      <td>0</td>\n",
              "    </tr>\n",
              "    <tr>\n",
              "      <th>...</th>\n",
              "      <td>...</td>\n",
              "      <td>...</td>\n",
              "      <td>...</td>\n",
              "    </tr>\n",
              "    <tr>\n",
              "      <th>35390</th>\n",
              "      <td>361.759003</td>\n",
              "      <td>0</td>\n",
              "      <td>0</td>\n",
              "    </tr>\n",
              "    <tr>\n",
              "      <th>35391</th>\n",
              "      <td>329.251679</td>\n",
              "      <td>0</td>\n",
              "      <td>0</td>\n",
              "    </tr>\n",
              "    <tr>\n",
              "      <th>35392</th>\n",
              "      <td>329.366669</td>\n",
              "      <td>0</td>\n",
              "      <td>0</td>\n",
              "    </tr>\n",
              "    <tr>\n",
              "      <th>35393</th>\n",
              "      <td>331.729919</td>\n",
              "      <td>0</td>\n",
              "      <td>0</td>\n",
              "    </tr>\n",
              "    <tr>\n",
              "      <th>35394</th>\n",
              "      <td>333.619995</td>\n",
              "      <td>0</td>\n",
              "      <td>0</td>\n",
              "    </tr>\n",
              "  </tbody>\n",
              "</table>\n",
              "<p>17300 rows × 3 columns</p>\n",
              "</div>"
            ],
            "text/plain": [
              "           Values  Labels  Second_label\n",
              "0      332.737396       0             0\n",
              "1      330.063629       0             0\n",
              "2      330.119293       0             0\n",
              "3      329.064087       0             0\n",
              "4      332.305817       0             0\n",
              "...           ...     ...           ...\n",
              "35390  361.759003       0             0\n",
              "35391  329.251679       0             0\n",
              "35392  329.366669       0             0\n",
              "35393  331.729919       0             0\n",
              "35394  333.619995       0             0\n",
              "\n",
              "[17300 rows x 3 columns]"
            ]
          },
          "metadata": {
            "tags": []
          },
          "execution_count": 38
        }
      ]
    },
    {
      "cell_type": "code",
      "metadata": {
        "id": "2ea6b214"
      },
      "source": [
        "#label1\n",
        "X1 = df4_label_1.iloc[:, [0]].values\n",
        "df4_vlabel_1 = pd.DataFrame(X1)"
      ],
      "id": "2ea6b214",
      "execution_count": 39,
      "outputs": []
    },
    {
      "cell_type": "code",
      "metadata": {
        "colab": {
          "base_uri": "https://localhost:8080/",
          "height": 419
        },
        "id": "065a590d",
        "outputId": "768eb26d-2dc1-4df5-b7a9-00a482e052e3"
      },
      "source": [
        "df4_vlabel_1"
      ],
      "id": "065a590d",
      "execution_count": 40,
      "outputs": [
        {
          "output_type": "execute_result",
          "data": {
            "text/html": [
              "<div>\n",
              "<style scoped>\n",
              "    .dataframe tbody tr th:only-of-type {\n",
              "        vertical-align: middle;\n",
              "    }\n",
              "\n",
              "    .dataframe tbody tr th {\n",
              "        vertical-align: top;\n",
              "    }\n",
              "\n",
              "    .dataframe thead th {\n",
              "        text-align: right;\n",
              "    }\n",
              "</style>\n",
              "<table border=\"1\" class=\"dataframe\">\n",
              "  <thead>\n",
              "    <tr style=\"text-align: right;\">\n",
              "      <th></th>\n",
              "      <th>0</th>\n",
              "    </tr>\n",
              "  </thead>\n",
              "  <tbody>\n",
              "    <tr>\n",
              "      <th>0</th>\n",
              "      <td>2393.128418</td>\n",
              "    </tr>\n",
              "    <tr>\n",
              "      <th>1</th>\n",
              "      <td>2311.965576</td>\n",
              "    </tr>\n",
              "    <tr>\n",
              "      <th>2</th>\n",
              "      <td>2310.551758</td>\n",
              "    </tr>\n",
              "    <tr>\n",
              "      <th>3</th>\n",
              "      <td>2331.673828</td>\n",
              "    </tr>\n",
              "    <tr>\n",
              "      <th>4</th>\n",
              "      <td>2307.728027</td>\n",
              "    </tr>\n",
              "    <tr>\n",
              "      <th>...</th>\n",
              "      <td>...</td>\n",
              "    </tr>\n",
              "    <tr>\n",
              "      <th>4900</th>\n",
              "      <td>2298.450439</td>\n",
              "    </tr>\n",
              "    <tr>\n",
              "      <th>4901</th>\n",
              "      <td>2566.691406</td>\n",
              "    </tr>\n",
              "    <tr>\n",
              "      <th>4902</th>\n",
              "      <td>2285.279785</td>\n",
              "    </tr>\n",
              "    <tr>\n",
              "      <th>4903</th>\n",
              "      <td>2310.784424</td>\n",
              "    </tr>\n",
              "    <tr>\n",
              "      <th>4904</th>\n",
              "      <td>2309.765137</td>\n",
              "    </tr>\n",
              "  </tbody>\n",
              "</table>\n",
              "<p>4905 rows × 1 columns</p>\n",
              "</div>"
            ],
            "text/plain": [
              "                0\n",
              "0     2393.128418\n",
              "1     2311.965576\n",
              "2     2310.551758\n",
              "3     2331.673828\n",
              "4     2307.728027\n",
              "...           ...\n",
              "4900  2298.450439\n",
              "4901  2566.691406\n",
              "4902  2285.279785\n",
              "4903  2310.784424\n",
              "4904  2309.765137\n",
              "\n",
              "[4905 rows x 1 columns]"
            ]
          },
          "metadata": {
            "tags": []
          },
          "execution_count": 40
        }
      ]
    },
    {
      "cell_type": "code",
      "metadata": {
        "id": "a81039a0"
      },
      "source": [
        "from sklearn.cluster import KMeans\n",
        "\n",
        "Sum_of_squared_distances = []\n",
        "K = range(1,15)\n",
        "for k in K:\n",
        "    km = KMeans(n_clusters=k)\n",
        "    km = km.fit(df4_vlabel_1)\n",
        "    Sum_of_squared_distances.append(km.inertia_)"
      ],
      "id": "a81039a0",
      "execution_count": 41,
      "outputs": []
    },
    {
      "cell_type": "code",
      "metadata": {
        "colab": {
          "base_uri": "https://localhost:8080/",
          "height": 295
        },
        "id": "6bed3b48",
        "outputId": "71591ae5-24be-4d2a-8900-2cef5ba4349e"
      },
      "source": [
        "plt.plot(K, Sum_of_squared_distances, 'bx-')\n",
        "plt.xlabel('k')\n",
        "plt.ylabel('Sum_of_squared_distances')\n",
        "plt.title('Elbow Method For Optimal k')\n",
        "plt.show()"
      ],
      "id": "6bed3b48",
      "execution_count": 42,
      "outputs": [
        {
          "output_type": "display_data",
          "data": {
            "image/png": "[encoded data removed]",
            "text/plain": [
              "<Figure size 432x288 with 1 Axes>"
            ]
          },
          "metadata": {
            "tags": [],
            "needs_background": "light"
          }
        }
      ]
    },
    {
      "cell_type": "code",
      "metadata": {
        "id": "88ab416a"
      },
      "source": [
        "num_clusters = np.arange(2,10)\n",
        "results = {}\n",
        "for size in num_clusters:\n",
        "    model = KMeans(n_clusters = size).fit(X1)\n",
        "    predictions = model.predict(X1)\n",
        "    results[size] = silhouette_score(X1, predictions)\n",
        "\n",
        "best_size1 = max(results, key=results.get)"
      ],
      "id": "88ab416a",
      "execution_count": 43,
      "outputs": []
    },
    {
      "cell_type": "code",
      "metadata": {
        "colab": {
          "base_uri": "https://localhost:8080/"
        },
        "id": "1c2a69da",
        "outputId": "4e33c2a4-5a11-4960-d31d-645546ceb23c"
      },
      "source": [
        "best_size1"
      ],
      "id": "1c2a69da",
      "execution_count": 44,
      "outputs": [
        {
          "output_type": "execute_result",
          "data": {
            "text/plain": [
              "8"
            ]
          },
          "metadata": {
            "tags": []
          },
          "execution_count": 44
        }
      ]
    },
    {
      "cell_type": "code",
      "metadata": {
        "id": "ea129015"
      },
      "source": [
        "kmeans = KMeans(n_clusters=best_size1).fit(df4_vlabel_1)\n",
        "df4_label_1['Second_label'] = kmeans.labels_"
      ],
      "id": "ea129015",
      "execution_count": 45,
      "outputs": []
    },
    {
      "cell_type": "code",
      "metadata": {
        "scrolled": false,
        "colab": {
          "base_uri": "https://localhost:8080/"
        },
        "id": "1903ca88",
        "outputId": "84f844e6-b478-46f1-f855-c82f2dc1ac91"
      },
      "source": [
        "df4_label_1['Second_label'].value_counts()"
      ],
      "id": "1903ca88",
      "execution_count": 46,
      "outputs": [
        {
          "output_type": "execute_result",
          "data": {
            "text/plain": [
              "4    1208\n",
              "0    1189\n",
              "1    1152\n",
              "7     873\n",
              "2     423\n",
              "6      36\n",
              "5      14\n",
              "3      10\n",
              "Name: Second_label, dtype: int64"
            ]
          },
          "metadata": {
            "tags": []
          },
          "execution_count": 46
        }
      ]
    },
    {
      "cell_type": "code",
      "metadata": {
        "colab": {
          "base_uri": "https://localhost:8080/",
          "height": 419
        },
        "id": "75f2b183",
        "outputId": "f255c476-eb9a-4302-e5b9-2226d4b206a1"
      },
      "source": [
        "df4_label_1"
      ],
      "id": "75f2b183",
      "execution_count": 47,
      "outputs": [
        {
          "output_type": "execute_result",
          "data": {
            "text/html": [
              "<div>\n",
              "<style scoped>\n",
              "    .dataframe tbody tr th:only-of-type {\n",
              "        vertical-align: middle;\n",
              "    }\n",
              "\n",
              "    .dataframe tbody tr th {\n",
              "        vertical-align: top;\n",
              "    }\n",
              "\n",
              "    .dataframe thead th {\n",
              "        text-align: right;\n",
              "    }\n",
              "</style>\n",
              "<table border=\"1\" class=\"dataframe\">\n",
              "  <thead>\n",
              "    <tr style=\"text-align: right;\">\n",
              "      <th></th>\n",
              "      <th>Values</th>\n",
              "      <th>Labels</th>\n",
              "      <th>Second_label</th>\n",
              "    </tr>\n",
              "  </thead>\n",
              "  <tbody>\n",
              "    <tr>\n",
              "      <th>35</th>\n",
              "      <td>2393.128418</td>\n",
              "      <td>1</td>\n",
              "      <td>0</td>\n",
              "    </tr>\n",
              "    <tr>\n",
              "      <th>57</th>\n",
              "      <td>2311.965576</td>\n",
              "      <td>1</td>\n",
              "      <td>7</td>\n",
              "    </tr>\n",
              "    <tr>\n",
              "      <th>60</th>\n",
              "      <td>2310.551758</td>\n",
              "      <td>1</td>\n",
              "      <td>7</td>\n",
              "    </tr>\n",
              "    <tr>\n",
              "      <th>88</th>\n",
              "      <td>2331.673828</td>\n",
              "      <td>1</td>\n",
              "      <td>4</td>\n",
              "    </tr>\n",
              "    <tr>\n",
              "      <th>108</th>\n",
              "      <td>2307.728027</td>\n",
              "      <td>1</td>\n",
              "      <td>7</td>\n",
              "    </tr>\n",
              "    <tr>\n",
              "      <th>...</th>\n",
              "      <td>...</td>\n",
              "      <td>...</td>\n",
              "      <td>...</td>\n",
              "    </tr>\n",
              "    <tr>\n",
              "      <th>35210</th>\n",
              "      <td>2298.450439</td>\n",
              "      <td>1</td>\n",
              "      <td>7</td>\n",
              "    </tr>\n",
              "    <tr>\n",
              "      <th>35306</th>\n",
              "      <td>2566.691406</td>\n",
              "      <td>1</td>\n",
              "      <td>2</td>\n",
              "    </tr>\n",
              "    <tr>\n",
              "      <th>35313</th>\n",
              "      <td>2285.279785</td>\n",
              "      <td>1</td>\n",
              "      <td>7</td>\n",
              "    </tr>\n",
              "    <tr>\n",
              "      <th>35360</th>\n",
              "      <td>2310.784424</td>\n",
              "      <td>1</td>\n",
              "      <td>7</td>\n",
              "    </tr>\n",
              "    <tr>\n",
              "      <th>35361</th>\n",
              "      <td>2309.765137</td>\n",
              "      <td>1</td>\n",
              "      <td>7</td>\n",
              "    </tr>\n",
              "  </tbody>\n",
              "</table>\n",
              "<p>4905 rows × 3 columns</p>\n",
              "</div>"
            ],
            "text/plain": [
              "            Values  Labels  Second_label\n",
              "35     2393.128418       1             0\n",
              "57     2311.965576       1             7\n",
              "60     2310.551758       1             7\n",
              "88     2331.673828       1             4\n",
              "108    2307.728027       1             7\n",
              "...            ...     ...           ...\n",
              "35210  2298.450439       1             7\n",
              "35306  2566.691406       1             2\n",
              "35313  2285.279785       1             7\n",
              "35360  2310.784424       1             7\n",
              "35361  2309.765137       1             7\n",
              "\n",
              "[4905 rows x 3 columns]"
            ]
          },
          "metadata": {
            "tags": []
          },
          "execution_count": 47
        }
      ]
    },
    {
      "cell_type": "code",
      "metadata": {
        "id": "e42de3dc"
      },
      "source": [
        "#label2\n",
        "X2 = df4_label_2.iloc[:, [0]].values\n",
        "df4_vlabel_2 = pd.DataFrame(X2)"
      ],
      "id": "e42de3dc",
      "execution_count": 48,
      "outputs": []
    },
    {
      "cell_type": "code",
      "metadata": {
        "id": "bd09c028"
      },
      "source": [
        "from sklearn.cluster import KMeans\n",
        "\n",
        "Sum_of_squared_distances = []\n",
        "K = range(1,15)\n",
        "for k in K:\n",
        "    km = KMeans(n_clusters=k)\n",
        "    km = km.fit(df4_vlabel_2)\n",
        "    Sum_of_squared_distances.append(km.inertia_)"
      ],
      "id": "bd09c028",
      "execution_count": 49,
      "outputs": []
    },
    {
      "cell_type": "code",
      "metadata": {
        "colab": {
          "base_uri": "https://localhost:8080/",
          "height": 295
        },
        "id": "01d460f5",
        "outputId": "38564fca-c206-4f24-da3f-364e22c9a37a"
      },
      "source": [
        "plt.plot(K, Sum_of_squared_distances, 'bx-')\n",
        "plt.xlabel('k')\n",
        "plt.ylabel('Sum_of_squared_distances')\n",
        "plt.title('Elbow Method For Optimal k')\n",
        "plt.show()"
      ],
      "id": "01d460f5",
      "execution_count": 50,
      "outputs": [
        {
          "output_type": "display_data",
          "data": {
            "image/png": "[encoded data removed]",
            "text/plain": [
              "<Figure size 432x288 with 1 Axes>"
            ]
          },
          "metadata": {
            "tags": [],
            "needs_background": "light"
          }
        }
      ]
    },
    {
      "cell_type": "code",
      "metadata": {
        "id": "7f067f1c"
      },
      "source": [
        "num_clusters = np.arange(2,10)\n",
        "results = {}\n",
        "for size in num_clusters:\n",
        "    model = KMeans(n_clusters = size).fit(X2)\n",
        "    predictions = model.predict(X2)\n",
        "    results[size] = silhouette_score(X2, predictions)\n",
        "\n",
        "best_size2 = max(results, key=results.get)"
      ],
      "id": "7f067f1c",
      "execution_count": 51,
      "outputs": []
    },
    {
      "cell_type": "code",
      "metadata": {
        "colab": {
          "base_uri": "https://localhost:8080/"
        },
        "id": "b79aac7a",
        "outputId": "bab8bd21-c67d-422b-aede-51a19858b104"
      },
      "source": [
        "best_size2"
      ],
      "id": "b79aac7a",
      "execution_count": 52,
      "outputs": [
        {
          "output_type": "execute_result",
          "data": {
            "text/plain": [
              "2"
            ]
          },
          "metadata": {
            "tags": []
          },
          "execution_count": 52
        }
      ]
    },
    {
      "cell_type": "code",
      "metadata": {
        "id": "2c8236bc"
      },
      "source": [
        "kmeans = KMeans(n_clusters=best_size2).fit(df4_vlabel_2)\n",
        "df4_label_2['Second_label'] = kmeans.labels_"
      ],
      "id": "2c8236bc",
      "execution_count": 53,
      "outputs": []
    },
    {
      "cell_type": "code",
      "metadata": {
        "colab": {
          "base_uri": "https://localhost:8080/"
        },
        "id": "9bfda5ff",
        "outputId": "eeba3e22-5e80-4e45-e5e8-ea4b8d699db2"
      },
      "source": [
        "df4_label_2['Second_label'].value_counts()"
      ],
      "id": "9bfda5ff",
      "execution_count": 54,
      "outputs": [
        {
          "output_type": "execute_result",
          "data": {
            "text/plain": [
              "0    4003\n",
              "1      59\n",
              "Name: Second_label, dtype: int64"
            ]
          },
          "metadata": {
            "tags": []
          },
          "execution_count": 54
        }
      ]
    },
    {
      "cell_type": "code",
      "metadata": {
        "id": "6c1b39eb"
      },
      "source": [
        "#label3\n",
        "X3 = df4_label_3.iloc[:, [0]].values\n",
        "df4_vlabel_3 = pd.DataFrame(X3)"
      ],
      "id": "6c1b39eb",
      "execution_count": 55,
      "outputs": []
    },
    {
      "cell_type": "code",
      "metadata": {
        "id": "a5bc9ac1"
      },
      "source": [
        "from sklearn.cluster import KMeans\n",
        "\n",
        "Sum_of_squared_distances = []\n",
        "K = range(1,15)\n",
        "for k in K:\n",
        "    km = KMeans(n_clusters=k)\n",
        "    km = km.fit(df4_vlabel_3)\n",
        "    Sum_of_squared_distances.append(km.inertia_)"
      ],
      "id": "a5bc9ac1",
      "execution_count": 56,
      "outputs": []
    },
    {
      "cell_type": "code",
      "metadata": {
        "colab": {
          "base_uri": "https://localhost:8080/",
          "height": 295
        },
        "id": "43adeba0",
        "outputId": "f212bcd8-a93e-4a76-ea04-06be6b0dccd9"
      },
      "source": [
        "plt.plot(K, Sum_of_squared_distances, 'bx-')\n",
        "plt.xlabel('k')\n",
        "plt.ylabel('Sum_of_squared_distances')\n",
        "plt.title('Elbow Method For Optimal k')\n",
        "plt.show()"
      ],
      "id": "43adeba0",
      "execution_count": 57,
      "outputs": [
        {
          "output_type": "display_data",
          "data": {
            "image/png": "[encoded data removed]",
            "text/plain": [
              "<Figure size 432x288 with 1 Axes>"
            ]
          },
          "metadata": {
            "tags": [],
            "needs_background": "light"
          }
        }
      ]
    },
    {
      "cell_type": "code",
      "metadata": {
        "id": "d8fc5c4a"
      },
      "source": [
        "num_clusters = np.arange(2,10)\n",
        "results = {}\n",
        "for size in num_clusters:\n",
        "    model = KMeans(n_clusters = size).fit(X3)\n",
        "    predictions = model.predict(X3)\n",
        "    results[size] = silhouette_score(X3, predictions)\n",
        "\n",
        "best_size3 = max(results, key=results.get)"
      ],
      "id": "d8fc5c4a",
      "execution_count": 58,
      "outputs": []
    },
    {
      "cell_type": "code",
      "metadata": {
        "colab": {
          "base_uri": "https://localhost:8080/"
        },
        "id": "a18ed88f",
        "outputId": "59bd1a1b-64ca-45d1-e12d-687011cc4110"
      },
      "source": [
        "best_size3"
      ],
      "id": "a18ed88f",
      "execution_count": 59,
      "outputs": [
        {
          "output_type": "execute_result",
          "data": {
            "text/plain": [
              "2"
            ]
          },
          "metadata": {
            "tags": []
          },
          "execution_count": 59
        }
      ]
    },
    {
      "cell_type": "code",
      "metadata": {
        "id": "a2ba75dd"
      },
      "source": [
        "kmeans = KMeans(n_clusters=best_size3).fit(df4_vlabel_3)\n",
        "df4_label_3['Second_label'] = kmeans.labels_"
      ],
      "id": "a2ba75dd",
      "execution_count": 60,
      "outputs": []
    },
    {
      "cell_type": "code",
      "metadata": {
        "scrolled": true,
        "colab": {
          "base_uri": "https://localhost:8080/"
        },
        "id": "d082ec98",
        "outputId": "9832fe97-28dd-4682-83f8-5038cc80d6de"
      },
      "source": [
        "df4_label_3['Second_label'].value_counts()"
      ],
      "id": "d082ec98",
      "execution_count": 61,
      "outputs": [
        {
          "output_type": "execute_result",
          "data": {
            "text/plain": [
              "0    8475\n",
              "1     131\n",
              "Name: Second_label, dtype: int64"
            ]
          },
          "metadata": {
            "tags": []
          },
          "execution_count": 61
        }
      ]
    },
    {
      "cell_type": "code",
      "metadata": {
        "scrolled": false,
        "colab": {
          "base_uri": "https://localhost:8080/",
          "height": 419
        },
        "id": "17e3a22a",
        "outputId": "ca6c790b-a06d-4fc2-cf7f-973357263900"
      },
      "source": [
        "#concatenate all the created df\n",
        "frames = [df4_label_0,df4_label_1,df4_label_2,df4_label_3,df4_label_4]\n",
        "df_finalized_cluster = pd.concat(frames, keys=['label0', 'label1','label2','label3','label4'])\n",
        "df_finalized_cluster.dropna()"
      ],
      "id": "17e3a22a",
      "execution_count": 62,
      "outputs": [
        {
          "output_type": "execute_result",
          "data": {
            "text/html": [
              "<div>\n",
              "<style scoped>\n",
              "    .dataframe tbody tr th:only-of-type {\n",
              "        vertical-align: middle;\n",
              "    }\n",
              "\n",
              "    .dataframe tbody tr th {\n",
              "        vertical-align: top;\n",
              "    }\n",
              "\n",
              "    .dataframe thead th {\n",
              "        text-align: right;\n",
              "    }\n",
              "</style>\n",
              "<table border=\"1\" class=\"dataframe\">\n",
              "  <thead>\n",
              "    <tr style=\"text-align: right;\">\n",
              "      <th></th>\n",
              "      <th></th>\n",
              "      <th>Values</th>\n",
              "      <th>Labels</th>\n",
              "      <th>Second_label</th>\n",
              "    </tr>\n",
              "  </thead>\n",
              "  <tbody>\n",
              "    <tr>\n",
              "      <th rowspan=\"5\" valign=\"top\">label0</th>\n",
              "      <th>0</th>\n",
              "      <td>332.737396</td>\n",
              "      <td>0</td>\n",
              "      <td>0</td>\n",
              "    </tr>\n",
              "    <tr>\n",
              "      <th>1</th>\n",
              "      <td>330.063629</td>\n",
              "      <td>0</td>\n",
              "      <td>0</td>\n",
              "    </tr>\n",
              "    <tr>\n",
              "      <th>2</th>\n",
              "      <td>330.119293</td>\n",
              "      <td>0</td>\n",
              "      <td>0</td>\n",
              "    </tr>\n",
              "    <tr>\n",
              "      <th>3</th>\n",
              "      <td>329.064087</td>\n",
              "      <td>0</td>\n",
              "      <td>0</td>\n",
              "    </tr>\n",
              "    <tr>\n",
              "      <th>4</th>\n",
              "      <td>332.305817</td>\n",
              "      <td>0</td>\n",
              "      <td>0</td>\n",
              "    </tr>\n",
              "    <tr>\n",
              "      <th>...</th>\n",
              "      <th>...</th>\n",
              "      <td>...</td>\n",
              "      <td>...</td>\n",
              "      <td>...</td>\n",
              "    </tr>\n",
              "    <tr>\n",
              "      <th rowspan=\"5\" valign=\"top\">label4</th>\n",
              "      <th>32479</th>\n",
              "      <td>12.127464</td>\n",
              "      <td>4</td>\n",
              "      <td>4</td>\n",
              "    </tr>\n",
              "    <tr>\n",
              "      <th>32480</th>\n",
              "      <td>23.867085</td>\n",
              "      <td>4</td>\n",
              "      <td>4</td>\n",
              "    </tr>\n",
              "    <tr>\n",
              "      <th>32487</th>\n",
              "      <td>13.844185</td>\n",
              "      <td>4</td>\n",
              "      <td>4</td>\n",
              "    </tr>\n",
              "    <tr>\n",
              "      <th>32488</th>\n",
              "      <td>12.608395</td>\n",
              "      <td>4</td>\n",
              "      <td>4</td>\n",
              "    </tr>\n",
              "    <tr>\n",
              "      <th>32489</th>\n",
              "      <td>18.618200</td>\n",
              "      <td>4</td>\n",
              "      <td>4</td>\n",
              "    </tr>\n",
              "  </tbody>\n",
              "</table>\n",
              "<p>35395 rows × 3 columns</p>\n",
              "</div>"
            ],
            "text/plain": [
              "                  Values  Labels  Second_label\n",
              "label0 0      332.737396       0             0\n",
              "       1      330.063629       0             0\n",
              "       2      330.119293       0             0\n",
              "       3      329.064087       0             0\n",
              "       4      332.305817       0             0\n",
              "...                  ...     ...           ...\n",
              "label4 32479   12.127464       4             4\n",
              "       32480   23.867085       4             4\n",
              "       32487   13.844185       4             4\n",
              "       32488   12.608395       4             4\n",
              "       32489   18.618200       4             4\n",
              "\n",
              "[35395 rows x 3 columns]"
            ]
          },
          "metadata": {
            "tags": []
          },
          "execution_count": 62
        }
      ]
    },
    {
      "cell_type": "code",
      "metadata": {
        "id": "564ace4e"
      },
      "source": [
        "def final_cluster(flabel,slabel):\n",
        "    if (flabel==0) & (slabel ==0):\n",
        "         return 0\n",
        "    elif ((flabel==0) & (slabel ==1)):\n",
        "         return 1\n",
        "    elif ((flabel==1) & (slabel ==0)):\n",
        "         return 2\n",
        "    elif ((flabel==1) & (slabel ==1)):\n",
        "         return 3\n",
        "    elif ((flabel==1) & (slabel ==2)):\n",
        "         return 4\n",
        "    elif ((flabel==1) & (slabel ==3)):\n",
        "         return 5\n",
        "    elif ((flabel==1) & (slabel ==4)):\n",
        "         return 6\n",
        "    elif ((flabel==1) & (slabel ==5)):\n",
        "         return 7\n",
        "    elif ((flabel==1) & (slabel ==6)):\n",
        "         return 8\n",
        "    elif ((flabel==1) & (slabel ==7)):\n",
        "         return 9\n",
        "    elif ((flabel==2) & (slabel ==0)):\n",
        "         return 10\n",
        "    elif ((flabel==2) & (slabel ==1)):\n",
        "         return 11\n",
        "    elif ((flabel==3) & (slabel ==0)):\n",
        "         return 12\n",
        "    elif ((flabel==3) & (slabel ==1)):\n",
        "         return 13\n",
        "    elif ((flabel==4) & (slabel ==4)):\n",
        "         return 14\n",
        "    else:\n",
        "         return 15"
      ],
      "id": "564ace4e",
      "execution_count": 63,
      "outputs": []
    },
    {
      "cell_type": "code",
      "metadata": {
        "id": "87e4e8e4"
      },
      "source": [
        "df_finalized_cluster['Final Cluster'] = df_finalized_cluster.apply(lambda x: final_cluster(x.Labels,x.Second_label), axis=1)"
      ],
      "id": "87e4e8e4",
      "execution_count": 64,
      "outputs": []
    },
    {
      "cell_type": "code",
      "metadata": {
        "scrolled": true,
        "colab": {
          "base_uri": "https://localhost:8080/",
          "height": 419
        },
        "id": "d2b1bf0e",
        "outputId": "8277acb4-81c2-4b0c-d540-aae2de303e00"
      },
      "source": [
        "df_finalized_cluster.dropna()"
      ],
      "id": "d2b1bf0e",
      "execution_count": 65,
      "outputs": [
        {
          "output_type": "execute_result",
          "data": {
            "text/html": [
              "<div>\n",
              "<style scoped>\n",
              "    .dataframe tbody tr th:only-of-type {\n",
              "        vertical-align: middle;\n",
              "    }\n",
              "\n",
              "    .dataframe tbody tr th {\n",
              "        vertical-align: top;\n",
              "    }\n",
              "\n",
              "    .dataframe thead th {\n",
              "        text-align: right;\n",
              "    }\n",
              "</style>\n",
              "<table border=\"1\" class=\"dataframe\">\n",
              "  <thead>\n",
              "    <tr style=\"text-align: right;\">\n",
              "      <th></th>\n",
              "      <th></th>\n",
              "      <th>Values</th>\n",
              "      <th>Labels</th>\n",
              "      <th>Second_label</th>\n",
              "      <th>Final Cluster</th>\n",
              "    </tr>\n",
              "  </thead>\n",
              "  <tbody>\n",
              "    <tr>\n",
              "      <th rowspan=\"5\" valign=\"top\">label0</th>\n",
              "      <th>0</th>\n",
              "      <td>332.737396</td>\n",
              "      <td>0</td>\n",
              "      <td>0</td>\n",
              "      <td>0</td>\n",
              "    </tr>\n",
              "    <tr>\n",
              "      <th>1</th>\n",
              "      <td>330.063629</td>\n",
              "      <td>0</td>\n",
              "      <td>0</td>\n",
              "      <td>0</td>\n",
              "    </tr>\n",
              "    <tr>\n",
              "      <th>2</th>\n",
              "      <td>330.119293</td>\n",
              "      <td>0</td>\n",
              "      <td>0</td>\n",
              "      <td>0</td>\n",
              "    </tr>\n",
              "    <tr>\n",
              "      <th>3</th>\n",
              "      <td>329.064087</td>\n",
              "      <td>0</td>\n",
              "      <td>0</td>\n",
              "      <td>0</td>\n",
              "    </tr>\n",
              "    <tr>\n",
              "      <th>4</th>\n",
              "      <td>332.305817</td>\n",
              "      <td>0</td>\n",
              "      <td>0</td>\n",
              "      <td>0</td>\n",
              "    </tr>\n",
              "    <tr>\n",
              "      <th>...</th>\n",
              "      <th>...</th>\n",
              "      <td>...</td>\n",
              "      <td>...</td>\n",
              "      <td>...</td>\n",
              "      <td>...</td>\n",
              "    </tr>\n",
              "    <tr>\n",
              "      <th rowspan=\"5\" valign=\"top\">label4</th>\n",
              "      <th>32479</th>\n",
              "      <td>12.127464</td>\n",
              "      <td>4</td>\n",
              "      <td>4</td>\n",
              "      <td>14</td>\n",
              "    </tr>\n",
              "    <tr>\n",
              "      <th>32480</th>\n",
              "      <td>23.867085</td>\n",
              "      <td>4</td>\n",
              "      <td>4</td>\n",
              "      <td>14</td>\n",
              "    </tr>\n",
              "    <tr>\n",
              "      <th>32487</th>\n",
              "      <td>13.844185</td>\n",
              "      <td>4</td>\n",
              "      <td>4</td>\n",
              "      <td>14</td>\n",
              "    </tr>\n",
              "    <tr>\n",
              "      <th>32488</th>\n",
              "      <td>12.608395</td>\n",
              "      <td>4</td>\n",
              "      <td>4</td>\n",
              "      <td>14</td>\n",
              "    </tr>\n",
              "    <tr>\n",
              "      <th>32489</th>\n",
              "      <td>18.618200</td>\n",
              "      <td>4</td>\n",
              "      <td>4</td>\n",
              "      <td>14</td>\n",
              "    </tr>\n",
              "  </tbody>\n",
              "</table>\n",
              "<p>35395 rows × 4 columns</p>\n",
              "</div>"
            ],
            "text/plain": [
              "                  Values  Labels  Second_label  Final Cluster\n",
              "label0 0      332.737396       0             0              0\n",
              "       1      330.063629       0             0              0\n",
              "       2      330.119293       0             0              0\n",
              "       3      329.064087       0             0              0\n",
              "       4      332.305817       0             0              0\n",
              "...                  ...     ...           ...            ...\n",
              "label4 32479   12.127464       4             4             14\n",
              "       32480   23.867085       4             4             14\n",
              "       32487   13.844185       4             4             14\n",
              "       32488   12.608395       4             4             14\n",
              "       32489   18.618200       4             4             14\n",
              "\n",
              "[35395 rows x 4 columns]"
            ]
          },
          "metadata": {
            "tags": []
          },
          "execution_count": 65
        }
      ]
    },
    {
      "cell_type": "code",
      "metadata": {
        "scrolled": true,
        "colab": {
          "base_uri": "https://localhost:8080/",
          "height": 295
        },
        "id": "a1de6a64",
        "outputId": "4d6f807a-ef72-490a-f882-1e4a6db33031"
      },
      "source": [
        "import matplotlib.pyplot as plot\n",
        "\n",
        "df_finalized_cluster.plot.scatter(x=\"Final Cluster\", y=\"Values\", title= \"Scatter plot\");\n",
        "# plot.ylim(0,100)\n",
        "# plot.xlim(0,20)\n",
        "plot.show(block=True);"
      ],
      "id": "a1de6a64",
      "execution_count": 66,
      "outputs": [
        {
          "output_type": "display_data",
          "data": {
            "image/png": "[encoded data removed]",
            "text/plain": [
              "<Figure size 432x288 with 1 Axes>"
            ]
          },
          "metadata": {
            "tags": [],
            "needs_background": "light"
          }
        }
      ]
    },
    {
      "cell_type": "code",
      "metadata": {
        "colab": {
          "base_uri": "https://localhost:8080/"
        },
        "id": "4172e0d5",
        "outputId": "da6c1477-3ee0-483b-ec95-6fd52cc9eb53"
      },
      "source": [
        "df_finalized_cluster['Final Cluster'].unique()"
      ],
      "id": "4172e0d5",
      "execution_count": 67,
      "outputs": [
        {
          "output_type": "execute_result",
          "data": {
            "text/plain": [
              "array([ 0,  1,  2,  9,  6,  4,  3,  7,  5,  8, 10, 11, 12, 13, 14])"
            ]
          },
          "metadata": {
            "tags": []
          },
          "execution_count": 67
        }
      ]
    },
    {
      "cell_type": "code",
      "metadata": {
        "scrolled": false,
        "colab": {
          "base_uri": "https://localhost:8080/"
        },
        "id": "f034a220",
        "outputId": "1226bcdc-27db-42bb-8eb1-7442287b1493"
      },
      "source": [
        "print(df_finalized_cluster['Final Cluster'].value_counts())"
      ],
      "id": "f034a220",
      "execution_count": 68,
      "outputs": [
        {
          "output_type": "stream",
          "text": [
            "0     16907\n",
            "12     8475\n",
            "10     4003\n",
            "6      1208\n",
            "2      1189\n",
            "3      1152\n",
            "9       873\n",
            "14      522\n",
            "4       423\n",
            "1       393\n",
            "13      131\n",
            "11       59\n",
            "8        36\n",
            "7        14\n",
            "5        10\n",
            "Name: Final Cluster, dtype: int64\n"
          ],
          "name": "stdout"
        }
      ]
    },
    {
      "cell_type": "code",
      "metadata": {
        "id": "cb30ee26"
      },
      "source": [
        "column = df_finalized_cluster['Final Cluster']\n",
        "total_count = column.count()\n",
        "value_count = df_finalized_cluster['Final Cluster'].value_counts()"
      ],
      "id": "cb30ee26",
      "execution_count": 69,
      "outputs": []
    },
    {
      "cell_type": "code",
      "metadata": {
        "colab": {
          "base_uri": "https://localhost:8080/"
        },
        "id": "dce2c2de",
        "outputId": "7f8be566-27b4-41be-e0fb-0c22c6c9b1d8"
      },
      "source": [
        "max_label = value_count/total_count*100\n",
        "max_label"
      ],
      "id": "dce2c2de",
      "execution_count": 70,
      "outputs": [
        {
          "output_type": "execute_result",
          "data": {
            "text/plain": [
              "0     47.766634\n",
              "12    23.944060\n",
              "10    11.309507\n",
              "6      3.412911\n",
              "2      3.359232\n",
              "3      3.254697\n",
              "9      2.466450\n",
              "14     1.474785\n",
              "4      1.195084\n",
              "1      1.110326\n",
              "13     0.370109\n",
              "11     0.166690\n",
              "8      0.101709\n",
              "7      0.039554\n",
              "5      0.028253\n",
              "Name: Final Cluster, dtype: float64"
            ]
          },
          "metadata": {
            "tags": []
          },
          "execution_count": 70
        }
      ]
    },
    {
      "cell_type": "code",
      "metadata": {
        "id": "fdc2572d"
      },
      "source": [
        "df_label6= df_finalized_cluster[df_finalized_cluster['Final Cluster']==6].copy()"
      ],
      "id": "fdc2572d",
      "execution_count": 71,
      "outputs": []
    },
    {
      "cell_type": "code",
      "metadata": {
        "colab": {
          "base_uri": "https://localhost:8080/",
          "height": 297
        },
        "id": "a593199a",
        "outputId": "88ab7237-b139-4f7f-88fe-f1b19500d2f8"
      },
      "source": [
        "df_label6.describe()"
      ],
      "id": "a593199a",
      "execution_count": 72,
      "outputs": [
        {
          "output_type": "execute_result",
          "data": {
            "text/html": [
              "<div>\n",
              "<style scoped>\n",
              "    .dataframe tbody tr th:only-of-type {\n",
              "        vertical-align: middle;\n",
              "    }\n",
              "\n",
              "    .dataframe tbody tr th {\n",
              "        vertical-align: top;\n",
              "    }\n",
              "\n",
              "    .dataframe thead th {\n",
              "        text-align: right;\n",
              "    }\n",
              "</style>\n",
              "<table border=\"1\" class=\"dataframe\">\n",
              "  <thead>\n",
              "    <tr style=\"text-align: right;\">\n",
              "      <th></th>\n",
              "      <th>Values</th>\n",
              "      <th>Labels</th>\n",
              "      <th>Second_label</th>\n",
              "      <th>Final Cluster</th>\n",
              "    </tr>\n",
              "  </thead>\n",
              "  <tbody>\n",
              "    <tr>\n",
              "      <th>count</th>\n",
              "      <td>1208.000000</td>\n",
              "      <td>1208.0</td>\n",
              "      <td>1208.0</td>\n",
              "      <td>1208.0</td>\n",
              "    </tr>\n",
              "    <tr>\n",
              "      <th>mean</th>\n",
              "      <td>2333.371935</td>\n",
              "      <td>1.0</td>\n",
              "      <td>4.0</td>\n",
              "      <td>6.0</td>\n",
              "    </tr>\n",
              "    <tr>\n",
              "      <th>std</th>\n",
              "      <td>8.991088</td>\n",
              "      <td>0.0</td>\n",
              "      <td>0.0</td>\n",
              "      <td>0.0</td>\n",
              "    </tr>\n",
              "    <tr>\n",
              "      <th>min</th>\n",
              "      <td>2315.027588</td>\n",
              "      <td>1.0</td>\n",
              "      <td>4.0</td>\n",
              "      <td>6.0</td>\n",
              "    </tr>\n",
              "    <tr>\n",
              "      <th>25%</th>\n",
              "      <td>2329.564698</td>\n",
              "      <td>1.0</td>\n",
              "      <td>4.0</td>\n",
              "      <td>6.0</td>\n",
              "    </tr>\n",
              "    <tr>\n",
              "      <th>50%</th>\n",
              "      <td>2331.381348</td>\n",
              "      <td>1.0</td>\n",
              "      <td>4.0</td>\n",
              "      <td>6.0</td>\n",
              "    </tr>\n",
              "    <tr>\n",
              "      <th>75%</th>\n",
              "      <td>2333.320190</td>\n",
              "      <td>1.0</td>\n",
              "      <td>4.0</td>\n",
              "      <td>6.0</td>\n",
              "    </tr>\n",
              "    <tr>\n",
              "      <th>max</th>\n",
              "      <td>2370.620361</td>\n",
              "      <td>1.0</td>\n",
              "      <td>4.0</td>\n",
              "      <td>6.0</td>\n",
              "    </tr>\n",
              "  </tbody>\n",
              "</table>\n",
              "</div>"
            ],
            "text/plain": [
              "            Values  Labels  Second_label  Final Cluster\n",
              "count  1208.000000  1208.0        1208.0         1208.0\n",
              "mean   2333.371935     1.0           4.0            6.0\n",
              "std       8.991088     0.0           0.0            0.0\n",
              "min    2315.027588     1.0           4.0            6.0\n",
              "25%    2329.564698     1.0           4.0            6.0\n",
              "50%    2331.381348     1.0           4.0            6.0\n",
              "75%    2333.320190     1.0           4.0            6.0\n",
              "max    2370.620361     1.0           4.0            6.0"
            ]
          },
          "metadata": {
            "tags": []
          },
          "execution_count": 72
        }
      ]
    },
    {
      "cell_type": "code",
      "metadata": {
        "id": "fe984527"
      },
      "source": [
        "def  estimated_flayer_check(Value):\n",
        "    if 182.019730 <= Value < 404.583710:\n",
        "        return 0\n",
        "    elif 680.377930 <= Value < 997.561829:\n",
        "        return 13 \n",
        "    elif 1465.609985 <= Value < 1593.281494:\n",
        "        return 10 \n",
        "    elif 2315.027588 <= Value < 2333.320190:\n",
        "        return 2 \n",
        "    elif 2371.192627 <= Value < 2479.874512:\n",
        "        return 6 \n",
        "    else:\n",
        "        return 20"
      ],
      "id": "fe984527",
      "execution_count": 73,
      "outputs": []
    },
    {
      "cell_type": "code",
      "metadata": {
        "scrolled": true,
        "colab": {
          "base_uri": "https://localhost:8080/"
        },
        "id": "448260ad",
        "outputId": "ad8094ee-32f3-4e17-8f6c-b414612178d5"
      },
      "source": [
        "df3['Estimated_layer'] = df3['Value'].apply(estimated_flayer_check)"
      ],
      "id": "448260ad",
      "execution_count": 74,
      "outputs": [
        {
          "output_type": "stream",
          "text": [
            "/usr/local/lib/python3.7/dist-packages/ipykernel_launcher.py:1: SettingWithCopyWarning:\n",
            "\n",
            "\n",
            "A value is trying to be set on a copy of a slice from a DataFrame.\n",
            "Try using .loc[row_indexer,col_indexer] = value instead\n",
            "\n",
            "See the caveats in the documentation: https://pandas.pydata.org/pandas-docs/stable/user_guide/indexing.html#returning-a-view-versus-a-copy\n",
            "\n"
          ],
          "name": "stderr"
        }
      ]
    },
    {
      "cell_type": "code",
      "metadata": {
        "colab": {
          "base_uri": "https://localhost:8080/"
        },
        "id": "b995b621",
        "outputId": "74ce75fd-f427-4478-fff9-1f21507057eb"
      },
      "source": [
        "#encoder reding - real reading\n",
        "df3['X'] =df3['X']-1291345.5\n",
        "df3['X'] =df3['X']/6553.6\n",
        "df3['Y'] =df3['Y'] - 1069419\n",
        "df3['Y'] =df3['Y']/6553.6"
      ],
      "id": "b995b621",
      "execution_count": 75,
      "outputs": [
        {
          "output_type": "stream",
          "text": [
            "/usr/local/lib/python3.7/dist-packages/ipykernel_launcher.py:2: SettingWithCopyWarning:\n",
            "\n",
            "\n",
            "A value is trying to be set on a copy of a slice from a DataFrame.\n",
            "Try using .loc[row_indexer,col_indexer] = value instead\n",
            "\n",
            "See the caveats in the documentation: https://pandas.pydata.org/pandas-docs/stable/user_guide/indexing.html#returning-a-view-versus-a-copy\n",
            "\n",
            "/usr/local/lib/python3.7/dist-packages/ipykernel_launcher.py:3: SettingWithCopyWarning:\n",
            "\n",
            "\n",
            "A value is trying to be set on a copy of a slice from a DataFrame.\n",
            "Try using .loc[row_indexer,col_indexer] = value instead\n",
            "\n",
            "See the caveats in the documentation: https://pandas.pydata.org/pandas-docs/stable/user_guide/indexing.html#returning-a-view-versus-a-copy\n",
            "\n",
            "/usr/local/lib/python3.7/dist-packages/ipykernel_launcher.py:4: SettingWithCopyWarning:\n",
            "\n",
            "\n",
            "A value is trying to be set on a copy of a slice from a DataFrame.\n",
            "Try using .loc[row_indexer,col_indexer] = value instead\n",
            "\n",
            "See the caveats in the documentation: https://pandas.pydata.org/pandas-docs/stable/user_guide/indexing.html#returning-a-view-versus-a-copy\n",
            "\n",
            "/usr/local/lib/python3.7/dist-packages/ipykernel_launcher.py:5: SettingWithCopyWarning:\n",
            "\n",
            "\n",
            "A value is trying to be set on a copy of a slice from a DataFrame.\n",
            "Try using .loc[row_indexer,col_indexer] = value instead\n",
            "\n",
            "See the caveats in the documentation: https://pandas.pydata.org/pandas-docs/stable/user_guide/indexing.html#returning-a-view-versus-a-copy\n",
            "\n"
          ],
          "name": "stderr"
        }
      ]
    },
    {
      "cell_type": "code",
      "metadata": {
        "colab": {
          "base_uri": "https://localhost:8080/",
          "height": 296
        },
        "id": "6994a644",
        "outputId": "a961272a-7503-4d25-d620-3b37edc74f22"
      },
      "source": [
        "import matplotlib.pyplot as plot\n",
        "\n",
        "df3.plot.scatter(x=\"Estimated_layer\", y=\"Value\", title= \"Scatter plot\");\n",
        "plot.show(block=True);"
      ],
      "id": "6994a644",
      "execution_count": 76,
      "outputs": [
        {
          "output_type": "display_data",
          "data": {
            "image/png": "[encoded data removed]",
            "text/plain": [
              "<Figure size 432x288 with 1 Axes>"
            ]
          },
          "metadata": {
            "tags": [],
            "needs_background": "light"
          }
        }
      ]
    },
    {
      "cell_type": "code",
      "metadata": {
        "id": "7e426ac1"
      },
      "source": [
        "df3_plot0= df3[df3['Estimated_layer']==0].copy()\n",
        "df3_plot2= df3[df3['Estimated_layer']==2].copy()\n",
        "df3_plot6= df3[df3['Estimated_layer']==6].copy()\n",
        "df3_plot10= df3[df3['Estimated_layer']==10].copy()\n",
        "df3_plot13= df3[df3['Estimated_layer']==13].copy()"
      ],
      "id": "7e426ac1",
      "execution_count": 77,
      "outputs": []
    },
    {
      "cell_type": "code",
      "metadata": {
        "id": "9e747090"
      },
      "source": [
        "x1=df3_plot0['X']\n",
        "y1=df3_plot0['Y']\n",
        "z1=df3_plot0['Value']\n",
        "\n",
        "x2=df3_plot2['X']\n",
        "y2=df3_plot2['Y']\n",
        "z2=df3_plot2['Value']\n",
        "\n",
        "x3=df3_plot6['X']\n",
        "y3=df3_plot6['Y']\n",
        "z3=df3_plot6['Value']\n",
        "\n",
        "x5=df3_plot10['X']\n",
        "y5=df3_plot10['Y']\n",
        "z5=df3_plot10['Value']\n",
        "\n",
        "x6=df3_plot13['X']\n",
        "y6=df3_plot13['Y']\n",
        "z6=df3_plot13['Value']\n",
        "\n",
        "\n",
        "fig = go.Figure(data=[go.Scatter3d(\n",
        "    x=x1,\n",
        "    y=y1,\n",
        "    z=z1,\n",
        "    mode='markers',\n",
        "    marker=dict(\n",
        "        size=2,\n",
        "        color=z1,                # set color to an array/list of desired values\n",
        "        colorscale='peach',      # choose a colorscale\n",
        "        opacity=0.8\n",
        "    ) \n",
        "\n",
        "),go.Scatter3d(\n",
        "    x=x2,\n",
        "    y=y2,\n",
        "    z=z2,\n",
        "    mode='markers',\n",
        "    marker=dict(\n",
        "        size=2,\n",
        "        color=z2,                # set color to an array/list of desired values\n",
        "        colorscale='purp',   # choose a colorscale\n",
        "        opacity=0.8\n",
        "    )\n",
        "),go.Scatter3d(\n",
        "    x=x3,\n",
        "    y=y3,\n",
        "    z=z3,\n",
        "    mode='markers',\n",
        "    marker=dict(\n",
        "        size=2,\n",
        "        color=z3,                # set color to an array/list of desired values\n",
        "        colorscale='ylorbr',   # choose a colorscale\n",
        "        opacity=0.8\n",
        "    )\n",
        "\n",
        "),go.Scatter3d(\n",
        "    x=x5,\n",
        "    y=y5,\n",
        "    z=z5,\n",
        "    mode='markers',\n",
        "    marker=dict(\n",
        "        size=2,\n",
        "        color=z5,                # set color to an array/list of desired values\n",
        "        colorscale='cividis',   # choose a colorscale\n",
        "        opacity=0.8\n",
        "    )\n",
        "),go.Scatter3d(\n",
        "    x=x6,\n",
        "    y=y6,\n",
        "    z=z6,\n",
        "    mode='markers',\n",
        "    marker=dict(\n",
        "        size=2,\n",
        "        color=z6,                # set color to an array/list of desired values\n",
        "        colorscale='tempo',   # choose a colorscale\n",
        "        opacity=0.8\n",
        "    )\n",
        "\n",
        "\n",
        ")])\n",
        "\n",
        "# tight layout\n",
        "fig.update_layout(margin=dict(l=0, r=0, b=0, t=0))\n",
        "fig.show()"
      ],
      "id": "9e747090",
      "execution_count": 86,
      "outputs": []
    },
    {
      "cell_type": "code",
      "metadata": {
        "id": "09762f77"
      },
      "source": [
        "#Plot Distribution plots for the features\n",
        "import seaborn as sns\n",
        "\n",
        "plt.figure(figsize=(16,5))\n",
        "plt.subplot(1,2,1)\n",
        "sns.distplot(df_finalized_cluster['Values'])\n",
        "plt.show()"
      ],
      "id": "09762f77",
      "execution_count": 79,
      "outputs": []
    },
    {
      "cell_type": "code",
      "metadata": {
        "id": "10e25233"
      },
      "source": [
        "#Finding Boundary Values\n",
        "print(\"Highest allowed\",df_finalized_cluster['Values'].mean() + 3*df_finalized_cluster['Values'].std())\n",
        "print(\"Lowest allowed\",df_finalized_cluster['Values'].mean() - 3*df_finalized_cluster['Values'].std())"
      ],
      "id": "10e25233",
      "execution_count": null,
      "outputs": []
    },
    {
      "cell_type": "code",
      "metadata": {
        "id": "bd4d8e77"
      },
      "source": [
        "#Finding the Outliers\n",
        "df_finalized_cluster[(df_finalized_cluster['Values'] > 2985.4919727155243) | (df_finalized_cluster['Values'] < -1290.4463489589966)]"
      ],
      "id": "bd4d8e77",
      "execution_count": null,
      "outputs": []
    },
    {
      "cell_type": "code",
      "metadata": {
        "id": "c5134114"
      },
      "source": [
        "#Trimming of Outliers\n",
        "new_df_finalized_cluster = df_finalized_cluster[(df_finalized_cluster['Values'] > 2985.4919727155243) | (df_finalized_cluster['Values'] < -1290.4463489589966)]\n",
        "new_df_finalized_cluster"
      ],
      "id": "c5134114",
      "execution_count": null,
      "outputs": []
    },
    {
      "cell_type": "code",
      "metadata": {
        "id": "67e36611"
      },
      "source": [
        "#Capping on Outliers\n",
        "upper_limit = df_finalized_cluster['Values'].mean() + 3*df_finalized_cluster['Values'].std()\n",
        "lower_limit = df_finalized_cluster['Values'].mean() - 3*df_finalized_cluster['Values'].std()"
      ],
      "id": "67e36611",
      "execution_count": null,
      "outputs": []
    },
    {
      "cell_type": "code",
      "metadata": {
        "id": "8323f18a"
      },
      "source": [
        "#Appling the capping\n",
        "df_finalized_cluster['Values'] = np.where(\n",
        "    df_finalized_cluster['Values']>upper_limit,\n",
        "    upper_limit,\n",
        "    np.where(\n",
        "        df_finalized_cluster['Values']<lower_limit,\n",
        "        lower_limit,\n",
        "       df_finalized_cluster['Values']\n",
        "    )\n",
        ")"
      ],
      "id": "8323f18a",
      "execution_count": null,
      "outputs": []
    },
    {
      "cell_type": "code",
      "metadata": {
        "id": "5f61e9bd"
      },
      "source": [
        ""
      ],
      "id": "5f61e9bd",
      "execution_count": null,
      "outputs": []
    }
  ]
}