{
  "nbformat": 4,
  "nbformat_minor": 0,
  "metadata": {
    "colab": {
      "name": "Untitled0.ipynb",
      "provenance": [],
      "authorship_tag": "ABX9TyN2Yjw2xEWD7BzY1aj78Dvc",
      "include_colab_link": true
    },
    "kernelspec": {
      "name": "python3",
      "display_name": "Python 3"
    },
    "language_info": {
      "name": "python"
    }
  },
  "cells": [
    {
      "cell_type": "markdown",
      "metadata": {
        "id": "view-in-github",
        "colab_type": "text"
      },
      "source": [
        "<a href=\"https://colab.research.google.com/github/Priyanka-Kugapriya/Clustering_notebook/blob/main/Hierarchical%20clustering.ipynb\" target=\"_parent\"><img src=\"https://colab.research.google.com/assets/colab-badge.svg\" alt=\"Open In Colab\"/></a>"
      ]
    },
    {
      "cell_type": "code",
      "metadata": {
        "id": "R5riOvLn06SD"
      },
      "source": [
        "import pandas as pd\n",
        "import plotly.express as px\n",
        "import plotly.graph_objects as go\n",
        "import numpy as np\n",
        "\n",
        "#changepath to CSV\n",
        "\n",
        "df= pd.read_csv(\"/content/sample_data/Layer-Readings_2.csv\",header=None)"
      ],
      "execution_count": 1,
      "outputs": []
    },
    {
      "cell_type": "code",
      "metadata": {
        "colab": {
          "base_uri": "https://localhost:8080/"
        },
        "id": "-K2TrvqB3-6P",
        "outputId": "ee586370-b438-4d72-8fa9-19808968a52c"
      },
      "source": [
        "print(df)"
      ],
      "execution_count": 2,
      "outputs": [
        {
          "output_type": "stream",
          "text": [
            "           0        1           2          3   ...   11   12   13     14\n",
            "0           0        0  329.996735  36.054607  ...  0.0  0.0  0.0  31669\n",
            "1           0        0  330.775604  37.902195  ...  0.0  0.0  0.0  31670\n",
            "2           0        0  329.943512  42.349632  ...  0.0  0.0  0.0  31671\n",
            "3           0        0  329.553131  41.687881  ...  0.0  0.0  0.0  31672\n",
            "4           0        0  332.050140  42.752476  ...  0.0  0.0  0.0  31673\n",
            "...       ...      ...         ...        ...  ...  ...  ...  ...    ...\n",
            "663109  16854  2293761  331.718628  42.900658  ...  0.0  0.0  0.0  21033\n",
            "663110  16959  2293761  330.562775  37.563095  ...  0.0  0.0  0.0  21034\n",
            "663111  17065  2293761  330.347748  41.163986  ...  0.0  0.0  0.0  21035\n",
            "663112  17172  2293761  331.059784  32.140606  ...  0.0  0.0  0.0  21036\n",
            "663113  17277  2293761  330.106598  31.508242  ...  0.0  0.0  0.0  21037\n",
            "\n",
            "[663114 rows x 15 columns]\n"
          ],
          "name": "stdout"
        }
      ]
    },
    {
      "cell_type": "code",
      "metadata": {
        "id": "3PQ122Wy34A3"
      },
      "source": [
        "df.columns = ['0','1','2', '3','4','5','6','7','8','9','10','11','12','13','14']"
      ],
      "execution_count": 3,
      "outputs": []
    },
    {
      "cell_type": "code",
      "metadata": {
        "colab": {
          "base_uri": "https://localhost:8080/"
        },
        "id": "xMrL_Hk64Gk4",
        "outputId": "e569b6a4-20fa-4274-8012-f41c3d6c290f"
      },
      "source": [
        "sorted(df)"
      ],
      "execution_count": 4,
      "outputs": [
        {
          "output_type": "execute_result",
          "data": {
            "text/plain": [
              "['0',\n",
              " '1',\n",
              " '10',\n",
              " '11',\n",
              " '12',\n",
              " '13',\n",
              " '14',\n",
              " '2',\n",
              " '3',\n",
              " '4',\n",
              " '5',\n",
              " '6',\n",
              " '7',\n",
              " '8',\n",
              " '9']"
            ]
          },
          "metadata": {
            "tags": []
          },
          "execution_count": 4
        }
      ]
    },
    {
      "cell_type": "code",
      "metadata": {
        "colab": {
          "base_uri": "https://localhost:8080/"
        },
        "id": "iPT6QRyi4HpB",
        "outputId": "693157eb-5dad-43ca-fc47-a8b0f612c96b"
      },
      "source": [
        "df.isnull().sum()"
      ],
      "execution_count": 4,
      "outputs": [
        {
          "output_type": "execute_result",
          "data": {
            "text/plain": [
              "0     0\n",
              "1     0\n",
              "2     0\n",
              "3     0\n",
              "4     0\n",
              "5     0\n",
              "6     0\n",
              "7     0\n",
              "8     0\n",
              "9     0\n",
              "10    0\n",
              "11    0\n",
              "12    0\n",
              "13    0\n",
              "14    0\n",
              "dtype: int64"
            ]
          },
          "metadata": {
            "tags": []
          },
          "execution_count": 4
        }
      ]
    },
    {
      "cell_type": "code",
      "metadata": {
        "id": "Nql5pNvz4JRv"
      },
      "source": [
        "df.drop(['0','1','3','5', '8','10','12','14', '7', '9', '11', '13'],axis='columns', inplace=True)"
      ],
      "execution_count": 5,
      "outputs": []
    },
    {
      "cell_type": "code",
      "metadata": {
        "colab": {
          "base_uri": "https://localhost:8080/"
        },
        "id": "lDxbG9By4NE3",
        "outputId": "5ab5bae3-e784-41ba-a96f-316748f4d197"
      },
      "source": [
        "print(df)"
      ],
      "execution_count": 6,
      "outputs": [
        {
          "output_type": "stream",
          "text": [
            "                 2            4          6\n",
            "0       329.996735     0.000000    0.00000\n",
            "1       330.775604     0.000000    0.00000\n",
            "2       329.943512   363.551544    0.00000\n",
            "3       329.553131  2318.262207  364.41507\n",
            "4       332.050140     0.000000    0.00000\n",
            "...            ...          ...        ...\n",
            "663109  331.718628     0.000000    0.00000\n",
            "663110  330.562775   361.645508    0.00000\n",
            "663111  330.347748   362.771545    0.00000\n",
            "663112  331.059784     0.000000    0.00000\n",
            "663113  330.106598     0.000000    0.00000\n",
            "\n",
            "[663114 rows x 3 columns]\n"
          ],
          "name": "stdout"
        }
      ]
    },
    {
      "cell_type": "code",
      "metadata": {
        "id": "WXER3wtA4P7Q"
      },
      "source": [
        "df['Index'] = range(0, 0+len(df))"
      ],
      "execution_count": 7,
      "outputs": []
    },
    {
      "cell_type": "code",
      "metadata": {
        "colab": {
          "base_uri": "https://localhost:8080/"
        },
        "id": "9UKZSPI24eP3",
        "outputId": "b93669be-99e7-4b14-8352-1953c640e32a"
      },
      "source": [
        "cols = df.columns.tolist()\n",
        "cols"
      ],
      "execution_count": 8,
      "outputs": [
        {
          "output_type": "execute_result",
          "data": {
            "text/plain": [
              "['2', '4', '6', 'Index']"
            ]
          },
          "metadata": {
            "tags": []
          },
          "execution_count": 8
        }
      ]
    },
    {
      "cell_type": "code",
      "metadata": {
        "colab": {
          "base_uri": "https://localhost:8080/"
        },
        "id": "kM4CVa_f4gtT",
        "outputId": "cd8e8018-73ee-4ce0-e95f-5b135c47d230"
      },
      "source": [
        "cols = cols[-1:] + cols[:-1]\n",
        "cols"
      ],
      "execution_count": 9,
      "outputs": [
        {
          "output_type": "execute_result",
          "data": {
            "text/plain": [
              "['Index', '2', '4', '6']"
            ]
          },
          "metadata": {
            "tags": []
          },
          "execution_count": 9
        }
      ]
    },
    {
      "cell_type": "code",
      "metadata": {
        "colab": {
          "base_uri": "https://localhost:8080/"
        },
        "id": "m7-9S7pQ4i-n",
        "outputId": "69b4f76f-5634-4f14-a745-10943199d2cb"
      },
      "source": [
        "df = df[cols]\n",
        "print(df)"
      ],
      "execution_count": 10,
      "outputs": [
        {
          "output_type": "stream",
          "text": [
            "         Index           2            4          6\n",
            "0            0  329.996735     0.000000    0.00000\n",
            "1            1  330.775604     0.000000    0.00000\n",
            "2            2  329.943512   363.551544    0.00000\n",
            "3            3  329.553131  2318.262207  364.41507\n",
            "4            4  332.050140     0.000000    0.00000\n",
            "...        ...         ...          ...        ...\n",
            "663109  663109  331.718628     0.000000    0.00000\n",
            "663110  663110  330.562775   361.645508    0.00000\n",
            "663111  663111  330.347748   362.771545    0.00000\n",
            "663112  663112  331.059784     0.000000    0.00000\n",
            "663113  663113  330.106598     0.000000    0.00000\n",
            "\n",
            "[663114 rows x 4 columns]\n"
          ],
          "name": "stdout"
        }
      ]
    },
    {
      "cell_type": "code",
      "metadata": {
        "id": "mVy_qu8g4lL2"
      },
      "source": [
        "df2 = df.set_index('Index').stack().reset_index()"
      ],
      "execution_count": 11,
      "outputs": []
    },
    {
      "cell_type": "code",
      "metadata": {
        "colab": {
          "base_uri": "https://localhost:8080/"
        },
        "id": "cl0bnddq4nMx",
        "outputId": "42c49498-0927-42e7-b687-c4c6477bfe48"
      },
      "source": [
        "print(df2)"
      ],
      "execution_count": 12,
      "outputs": [
        {
          "output_type": "stream",
          "text": [
            "          Index level_1           0\n",
            "0             0       2  329.996735\n",
            "1             0       4    0.000000\n",
            "2             0       6    0.000000\n",
            "3             1       2  330.775604\n",
            "4             1       4    0.000000\n",
            "...         ...     ...         ...\n",
            "1989337  663112       4    0.000000\n",
            "1989338  663112       6    0.000000\n",
            "1989339  663113       2  330.106598\n",
            "1989340  663113       4    0.000000\n",
            "1989341  663113       6    0.000000\n",
            "\n",
            "[1989342 rows x 3 columns]\n"
          ],
          "name": "stdout"
        }
      ]
    },
    {
      "cell_type": "code",
      "metadata": {
        "id": "5dtZKtGM4o-1"
      },
      "source": [
        "df3 = df2.rename(columns = {'level_1': 'Column', 0: 'Value'}, inplace = False)"
      ],
      "execution_count": 13,
      "outputs": []
    },
    {
      "cell_type": "code",
      "metadata": {
        "id": "_jUuwVtT4rzZ"
      },
      "source": [
        "df4 = df3.loc[~((df3['Value'] == 0))]"
      ],
      "execution_count": 14,
      "outputs": []
    },
    {
      "cell_type": "code",
      "metadata": {
        "colab": {
          "base_uri": "https://localhost:8080/"
        },
        "id": "ABUVZ4b65IAP",
        "outputId": "ba528df3-f037-4a19-cdcb-fa4b7eb30787"
      },
      "source": [
        "print(df4)"
      ],
      "execution_count": 15,
      "outputs": [
        {
          "output_type": "stream",
          "text": [
            "          Index Column       Value\n",
            "0             0      2  329.996735\n",
            "3             1      2  330.775604\n",
            "6             2      2  329.943512\n",
            "7             2      4  363.551544\n",
            "9             3      2  329.553131\n",
            "...         ...    ...         ...\n",
            "1989331  663110      4  361.645508\n",
            "1989333  663111      2  330.347748\n",
            "1989334  663111      4  362.771545\n",
            "1989336  663112      2  331.059784\n",
            "1989339  663113      2  330.106598\n",
            "\n",
            "[1212626 rows x 3 columns]\n"
          ],
          "name": "stdout"
        }
      ]
    },
    {
      "cell_type": "code",
      "metadata": {
        "colab": {
          "base_uri": "https://localhost:8080/"
        },
        "id": "At6gPWMV5sCj",
        "outputId": "8d03ec1c-4f1a-4f33-941f-86d966618832"
      },
      "source": [
        "df4_test = pd.DataFrame(df4)\n",
        "selected_columns = df4_test[[\"Value\",\"Column\"]]\n",
        "\n",
        "new_df = selected_columns.copy()\n",
        "print(new_df)"
      ],
      "execution_count": 16,
      "outputs": [
        {
          "output_type": "stream",
          "text": [
            "              Value Column\n",
            "0        329.996735      2\n",
            "3        330.775604      2\n",
            "6        329.943512      2\n",
            "7        363.551544      4\n",
            "9        329.553131      2\n",
            "...             ...    ...\n",
            "1989331  361.645508      4\n",
            "1989333  330.347748      2\n",
            "1989334  362.771545      4\n",
            "1989336  331.059784      2\n",
            "1989339  330.106598      2\n",
            "\n",
            "[1212626 rows x 2 columns]\n"
          ],
          "name": "stdout"
        }
      ]
    },
    {
      "cell_type": "code",
      "metadata": {
        "id": "eAkZ77L951eb"
      },
      "source": [
        "df_plot= new_df\n",
        "df_plot['num']=df_plot.index\n",
        "df_plot=df_plot[df_plot['num']%40==0]"
      ],
      "execution_count": 20,
      "outputs": []
    },
    {
      "cell_type": "code",
      "metadata": {
        "colab": {
          "base_uri": "https://localhost:8080/"
        },
        "id": "AjCGdLm3J6U_",
        "outputId": "330b2538-2867-411b-ff4e-2d5d4e4e33d7"
      },
      "source": [
        "print(df_plot)"
      ],
      "execution_count": 21,
      "outputs": [
        {
          "output_type": "stream",
          "text": [
            "              Value Column      num\n",
            "0        329.996735      2        0\n",
            "80       363.210968      6       80\n",
            "120      330.502350      2      120\n",
            "240      332.671600      2      240\n",
            "280      361.138458      4      280\n",
            "...             ...    ...      ...\n",
            "1988920  362.709686      4  1988920\n",
            "1989000  330.544861      2  1989000\n",
            "1989120  330.544525      2  1989120\n",
            "1989160  363.007782      4  1989160\n",
            "1989240  332.357727      2  1989240\n",
            "\n",
            "[30293 rows x 3 columns]\n"
          ],
          "name": "stdout"
        }
      ]
    },
    {
      "cell_type": "code",
      "metadata": {
        "colab": {
          "base_uri": "https://localhost:8080/"
        },
        "id": "gdZcO4I4J79y",
        "outputId": "f8c80134-51a7-4c61-ebc1-583474539353"
      },
      "source": [
        "test_plot = pd.DataFrame(df_plot)\n",
        "selected_columns = test_plot[[\"Value\"]]\n",
        "\n",
        "test_plot = selected_columns.copy()\n",
        "print(test_plot)"
      ],
      "execution_count": 22,
      "outputs": [
        {
          "output_type": "stream",
          "text": [
            "              Value\n",
            "0        329.996735\n",
            "80       363.210968\n",
            "120      330.502350\n",
            "240      332.671600\n",
            "280      361.138458\n",
            "...             ...\n",
            "1988920  362.709686\n",
            "1989000  330.544861\n",
            "1989120  330.544525\n",
            "1989160  363.007782\n",
            "1989240  332.357727\n",
            "\n",
            "[30293 rows x 1 columns]\n"
          ],
          "name": "stdout"
        }
      ]
    },
    {
      "cell_type": "markdown",
      "metadata": {
        "id": "tQpvLXzjOiig"
      },
      "source": [
        "Hierarchihcal clustering"
      ]
    },
    {
      "cell_type": "code",
      "metadata": {
        "id": "YgOtDmoX47wB"
      },
      "source": [
        "import numpy as np\n",
        "import matplotlib.pyplot as plt\n",
        "import pandas as pd\n",
        "import scipy.cluster.hierarchy as sch"
      ],
      "execution_count": 23,
      "outputs": []
    },
    {
      "cell_type": "code",
      "metadata": {
        "id": "iEshGM2hLmtS"
      },
      "source": [
        "X = test_plot.iloc[:, [0]].values"
      ],
      "execution_count": 24,
      "outputs": []
    },
    {
      "cell_type": "code",
      "metadata": {
        "id": "D5Z5VI7xqcLD",
        "colab": {
          "base_uri": "https://localhost:8080/"
        },
        "outputId": "3c0f33c4-979a-4052-afe9-d503f173d014"
      },
      "source": [
        "test_plot.size"
      ],
      "execution_count": 25,
      "outputs": [
        {
          "output_type": "execute_result",
          "data": {
            "text/plain": [
              "30293"
            ]
          },
          "metadata": {
            "tags": []
          },
          "execution_count": 25
        }
      ]
    },
    {
      "cell_type": "code",
      "metadata": {
        "id": "ex5wB91AqT5O",
        "colab": {
          "base_uri": "https://localhost:8080/"
        },
        "outputId": "b647a645-746e-4edc-f397-76173a254d81"
      },
      "source": [
        "X.size"
      ],
      "execution_count": 26,
      "outputs": [
        {
          "output_type": "execute_result",
          "data": {
            "text/plain": [
              "30293"
            ]
          },
          "metadata": {
            "tags": []
          },
          "execution_count": 26
        }
      ]
    },
    {
      "cell_type": "code",
      "metadata": {
        "colab": {
          "base_uri": "https://localhost:8080/",
          "height": 301
        },
        "id": "dmc6_uoZO9z2",
        "outputId": "4ef889c1-2a26-4344-c286-108b74679ef4"
      },
      "source": [
        "dendrogram = sch.dendrogram(sch.linkage(X, method  = \"ward\"))\n",
        "plt.title('Dendrogram')\n",
        "plt.xlabel('Clusters')\n",
        "plt.ylabel('Euclidean distance')\n",
        "plt.show()"
      ],
      "execution_count": 27,
      "outputs": [
        {
          "output_type": "display_data",
          "data": {
            "image/png": "[encoded data removed]",
            "text/plain": [
              "<Figure size 432x288 with 1 Axes>"
            ]
          },
          "metadata": {
            "tags": [],
            "needs_background": "light"
          }
        }
      ]
    },
    {
      "cell_type": "code",
      "metadata": {
        "id": "dsPWAREyP_4_"
      },
      "source": [
        "from sklearn.cluster import AgglomerativeClustering \n",
        "hc = AgglomerativeClustering(n_clusters = 3, affinity = 'euclidean', linkage ='ward')"
      ],
      "execution_count": 28,
      "outputs": []
    },
    {
      "cell_type": "code",
      "metadata": {
        "id": "4YplRYQmQFg2"
      },
      "source": [
        "y_hc=hc.fit_predict(X)"
      ],
      "execution_count": 29,
      "outputs": []
    },
    {
      "cell_type": "code",
      "metadata": {
        "id": "a-JlcQyR5NL0",
        "colab": {
          "base_uri": "https://localhost:8080/"
        },
        "outputId": "d27e6a5e-c08a-453a-dbec-beffb4bc66a3"
      },
      "source": [
        "print(y_hc)"
      ],
      "execution_count": 30,
      "outputs": [
        {
          "output_type": "stream",
          "text": [
            "[1 1 1 ... 1 1 1]\n"
          ],
          "name": "stdout"
        }
      ]
    },
    {
      "cell_type": "code",
      "metadata": {
        "id": "K6cfT61XqOML",
        "colab": {
          "base_uri": "https://localhost:8080/"
        },
        "outputId": "f58f0886-de51-428a-b784-82baa9f56e95"
      },
      "source": [
        "y_hc.size"
      ],
      "execution_count": 31,
      "outputs": [
        {
          "output_type": "execute_result",
          "data": {
            "text/plain": [
              "30293"
            ]
          },
          "metadata": {
            "tags": []
          },
          "execution_count": 31
        }
      ]
    },
    {
      "cell_type": "code",
      "metadata": {
        "id": "VGytww9Pq_WW",
        "colab": {
          "base_uri": "https://localhost:8080/"
        },
        "outputId": "d6272db0-ec43-45d0-9c1c-40f379313c34"
      },
      "source": [
        "print(df_plot)"
      ],
      "execution_count": 32,
      "outputs": [
        {
          "output_type": "stream",
          "text": [
            "              Value Column      num\n",
            "0        329.996735      2        0\n",
            "80       363.210968      6       80\n",
            "120      330.502350      2      120\n",
            "240      332.671600      2      240\n",
            "280      361.138458      4      280\n",
            "...             ...    ...      ...\n",
            "1988920  362.709686      4  1988920\n",
            "1989000  330.544861      2  1989000\n",
            "1989120  330.544525      2  1989120\n",
            "1989160  363.007782      4  1989160\n",
            "1989240  332.357727      2  1989240\n",
            "\n",
            "[30293 rows x 3 columns]\n"
          ],
          "name": "stdout"
        }
      ]
    },
    {
      "cell_type": "code",
      "metadata": {
        "id": "OgC8xTN9p8Iv",
        "colab": {
          "base_uri": "https://localhost:8080/"
        },
        "outputId": "5550902d-fd29-49cf-dc6f-8b0332a18c5e"
      },
      "source": [
        "df_plot.reset_index(drop=True, inplace=True)\n",
        "print(df_plot)"
      ],
      "execution_count": 33,
      "outputs": [
        {
          "output_type": "stream",
          "text": [
            "            Value Column      num\n",
            "0      329.996735      2        0\n",
            "1      363.210968      6       80\n",
            "2      330.502350      2      120\n",
            "3      332.671600      2      240\n",
            "4      361.138458      4      280\n",
            "...           ...    ...      ...\n",
            "30288  362.709686      4  1988920\n",
            "30289  330.544861      2  1989000\n",
            "30290  330.544525      2  1989120\n",
            "30291  363.007782      4  1989160\n",
            "30292  332.357727      2  1989240\n",
            "\n",
            "[30293 rows x 3 columns]\n"
          ],
          "name": "stdout"
        }
      ]
    },
    {
      "cell_type": "code",
      "metadata": {
        "id": "XKriPnaidbbx"
      },
      "source": [
        "new_series = pd.Series(y_hc)"
      ],
      "execution_count": 34,
      "outputs": []
    },
    {
      "cell_type": "code",
      "metadata": {
        "id": "ozHImNeqnyQt"
      },
      "source": [
        "conv_ser_df = new_series.to_frame()"
      ],
      "execution_count": 35,
      "outputs": []
    },
    {
      "cell_type": "code",
      "metadata": {
        "id": "24iE-N-On32l",
        "colab": {
          "base_uri": "https://localhost:8080/"
        },
        "outputId": "2145c5f8-168e-44eb-a960-04322e04f815"
      },
      "source": [
        "print(conv_ser_df)"
      ],
      "execution_count": 36,
      "outputs": [
        {
          "output_type": "stream",
          "text": [
            "       0\n",
            "0      1\n",
            "1      1\n",
            "2      1\n",
            "3      1\n",
            "4      1\n",
            "...   ..\n",
            "30288  1\n",
            "30289  1\n",
            "30290  1\n",
            "30291  1\n",
            "30292  1\n",
            "\n",
            "[30293 rows x 1 columns]\n"
          ],
          "name": "stdout"
        }
      ]
    },
    {
      "cell_type": "code",
      "metadata": {
        "id": "4oDLrHaIol2P"
      },
      "source": [
        "conv_ser_df.columns = ['labels']"
      ],
      "execution_count": 37,
      "outputs": []
    },
    {
      "cell_type": "code",
      "metadata": {
        "id": "DMCPi8hyoIAT",
        "colab": {
          "base_uri": "https://localhost:8080/"
        },
        "outputId": "1d5b0392-5082-46a0-cc23-f0b5d1e76bf7"
      },
      "source": [
        "conv_ser_df.labels.unique()"
      ],
      "execution_count": 38,
      "outputs": [
        {
          "output_type": "execute_result",
          "data": {
            "text/plain": [
              "array([1, 0, 2])"
            ]
          },
          "metadata": {
            "tags": []
          },
          "execution_count": 38
        }
      ]
    },
    {
      "cell_type": "code",
      "metadata": {
        "id": "U-mTDzAUplio"
      },
      "source": [
        "df_plot = pd.concat([df_plot, conv_ser_df], axis=1) "
      ],
      "execution_count": 39,
      "outputs": []
    },
    {
      "cell_type": "code",
      "metadata": {
        "id": "IPh_tyiQrTxh",
        "colab": {
          "base_uri": "https://localhost:8080/"
        },
        "outputId": "d1ecae5a-72fa-428c-f9f9-71cf2222589b"
      },
      "source": [
        "print(df_plot)"
      ],
      "execution_count": 40,
      "outputs": [
        {
          "output_type": "stream",
          "text": [
            "            Value Column      num  labels\n",
            "0      329.996735      2        0       1\n",
            "1      363.210968      6       80       1\n",
            "2      330.502350      2      120       1\n",
            "3      332.671600      2      240       1\n",
            "4      361.138458      4      280       1\n",
            "...           ...    ...      ...     ...\n",
            "30288  362.709686      4  1988920       1\n",
            "30289  330.544861      2  1989000       1\n",
            "30290  330.544525      2  1989120       1\n",
            "30291  363.007782      4  1989160       1\n",
            "30292  332.357727      2  1989240       1\n",
            "\n",
            "[30293 rows x 4 columns]\n"
          ],
          "name": "stdout"
        }
      ]
    },
    {
      "cell_type": "code",
      "metadata": {
        "id": "-qVuMmjrsBYe"
      },
      "source": [
        "df_plot.drop(['Column','num'],axis='columns', inplace=True)"
      ],
      "execution_count": 41,
      "outputs": []
    },
    {
      "cell_type": "code",
      "metadata": {
        "id": "HlWNk-ZJsd0s"
      },
      "source": [
        "df_plot.to_csv(\"hc_labeling.csv\")"
      ],
      "execution_count": null,
      "outputs": []
    },
    {
      "cell_type": "code",
      "metadata": {
        "id": "Ha8-yZi83nM6",
        "colab": {
          "base_uri": "https://localhost:8080/"
        },
        "outputId": "4f85d5f2-aa01-4455-971e-54a93f1555d1"
      },
      "source": [
        "len(df_plot.index)"
      ],
      "execution_count": 42,
      "outputs": [
        {
          "output_type": "execute_result",
          "data": {
            "text/plain": [
              "30293"
            ]
          },
          "metadata": {
            "tags": []
          },
          "execution_count": 42
        }
      ]
    },
    {
      "cell_type": "code",
      "metadata": {
        "id": "ZbokSSXIu6lN"
      },
      "source": [
        "dfhc_label_0= df_plot[df_plot['labels']==0].copy()"
      ],
      "execution_count": 43,
      "outputs": []
    },
    {
      "cell_type": "code",
      "metadata": {
        "id": "sToVkHU_vaoD",
        "colab": {
          "base_uri": "https://localhost:8080/"
        },
        "outputId": "7148a7d0-57d9-47d2-94cb-442e9de3f134"
      },
      "source": [
        "print(dfhc_label_0)"
      ],
      "execution_count": 46,
      "outputs": [
        {
          "output_type": "stream",
          "text": [
            "             Value  labels\n",
            "6      2309.598389       0\n",
            "14     2305.312500       0\n",
            "26     2321.235107       0\n",
            "58     2226.104736       0\n",
            "145    2303.066162       0\n",
            "...            ...     ...\n",
            "30153  2302.877197       0\n",
            "30191  2303.765137       0\n",
            "30240  2316.844238       0\n",
            "30275  2323.135010       0\n",
            "30283  2296.245605       0\n",
            "\n",
            "[1892 rows x 2 columns]\n"
          ],
          "name": "stdout"
        }
      ]
    },
    {
      "cell_type": "code",
      "metadata": {
        "id": "qer_5-YIvGfY",
        "colab": {
          "base_uri": "https://localhost:8080/"
        },
        "outputId": "b9addf27-00fa-4f3c-a811-5c1e1c24ddaa"
      },
      "source": [
        "dfhc_label_0['Value'].std()"
      ],
      "execution_count": 47,
      "outputs": [
        {
          "output_type": "execute_result",
          "data": {
            "text/plain": [
              "224.39052820717478"
            ]
          },
          "metadata": {
            "tags": []
          },
          "execution_count": 47
        }
      ]
    },
    {
      "cell_type": "code",
      "metadata": {
        "id": "raS8mtY1vKxz"
      },
      "source": [
        "dfhc_label_1= df_plot[df_plot['labels']==1].copy()"
      ],
      "execution_count": 44,
      "outputs": []
    },
    {
      "cell_type": "code",
      "metadata": {
        "id": "CJjY_EwqveYm",
        "colab": {
          "base_uri": "https://localhost:8080/"
        },
        "outputId": "fe4dba6a-932e-4705-9230-fb539637320d"
      },
      "source": [
        "print(dfhc_label_1)"
      ],
      "execution_count": 48,
      "outputs": [
        {
          "output_type": "stream",
          "text": [
            "            Value  labels\n",
            "0      329.996735       1\n",
            "1      363.210968       1\n",
            "2      330.502350       1\n",
            "3      332.671600       1\n",
            "4      361.138458       1\n",
            "...           ...     ...\n",
            "30288  362.709686       1\n",
            "30289  330.544861       1\n",
            "30290  330.544525       1\n",
            "30291  363.007782       1\n",
            "30292  332.357727       1\n",
            "\n",
            "[15422 rows x 2 columns]\n"
          ],
          "name": "stdout"
        }
      ]
    },
    {
      "cell_type": "code",
      "metadata": {
        "id": "etJLTaLdvQYI",
        "colab": {
          "base_uri": "https://localhost:8080/"
        },
        "outputId": "1ec198fb-6aa9-44d8-8efb-b59fa70609aa"
      },
      "source": [
        "dfhc_label_1['Value'].std()"
      ],
      "execution_count": 49,
      "outputs": [
        {
          "output_type": "execute_result",
          "data": {
            "text/plain": [
              "65.54733539684594"
            ]
          },
          "metadata": {
            "tags": []
          },
          "execution_count": 49
        }
      ]
    },
    {
      "cell_type": "code",
      "metadata": {
        "id": "B29IRDhpvTCi"
      },
      "source": [
        "dfhc_label_2= df_plot[df_plot['labels']==2].copy()"
      ],
      "execution_count": 45,
      "outputs": []
    },
    {
      "cell_type": "code",
      "metadata": {
        "id": "KNJa_09Zvhix",
        "colab": {
          "base_uri": "https://localhost:8080/"
        },
        "outputId": "7b0c1884-6e9d-49a3-ec9f-7ab3bddb185f"
      },
      "source": [
        "print(dfhc_label_2)"
      ],
      "execution_count": 50,
      "outputs": [
        {
          "output_type": "stream",
          "text": [
            "             Value  labels\n",
            "191    2498.546387       2\n",
            "220    2599.917969       2\n",
            "221    2600.612305       2\n",
            "233    2509.802246       2\n",
            "257    2602.088623       2\n",
            "...            ...     ...\n",
            "29660  2551.750732       2\n",
            "29875  2491.296875       2\n",
            "29988  2501.092285       2\n",
            "30228  2596.303223       2\n",
            "30264  2579.493408       2\n",
            "\n",
            "[12979 rows x 2 columns]\n"
          ],
          "name": "stdout"
        }
      ]
    },
    {
      "cell_type": "code",
      "metadata": {
        "id": "39DE1DesvXg2",
        "colab": {
          "base_uri": "https://localhost:8080/"
        },
        "outputId": "744d08c7-fe2a-46f4-a90a-5747bffe3bfc"
      },
      "source": [
        "dfhc_label_2['Value'].std()"
      ],
      "execution_count": 51,
      "outputs": [
        {
          "output_type": "execute_result",
          "data": {
            "text/plain": [
              "57.93000153846776"
            ]
          },
          "metadata": {
            "tags": []
          },
          "execution_count": 51
        }
      ]
    },
    {
      "cell_type": "code",
      "metadata": {
        "id": "mn_uiehi6oBS"
      },
      "source": [
        "label_1_cl = dfhc_label_1.iloc[:, [0]].values"
      ],
      "execution_count": 52,
      "outputs": []
    },
    {
      "cell_type": "code",
      "metadata": {
        "colab": {
          "base_uri": "https://localhost:8080/"
        },
        "id": "uG72L-VBrD3H",
        "outputId": "4cd9cc90-df04-4f02-8a58-e52f0deb10f6"
      },
      "source": [
        "label_1_cl.size"
      ],
      "execution_count": 53,
      "outputs": [
        {
          "output_type": "execute_result",
          "data": {
            "text/plain": [
              "15422"
            ]
          },
          "metadata": {
            "tags": []
          },
          "execution_count": 53
        }
      ]
    },
    {
      "cell_type": "code",
      "metadata": {
        "id": "KvtkrxaC6vRI",
        "colab": {
          "base_uri": "https://localhost:8080/",
          "height": 301
        },
        "outputId": "6b4e2175-1fc6-4070-bb2f-e8518255f6d6"
      },
      "source": [
        "dendrogram = sch.dendrogram(sch.linkage(label_1_cl, method  = \"ward\"))\n",
        "plt.title('Dendrogram')\n",
        "plt.xlabel('Clusters(lbl1)')\n",
        "plt.ylabel('Euclidean distance')\n",
        "plt.show()"
      ],
      "execution_count": 54,
      "outputs": [
        {
          "output_type": "display_data",
          "data": {
            "image/png": "[encoded data removed]",
            "text/plain": [
              "<Figure size 432x288 with 1 Axes>"
            ]
          },
          "metadata": {
            "tags": [],
            "needs_background": "light"
          }
        }
      ]
    },
    {
      "cell_type": "code",
      "metadata": {
        "id": "HsKiHjMooGKh"
      },
      "source": [
        "from sklearn.cluster import AgglomerativeClustering \n",
        "hc1 = AgglomerativeClustering(n_clusters = 3, affinity = 'euclidean', linkage ='ward')"
      ],
      "execution_count": 55,
      "outputs": []
    },
    {
      "cell_type": "code",
      "metadata": {
        "id": "fvNHbi_YoQ07"
      },
      "source": [
        "y_hc1=hc1.fit_predict(label_1_cl)"
      ],
      "execution_count": 56,
      "outputs": []
    },
    {
      "cell_type": "code",
      "metadata": {
        "colab": {
          "base_uri": "https://localhost:8080/"
        },
        "id": "GUeE5cyGor6n",
        "outputId": "603cd217-9dd4-4af5-ee3e-0197ceb05933"
      },
      "source": [
        "print(y_hc1)"
      ],
      "execution_count": 57,
      "outputs": [
        {
          "output_type": "stream",
          "text": [
            "[1 1 1 ... 1 1 1]\n"
          ],
          "name": "stdout"
        }
      ]
    },
    {
      "cell_type": "code",
      "metadata": {
        "id": "EPdJ0Tc6o9x6"
      },
      "source": [
        "new_series1 = pd.Series(y_hc1)"
      ],
      "execution_count": 58,
      "outputs": []
    },
    {
      "cell_type": "code",
      "metadata": {
        "id": "hKP2i9pGpBTJ"
      },
      "source": [
        "conv_ser_df1 = new_series1.to_frame()"
      ],
      "execution_count": 59,
      "outputs": []
    },
    {
      "cell_type": "code",
      "metadata": {
        "id": "3QzNici0pHuB"
      },
      "source": [
        "conv_ser_df1.columns = ['2nd labeling']"
      ],
      "execution_count": 60,
      "outputs": []
    },
    {
      "cell_type": "code",
      "metadata": {
        "colab": {
          "base_uri": "https://localhost:8080/"
        },
        "id": "vsDbl2WapK6t",
        "outputId": "775ecbf2-df26-4106-b280-9d0cb031d9a9"
      },
      "source": [
        "print(conv_ser_df1)"
      ],
      "execution_count": 61,
      "outputs": [
        {
          "output_type": "stream",
          "text": [
            "       2nd labeling\n",
            "0                 1\n",
            "1                 1\n",
            "2                 1\n",
            "3                 1\n",
            "4                 1\n",
            "...             ...\n",
            "15417             1\n",
            "15418             1\n",
            "15419             1\n",
            "15420             1\n",
            "15421             1\n",
            "\n",
            "[15422 rows x 1 columns]\n"
          ],
          "name": "stdout"
        }
      ]
    },
    {
      "cell_type": "code",
      "metadata": {
        "colab": {
          "base_uri": "https://localhost:8080/"
        },
        "id": "AWXzAuM5v1QS",
        "outputId": "fdb59e5e-5f90-4b74-ba50-e85611f6248d"
      },
      "source": [
        "dfhc_label_1.reset_index(drop=True, inplace=True)\n",
        "print(dfhc_label_1)"
      ],
      "execution_count": 62,
      "outputs": [
        {
          "output_type": "stream",
          "text": [
            "            Value  labels\n",
            "0      329.996735       1\n",
            "1      363.210968       1\n",
            "2      330.502350       1\n",
            "3      332.671600       1\n",
            "4      361.138458       1\n",
            "...           ...     ...\n",
            "15417  362.709686       1\n",
            "15418  330.544861       1\n",
            "15419  330.544525       1\n",
            "15420  363.007782       1\n",
            "15421  332.357727       1\n",
            "\n",
            "[15422 rows x 2 columns]\n"
          ],
          "name": "stdout"
        }
      ]
    },
    {
      "cell_type": "code",
      "metadata": {
        "colab": {
          "base_uri": "https://localhost:8080/"
        },
        "id": "oGnopqUTpSbR",
        "outputId": "2d1ca68f-7008-4ed1-e5ca-ea2cdbb74749"
      },
      "source": [
        "dfhc_label_1 = pd.concat([dfhc_label_1, conv_ser_df1], axis=1) \n",
        "print(dfhc_label_1)"
      ],
      "execution_count": 63,
      "outputs": [
        {
          "output_type": "stream",
          "text": [
            "            Value  labels  2nd labeling\n",
            "0      329.996735       1             1\n",
            "1      363.210968       1             1\n",
            "2      330.502350       1             1\n",
            "3      332.671600       1             1\n",
            "4      361.138458       1             1\n",
            "...           ...     ...           ...\n",
            "15417  362.709686       1             1\n",
            "15418  330.544861       1             1\n",
            "15419  330.544525       1             1\n",
            "15420  363.007782       1             1\n",
            "15421  332.357727       1             1\n",
            "\n",
            "[15422 rows x 3 columns]\n"
          ],
          "name": "stdout"
        }
      ]
    },
    {
      "cell_type": "code",
      "metadata": {
        "id": "43wTxOhkxqMB"
      },
      "source": [
        "# sum_column = dfhc_label_1[\"labels\"] + dfhc_label_1[\"2nd labeling\"]\n",
        "# dfhc_label_1[\"Final Cluster\"] = sum_column\n",
        "# print(dfhc_label_1)"
      ],
      "execution_count": null,
      "outputs": []
    },
    {
      "cell_type": "code",
      "metadata": {
        "id": "wZn6Z6MuxET9"
      },
      "source": [
        "dfhc_label_1.to_csv(\"dfhc_label_1.csv\")"
      ],
      "execution_count": null,
      "outputs": []
    },
    {
      "cell_type": "code",
      "metadata": {
        "id": "d_O4aEA76_15"
      },
      "source": [
        "label_2_cl = dfhc_label_2.iloc[:, [0]].values"
      ],
      "execution_count": 64,
      "outputs": []
    },
    {
      "cell_type": "code",
      "metadata": {
        "id": "bnWcZQUL7FVt",
        "colab": {
          "base_uri": "https://localhost:8080/",
          "height": 301
        },
        "outputId": "f97453ef-856a-43a9-e328-0a3d688dbab3"
      },
      "source": [
        "dendrogram = sch.dendrogram(sch.linkage(label_2_cl, method  = \"ward\"))\n",
        "plt.title('Dendrogram')\n",
        "plt.xlabel('Clusters(lbl2)')\n",
        "plt.ylabel('Euclidean distance')\n",
        "plt.show()"
      ],
      "execution_count": 65,
      "outputs": [
        {
          "output_type": "display_data",
          "data": {
            "image/png": "[encoded data removed]",
            "text/plain": [
              "<Figure size 432x288 with 1 Axes>"
            ]
          },
          "metadata": {
            "tags": [],
            "needs_background": "light"
          }
        }
      ]
    },
    {
      "cell_type": "code",
      "metadata": {
        "id": "BSJKgl5gthZO"
      },
      "source": [
        "from sklearn.cluster import AgglomerativeClustering \n",
        "hc2 = AgglomerativeClustering(n_clusters = 4, affinity = 'euclidean', linkage ='ward')"
      ],
      "execution_count": 66,
      "outputs": []
    },
    {
      "cell_type": "code",
      "metadata": {
        "id": "vHjbdw5Otl4K"
      },
      "source": [
        "y_hc2=hc2.fit_predict(label_2_cl)"
      ],
      "execution_count": 67,
      "outputs": []
    },
    {
      "cell_type": "code",
      "metadata": {
        "colab": {
          "base_uri": "https://localhost:8080/"
        },
        "id": "DYw1yzgLtuBa",
        "outputId": "00fdedcf-bbf7-4ef9-dd4f-2b2ddc824a6e"
      },
      "source": [
        "print(y_hc2)"
      ],
      "execution_count": 68,
      "outputs": [
        {
          "output_type": "stream",
          "text": [
            "[0 0 0 ... 0 0 0]\n"
          ],
          "name": "stdout"
        }
      ]
    },
    {
      "cell_type": "code",
      "metadata": {
        "id": "3nCY-Xiytyet"
      },
      "source": [
        "new_series2 = pd.Series(y_hc2)"
      ],
      "execution_count": 69,
      "outputs": []
    },
    {
      "cell_type": "code",
      "metadata": {
        "id": "3dpsxzrct2IY"
      },
      "source": [
        "conv_ser_df2 = new_series2.to_frame()"
      ],
      "execution_count": 70,
      "outputs": []
    },
    {
      "cell_type": "code",
      "metadata": {
        "id": "2DhCT24St5K-"
      },
      "source": [
        "conv_ser_df2.columns = ['2nd labeling']"
      ],
      "execution_count": 71,
      "outputs": []
    },
    {
      "cell_type": "code",
      "metadata": {
        "colab": {
          "base_uri": "https://localhost:8080/"
        },
        "id": "SjPLQg4bwlHq",
        "outputId": "6606e770-fbb0-4c73-afba-15f44d4e7ba5"
      },
      "source": [
        "dfhc_label_2.reset_index(drop=True, inplace=True)\n",
        "print(dfhc_label_2)"
      ],
      "execution_count": 72,
      "outputs": [
        {
          "output_type": "stream",
          "text": [
            "             Value  labels\n",
            "0      2498.546387       2\n",
            "1      2599.917969       2\n",
            "2      2600.612305       2\n",
            "3      2509.802246       2\n",
            "4      2602.088623       2\n",
            "...            ...     ...\n",
            "12974  2551.750732       2\n",
            "12975  2491.296875       2\n",
            "12976  2501.092285       2\n",
            "12977  2596.303223       2\n",
            "12978  2579.493408       2\n",
            "\n",
            "[12979 rows x 2 columns]\n"
          ],
          "name": "stdout"
        }
      ]
    },
    {
      "cell_type": "code",
      "metadata": {
        "colab": {
          "base_uri": "https://localhost:8080/"
        },
        "id": "AFcsx7XwuPNY",
        "outputId": "9a241127-094b-441d-d164-8328b9ca466e"
      },
      "source": [
        "dfhc_label_2 = pd.concat([dfhc_label_2, conv_ser_df2], axis=1)\n",
        "print(dfhc_label_2)"
      ],
      "execution_count": 73,
      "outputs": [
        {
          "output_type": "stream",
          "text": [
            "             Value  labels  2nd labeling\n",
            "0      2498.546387       2             0\n",
            "1      2599.917969       2             0\n",
            "2      2600.612305       2             0\n",
            "3      2509.802246       2             0\n",
            "4      2602.088623       2             0\n",
            "...            ...     ...           ...\n",
            "12974  2551.750732       2             0\n",
            "12975  2491.296875       2             0\n",
            "12976  2501.092285       2             0\n",
            "12977  2596.303223       2             0\n",
            "12978  2579.493408       2             0\n",
            "\n",
            "[12979 rows x 3 columns]\n"
          ],
          "name": "stdout"
        }
      ]
    },
    {
      "cell_type": "code",
      "metadata": {
        "id": "SYwJ5J0Cx_0j"
      },
      "source": [
        "# dfhc_label_2[\"Final Cluster\"] = dfhc_label_2.apply(lambda row: row['labels'] + row['2nd labeling'], axis=1)\n",
        "# print(dfhc_label_2)"
      ],
      "execution_count": null,
      "outputs": []
    },
    {
      "cell_type": "code",
      "metadata": {
        "id": "oZppywIYw-C6"
      },
      "source": [
        "dfhc_label_2.to_csv(\"dfhc_label_2.csv\")"
      ],
      "execution_count": null,
      "outputs": []
    },
    {
      "cell_type": "code",
      "metadata": {
        "id": "z0qzHHuSvLjQ"
      },
      "source": [
        "dfhc_label_0['2nd labeling'] = 0"
      ],
      "execution_count": 74,
      "outputs": []
    },
    {
      "cell_type": "code",
      "metadata": {
        "id": "WDA9kQeE0_Rg"
      },
      "source": [
        "# dfhc_label_0[\"Final Cluster\"] = dfhc_label_0.apply(lambda row: row['labels'] + row['2nd labeling'], axis=1)\n",
        "# print(dfhc_label_0)"
      ],
      "execution_count": null,
      "outputs": []
    },
    {
      "cell_type": "code",
      "metadata": {
        "colab": {
          "base_uri": "https://localhost:8080/"
        },
        "id": "xQ1m0kVaz9fk",
        "outputId": "50449090-d8e2-4674-ae57-f29fb38e05b8"
      },
      "source": [
        "frames = [dfhc_label_0,dfhc_label_1,dfhc_label_2]\n",
        "df_finalized_cluster = pd.concat(frames, keys=['label0', 'label1', 'label2'])\n",
        "print(df_finalized_cluster)"
      ],
      "execution_count": 75,
      "outputs": [
        {
          "output_type": "stream",
          "text": [
            "                    Value  labels  2nd labeling\n",
            "label0 6      2309.598389       0             0\n",
            "       14     2305.312500       0             0\n",
            "       26     2321.235107       0             0\n",
            "       58     2226.104736       0             0\n",
            "       145    2303.066162       0             0\n",
            "...                   ...     ...           ...\n",
            "label2 12974  2551.750732       2             0\n",
            "       12975  2491.296875       2             0\n",
            "       12976  2501.092285       2             0\n",
            "       12977  2596.303223       2             0\n",
            "       12978  2579.493408       2             0\n",
            "\n",
            "[30293 rows x 3 columns]\n"
          ],
          "name": "stdout"
        }
      ]
    },
    {
      "cell_type": "code",
      "metadata": {
        "id": "zMoTzIcSoaWL"
      },
      "source": [
        "# df_finalized_cluster.drop(['Final Cluster'],axis='columns', inplace=True)"
      ],
      "execution_count": null,
      "outputs": []
    },
    {
      "cell_type": "code",
      "metadata": {
        "colab": {
          "base_uri": "https://localhost:8080/"
        },
        "id": "EuSMojIbonaP",
        "outputId": "c3465815-ef71-4612-8ccf-209d4ee8d557"
      },
      "source": [
        "print(df_finalized_cluster)"
      ],
      "execution_count": 76,
      "outputs": [
        {
          "output_type": "stream",
          "text": [
            "                    Value  labels  2nd labeling\n",
            "label0 6      2309.598389       0             0\n",
            "       14     2305.312500       0             0\n",
            "       26     2321.235107       0             0\n",
            "       58     2226.104736       0             0\n",
            "       145    2303.066162       0             0\n",
            "...                   ...     ...           ...\n",
            "label2 12974  2551.750732       2             0\n",
            "       12975  2491.296875       2             0\n",
            "       12976  2501.092285       2             0\n",
            "       12977  2596.303223       2             0\n",
            "       12978  2579.493408       2             0\n",
            "\n",
            "[30293 rows x 3 columns]\n"
          ],
          "name": "stdout"
        }
      ]
    },
    {
      "cell_type": "code",
      "metadata": {
        "colab": {
          "base_uri": "https://localhost:8080/"
        },
        "id": "II3DjTF6wHg8",
        "outputId": "907b7667-c8f6-4659-a949-079d0d9f6c30"
      },
      "source": [
        "df_finalized_cluster.rename(columns={'2nd labeling':'Second_labeling'},inplace=True)\n",
        "print(df_finalized_cluster)"
      ],
      "execution_count": 78,
      "outputs": [
        {
          "output_type": "stream",
          "text": [
            "                    Value  labels  Second_labeling\n",
            "label0 6      2309.598389       0                0\n",
            "       14     2305.312500       0                0\n",
            "       26     2321.235107       0                0\n",
            "       58     2226.104736       0                0\n",
            "       145    2303.066162       0                0\n",
            "...                   ...     ...              ...\n",
            "label2 12974  2551.750732       2                0\n",
            "       12975  2491.296875       2                0\n",
            "       12976  2501.092285       2                0\n",
            "       12977  2596.303223       2                0\n",
            "       12978  2579.493408       2                0\n",
            "\n",
            "[30293 rows x 3 columns]\n"
          ],
          "name": "stdout"
        }
      ]
    },
    {
      "cell_type": "code",
      "metadata": {
        "id": "d4Zh67aepcB-"
      },
      "source": [
        "def final_cluster(flabel,slabel):\n",
        "    if (flabel==0) & (slabel ==0):\n",
        "         return 0\n",
        "    elif ((flabel==1) & (slabel ==0)):\n",
        "         return 1\n",
        "    elif ((flabel==1) & (slabel ==1)):\n",
        "         return 2\n",
        "    elif (flabel==1) & (slabel ==2):\n",
        "         return 3\n",
        "    elif (flabel==2) & (slabel ==0):\n",
        "         return 4\n",
        "    elif (flabel==2) & (slabel ==1):\n",
        "         return 5\n",
        "    elif (flabel==2) & (slabel ==2):\n",
        "         return 6\n",
        "    else:\n",
        "         return 7"
      ],
      "execution_count": 79,
      "outputs": []
    },
    {
      "cell_type": "code",
      "metadata": {
        "id": "DH-gtCsKpc2q"
      },
      "source": [
        "df_finalized_cluster['Final Cluster'] = df_finalized_cluster.apply(lambda x: final_cluster(x.labels,x.Second_labeling), axis=1)"
      ],
      "execution_count": 80,
      "outputs": []
    },
    {
      "cell_type": "code",
      "metadata": {
        "colab": {
          "base_uri": "https://localhost:8080/"
        },
        "id": "xcaKe75GxgOZ",
        "outputId": "51250cc7-58b3-4231-acdc-b275c0a7ddd7"
      },
      "source": [
        "df_finalized_cluster.head"
      ],
      "execution_count": 81,
      "outputs": [
        {
          "output_type": "execute_result",
          "data": {
            "text/plain": [
              "<bound method NDFrame.head of                     Value  labels  Second_labeling  Final Cluster\n",
              "label0 6      2309.598389       0                0              0\n",
              "       14     2305.312500       0                0              0\n",
              "       26     2321.235107       0                0              0\n",
              "       58     2226.104736       0                0              0\n",
              "       145    2303.066162       0                0              0\n",
              "...                   ...     ...              ...            ...\n",
              "label2 12974  2551.750732       2                0              4\n",
              "       12975  2491.296875       2                0              4\n",
              "       12976  2501.092285       2                0              4\n",
              "       12977  2596.303223       2                0              4\n",
              "       12978  2579.493408       2                0              4\n",
              "\n",
              "[30293 rows x 4 columns]>"
            ]
          },
          "metadata": {
            "tags": []
          },
          "execution_count": 81
        }
      ]
    },
    {
      "cell_type": "code",
      "metadata": {
        "colab": {
          "base_uri": "https://localhost:8080/",
          "height": 297
        },
        "id": "7uspJzNq00-z",
        "outputId": "df030ec6-a222-400e-a995-aa8c7a871612"
      },
      "source": [
        "df_finalized_cluster.describe()"
      ],
      "execution_count": 82,
      "outputs": [
        {
          "output_type": "execute_result",
          "data": {
            "text/html": [
              "<div>\n",
              "<style scoped>\n",
              "    .dataframe tbody tr th:only-of-type {\n",
              "        vertical-align: middle;\n",
              "    }\n",
              "\n",
              "    .dataframe tbody tr th {\n",
              "        vertical-align: top;\n",
              "    }\n",
              "\n",
              "    .dataframe thead th {\n",
              "        text-align: right;\n",
              "    }\n",
              "</style>\n",
              "<table border=\"1\" class=\"dataframe\">\n",
              "  <thead>\n",
              "    <tr style=\"text-align: right;\">\n",
              "      <th></th>\n",
              "      <th>Value</th>\n",
              "      <th>labels</th>\n",
              "      <th>Second_labeling</th>\n",
              "      <th>Final Cluster</th>\n",
              "    </tr>\n",
              "  </thead>\n",
              "  <tbody>\n",
              "    <tr>\n",
              "      <th>count</th>\n",
              "      <td>30293.000000</td>\n",
              "      <td>30293.000000</td>\n",
              "      <td>30293.000000</td>\n",
              "      <td>30293.000000</td>\n",
              "    </tr>\n",
              "    <tr>\n",
              "      <th>mean</th>\n",
              "      <td>1517.326949</td>\n",
              "      <td>1.365992</td>\n",
              "      <td>1.392533</td>\n",
              "      <td>3.615423</td>\n",
              "    </tr>\n",
              "    <tr>\n",
              "      <th>std</th>\n",
              "      <td>1221.999441</td>\n",
              "      <td>0.597467</td>\n",
              "      <td>0.883020</td>\n",
              "      <td>2.294316</td>\n",
              "    </tr>\n",
              "    <tr>\n",
              "      <th>min</th>\n",
              "      <td>9.638062</td>\n",
              "      <td>0.000000</td>\n",
              "      <td>0.000000</td>\n",
              "      <td>0.000000</td>\n",
              "    </tr>\n",
              "    <tr>\n",
              "      <th>25%</th>\n",
              "      <td>331.280151</td>\n",
              "      <td>1.000000</td>\n",
              "      <td>1.000000</td>\n",
              "      <td>2.000000</td>\n",
              "    </tr>\n",
              "    <tr>\n",
              "      <th>50%</th>\n",
              "      <td>365.115906</td>\n",
              "      <td>1.000000</td>\n",
              "      <td>1.000000</td>\n",
              "      <td>2.000000</td>\n",
              "    </tr>\n",
              "    <tr>\n",
              "      <th>75%</th>\n",
              "      <td>2813.955322</td>\n",
              "      <td>2.000000</td>\n",
              "      <td>2.000000</td>\n",
              "      <td>6.000000</td>\n",
              "    </tr>\n",
              "    <tr>\n",
              "      <th>max</th>\n",
              "      <td>3491.906738</td>\n",
              "      <td>2.000000</td>\n",
              "      <td>3.000000</td>\n",
              "      <td>7.000000</td>\n",
              "    </tr>\n",
              "  </tbody>\n",
              "</table>\n",
              "</div>"
            ],
            "text/plain": [
              "              Value        labels  Second_labeling  Final Cluster\n",
              "count  30293.000000  30293.000000     30293.000000   30293.000000\n",
              "mean    1517.326949      1.365992         1.392533       3.615423\n",
              "std     1221.999441      0.597467         0.883020       2.294316\n",
              "min        9.638062      0.000000         0.000000       0.000000\n",
              "25%      331.280151      1.000000         1.000000       2.000000\n",
              "50%      365.115906      1.000000         1.000000       2.000000\n",
              "75%     2813.955322      2.000000         2.000000       6.000000\n",
              "max     3491.906738      2.000000         3.000000       7.000000"
            ]
          },
          "metadata": {
            "tags": []
          },
          "execution_count": 82
        }
      ]
    },
    {
      "cell_type": "code",
      "metadata": {
        "colab": {
          "base_uri": "https://localhost:8080/",
          "height": 295
        },
        "id": "gjYjKnu-0gpu",
        "outputId": "a906a441-94f9-4c56-b9a6-8ca5bd9a7a8b"
      },
      "source": [
        "import matplotlib.pyplot as plot\n",
        "\n",
        "df_finalized_cluster.plot.scatter(x=\"Final Cluster\", y=\"Value\", title= \"Scatter plot\");\n",
        "plot.show(block=True);"
      ],
      "execution_count": 83,
      "outputs": [
        {
          "output_type": "display_data",
          "data": {
            "image/png": "[encoded data removed]",
            "text/plain": [
              "<Figure size 432x288 with 1 Axes>"
            ]
          },
          "metadata": {
            "tags": [],
            "needs_background": "light"
          }
        }
      ]
    },
    {
      "cell_type": "code",
      "metadata": {
        "id": "tzg63l0Q--HK"
      },
      "source": [
        "df_finalized_cluster.to_csv(\"df_finalized_cluster.csv\")"
      ],
      "execution_count": null,
      "outputs": []
    },
    {
      "cell_type": "code",
      "metadata": {
        "colab": {
          "base_uri": "https://localhost:8080/"
        },
        "id": "Bhuojmek191F",
        "outputId": "b2026e33-681c-46a0-f0ce-07a0baa0cafa"
      },
      "source": [
        "df_finalized_cluster['Final Cluster'].unique()"
      ],
      "execution_count": 84,
      "outputs": [
        {
          "output_type": "execute_result",
          "data": {
            "text/plain": [
              "array([0, 2, 3, 1, 4, 6, 5, 7])"
            ]
          },
          "metadata": {
            "tags": []
          },
          "execution_count": 84
        }
      ]
    },
    {
      "cell_type": "code",
      "metadata": {
        "colab": {
          "base_uri": "https://localhost:8080/"
        },
        "id": "_LxmD5mC32Eq",
        "outputId": "80a17dd4-0cc2-4175-9132-19a4a4263a6c"
      },
      "source": [
        "print(df_finalized_cluster['Final Cluster'].value_counts())"
      ],
      "execution_count": 85,
      "outputs": [
        {
          "output_type": "stream",
          "text": [
            "2    14473\n",
            "6     6264\n",
            "7     4590\n",
            "0     1892\n",
            "5     1303\n",
            "1      894\n",
            "4      822\n",
            "3       55\n",
            "Name: Final Cluster, dtype: int64\n"
          ],
          "name": "stdout"
        }
      ]
    },
    {
      "cell_type": "code",
      "metadata": {
        "id": "ukNNd6Q99TNC"
      },
      "source": [
        "# #copying each finalized cluster labeled values to a seperate df\n",
        "# df_final_0= df_finalized_cluster[df_finalized_cluster['Final Cluster']==0].copy()\n",
        "# df_final_1= df_finalized_cluster[df_finalized_cluster['Final Cluster']==1].copy()\n",
        "# df_final_2= df_finalized_cluster[df_finalized_cluster['Final Cluster']==2].copy()\n",
        "# df_final_3= df_finalized_cluster[df_finalized_cluster['Final Cluster']==3].copy()\n",
        "# df_final_4= df_finalized_cluster[df_finalized_cluster['Final Cluster']==4].copy()\n",
        "# df_final_5= df_finalized_cluster[df_finalized_cluster['Final Cluster']==5].copy()\n",
        "# df_final_6= df_finalized_cluster[df_finalized_cluster['Final Cluster']==6].copy()\n",
        "# df_final_7= df_finalized_cluster[df_finalized_cluster['Final Cluster']==7].copy()"
      ],
      "execution_count": 81,
      "outputs": []
    },
    {
      "cell_type": "code",
      "metadata": {
        "id": "39wvNdZ3-DO4"
      },
      "source": [
        "# df_final_0.describe()"
      ],
      "execution_count": 86,
      "outputs": []
    },
    {
      "cell_type": "code",
      "metadata": {
        "colab": {
          "base_uri": "https://localhost:8080/"
        },
        "id": "XbiEV0mr5Rah",
        "outputId": "2743616c-41c6-43c0-9cb5-4560409c2eaa"
      },
      "source": [
        "percent2 = 14473 / 30293 * 100\n",
        "print(percent2)"
      ],
      "execution_count": 88,
      "outputs": [
        {
          "output_type": "stream",
          "text": [
            "47.77671409236458\n"
          ],
          "name": "stdout"
        }
      ]
    },
    {
      "cell_type": "code",
      "metadata": {
        "colab": {
          "base_uri": "https://localhost:8080/"
        },
        "id": "bLy1dgb65vLG",
        "outputId": "cb13c970-2e4a-4e1c-eb28-6d14f51ec2b2"
      },
      "source": [
        "percent6 = 6264 / 30293 * 100\n",
        "print(percent6)"
      ],
      "execution_count": 91,
      "outputs": [
        {
          "output_type": "stream",
          "text": [
            "20.678044432707228\n"
          ],
          "name": "stdout"
        }
      ]
    },
    {
      "cell_type": "code",
      "metadata": {
        "colab": {
          "base_uri": "https://localhost:8080/"
        },
        "id": "-h6Qp1ba5z7z",
        "outputId": "93c286e2-c553-4e15-db5c-023516290db7"
      },
      "source": [
        "percent7 = 4590 / 30293 * 100\n",
        "print(percent7)"
      ],
      "execution_count": 92,
      "outputs": [
        {
          "output_type": "stream",
          "text": [
            "15.15201531706995\n"
          ],
          "name": "stdout"
        }
      ]
    },
    {
      "cell_type": "code",
      "metadata": {
        "id": "18d_OFF4d55Y"
      },
      "source": [
        "df_label_2= df_finalized_cluster[df_finalized_cluster['Final Cluster']==2].copy()"
      ],
      "execution_count": 93,
      "outputs": []
    },
    {
      "cell_type": "code",
      "metadata": {
        "colab": {
          "base_uri": "https://localhost:8080/",
          "height": 297
        },
        "id": "VWhYkHiQeXpT",
        "outputId": "4eae62b6-eaf0-4a52-d6a2-d875fdf4c258"
      },
      "source": [
        "df_label_2.describe()"
      ],
      "execution_count": 100,
      "outputs": [
        {
          "output_type": "execute_result",
          "data": {
            "text/html": [
              "<div>\n",
              "<style scoped>\n",
              "    .dataframe tbody tr th:only-of-type {\n",
              "        vertical-align: middle;\n",
              "    }\n",
              "\n",
              "    .dataframe tbody tr th {\n",
              "        vertical-align: top;\n",
              "    }\n",
              "\n",
              "    .dataframe thead th {\n",
              "        text-align: right;\n",
              "    }\n",
              "</style>\n",
              "<table border=\"1\" class=\"dataframe\">\n",
              "  <thead>\n",
              "    <tr style=\"text-align: right;\">\n",
              "      <th></th>\n",
              "      <th>Value</th>\n",
              "      <th>labels</th>\n",
              "      <th>Second_labeling</th>\n",
              "      <th>Final Cluster</th>\n",
              "    </tr>\n",
              "  </thead>\n",
              "  <tbody>\n",
              "    <tr>\n",
              "      <th>count</th>\n",
              "      <td>14473.000000</td>\n",
              "      <td>14473.0</td>\n",
              "      <td>14473.0</td>\n",
              "      <td>14473.0</td>\n",
              "    </tr>\n",
              "    <tr>\n",
              "      <th>mean</th>\n",
              "      <td>341.754177</td>\n",
              "      <td>1.0</td>\n",
              "      <td>1.0</td>\n",
              "      <td>2.0</td>\n",
              "    </tr>\n",
              "    <tr>\n",
              "      <th>std</th>\n",
              "      <td>17.234585</td>\n",
              "      <td>0.0</td>\n",
              "      <td>0.0</td>\n",
              "      <td>0.0</td>\n",
              "    </tr>\n",
              "    <tr>\n",
              "      <th>min</th>\n",
              "      <td>274.228455</td>\n",
              "      <td>1.0</td>\n",
              "      <td>1.0</td>\n",
              "      <td>2.0</td>\n",
              "    </tr>\n",
              "    <tr>\n",
              "      <th>25%</th>\n",
              "      <td>330.150330</td>\n",
              "      <td>1.0</td>\n",
              "      <td>1.0</td>\n",
              "      <td>2.0</td>\n",
              "    </tr>\n",
              "    <tr>\n",
              "      <th>50%</th>\n",
              "      <td>331.548340</td>\n",
              "      <td>1.0</td>\n",
              "      <td>1.0</td>\n",
              "      <td>2.0</td>\n",
              "    </tr>\n",
              "    <tr>\n",
              "      <th>75%</th>\n",
              "      <td>361.849365</td>\n",
              "      <td>1.0</td>\n",
              "      <td>1.0</td>\n",
              "      <td>2.0</td>\n",
              "    </tr>\n",
              "    <tr>\n",
              "      <th>max</th>\n",
              "      <td>534.020081</td>\n",
              "      <td>1.0</td>\n",
              "      <td>1.0</td>\n",
              "      <td>2.0</td>\n",
              "    </tr>\n",
              "  </tbody>\n",
              "</table>\n",
              "</div>"
            ],
            "text/plain": [
              "              Value   labels  Second_labeling  Final Cluster\n",
              "count  14473.000000  14473.0          14473.0        14473.0\n",
              "mean     341.754177      1.0              1.0            2.0\n",
              "std       17.234585      0.0              0.0            0.0\n",
              "min      274.228455      1.0              1.0            2.0\n",
              "25%      330.150330      1.0              1.0            2.0\n",
              "50%      331.548340      1.0              1.0            2.0\n",
              "75%      361.849365      1.0              1.0            2.0\n",
              "max      534.020081      1.0              1.0            2.0"
            ]
          },
          "metadata": {
            "tags": []
          },
          "execution_count": 100
        }
      ]
    },
    {
      "cell_type": "code",
      "metadata": {
        "id": "t_rgj1_e9h2Y"
      },
      "source": [
        "# df_label_1_fil = df_label_1.iloc[:, [0]].values"
      ],
      "execution_count": null,
      "outputs": []
    },
    {
      "cell_type": "code",
      "metadata": {
        "id": "GeZTjw5k9UUD"
      },
      "source": [
        "# import numpy as np\n",
        "# import pandas as pd\n",
        "# outliers=[]\n",
        "# def detect_outlier(data_1):\n",
        "    \n",
        "#     threshold=1\n",
        "#     mean_1 = np.mean(data_1)\n",
        "#     std_1 =np.std(data_1)\n",
        "    \n",
        "    \n",
        "#     for y in data_1:\n",
        "#         z_score= (y - mean_1)//std_1 \n",
        "#         if np.abs(z_score) > threshold:\n",
        "#             outliers.append(y)\n",
        "#     return outliers"
      ],
      "execution_count": null,
      "outputs": []
    },
    {
      "cell_type": "code",
      "metadata": {
        "id": "poQswud1-u1d"
      },
      "source": [
        "# outlier_datapoints = detect_outlier(df_label_1_fil)\n",
        "# print(outlier_datapoints)"
      ],
      "execution_count": null,
      "outputs": []
    },
    {
      "cell_type": "code",
      "metadata": {
        "id": "9K5U8ONP-wKf"
      },
      "source": [
        "# print('Identified z score outliers: %d' % len(outlier_datapoints))"
      ],
      "execution_count": null,
      "outputs": []
    },
    {
      "cell_type": "code",
      "metadata": {
        "id": "HmLIwcqgd76A"
      },
      "source": [
        "df_label_6= df_finalized_cluster[df_finalized_cluster['Final Cluster']==6].copy()"
      ],
      "execution_count": 96,
      "outputs": []
    },
    {
      "cell_type": "code",
      "metadata": {
        "id": "yhS3es6HecUN",
        "colab": {
          "base_uri": "https://localhost:8080/",
          "height": 297
        },
        "outputId": "98364f33-d943-417a-e9ae-b26abe53bdc0"
      },
      "source": [
        "df_label_6.describe()"
      ],
      "execution_count": 101,
      "outputs": [
        {
          "output_type": "execute_result",
          "data": {
            "text/html": [
              "<div>\n",
              "<style scoped>\n",
              "    .dataframe tbody tr th:only-of-type {\n",
              "        vertical-align: middle;\n",
              "    }\n",
              "\n",
              "    .dataframe tbody tr th {\n",
              "        vertical-align: top;\n",
              "    }\n",
              "\n",
              "    .dataframe thead th {\n",
              "        text-align: right;\n",
              "    }\n",
              "</style>\n",
              "<table border=\"1\" class=\"dataframe\">\n",
              "  <thead>\n",
              "    <tr style=\"text-align: right;\">\n",
              "      <th></th>\n",
              "      <th>Value</th>\n",
              "      <th>labels</th>\n",
              "      <th>Second_labeling</th>\n",
              "      <th>Final Cluster</th>\n",
              "    </tr>\n",
              "  </thead>\n",
              "  <tbody>\n",
              "    <tr>\n",
              "      <th>count</th>\n",
              "      <td>6264.000000</td>\n",
              "      <td>6264.0</td>\n",
              "      <td>6264.0</td>\n",
              "      <td>6264.0</td>\n",
              "    </tr>\n",
              "    <tr>\n",
              "      <th>mean</th>\n",
              "      <td>2812.794197</td>\n",
              "      <td>2.0</td>\n",
              "      <td>2.0</td>\n",
              "      <td>6.0</td>\n",
              "    </tr>\n",
              "    <tr>\n",
              "      <th>std</th>\n",
              "      <td>2.667251</td>\n",
              "      <td>0.0</td>\n",
              "      <td>0.0</td>\n",
              "      <td>0.0</td>\n",
              "    </tr>\n",
              "    <tr>\n",
              "      <th>min</th>\n",
              "      <td>2801.419922</td>\n",
              "      <td>2.0</td>\n",
              "      <td>2.0</td>\n",
              "      <td>6.0</td>\n",
              "    </tr>\n",
              "    <tr>\n",
              "      <th>25%</th>\n",
              "      <td>2811.449218</td>\n",
              "      <td>2.0</td>\n",
              "      <td>2.0</td>\n",
              "      <td>6.0</td>\n",
              "    </tr>\n",
              "    <tr>\n",
              "      <th>50%</th>\n",
              "      <td>2812.781616</td>\n",
              "      <td>2.0</td>\n",
              "      <td>2.0</td>\n",
              "      <td>6.0</td>\n",
              "    </tr>\n",
              "    <tr>\n",
              "      <th>75%</th>\n",
              "      <td>2814.078247</td>\n",
              "      <td>2.0</td>\n",
              "      <td>2.0</td>\n",
              "      <td>6.0</td>\n",
              "    </tr>\n",
              "    <tr>\n",
              "      <th>max</th>\n",
              "      <td>2826.934814</td>\n",
              "      <td>2.0</td>\n",
              "      <td>2.0</td>\n",
              "      <td>6.0</td>\n",
              "    </tr>\n",
              "  </tbody>\n",
              "</table>\n",
              "</div>"
            ],
            "text/plain": [
              "             Value  labels  Second_labeling  Final Cluster\n",
              "count  6264.000000  6264.0           6264.0         6264.0\n",
              "mean   2812.794197     2.0              2.0            6.0\n",
              "std       2.667251     0.0              0.0            0.0\n",
              "min    2801.419922     2.0              2.0            6.0\n",
              "25%    2811.449218     2.0              2.0            6.0\n",
              "50%    2812.781616     2.0              2.0            6.0\n",
              "75%    2814.078247     2.0              2.0            6.0\n",
              "max    2826.934814     2.0              2.0            6.0"
            ]
          },
          "metadata": {
            "tags": []
          },
          "execution_count": 101
        }
      ]
    },
    {
      "cell_type": "code",
      "metadata": {
        "id": "fwgRadYQ_FYu"
      },
      "source": [
        "# df_label_6_fil = df_label_6.iloc[:, [0]].values"
      ],
      "execution_count": null,
      "outputs": []
    },
    {
      "cell_type": "code",
      "metadata": {
        "id": "XZ3AhCHP_CsH"
      },
      "source": [
        "# outlier_datapoints = detect_outlier(df_label_6_fil)\n",
        "# print(outlier_datapoints)"
      ],
      "execution_count": null,
      "outputs": []
    },
    {
      "cell_type": "code",
      "metadata": {
        "id": "gZHuJ40a_Nan"
      },
      "source": [
        "# print('Identified z score outliers: %d' % len(outlier_datapoints))"
      ],
      "execution_count": null,
      "outputs": []
    },
    {
      "cell_type": "code",
      "metadata": {
        "id": "kifG15qtd-cm"
      },
      "source": [
        "df_label_7= df_finalized_cluster[df_finalized_cluster['Final Cluster']==7].copy()"
      ],
      "execution_count": 98,
      "outputs": []
    },
    {
      "cell_type": "code",
      "metadata": {
        "id": "8oz1WyG0ee-w",
        "colab": {
          "base_uri": "https://localhost:8080/",
          "height": 297
        },
        "outputId": "a049dbd6-c683-4668-ac19-1225afa360c8"
      },
      "source": [
        "df_label_7.describe()"
      ],
      "execution_count": 102,
      "outputs": [
        {
          "output_type": "execute_result",
          "data": {
            "text/html": [
              "<div>\n",
              "<style scoped>\n",
              "    .dataframe tbody tr th:only-of-type {\n",
              "        vertical-align: middle;\n",
              "    }\n",
              "\n",
              "    .dataframe tbody tr th {\n",
              "        vertical-align: top;\n",
              "    }\n",
              "\n",
              "    .dataframe thead th {\n",
              "        text-align: right;\n",
              "    }\n",
              "</style>\n",
              "<table border=\"1\" class=\"dataframe\">\n",
              "  <thead>\n",
              "    <tr style=\"text-align: right;\">\n",
              "      <th></th>\n",
              "      <th>Value</th>\n",
              "      <th>labels</th>\n",
              "      <th>Second_labeling</th>\n",
              "      <th>Final Cluster</th>\n",
              "    </tr>\n",
              "  </thead>\n",
              "  <tbody>\n",
              "    <tr>\n",
              "      <th>count</th>\n",
              "      <td>4590.000000</td>\n",
              "      <td>4590.0</td>\n",
              "      <td>4590.0</td>\n",
              "      <td>4590.0</td>\n",
              "    </tr>\n",
              "    <tr>\n",
              "      <th>mean</th>\n",
              "      <td>2868.645226</td>\n",
              "      <td>2.0</td>\n",
              "      <td>3.0</td>\n",
              "      <td>7.0</td>\n",
              "    </tr>\n",
              "    <tr>\n",
              "      <th>std</th>\n",
              "      <td>8.473422</td>\n",
              "      <td>0.0</td>\n",
              "      <td>0.0</td>\n",
              "      <td>0.0</td>\n",
              "    </tr>\n",
              "    <tr>\n",
              "      <th>min</th>\n",
              "      <td>2828.276123</td>\n",
              "      <td>2.0</td>\n",
              "      <td>3.0</td>\n",
              "      <td>7.0</td>\n",
              "    </tr>\n",
              "    <tr>\n",
              "      <th>25%</th>\n",
              "      <td>2865.027588</td>\n",
              "      <td>2.0</td>\n",
              "      <td>3.0</td>\n",
              "      <td>7.0</td>\n",
              "    </tr>\n",
              "    <tr>\n",
              "      <th>50%</th>\n",
              "      <td>2868.987427</td>\n",
              "      <td>2.0</td>\n",
              "      <td>3.0</td>\n",
              "      <td>7.0</td>\n",
              "    </tr>\n",
              "    <tr>\n",
              "      <th>75%</th>\n",
              "      <td>2873.079529</td>\n",
              "      <td>2.0</td>\n",
              "      <td>3.0</td>\n",
              "      <td>7.0</td>\n",
              "    </tr>\n",
              "    <tr>\n",
              "      <th>max</th>\n",
              "      <td>2890.234375</td>\n",
              "      <td>2.0</td>\n",
              "      <td>3.0</td>\n",
              "      <td>7.0</td>\n",
              "    </tr>\n",
              "  </tbody>\n",
              "</table>\n",
              "</div>"
            ],
            "text/plain": [
              "             Value  labels  Second_labeling  Final Cluster\n",
              "count  4590.000000  4590.0           4590.0         4590.0\n",
              "mean   2868.645226     2.0              3.0            7.0\n",
              "std       8.473422     0.0              0.0            0.0\n",
              "min    2828.276123     2.0              3.0            7.0\n",
              "25%    2865.027588     2.0              3.0            7.0\n",
              "50%    2868.987427     2.0              3.0            7.0\n",
              "75%    2873.079529     2.0              3.0            7.0\n",
              "max    2890.234375     2.0              3.0            7.0"
            ]
          },
          "metadata": {
            "tags": []
          },
          "execution_count": 102
        }
      ]
    },
    {
      "cell_type": "code",
      "metadata": {
        "id": "JCPCWkRmemzn"
      },
      "source": [
        "# df_label_7_fil = df_label_7.iloc[:, [0]].values"
      ],
      "execution_count": null,
      "outputs": []
    },
    {
      "cell_type": "code",
      "metadata": {
        "id": "87JMZlOR_U0T"
      },
      "source": [
        "# outlier_datapoints = detect_outlier(df_label_7_fil)\n",
        "# print(outlier_datapoints)"
      ],
      "execution_count": null,
      "outputs": []
    },
    {
      "cell_type": "code",
      "metadata": {
        "id": "7Zdn7qM3_Yvv"
      },
      "source": [
        "# print('Identified z score outliers: %d' % len(outlier_datapoints))"
      ],
      "execution_count": null,
      "outputs": []
    }
  ]
}