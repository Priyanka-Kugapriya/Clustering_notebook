{
  "nbformat": 4,
  "nbformat_minor": 0,
  "metadata": {
    "colab": {
      "name": "Untitled0.ipynb",
      "provenance": [],
      "authorship_tag": "ABX9TyPp8A7P24AadMzkSMMIJh9A",
      "include_colab_link": true
    },
    "kernelspec": {
      "name": "python3",
      "display_name": "Python 3"
    },
    "language_info": {
      "name": "python"
    }
  },
  "cells": [
    {
      "cell_type": "markdown",
      "metadata": {
        "id": "view-in-github",
        "colab_type": "text"
      },
      "source": [
        "<a href=\"https://colab.research.google.com/github/Priyanka-Kugapriya/Clustering_notebook/blob/main/Hierarchical%20clustering.ipynb\" target=\"_parent\"><img src=\"https://colab.research.google.com/assets/colab-badge.svg\" alt=\"Open In Colab\"/></a>"
      ]
    },
    {
      "cell_type": "code",
      "metadata": {
        "id": "R5riOvLn06SD"
      },
      "source": [
        "import pandas as pd\n",
        "import plotly.express as px\n",
        "import plotly.graph_objects as go\n",
        "import numpy as np\n",
        "\n",
        "#changepath to CSV\n",
        "\n",
        "df= pd.read_csv(\"/content/sample_data/Layer-Readings_2.csv\",header=None)"
      ],
      "execution_count": 1,
      "outputs": []
    },
    {
      "cell_type": "code",
      "metadata": {
        "colab": {
          "base_uri": "https://localhost:8080/"
        },
        "id": "-K2TrvqB3-6P",
        "outputId": "657726fb-979c-4a0c-8440-1dfdd1e446dd"
      },
      "source": [
        "print(df)"
      ],
      "execution_count": 2,
      "outputs": [
        {
          "output_type": "stream",
          "text": [
            "           0        1           2          3   ...   11   12   13     14\n",
            "0           0        0  329.996735  36.054607  ...  0.0  0.0  0.0  31669\n",
            "1           0        0  330.775604  37.902195  ...  0.0  0.0  0.0  31670\n",
            "2           0        0  329.943512  42.349632  ...  0.0  0.0  0.0  31671\n",
            "3           0        0  329.553131  41.687881  ...  0.0  0.0  0.0  31672\n",
            "4           0        0  332.050140  42.752476  ...  0.0  0.0  0.0  31673\n",
            "...       ...      ...         ...        ...  ...  ...  ...  ...    ...\n",
            "663109  16854  2293761  331.718628  42.900658  ...  0.0  0.0  0.0  21033\n",
            "663110  16959  2293761  330.562775  37.563095  ...  0.0  0.0  0.0  21034\n",
            "663111  17065  2293761  330.347748  41.163986  ...  0.0  0.0  0.0  21035\n",
            "663112  17172  2293761  331.059784  32.140606  ...  0.0  0.0  0.0  21036\n",
            "663113  17277  2293761  330.106598  31.508242  ...  0.0  0.0  0.0  21037\n",
            "\n",
            "[663114 rows x 15 columns]\n"
          ],
          "name": "stdout"
        }
      ]
    },
    {
      "cell_type": "code",
      "metadata": {
        "id": "3PQ122Wy34A3"
      },
      "source": [
        "df.columns = ['0','1','2', '3','4','5','6','7','8','9','10','11','12','13','14']"
      ],
      "execution_count": 3,
      "outputs": []
    },
    {
      "cell_type": "code",
      "metadata": {
        "colab": {
          "base_uri": "https://localhost:8080/"
        },
        "id": "xMrL_Hk64Gk4",
        "outputId": "7f31d1df-8d5a-492a-b505-f0fcae579932"
      },
      "source": [
        "sorted(df)"
      ],
      "execution_count": 4,
      "outputs": [
        {
          "output_type": "execute_result",
          "data": {
            "text/plain": [
              "['0',\n",
              " '1',\n",
              " '10',\n",
              " '11',\n",
              " '12',\n",
              " '13',\n",
              " '14',\n",
              " '2',\n",
              " '3',\n",
              " '4',\n",
              " '5',\n",
              " '6',\n",
              " '7',\n",
              " '8',\n",
              " '9']"
            ]
          },
          "metadata": {
            "tags": []
          },
          "execution_count": 4
        }
      ]
    },
    {
      "cell_type": "code",
      "metadata": {
        "colab": {
          "base_uri": "https://localhost:8080/"
        },
        "id": "iPT6QRyi4HpB",
        "outputId": "6a258edd-e1e5-4059-ee68-97a4cd92c277"
      },
      "source": [
        "df.isnull().sum()"
      ],
      "execution_count": 5,
      "outputs": [
        {
          "output_type": "execute_result",
          "data": {
            "text/plain": [
              "0     0\n",
              "1     0\n",
              "2     0\n",
              "3     0\n",
              "4     0\n",
              "5     0\n",
              "6     0\n",
              "7     0\n",
              "8     0\n",
              "9     0\n",
              "10    0\n",
              "11    0\n",
              "12    0\n",
              "13    0\n",
              "14    0\n",
              "dtype: int64"
            ]
          },
          "metadata": {
            "tags": []
          },
          "execution_count": 5
        }
      ]
    },
    {
      "cell_type": "code",
      "metadata": {
        "id": "Nql5pNvz4JRv"
      },
      "source": [
        "df.drop(['0','1','3','5', '8','10','12','14', '7', '9', '11', '13'],axis='columns', inplace=True)"
      ],
      "execution_count": 6,
      "outputs": []
    },
    {
      "cell_type": "code",
      "metadata": {
        "colab": {
          "base_uri": "https://localhost:8080/"
        },
        "id": "lDxbG9By4NE3",
        "outputId": "70cc5e9e-ce1b-4cc9-f697-07aae2d38ebb"
      },
      "source": [
        "print(df)"
      ],
      "execution_count": 7,
      "outputs": [
        {
          "output_type": "stream",
          "text": [
            "                 2            4          6\n",
            "0       329.996735     0.000000    0.00000\n",
            "1       330.775604     0.000000    0.00000\n",
            "2       329.943512   363.551544    0.00000\n",
            "3       329.553131  2318.262207  364.41507\n",
            "4       332.050140     0.000000    0.00000\n",
            "...            ...          ...        ...\n",
            "663109  331.718628     0.000000    0.00000\n",
            "663110  330.562775   361.645508    0.00000\n",
            "663111  330.347748   362.771545    0.00000\n",
            "663112  331.059784     0.000000    0.00000\n",
            "663113  330.106598     0.000000    0.00000\n",
            "\n",
            "[663114 rows x 3 columns]\n"
          ],
          "name": "stdout"
        }
      ]
    },
    {
      "cell_type": "code",
      "metadata": {
        "id": "WXER3wtA4P7Q"
      },
      "source": [
        "df['Index'] = range(0, 0+len(df))"
      ],
      "execution_count": 8,
      "outputs": []
    },
    {
      "cell_type": "code",
      "metadata": {
        "colab": {
          "base_uri": "https://localhost:8080/"
        },
        "id": "9UKZSPI24eP3",
        "outputId": "2ffef3d8-baf5-4793-aa29-dd855a7fd3fe"
      },
      "source": [
        "cols = df.columns.tolist()\n",
        "cols"
      ],
      "execution_count": 9,
      "outputs": [
        {
          "output_type": "execute_result",
          "data": {
            "text/plain": [
              "['2', '4', '6', 'Index']"
            ]
          },
          "metadata": {
            "tags": []
          },
          "execution_count": 9
        }
      ]
    },
    {
      "cell_type": "code",
      "metadata": {
        "colab": {
          "base_uri": "https://localhost:8080/"
        },
        "id": "kM4CVa_f4gtT",
        "outputId": "d5e8be00-1b36-4c08-eb3a-467daca0b9af"
      },
      "source": [
        "cols = cols[-1:] + cols[:-1]\n",
        "cols"
      ],
      "execution_count": 10,
      "outputs": [
        {
          "output_type": "execute_result",
          "data": {
            "text/plain": [
              "['Index', '2', '4', '6']"
            ]
          },
          "metadata": {
            "tags": []
          },
          "execution_count": 10
        }
      ]
    },
    {
      "cell_type": "code",
      "metadata": {
        "colab": {
          "base_uri": "https://localhost:8080/"
        },
        "id": "m7-9S7pQ4i-n",
        "outputId": "765ad495-aa5e-4eef-f0f5-27ebd54d3968"
      },
      "source": [
        "df = df[cols]\n",
        "print(df)"
      ],
      "execution_count": 11,
      "outputs": [
        {
          "output_type": "stream",
          "text": [
            "         Index           2            4          6\n",
            "0            0  329.996735     0.000000    0.00000\n",
            "1            1  330.775604     0.000000    0.00000\n",
            "2            2  329.943512   363.551544    0.00000\n",
            "3            3  329.553131  2318.262207  364.41507\n",
            "4            4  332.050140     0.000000    0.00000\n",
            "...        ...         ...          ...        ...\n",
            "663109  663109  331.718628     0.000000    0.00000\n",
            "663110  663110  330.562775   361.645508    0.00000\n",
            "663111  663111  330.347748   362.771545    0.00000\n",
            "663112  663112  331.059784     0.000000    0.00000\n",
            "663113  663113  330.106598     0.000000    0.00000\n",
            "\n",
            "[663114 rows x 4 columns]\n"
          ],
          "name": "stdout"
        }
      ]
    },
    {
      "cell_type": "code",
      "metadata": {
        "id": "mVy_qu8g4lL2"
      },
      "source": [
        "df2 = df.set_index('Index').stack().reset_index()"
      ],
      "execution_count": 12,
      "outputs": []
    },
    {
      "cell_type": "code",
      "metadata": {
        "colab": {
          "base_uri": "https://localhost:8080/"
        },
        "id": "cl0bnddq4nMx",
        "outputId": "46c2972e-59ab-44f7-f3b4-0758e996169a"
      },
      "source": [
        "print(df2)"
      ],
      "execution_count": 13,
      "outputs": [
        {
          "output_type": "stream",
          "text": [
            "          Index level_1           0\n",
            "0             0       2  329.996735\n",
            "1             0       4    0.000000\n",
            "2             0       6    0.000000\n",
            "3             1       2  330.775604\n",
            "4             1       4    0.000000\n",
            "...         ...     ...         ...\n",
            "1989337  663112       4    0.000000\n",
            "1989338  663112       6    0.000000\n",
            "1989339  663113       2  330.106598\n",
            "1989340  663113       4    0.000000\n",
            "1989341  663113       6    0.000000\n",
            "\n",
            "[1989342 rows x 3 columns]\n"
          ],
          "name": "stdout"
        }
      ]
    },
    {
      "cell_type": "code",
      "metadata": {
        "id": "5dtZKtGM4o-1"
      },
      "source": [
        "df3 = df2.rename(columns = {'level_1': 'Column', 0: 'Value'}, inplace = False)"
      ],
      "execution_count": 14,
      "outputs": []
    },
    {
      "cell_type": "code",
      "metadata": {
        "id": "_jUuwVtT4rzZ"
      },
      "source": [
        "df4 = df3.loc[~((df3['Value'] == 0))]"
      ],
      "execution_count": 15,
      "outputs": []
    },
    {
      "cell_type": "code",
      "metadata": {
        "colab": {
          "base_uri": "https://localhost:8080/"
        },
        "id": "ABUVZ4b65IAP",
        "outputId": "9264b7ab-5e02-4621-8076-594642012894"
      },
      "source": [
        "print(df4)"
      ],
      "execution_count": 16,
      "outputs": [
        {
          "output_type": "stream",
          "text": [
            "          Index Column       Value\n",
            "0             0      2  329.996735\n",
            "3             1      2  330.775604\n",
            "6             2      2  329.943512\n",
            "7             2      4  363.551544\n",
            "9             3      2  329.553131\n",
            "...         ...    ...         ...\n",
            "1989331  663110      4  361.645508\n",
            "1989333  663111      2  330.347748\n",
            "1989334  663111      4  362.771545\n",
            "1989336  663112      2  331.059784\n",
            "1989339  663113      2  330.106598\n",
            "\n",
            "[1212626 rows x 3 columns]\n"
          ],
          "name": "stdout"
        }
      ]
    },
    {
      "cell_type": "code",
      "metadata": {
        "colab": {
          "base_uri": "https://localhost:8080/"
        },
        "id": "At6gPWMV5sCj",
        "outputId": "27cff18a-5a73-444f-f80a-0624eb40594f"
      },
      "source": [
        "df4_test = pd.DataFrame(df4)\n",
        "selected_columns = df4_test[[\"Value\",\"Column\"]]\n",
        "\n",
        "new_df = selected_columns.copy()\n",
        "print(new_df)"
      ],
      "execution_count": 17,
      "outputs": [
        {
          "output_type": "stream",
          "text": [
            "              Value Column\n",
            "0        329.996735      2\n",
            "3        330.775604      2\n",
            "6        329.943512      2\n",
            "7        363.551544      4\n",
            "9        329.553131      2\n",
            "...             ...    ...\n",
            "1989331  361.645508      4\n",
            "1989333  330.347748      2\n",
            "1989334  362.771545      4\n",
            "1989336  331.059784      2\n",
            "1989339  330.106598      2\n",
            "\n",
            "[1212626 rows x 2 columns]\n"
          ],
          "name": "stdout"
        }
      ]
    },
    {
      "cell_type": "code",
      "metadata": {
        "id": "eAkZ77L951eb"
      },
      "source": [
        "df_plot= new_df\n",
        "df_plot['num']=df_plot.index\n",
        "df_plot=df_plot[df_plot['num']%100==0]"
      ],
      "execution_count": 18,
      "outputs": []
    },
    {
      "cell_type": "code",
      "metadata": {
        "colab": {
          "base_uri": "https://localhost:8080/"
        },
        "id": "AjCGdLm3J6U_",
        "outputId": "994419ab-8855-4a78-fb02-71432634855e"
      },
      "source": [
        "print(df_plot)"
      ],
      "execution_count": 19,
      "outputs": [
        {
          "output_type": "stream",
          "text": [
            "               Value Column      num\n",
            "0         329.996735      2        0\n",
            "300       330.208771      2      300\n",
            "400      2309.598389      4      400\n",
            "600       329.727112      2      600\n",
            "900       360.813446      2      900\n",
            "...              ...    ...      ...\n",
            "1988400   330.318817      2  1988400\n",
            "1988500   363.662292      4  1988500\n",
            "1988700   331.320648      2  1988700\n",
            "1989000   330.544861      2  1989000\n",
            "1989300   330.223846      2  1989300\n",
            "\n",
            "[12083 rows x 3 columns]\n"
          ],
          "name": "stdout"
        }
      ]
    },
    {
      "cell_type": "code",
      "metadata": {
        "colab": {
          "base_uri": "https://localhost:8080/"
        },
        "id": "gdZcO4I4J79y",
        "outputId": "ffb25e72-f330-4802-e927-10223fcdcfd9"
      },
      "source": [
        "test_plot = pd.DataFrame(df_plot)\n",
        "selected_columns = test_plot[[\"Value\"]]\n",
        "\n",
        "test_plot = selected_columns.copy()\n",
        "print(test_plot)"
      ],
      "execution_count": 20,
      "outputs": [
        {
          "output_type": "stream",
          "text": [
            "               Value\n",
            "0         329.996735\n",
            "300       330.208771\n",
            "400      2309.598389\n",
            "600       329.727112\n",
            "900       360.813446\n",
            "...              ...\n",
            "1988400   330.318817\n",
            "1988500   363.662292\n",
            "1988700   331.320648\n",
            "1989000   330.544861\n",
            "1989300   330.223846\n",
            "\n",
            "[12083 rows x 1 columns]\n"
          ],
          "name": "stdout"
        }
      ]
    },
    {
      "cell_type": "markdown",
      "metadata": {
        "id": "tQpvLXzjOiig"
      },
      "source": [
        "Hierarchihcal clustering"
      ]
    },
    {
      "cell_type": "code",
      "metadata": {
        "id": "YgOtDmoX47wB"
      },
      "source": [
        "import numpy as np\n",
        "import matplotlib.pyplot as plt\n",
        "import pandas as pd\n",
        "import scipy.cluster.hierarchy as sch"
      ],
      "execution_count": 21,
      "outputs": []
    },
    {
      "cell_type": "code",
      "metadata": {
        "id": "iEshGM2hLmtS"
      },
      "source": [
        "X = test_plot.iloc[:, [0]].values"
      ],
      "execution_count": 22,
      "outputs": []
    },
    {
      "cell_type": "code",
      "metadata": {
        "id": "D5Z5VI7xqcLD",
        "colab": {
          "base_uri": "https://localhost:8080/"
        },
        "outputId": "b78b5bc1-d75b-4ef7-f068-a118b2371bd0"
      },
      "source": [
        "test_plot.size"
      ],
      "execution_count": 23,
      "outputs": [
        {
          "output_type": "execute_result",
          "data": {
            "text/plain": [
              "12083"
            ]
          },
          "metadata": {
            "tags": []
          },
          "execution_count": 23
        }
      ]
    },
    {
      "cell_type": "code",
      "metadata": {
        "id": "ex5wB91AqT5O",
        "colab": {
          "base_uri": "https://localhost:8080/"
        },
        "outputId": "3b519995-e397-46c0-e3a4-9950e8aeae6b"
      },
      "source": [
        "X.size"
      ],
      "execution_count": 24,
      "outputs": [
        {
          "output_type": "execute_result",
          "data": {
            "text/plain": [
              "12083"
            ]
          },
          "metadata": {
            "tags": []
          },
          "execution_count": 24
        }
      ]
    },
    {
      "cell_type": "code",
      "metadata": {
        "colab": {
          "base_uri": "https://localhost:8080/",
          "height": 301
        },
        "id": "dmc6_uoZO9z2",
        "outputId": "079eb636-275b-469f-dcca-b30187ef88f6"
      },
      "source": [
        "dendrogram = sch.dendrogram(sch.linkage(X, method  = \"ward\"))\n",
        "plt.title('Dendrogram')\n",
        "plt.xlabel('Clusters')\n",
        "plt.ylabel('Euclidean distance')\n",
        "plt.show()"
      ],
      "execution_count": 25,
      "outputs": [
        {
          "output_type": "display_data",
          "data": {
            "image/png": "[encoded data removed]",
            "text/plain": [
              "<Figure size 432x288 with 1 Axes>"
            ]
          },
          "metadata": {
            "tags": [],
            "needs_background": "light"
          }
        }
      ]
    },
    {
      "cell_type": "code",
      "metadata": {
        "id": "dsPWAREyP_4_"
      },
      "source": [
        "from sklearn.cluster import AgglomerativeClustering \n",
        "hc = AgglomerativeClustering(n_clusters = 3, affinity = 'euclidean', linkage ='ward')"
      ],
      "execution_count": 26,
      "outputs": []
    },
    {
      "cell_type": "code",
      "metadata": {
        "id": "4YplRYQmQFg2"
      },
      "source": [
        "y_hc=hc.fit_predict(X)"
      ],
      "execution_count": 27,
      "outputs": []
    },
    {
      "cell_type": "code",
      "metadata": {
        "id": "a-JlcQyR5NL0",
        "colab": {
          "base_uri": "https://localhost:8080/"
        },
        "outputId": "52ff6f67-262b-43ff-aa29-c91ec5f37640"
      },
      "source": [
        "print(y_hc)"
      ],
      "execution_count": 28,
      "outputs": [
        {
          "output_type": "stream",
          "text": [
            "[1 1 0 ... 1 1 1]\n"
          ],
          "name": "stdout"
        }
      ]
    },
    {
      "cell_type": "code",
      "metadata": {
        "id": "K6cfT61XqOML",
        "colab": {
          "base_uri": "https://localhost:8080/"
        },
        "outputId": "6a2f67b6-f4ea-4e3c-abf1-1ae1bb1efecc"
      },
      "source": [
        "y_hc.size"
      ],
      "execution_count": 29,
      "outputs": [
        {
          "output_type": "execute_result",
          "data": {
            "text/plain": [
              "12083"
            ]
          },
          "metadata": {
            "tags": []
          },
          "execution_count": 29
        }
      ]
    },
    {
      "cell_type": "code",
      "metadata": {
        "id": "VGytww9Pq_WW",
        "colab": {
          "base_uri": "https://localhost:8080/"
        },
        "outputId": "069f424c-5562-4cbd-cebd-5e3f9383fdd7"
      },
      "source": [
        "print(df_plot)"
      ],
      "execution_count": 30,
      "outputs": [
        {
          "output_type": "stream",
          "text": [
            "               Value Column      num\n",
            "0         329.996735      2        0\n",
            "300       330.208771      2      300\n",
            "400      2309.598389      4      400\n",
            "600       329.727112      2      600\n",
            "900       360.813446      2      900\n",
            "...              ...    ...      ...\n",
            "1988400   330.318817      2  1988400\n",
            "1988500   363.662292      4  1988500\n",
            "1988700   331.320648      2  1988700\n",
            "1989000   330.544861      2  1989000\n",
            "1989300   330.223846      2  1989300\n",
            "\n",
            "[12083 rows x 3 columns]\n"
          ],
          "name": "stdout"
        }
      ]
    },
    {
      "cell_type": "code",
      "metadata": {
        "id": "OgC8xTN9p8Iv",
        "colab": {
          "base_uri": "https://localhost:8080/"
        },
        "outputId": "8b8a6b91-45d5-484e-bc80-10b85d658c1b"
      },
      "source": [
        "df_plot.reset_index(drop=True, inplace=True)\n",
        "print(df_plot)"
      ],
      "execution_count": 31,
      "outputs": [
        {
          "output_type": "stream",
          "text": [
            "             Value Column      num\n",
            "0       329.996735      2        0\n",
            "1       330.208771      2      300\n",
            "2      2309.598389      4      400\n",
            "3       329.727112      2      600\n",
            "4       360.813446      2      900\n",
            "...            ...    ...      ...\n",
            "12078   330.318817      2  1988400\n",
            "12079   363.662292      4  1988500\n",
            "12080   331.320648      2  1988700\n",
            "12081   330.544861      2  1989000\n",
            "12082   330.223846      2  1989300\n",
            "\n",
            "[12083 rows x 3 columns]\n"
          ],
          "name": "stdout"
        }
      ]
    },
    {
      "cell_type": "code",
      "metadata": {
        "id": "XKriPnaidbbx"
      },
      "source": [
        "new_series = pd.Series(y_hc)"
      ],
      "execution_count": 32,
      "outputs": []
    },
    {
      "cell_type": "code",
      "metadata": {
        "id": "ozHImNeqnyQt"
      },
      "source": [
        "conv_ser_df = new_series.to_frame()"
      ],
      "execution_count": 33,
      "outputs": []
    },
    {
      "cell_type": "code",
      "metadata": {
        "id": "24iE-N-On32l",
        "colab": {
          "base_uri": "https://localhost:8080/"
        },
        "outputId": "d21b6857-8807-4d8b-995a-c113fb3c5f16"
      },
      "source": [
        "print(conv_ser_df)"
      ],
      "execution_count": 34,
      "outputs": [
        {
          "output_type": "stream",
          "text": [
            "       0\n",
            "0      1\n",
            "1      1\n",
            "2      0\n",
            "3      1\n",
            "4      1\n",
            "...   ..\n",
            "12078  1\n",
            "12079  1\n",
            "12080  1\n",
            "12081  1\n",
            "12082  1\n",
            "\n",
            "[12083 rows x 1 columns]\n"
          ],
          "name": "stdout"
        }
      ]
    },
    {
      "cell_type": "code",
      "metadata": {
        "id": "4oDLrHaIol2P"
      },
      "source": [
        "conv_ser_df.columns = ['labels']"
      ],
      "execution_count": 35,
      "outputs": []
    },
    {
      "cell_type": "code",
      "metadata": {
        "id": "DMCPi8hyoIAT",
        "colab": {
          "base_uri": "https://localhost:8080/"
        },
        "outputId": "e8cb49b5-6306-463c-bdc2-19ee49e0dd74"
      },
      "source": [
        "conv_ser_df.labels.unique()"
      ],
      "execution_count": 36,
      "outputs": [
        {
          "output_type": "execute_result",
          "data": {
            "text/plain": [
              "array([1, 0, 2])"
            ]
          },
          "metadata": {
            "tags": []
          },
          "execution_count": 36
        }
      ]
    },
    {
      "cell_type": "code",
      "metadata": {
        "id": "U-mTDzAUplio"
      },
      "source": [
        "df_plot = pd.concat([df_plot, conv_ser_df], axis=1) "
      ],
      "execution_count": 37,
      "outputs": []
    },
    {
      "cell_type": "code",
      "metadata": {
        "id": "IPh_tyiQrTxh",
        "colab": {
          "base_uri": "https://localhost:8080/"
        },
        "outputId": "af52109b-99b2-4b57-cb52-4f394f73ff82"
      },
      "source": [
        "print(df_plot)"
      ],
      "execution_count": 38,
      "outputs": [
        {
          "output_type": "stream",
          "text": [
            "             Value Column      num  labels\n",
            "0       329.996735      2        0       1\n",
            "1       330.208771      2      300       1\n",
            "2      2309.598389      4      400       0\n",
            "3       329.727112      2      600       1\n",
            "4       360.813446      2      900       1\n",
            "...            ...    ...      ...     ...\n",
            "12078   330.318817      2  1988400       1\n",
            "12079   363.662292      4  1988500       1\n",
            "12080   331.320648      2  1988700       1\n",
            "12081   330.544861      2  1989000       1\n",
            "12082   330.223846      2  1989300       1\n",
            "\n",
            "[12083 rows x 4 columns]\n"
          ],
          "name": "stdout"
        }
      ]
    },
    {
      "cell_type": "code",
      "metadata": {
        "id": "-qVuMmjrsBYe"
      },
      "source": [
        "df_plot.drop(['Column','num'],axis='columns', inplace=True)"
      ],
      "execution_count": 39,
      "outputs": []
    },
    {
      "cell_type": "code",
      "metadata": {
        "id": "HlWNk-ZJsd0s"
      },
      "source": [
        "df_plot.to_csv(\"hc_labeling.csv\")"
      ],
      "execution_count": null,
      "outputs": []
    },
    {
      "cell_type": "code",
      "metadata": {
        "id": "Ha8-yZi83nM6",
        "colab": {
          "base_uri": "https://localhost:8080/"
        },
        "outputId": "277153fc-5a80-4791-8d37-f0bda62ccd51"
      },
      "source": [
        "len(df_plot.index)"
      ],
      "execution_count": 40,
      "outputs": [
        {
          "output_type": "execute_result",
          "data": {
            "text/plain": [
              "12083"
            ]
          },
          "metadata": {
            "tags": []
          },
          "execution_count": 40
        }
      ]
    },
    {
      "cell_type": "code",
      "metadata": {
        "id": "ZbokSSXIu6lN"
      },
      "source": [
        "dfhc_label_0= df_plot[df_plot['labels']==0].copy()"
      ],
      "execution_count": 41,
      "outputs": []
    },
    {
      "cell_type": "code",
      "metadata": {
        "id": "sToVkHU_vaoD",
        "colab": {
          "base_uri": "https://localhost:8080/"
        },
        "outputId": "8f7a98fe-8abb-4088-810e-25f131ca87c5"
      },
      "source": [
        "print(dfhc_label_0)"
      ],
      "execution_count": 42,
      "outputs": [
        {
          "output_type": "stream",
          "text": [
            "             Value  labels\n",
            "2      2309.598389       0\n",
            "10     2321.235107       0\n",
            "91     2337.567627       0\n",
            "92     2381.911865       0\n",
            "93     2291.888184       0\n",
            "...            ...     ...\n",
            "11869  2294.967285       0\n",
            "11876  2296.531738       0\n",
            "11920  2304.652344       0\n",
            "11933  2303.780762       0\n",
            "11990  2306.362305       0\n",
            "\n",
            "[724 rows x 2 columns]\n"
          ],
          "name": "stdout"
        }
      ]
    },
    {
      "cell_type": "code",
      "metadata": {
        "id": "qer_5-YIvGfY",
        "colab": {
          "base_uri": "https://localhost:8080/"
        },
        "outputId": "52611bd8-6940-4413-cb1f-00da9c184b40"
      },
      "source": [
        "dfhc_label_0['Value'].std()"
      ],
      "execution_count": null,
      "outputs": [
        {
          "output_type": "execute_result",
          "data": {
            "text/plain": [
              "226.1065475240539"
            ]
          },
          "metadata": {
            "tags": []
          },
          "execution_count": 108
        }
      ]
    },
    {
      "cell_type": "code",
      "metadata": {
        "id": "raS8mtY1vKxz"
      },
      "source": [
        "dfhc_label_1= df_plot[df_plot['labels']==1].copy()"
      ],
      "execution_count": 129,
      "outputs": []
    },
    {
      "cell_type": "code",
      "metadata": {
        "id": "CJjY_EwqveYm",
        "colab": {
          "base_uri": "https://localhost:8080/"
        },
        "outputId": "daff0f9a-e110-4812-d4c4-074db3aa9c04"
      },
      "source": [
        "print(dfhc_label_1)"
      ],
      "execution_count": 121,
      "outputs": [
        {
          "output_type": "stream",
          "text": [
            "            Value  labels\n",
            "0      329.996735       1\n",
            "1      330.208771       1\n",
            "3      329.727112       1\n",
            "4      360.813446       1\n",
            "5      330.187531       1\n",
            "...           ...     ...\n",
            "12078  330.318817       1\n",
            "12079  363.662292       1\n",
            "12080  331.320648       1\n",
            "12081  330.544861       1\n",
            "12082  330.223846       1\n",
            "\n",
            "[6151 rows x 2 columns]\n"
          ],
          "name": "stdout"
        }
      ]
    },
    {
      "cell_type": "code",
      "metadata": {
        "id": "etJLTaLdvQYI",
        "colab": {
          "base_uri": "https://localhost:8080/"
        },
        "outputId": "e87b1037-4f7d-4909-f838-5bd43d5b854c"
      },
      "source": [
        "dfhc_label_1['Value'].std()"
      ],
      "execution_count": null,
      "outputs": [
        {
          "output_type": "execute_result",
          "data": {
            "text/plain": [
              "65.11521128357079"
            ]
          },
          "metadata": {
            "tags": []
          },
          "execution_count": 110
        }
      ]
    },
    {
      "cell_type": "code",
      "metadata": {
        "id": "B29IRDhpvTCi"
      },
      "source": [
        "dfhc_label_2= df_plot[df_plot['labels']==2].copy()"
      ],
      "execution_count": 136,
      "outputs": []
    },
    {
      "cell_type": "code",
      "metadata": {
        "id": "KNJa_09Zvhix",
        "colab": {
          "base_uri": "https://localhost:8080/"
        },
        "outputId": "d5a547e8-e8f4-444c-81ee-6e5c206672c6"
      },
      "source": [
        "print(dfhc_label_2)"
      ],
      "execution_count": 137,
      "outputs": [
        {
          "output_type": "stream",
          "text": [
            "             Value  labels\n",
            "86     2599.917969       2\n",
            "89     2509.802246       2\n",
            "376    2623.934082       2\n",
            "377    2529.280518       2\n",
            "379    2600.648438       2\n",
            "...            ...     ...\n",
            "11184  2612.839111       2\n",
            "11254  2550.220215       2\n",
            "11657  2521.514404       2\n",
            "11825  2551.750732       2\n",
            "11932  2495.293701       2\n",
            "\n",
            "[5208 rows x 2 columns]\n"
          ],
          "name": "stdout"
        }
      ]
    },
    {
      "cell_type": "code",
      "metadata": {
        "id": "39DE1DesvXg2",
        "colab": {
          "base_uri": "https://localhost:8080/"
        },
        "outputId": "1971d6cb-a99c-4bdb-c3a0-3f01dfd7a4b7"
      },
      "source": [
        "dfhc_label_2['Value'].std()"
      ],
      "execution_count": null,
      "outputs": [
        {
          "output_type": "execute_result",
          "data": {
            "text/plain": [
              "58.40746613488687"
            ]
          },
          "metadata": {
            "tags": []
          },
          "execution_count": 112
        }
      ]
    },
    {
      "cell_type": "code",
      "metadata": {
        "id": "mn_uiehi6oBS"
      },
      "source": [
        "label_1_cl = dfhc_label_1.iloc[:, [0]].values"
      ],
      "execution_count": 47,
      "outputs": []
    },
    {
      "cell_type": "code",
      "metadata": {
        "id": "uG72L-VBrD3H",
        "outputId": "1c4e5b30-3224-4e25-cc75-c6642181b89c",
        "colab": {
          "base_uri": "https://localhost:8080/"
        }
      },
      "source": [
        "label_1_cl.size"
      ],
      "execution_count": 71,
      "outputs": [
        {
          "output_type": "execute_result",
          "data": {
            "text/plain": [
              "6151"
            ]
          },
          "metadata": {
            "tags": []
          },
          "execution_count": 71
        }
      ]
    },
    {
      "cell_type": "code",
      "metadata": {
        "id": "KvtkrxaC6vRI",
        "colab": {
          "base_uri": "https://localhost:8080/",
          "height": 298
        },
        "outputId": "8fec676a-c963-4432-c5ce-1254ee9f0f12"
      },
      "source": [
        "dendrogram = sch.dendrogram(sch.linkage(label_1_cl, method  = \"ward\"))\n",
        "plt.title('Dendrogram')\n",
        "plt.xlabel('Clusters(lbl1)')\n",
        "plt.ylabel('Euclidean distance')\n",
        "plt.show()"
      ],
      "execution_count": 48,
      "outputs": [
        {
          "output_type": "display_data",
          "data": {
            "image/png": "[encoded data removed]",
            "text/plain": [
              "<Figure size 432x288 with 1 Axes>"
            ]
          },
          "metadata": {
            "tags": [],
            "needs_background": "light"
          }
        }
      ]
    },
    {
      "cell_type": "code",
      "metadata": {
        "id": "HsKiHjMooGKh"
      },
      "source": [
        "from sklearn.cluster import AgglomerativeClustering \n",
        "hc1 = AgglomerativeClustering(n_clusters = 3, affinity = 'euclidean', linkage ='ward')"
      ],
      "execution_count": 51,
      "outputs": []
    },
    {
      "cell_type": "code",
      "metadata": {
        "id": "fvNHbi_YoQ07"
      },
      "source": [
        "y_hc1=hc1.fit_predict(label_1_cl)"
      ],
      "execution_count": 54,
      "outputs": []
    },
    {
      "cell_type": "code",
      "metadata": {
        "id": "GUeE5cyGor6n",
        "outputId": "27e79a2c-f9aa-4054-a458-7c0b0bbb81c1",
        "colab": {
          "base_uri": "https://localhost:8080/"
        }
      },
      "source": [
        "print(y_hc1)"
      ],
      "execution_count": 55,
      "outputs": [
        {
          "output_type": "stream",
          "text": [
            "[0 0 0 ... 0 0 0]\n"
          ],
          "name": "stdout"
        }
      ]
    },
    {
      "cell_type": "code",
      "metadata": {
        "id": "EPdJ0Tc6o9x6"
      },
      "source": [
        "new_series1 = pd.Series(y_hc1)"
      ],
      "execution_count": 57,
      "outputs": []
    },
    {
      "cell_type": "code",
      "metadata": {
        "id": "hKP2i9pGpBTJ"
      },
      "source": [
        "conv_ser_df1 = new_series1.to_frame()"
      ],
      "execution_count": 58,
      "outputs": []
    },
    {
      "cell_type": "code",
      "metadata": {
        "id": "3QzNici0pHuB"
      },
      "source": [
        "conv_ser_df1.columns = ['2nd labeling']"
      ],
      "execution_count": 124,
      "outputs": []
    },
    {
      "cell_type": "code",
      "metadata": {
        "id": "vsDbl2WapK6t",
        "outputId": "6d7b7c7c-9a1d-462c-a143-64b89fb16ee8",
        "colab": {
          "base_uri": "https://localhost:8080/"
        }
      },
      "source": [
        "print(conv_ser_df1)"
      ],
      "execution_count": 125,
      "outputs": [
        {
          "output_type": "stream",
          "text": [
            "      2nd labeling\n",
            "0                0\n",
            "1                0\n",
            "2                0\n",
            "3                0\n",
            "4                0\n",
            "...            ...\n",
            "6146             0\n",
            "6147             0\n",
            "6148             0\n",
            "6149             0\n",
            "6150             0\n",
            "\n",
            "[6151 rows x 1 columns]\n"
          ],
          "name": "stdout"
        }
      ]
    },
    {
      "cell_type": "code",
      "metadata": {
        "id": "AWXzAuM5v1QS",
        "outputId": "4e59bc7f-f622-46cb-b245-afda7344896f",
        "colab": {
          "base_uri": "https://localhost:8080/"
        }
      },
      "source": [
        "dfhc_label_1.reset_index(drop=True, inplace=True)\n",
        "print(dfhc_label_1)"
      ],
      "execution_count": 130,
      "outputs": [
        {
          "output_type": "stream",
          "text": [
            "           Value  labels\n",
            "0     329.996735       1\n",
            "1     330.208771       1\n",
            "2     329.727112       1\n",
            "3     360.813446       1\n",
            "4     330.187531       1\n",
            "...          ...     ...\n",
            "6146  330.318817       1\n",
            "6147  363.662292       1\n",
            "6148  331.320648       1\n",
            "6149  330.544861       1\n",
            "6150  330.223846       1\n",
            "\n",
            "[6151 rows x 2 columns]\n"
          ],
          "name": "stdout"
        }
      ]
    },
    {
      "cell_type": "code",
      "metadata": {
        "colab": {
          "base_uri": "https://localhost:8080/"
        },
        "id": "oGnopqUTpSbR",
        "outputId": "79d33646-6109-4b96-e63b-ed992ba9a296"
      },
      "source": [
        "dfhc_label_1 = pd.concat([dfhc_label_1, conv_ser_df1], axis=1) \n",
        "print(dfhc_label_1)"
      ],
      "execution_count": 131,
      "outputs": [
        {
          "output_type": "stream",
          "text": [
            "           Value  labels  2nd labeling\n",
            "0     329.996735       1             0\n",
            "1     330.208771       1             0\n",
            "2     329.727112       1             0\n",
            "3     360.813446       1             0\n",
            "4     330.187531       1             0\n",
            "...          ...     ...           ...\n",
            "6146  330.318817       1             0\n",
            "6147  363.662292       1             0\n",
            "6148  331.320648       1             0\n",
            "6149  330.544861       1             0\n",
            "6150  330.223846       1             0\n",
            "\n",
            "[6151 rows x 3 columns]\n"
          ],
          "name": "stdout"
        }
      ]
    },
    {
      "cell_type": "code",
      "metadata": {
        "id": "43wTxOhkxqMB",
        "outputId": "89f197d3-554e-4234-9cdb-9004d5fb81fc",
        "colab": {
          "base_uri": "https://localhost:8080/"
        }
      },
      "source": [
        "sum_column = dfhc_label_1[\"labels\"] + dfhc_label_1[\"2nd labeling\"]\n",
        "dfhc_label_1[\"Final Cluster\"] = sum_column\n",
        "print(dfhc_label_1)"
      ],
      "execution_count": 143,
      "outputs": [
        {
          "output_type": "stream",
          "text": [
            "           Value  labels  2nd labeling  Final Cluster\n",
            "0     329.996735       1             0              1\n",
            "1     330.208771       1             0              1\n",
            "2     329.727112       1             0              1\n",
            "3     360.813446       1             0              1\n",
            "4     330.187531       1             0              1\n",
            "...          ...     ...           ...            ...\n",
            "6146  330.318817       1             0              1\n",
            "6147  363.662292       1             0              1\n",
            "6148  331.320648       1             0              1\n",
            "6149  330.544861       1             0              1\n",
            "6150  330.223846       1             0              1\n",
            "\n",
            "[6151 rows x 4 columns]\n"
          ],
          "name": "stdout"
        }
      ]
    },
    {
      "cell_type": "code",
      "metadata": {
        "id": "wZn6Z6MuxET9"
      },
      "source": [
        "dfhc_label_1.to_csv(\"dfhc_label_1.csv\")"
      ],
      "execution_count": 144,
      "outputs": []
    },
    {
      "cell_type": "code",
      "metadata": {
        "id": "d_O4aEA76_15"
      },
      "source": [
        "label_2_cl = dfhc_label_2.iloc[:, [0]].values"
      ],
      "execution_count": 49,
      "outputs": []
    },
    {
      "cell_type": "code",
      "metadata": {
        "id": "bnWcZQUL7FVt",
        "colab": {
          "base_uri": "https://localhost:8080/",
          "height": 298
        },
        "outputId": "f1994250-a1ff-4301-a0db-6a2e59641671"
      },
      "source": [
        "dendrogram = sch.dendrogram(sch.linkage(label_2_cl, method  = \"ward\"))\n",
        "plt.title('Dendrogram')\n",
        "plt.xlabel('Clusters(lbl2)')\n",
        "plt.ylabel('Euclidean distance')\n",
        "plt.show()"
      ],
      "execution_count": 50,
      "outputs": [
        {
          "output_type": "display_data",
          "data": {
            "image/png": "[encoded data removed]",
            "text/plain": [
              "<Figure size 432x288 with 1 Axes>"
            ]
          },
          "metadata": {
            "tags": [],
            "needs_background": "light"
          }
        }
      ]
    },
    {
      "cell_type": "code",
      "metadata": {
        "id": "BSJKgl5gthZO"
      },
      "source": [
        "from sklearn.cluster import AgglomerativeClustering \n",
        "hc2 = AgglomerativeClustering(n_clusters = 4, affinity = 'euclidean', linkage ='ward')"
      ],
      "execution_count": 98,
      "outputs": []
    },
    {
      "cell_type": "code",
      "metadata": {
        "id": "vHjbdw5Otl4K"
      },
      "source": [
        "y_hc2=hc2.fit_predict(label_2_cl)"
      ],
      "execution_count": 99,
      "outputs": []
    },
    {
      "cell_type": "code",
      "metadata": {
        "id": "DYw1yzgLtuBa",
        "outputId": "8d1f198f-5c57-4566-952d-3e28767740c9",
        "colab": {
          "base_uri": "https://localhost:8080/"
        }
      },
      "source": [
        "print(y_hc2)"
      ],
      "execution_count": 100,
      "outputs": [
        {
          "output_type": "stream",
          "text": [
            "[1 1 1 ... 1 1 1]\n"
          ],
          "name": "stdout"
        }
      ]
    },
    {
      "cell_type": "code",
      "metadata": {
        "id": "3nCY-Xiytyet"
      },
      "source": [
        "new_series2 = pd.Series(y_hc2)"
      ],
      "execution_count": 101,
      "outputs": []
    },
    {
      "cell_type": "code",
      "metadata": {
        "id": "3dpsxzrct2IY"
      },
      "source": [
        "conv_ser_df2 = new_series2.to_frame()"
      ],
      "execution_count": 102,
      "outputs": []
    },
    {
      "cell_type": "code",
      "metadata": {
        "id": "2DhCT24St5K-"
      },
      "source": [
        "conv_ser_df2.columns = ['2nd labeling']"
      ],
      "execution_count": 103,
      "outputs": []
    },
    {
      "cell_type": "code",
      "metadata": {
        "id": "SjPLQg4bwlHq",
        "outputId": "6105e981-25d5-4061-c960-1a963c3db460",
        "colab": {
          "base_uri": "https://localhost:8080/"
        }
      },
      "source": [
        "dfhc_label_2.reset_index(drop=True, inplace=True)\n",
        "print(dfhc_label_2)"
      ],
      "execution_count": 138,
      "outputs": [
        {
          "output_type": "stream",
          "text": [
            "            Value  labels\n",
            "0     2599.917969       2\n",
            "1     2509.802246       2\n",
            "2     2623.934082       2\n",
            "3     2529.280518       2\n",
            "4     2600.648438       2\n",
            "...           ...     ...\n",
            "5203  2612.839111       2\n",
            "5204  2550.220215       2\n",
            "5205  2521.514404       2\n",
            "5206  2551.750732       2\n",
            "5207  2495.293701       2\n",
            "\n",
            "[5208 rows x 2 columns]\n"
          ],
          "name": "stdout"
        }
      ]
    },
    {
      "cell_type": "code",
      "metadata": {
        "id": "AFcsx7XwuPNY",
        "outputId": "54eecf75-1d90-4c6a-c839-c7d6c843c972",
        "colab": {
          "base_uri": "https://localhost:8080/"
        }
      },
      "source": [
        "dfhc_label_2 = pd.concat([dfhc_label_2, conv_ser_df2], axis=1)\n",
        "print(dfhc_label_2)"
      ],
      "execution_count": 139,
      "outputs": [
        {
          "output_type": "stream",
          "text": [
            "            Value  labels  2nd labeling\n",
            "0     2599.917969       2             1\n",
            "1     2509.802246       2             1\n",
            "2     2623.934082       2             1\n",
            "3     2529.280518       2             1\n",
            "4     2600.648438       2             1\n",
            "...           ...     ...           ...\n",
            "5203  2612.839111       2             1\n",
            "5204  2550.220215       2             1\n",
            "5205  2521.514404       2             1\n",
            "5206  2551.750732       2             1\n",
            "5207  2495.293701       2             1\n",
            "\n",
            "[5208 rows x 3 columns]\n"
          ],
          "name": "stdout"
        }
      ]
    },
    {
      "cell_type": "code",
      "metadata": {
        "id": "SYwJ5J0Cx_0j",
        "outputId": "6a755553-10ce-48d8-ad93-e9777f8cb26a",
        "colab": {
          "base_uri": "https://localhost:8080/"
        }
      },
      "source": [
        "dfhc_label_2[\"Final Cluster\"] = dfhc_label_2.apply(lambda row: row['labels'] + row['2nd labeling'], axis=1)\n",
        "print(dfhc_label_2)"
      ],
      "execution_count": 151,
      "outputs": [
        {
          "output_type": "stream",
          "text": [
            "            Value  labels  2nd labeling  Final Cluster\n",
            "0     2599.917969       2             1            3.0\n",
            "1     2509.802246       2             1            3.0\n",
            "2     2623.934082       2             1            3.0\n",
            "3     2529.280518       2             1            3.0\n",
            "4     2600.648438       2             1            3.0\n",
            "...           ...     ...           ...            ...\n",
            "5203  2612.839111       2             1            3.0\n",
            "5204  2550.220215       2             1            3.0\n",
            "5205  2521.514404       2             1            3.0\n",
            "5206  2551.750732       2             1            3.0\n",
            "5207  2495.293701       2             1            3.0\n",
            "\n",
            "[5208 rows x 4 columns]\n"
          ],
          "name": "stdout"
        }
      ]
    },
    {
      "cell_type": "code",
      "metadata": {
        "id": "oZppywIYw-C6"
      },
      "source": [
        "dfhc_label_2.to_csv(\"dfhc_label_2.csv\")"
      ],
      "execution_count": 152,
      "outputs": []
    },
    {
      "cell_type": "code",
      "metadata": {
        "id": "z0qzHHuSvLjQ"
      },
      "source": [
        "dfhc_label_0['2nd labeling'] = 0"
      ],
      "execution_count": 108,
      "outputs": []
    },
    {
      "cell_type": "code",
      "metadata": {
        "id": "WDA9kQeE0_Rg",
        "outputId": "f8b48b73-6dfd-4f58-dd15-fba79f3dea8d",
        "colab": {
          "base_uri": "https://localhost:8080/"
        }
      },
      "source": [
        "dfhc_label_0[\"Final Cluster\"] = dfhc_label_0.apply(lambda row: row['labels'] + row['2nd labeling'], axis=1)\n",
        "print(dfhc_label_0)"
      ],
      "execution_count": 154,
      "outputs": [
        {
          "output_type": "stream",
          "text": [
            "             Value  labels  2nd labeling  Final Cluster\n",
            "2      2309.598389       0             0            0.0\n",
            "10     2321.235107       0             0            0.0\n",
            "91     2337.567627       0             0            0.0\n",
            "92     2381.911865       0             0            0.0\n",
            "93     2291.888184       0             0            0.0\n",
            "...            ...     ...           ...            ...\n",
            "11869  2294.967285       0             0            0.0\n",
            "11876  2296.531738       0             0            0.0\n",
            "11920  2304.652344       0             0            0.0\n",
            "11933  2303.780762       0             0            0.0\n",
            "11990  2306.362305       0             0            0.0\n",
            "\n",
            "[724 rows x 4 columns]\n"
          ],
          "name": "stdout"
        }
      ]
    },
    {
      "cell_type": "code",
      "metadata": {
        "colab": {
          "base_uri": "https://localhost:8080/"
        },
        "id": "xQ1m0kVaz9fk",
        "outputId": "976e0215-cc12-4f16-c322-c8804b074806"
      },
      "source": [
        "frames = [dfhc_label_0,dfhc_label_1,dfhc_label_2]\n",
        "df_finalized_cluster = pd.concat(frames, keys=['label0', 'label1', 'label2'])\n",
        "print(df_finalized_cluster)"
      ],
      "execution_count": 155,
      "outputs": [
        {
          "output_type": "stream",
          "text": [
            "                   Value  labels  2nd labeling  Final Cluster\n",
            "label0 2     2309.598389       0             0            0.0\n",
            "       10    2321.235107       0             0            0.0\n",
            "       91    2337.567627       0             0            0.0\n",
            "       92    2381.911865       0             0            0.0\n",
            "       93    2291.888184       0             0            0.0\n",
            "...                  ...     ...           ...            ...\n",
            "label2 5203  2612.839111       2             1            3.0\n",
            "       5204  2550.220215       2             1            3.0\n",
            "       5205  2521.514404       2             1            3.0\n",
            "       5206  2551.750732       2             1            3.0\n",
            "       5207  2495.293701       2             1            3.0\n",
            "\n",
            "[12083 rows x 4 columns]\n"
          ],
          "name": "stdout"
        }
      ]
    },
    {
      "cell_type": "code",
      "metadata": {
        "id": "_gMaBeya1Lb7",
        "outputId": "9e46bd16-5a87-4a21-96de-145dd04ec0b9",
        "colab": {
          "base_uri": "https://localhost:8080/",
          "height": 295
        }
      },
      "source": [
        "import matplotlib.pyplot as plot\n",
        "\n",
        "df_finalized_cluster.plot.scatter(x=\"Final Cluster\", y=\"Value\", title= \"Scatter plot\");\n",
        "plot.show(block=True);"
      ],
      "execution_count": 157,
      "outputs": [
        {
          "output_type": "display_data",
          "data": {
            "image/png": "[encoded data removed]",
            "text/plain": [
              "<Figure size 432x288 with 1 Axes>"
            ]
          },
          "metadata": {
            "tags": [],
            "needs_background": "light"
          }
        }
      ]
    },
    {
      "cell_type": "code",
      "metadata": {
        "id": "tzg63l0Q--HK"
      },
      "source": [
        ""
      ],
      "execution_count": null,
      "outputs": []
    }
  ]
}