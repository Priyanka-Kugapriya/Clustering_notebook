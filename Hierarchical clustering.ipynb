{
  "nbformat": 4,
  "nbformat_minor": 0,
  "metadata": {
    "colab": {
      "name": "Untitled0.ipynb",
      "provenance": [],
      "authorship_tag": "ABX9TyNhnFzH8+5AO23r8tVO3b4Y",
      "include_colab_link": true
    },
    "kernelspec": {
      "name": "python3",
      "display_name": "Python 3"
    },
    "language_info": {
      "name": "python"
    }
  },
  "cells": [
    {
      "cell_type": "markdown",
      "metadata": {
        "id": "view-in-github",
        "colab_type": "text"
      },
      "source": [
        "<a href=\"https://colab.research.google.com/github/Priyanka-Kugapriya/Clustering_notebook/blob/main/Hierarchical%20clustering.ipynb\" target=\"_parent\"><img src=\"https://colab.research.google.com/assets/colab-badge.svg\" alt=\"Open In Colab\"/></a>"
      ]
    },
    {
      "cell_type": "code",
      "metadata": {
        "id": "R5riOvLn06SD"
      },
      "source": [
        "import pandas as pd\n",
        "import plotly.express as px\n",
        "import plotly.graph_objects as go\n",
        "import numpy as np\n",
        "\n",
        "#changepath to CSV\n",
        "\n",
        "df= pd.read_csv(\"/content/sample_data/Layer-Readings_2.csv\",header=None)"
      ],
      "execution_count": 1,
      "outputs": []
    },
    {
      "cell_type": "code",
      "metadata": {
        "colab": {
          "base_uri": "https://localhost:8080/"
        },
        "id": "-K2TrvqB3-6P",
        "outputId": "8919c35a-cf7e-4cfc-e90a-c38700b7614c"
      },
      "source": [
        "print(df)"
      ],
      "execution_count": 2,
      "outputs": [
        {
          "output_type": "stream",
          "text": [
            "           0        1           2          3   ...   11   12   13     14\n",
            "0           0        0  329.996735  36.054607  ...  0.0  0.0  0.0  31669\n",
            "1           0        0  330.775604  37.902195  ...  0.0  0.0  0.0  31670\n",
            "2           0        0  329.943512  42.349632  ...  0.0  0.0  0.0  31671\n",
            "3           0        0  329.553131  41.687881  ...  0.0  0.0  0.0  31672\n",
            "4           0        0  332.050140  42.752476  ...  0.0  0.0  0.0  31673\n",
            "...       ...      ...         ...        ...  ...  ...  ...  ...    ...\n",
            "663109  16854  2293761  331.718628  42.900658  ...  0.0  0.0  0.0  21033\n",
            "663110  16959  2293761  330.562775  37.563095  ...  0.0  0.0  0.0  21034\n",
            "663111  17065  2293761  330.347748  41.163986  ...  0.0  0.0  0.0  21035\n",
            "663112  17172  2293761  331.059784  32.140606  ...  0.0  0.0  0.0  21036\n",
            "663113  17277  2293761  330.106598  31.508242  ...  0.0  0.0  0.0  21037\n",
            "\n",
            "[663114 rows x 15 columns]\n"
          ],
          "name": "stdout"
        }
      ]
    },
    {
      "cell_type": "code",
      "metadata": {
        "id": "3PQ122Wy34A3"
      },
      "source": [
        "df.columns = ['0','1','2', '3','4','5','6','7','8','9','10','11','12','13','14']"
      ],
      "execution_count": 3,
      "outputs": []
    },
    {
      "cell_type": "code",
      "metadata": {
        "colab": {
          "base_uri": "https://localhost:8080/"
        },
        "id": "xMrL_Hk64Gk4",
        "outputId": "fa0e17b4-6520-43d7-cd92-90c0545bd089"
      },
      "source": [
        "sorted(df)"
      ],
      "execution_count": 4,
      "outputs": [
        {
          "output_type": "execute_result",
          "data": {
            "text/plain": [
              "['0',\n",
              " '1',\n",
              " '10',\n",
              " '11',\n",
              " '12',\n",
              " '13',\n",
              " '14',\n",
              " '2',\n",
              " '3',\n",
              " '4',\n",
              " '5',\n",
              " '6',\n",
              " '7',\n",
              " '8',\n",
              " '9']"
            ]
          },
          "metadata": {
            "tags": []
          },
          "execution_count": 4
        }
      ]
    },
    {
      "cell_type": "code",
      "metadata": {
        "colab": {
          "base_uri": "https://localhost:8080/"
        },
        "id": "iPT6QRyi4HpB",
        "outputId": "0b1cd7e4-7756-4f16-c5af-8caa05b108e9"
      },
      "source": [
        "df.isnull().sum()"
      ],
      "execution_count": 5,
      "outputs": [
        {
          "output_type": "execute_result",
          "data": {
            "text/plain": [
              "0     0\n",
              "1     0\n",
              "2     0\n",
              "3     0\n",
              "4     0\n",
              "5     0\n",
              "6     0\n",
              "7     0\n",
              "8     0\n",
              "9     0\n",
              "10    0\n",
              "11    0\n",
              "12    0\n",
              "13    0\n",
              "14    0\n",
              "dtype: int64"
            ]
          },
          "metadata": {
            "tags": []
          },
          "execution_count": 5
        }
      ]
    },
    {
      "cell_type": "code",
      "metadata": {
        "id": "Nql5pNvz4JRv"
      },
      "source": [
        "df.drop(['0','1','3','5', '8','10','12','14', '7', '9', '11', '13'],axis='columns', inplace=True)"
      ],
      "execution_count": 6,
      "outputs": []
    },
    {
      "cell_type": "code",
      "metadata": {
        "colab": {
          "base_uri": "https://localhost:8080/"
        },
        "id": "lDxbG9By4NE3",
        "outputId": "dcda43ee-a506-45a8-da9d-a24949e9e82f"
      },
      "source": [
        "print(df)"
      ],
      "execution_count": 7,
      "outputs": [
        {
          "output_type": "stream",
          "text": [
            "                 2            4          6\n",
            "0       329.996735     0.000000    0.00000\n",
            "1       330.775604     0.000000    0.00000\n",
            "2       329.943512   363.551544    0.00000\n",
            "3       329.553131  2318.262207  364.41507\n",
            "4       332.050140     0.000000    0.00000\n",
            "...            ...          ...        ...\n",
            "663109  331.718628     0.000000    0.00000\n",
            "663110  330.562775   361.645508    0.00000\n",
            "663111  330.347748   362.771545    0.00000\n",
            "663112  331.059784     0.000000    0.00000\n",
            "663113  330.106598     0.000000    0.00000\n",
            "\n",
            "[663114 rows x 3 columns]\n"
          ],
          "name": "stdout"
        }
      ]
    },
    {
      "cell_type": "code",
      "metadata": {
        "id": "WXER3wtA4P7Q"
      },
      "source": [
        "df['Index'] = range(0, 0+len(df))"
      ],
      "execution_count": 8,
      "outputs": []
    },
    {
      "cell_type": "code",
      "metadata": {
        "colab": {
          "base_uri": "https://localhost:8080/"
        },
        "id": "9UKZSPI24eP3",
        "outputId": "43ff99bc-7421-4da8-b8bb-b44f84968e98"
      },
      "source": [
        "cols = df.columns.tolist()\n",
        "cols"
      ],
      "execution_count": 9,
      "outputs": [
        {
          "output_type": "execute_result",
          "data": {
            "text/plain": [
              "['2', '4', '6', 'Index']"
            ]
          },
          "metadata": {
            "tags": []
          },
          "execution_count": 9
        }
      ]
    },
    {
      "cell_type": "code",
      "metadata": {
        "colab": {
          "base_uri": "https://localhost:8080/"
        },
        "id": "kM4CVa_f4gtT",
        "outputId": "64a45cd1-c3ae-4191-f329-2e862e4ae00c"
      },
      "source": [
        "cols = cols[-1:] + cols[:-1]\n",
        "cols"
      ],
      "execution_count": 10,
      "outputs": [
        {
          "output_type": "execute_result",
          "data": {
            "text/plain": [
              "['Index', '2', '4', '6']"
            ]
          },
          "metadata": {
            "tags": []
          },
          "execution_count": 10
        }
      ]
    },
    {
      "cell_type": "code",
      "metadata": {
        "colab": {
          "base_uri": "https://localhost:8080/"
        },
        "id": "m7-9S7pQ4i-n",
        "outputId": "3ebaa73a-aca2-4dde-efd4-e72042002716"
      },
      "source": [
        "df = df[cols]\n",
        "print(df)"
      ],
      "execution_count": 11,
      "outputs": [
        {
          "output_type": "stream",
          "text": [
            "         Index           2            4          6\n",
            "0            0  329.996735     0.000000    0.00000\n",
            "1            1  330.775604     0.000000    0.00000\n",
            "2            2  329.943512   363.551544    0.00000\n",
            "3            3  329.553131  2318.262207  364.41507\n",
            "4            4  332.050140     0.000000    0.00000\n",
            "...        ...         ...          ...        ...\n",
            "663109  663109  331.718628     0.000000    0.00000\n",
            "663110  663110  330.562775   361.645508    0.00000\n",
            "663111  663111  330.347748   362.771545    0.00000\n",
            "663112  663112  331.059784     0.000000    0.00000\n",
            "663113  663113  330.106598     0.000000    0.00000\n",
            "\n",
            "[663114 rows x 4 columns]\n"
          ],
          "name": "stdout"
        }
      ]
    },
    {
      "cell_type": "code",
      "metadata": {
        "id": "mVy_qu8g4lL2"
      },
      "source": [
        "df2 = df.set_index('Index').stack().reset_index()"
      ],
      "execution_count": 12,
      "outputs": []
    },
    {
      "cell_type": "code",
      "metadata": {
        "colab": {
          "base_uri": "https://localhost:8080/"
        },
        "id": "cl0bnddq4nMx",
        "outputId": "75845920-ec01-445a-a257-4e85c8258dd2"
      },
      "source": [
        "print(df2)"
      ],
      "execution_count": 13,
      "outputs": [
        {
          "output_type": "stream",
          "text": [
            "          Index level_1           0\n",
            "0             0       2  329.996735\n",
            "1             0       4    0.000000\n",
            "2             0       6    0.000000\n",
            "3             1       2  330.775604\n",
            "4             1       4    0.000000\n",
            "...         ...     ...         ...\n",
            "1989337  663112       4    0.000000\n",
            "1989338  663112       6    0.000000\n",
            "1989339  663113       2  330.106598\n",
            "1989340  663113       4    0.000000\n",
            "1989341  663113       6    0.000000\n",
            "\n",
            "[1989342 rows x 3 columns]\n"
          ],
          "name": "stdout"
        }
      ]
    },
    {
      "cell_type": "code",
      "metadata": {
        "id": "5dtZKtGM4o-1"
      },
      "source": [
        "df3 = df2.rename(columns = {'level_1': 'Column', 0: 'Value'}, inplace = False)"
      ],
      "execution_count": 14,
      "outputs": []
    },
    {
      "cell_type": "code",
      "metadata": {
        "id": "_jUuwVtT4rzZ"
      },
      "source": [
        "df4 = df3.loc[~((df3['Value'] == 0))]"
      ],
      "execution_count": 15,
      "outputs": []
    },
    {
      "cell_type": "code",
      "metadata": {
        "colab": {
          "base_uri": "https://localhost:8080/"
        },
        "id": "ABUVZ4b65IAP",
        "outputId": "11d51046-c4d8-43d3-9baa-5854a0b68a70"
      },
      "source": [
        "print(df4)"
      ],
      "execution_count": 16,
      "outputs": [
        {
          "output_type": "stream",
          "text": [
            "          Index Column       Value\n",
            "0             0      2  329.996735\n",
            "3             1      2  330.775604\n",
            "6             2      2  329.943512\n",
            "7             2      4  363.551544\n",
            "9             3      2  329.553131\n",
            "...         ...    ...         ...\n",
            "1989331  663110      4  361.645508\n",
            "1989333  663111      2  330.347748\n",
            "1989334  663111      4  362.771545\n",
            "1989336  663112      2  331.059784\n",
            "1989339  663113      2  330.106598\n",
            "\n",
            "[1212626 rows x 3 columns]\n"
          ],
          "name": "stdout"
        }
      ]
    },
    {
      "cell_type": "code",
      "metadata": {
        "colab": {
          "base_uri": "https://localhost:8080/"
        },
        "id": "At6gPWMV5sCj",
        "outputId": "34367d0c-60a6-4875-ee00-ec3ef8c54c58"
      },
      "source": [
        "df4_test = pd.DataFrame(df4)\n",
        "selected_columns = df4_test[[\"Value\",\"Column\"]]\n",
        "\n",
        "new_df = selected_columns.copy()\n",
        "print(new_df)"
      ],
      "execution_count": 17,
      "outputs": [
        {
          "output_type": "stream",
          "text": [
            "              Value Column\n",
            "0        329.996735      2\n",
            "3        330.775604      2\n",
            "6        329.943512      2\n",
            "7        363.551544      4\n",
            "9        329.553131      2\n",
            "...             ...    ...\n",
            "1989331  361.645508      4\n",
            "1989333  330.347748      2\n",
            "1989334  362.771545      4\n",
            "1989336  331.059784      2\n",
            "1989339  330.106598      2\n",
            "\n",
            "[1212626 rows x 2 columns]\n"
          ],
          "name": "stdout"
        }
      ]
    },
    {
      "cell_type": "code",
      "metadata": {
        "id": "eAkZ77L951eb"
      },
      "source": [
        "df_plot= new_df\n",
        "df_plot['num']=df_plot.index\n",
        "df_plot=df_plot[df_plot['num']%100==0]"
      ],
      "execution_count": 89,
      "outputs": []
    },
    {
      "cell_type": "code",
      "metadata": {
        "colab": {
          "base_uri": "https://localhost:8080/"
        },
        "id": "AjCGdLm3J6U_",
        "outputId": "517a9475-9bcb-4807-f4e2-7d18f9c9fd54"
      },
      "source": [
        "print(df_plot)"
      ],
      "execution_count": 90,
      "outputs": [
        {
          "output_type": "stream",
          "text": [
            "               Value Column      num\n",
            "0         329.996735      2        0\n",
            "300       330.208771      2      300\n",
            "400      2309.598389      4      400\n",
            "600       329.727112      2      600\n",
            "900       360.813446      2      900\n",
            "...              ...    ...      ...\n",
            "1988400   330.318817      2  1988400\n",
            "1988500   363.662292      4  1988500\n",
            "1988700   331.320648      2  1988700\n",
            "1989000   330.544861      2  1989000\n",
            "1989300   330.223846      2  1989300\n",
            "\n",
            "[12083 rows x 3 columns]\n"
          ],
          "name": "stdout"
        }
      ]
    },
    {
      "cell_type": "code",
      "metadata": {
        "colab": {
          "base_uri": "https://localhost:8080/"
        },
        "id": "gdZcO4I4J79y",
        "outputId": "99cae395-6857-4dc3-f6eb-3a7d6c088776"
      },
      "source": [
        "test_plot = pd.DataFrame(df_plot)\n",
        "selected_columns = test_plot[[\"Value\"]]\n",
        "\n",
        "test_plot = selected_columns.copy()\n",
        "print(test_plot)"
      ],
      "execution_count": 27,
      "outputs": [
        {
          "output_type": "stream",
          "text": [
            "               Value\n",
            "0         329.996735\n",
            "300       330.208771\n",
            "400      2309.598389\n",
            "600       329.727112\n",
            "900       360.813446\n",
            "...              ...\n",
            "1988400   330.318817\n",
            "1988500   363.662292\n",
            "1988700   331.320648\n",
            "1989000   330.544861\n",
            "1989300   330.223846\n",
            "\n",
            "[12083 rows x 1 columns]\n"
          ],
          "name": "stdout"
        }
      ]
    },
    {
      "cell_type": "markdown",
      "metadata": {
        "id": "tQpvLXzjOiig"
      },
      "source": [
        "Hierarchihcal clustering"
      ]
    },
    {
      "cell_type": "code",
      "metadata": {
        "id": "YgOtDmoX47wB"
      },
      "source": [
        "import numpy as np\n",
        "import matplotlib.pyplot as plt\n",
        "import pandas as pd\n",
        "import scipy.cluster.hierarchy as sch"
      ],
      "execution_count": 21,
      "outputs": []
    },
    {
      "cell_type": "code",
      "metadata": {
        "id": "iEshGM2hLmtS"
      },
      "source": [
        "X = test_plot.iloc[:, [0]].values"
      ],
      "execution_count": 28,
      "outputs": []
    },
    {
      "cell_type": "code",
      "metadata": {
        "id": "D5Z5VI7xqcLD",
        "outputId": "8e7dd633-a423-49b7-c0d3-ff2eb0dbf3aa",
        "colab": {
          "base_uri": "https://localhost:8080/"
        }
      },
      "source": [
        "test_plot.size"
      ],
      "execution_count": 80,
      "outputs": [
        {
          "output_type": "execute_result",
          "data": {
            "text/plain": [
              "12083"
            ]
          },
          "metadata": {
            "tags": []
          },
          "execution_count": 80
        }
      ]
    },
    {
      "cell_type": "code",
      "metadata": {
        "id": "ex5wB91AqT5O",
        "outputId": "724d4494-3589-4293-d7dd-5979328b0317",
        "colab": {
          "base_uri": "https://localhost:8080/"
        }
      },
      "source": [
        "X.size"
      ],
      "execution_count": 79,
      "outputs": [
        {
          "output_type": "execute_result",
          "data": {
            "text/plain": [
              "12083"
            ]
          },
          "metadata": {
            "tags": []
          },
          "execution_count": 79
        }
      ]
    },
    {
      "cell_type": "code",
      "metadata": {
        "colab": {
          "base_uri": "https://localhost:8080/",
          "height": 301
        },
        "id": "dmc6_uoZO9z2",
        "outputId": "3cb3f01d-6c23-4360-b40d-c2a5791c984e"
      },
      "source": [
        "dendrogram = sch.dendrogram(sch.linkage(X, method  = \"ward\"))\n",
        "plt.title('Dendrogram')\n",
        "plt.xlabel('Clusters')\n",
        "plt.ylabel('Euclidean distance')\n",
        "plt.show()"
      ],
      "execution_count": 30,
      "outputs": [
        {
          "output_type": "display_data",
          "data": {
            "image/png": "[encoded data removed]",
            "text/plain": [
              "<Figure size 432x288 with 1 Axes>"
            ]
          },
          "metadata": {
            "tags": [],
            "needs_background": "light"
          }
        }
      ]
    },
    {
      "cell_type": "code",
      "metadata": {
        "id": "dsPWAREyP_4_"
      },
      "source": [
        "from sklearn.cluster import AgglomerativeClustering \n",
        "hc = AgglomerativeClustering(n_clusters = 3, affinity = 'euclidean', linkage ='ward')"
      ],
      "execution_count": 32,
      "outputs": []
    },
    {
      "cell_type": "code",
      "metadata": {
        "id": "4YplRYQmQFg2"
      },
      "source": [
        "y_hc=hc.fit_predict(X)"
      ],
      "execution_count": 33,
      "outputs": []
    },
    {
      "cell_type": "code",
      "metadata": {
        "id": "a-JlcQyR5NL0",
        "outputId": "1c924554-5ca6-4f5b-db3d-9acd7ecc2c0e",
        "colab": {
          "base_uri": "https://localhost:8080/"
        }
      },
      "source": [
        "print(y_hc)"
      ],
      "execution_count": 35,
      "outputs": [
        {
          "output_type": "stream",
          "text": [
            "[1 1 0 ... 1 1 1]\n"
          ],
          "name": "stdout"
        }
      ]
    },
    {
      "cell_type": "code",
      "metadata": {
        "id": "K6cfT61XqOML",
        "outputId": "11e19407-15e1-4ca1-9499-6e10107f8dfa",
        "colab": {
          "base_uri": "https://localhost:8080/"
        }
      },
      "source": [
        "y_hc.size"
      ],
      "execution_count": 77,
      "outputs": [
        {
          "output_type": "execute_result",
          "data": {
            "text/plain": [
              "12083"
            ]
          },
          "metadata": {
            "tags": []
          },
          "execution_count": 77
        }
      ]
    },
    {
      "cell_type": "code",
      "metadata": {
        "id": "VGytww9Pq_WW",
        "outputId": "96ad4356-36cc-4ca9-b20f-dcfb211298d4",
        "colab": {
          "base_uri": "https://localhost:8080/"
        }
      },
      "source": [
        "print(df_plot)"
      ],
      "execution_count": 91,
      "outputs": [
        {
          "output_type": "stream",
          "text": [
            "               Value Column      num\n",
            "0         329.996735      2        0\n",
            "300       330.208771      2      300\n",
            "400      2309.598389      4      400\n",
            "600       329.727112      2      600\n",
            "900       360.813446      2      900\n",
            "...              ...    ...      ...\n",
            "1988400   330.318817      2  1988400\n",
            "1988500   363.662292      4  1988500\n",
            "1988700   331.320648      2  1988700\n",
            "1989000   330.544861      2  1989000\n",
            "1989300   330.223846      2  1989300\n",
            "\n",
            "[12083 rows x 3 columns]\n"
          ],
          "name": "stdout"
        }
      ]
    },
    {
      "cell_type": "code",
      "metadata": {
        "id": "OgC8xTN9p8Iv",
        "outputId": "df32a433-ed60-4887-f606-f5de3d142b2a",
        "colab": {
          "base_uri": "https://localhost:8080/"
        }
      },
      "source": [
        "df_plot.reset_index(drop=True, inplace=True)\n",
        "print(df_plot)"
      ],
      "execution_count": 92,
      "outputs": [
        {
          "output_type": "stream",
          "text": [
            "             Value Column      num\n",
            "0       329.996735      2        0\n",
            "1       330.208771      2      300\n",
            "2      2309.598389      4      400\n",
            "3       329.727112      2      600\n",
            "4       360.813446      2      900\n",
            "...            ...    ...      ...\n",
            "12078   330.318817      2  1988400\n",
            "12079   363.662292      4  1988500\n",
            "12080   331.320648      2  1988700\n",
            "12081   330.544861      2  1989000\n",
            "12082   330.223846      2  1989300\n",
            "\n",
            "[12083 rows x 3 columns]\n"
          ],
          "name": "stdout"
        }
      ]
    },
    {
      "cell_type": "code",
      "metadata": {
        "id": "XKriPnaidbbx"
      },
      "source": [
        "new_series = pd.Series(y_hc)"
      ],
      "execution_count": 56,
      "outputs": []
    },
    {
      "cell_type": "code",
      "metadata": {
        "id": "ozHImNeqnyQt"
      },
      "source": [
        "conv_ser_df = new_series.to_frame()"
      ],
      "execution_count": 66,
      "outputs": []
    },
    {
      "cell_type": "code",
      "metadata": {
        "id": "24iE-N-On32l",
        "outputId": "ca876f2f-0306-49a2-bf8b-99e4909b5cae",
        "colab": {
          "base_uri": "https://localhost:8080/"
        }
      },
      "source": [
        "print(conv_ser_df)"
      ],
      "execution_count": 76,
      "outputs": [
        {
          "output_type": "stream",
          "text": [
            "       labels\n",
            "0           1\n",
            "1           1\n",
            "2           0\n",
            "3           1\n",
            "4           1\n",
            "...       ...\n",
            "12078       1\n",
            "12079       1\n",
            "12080       1\n",
            "12081       1\n",
            "12082       1\n",
            "\n",
            "[12083 rows x 1 columns]\n"
          ],
          "name": "stdout"
        }
      ]
    },
    {
      "cell_type": "code",
      "metadata": {
        "id": "htsXYTS_n89J",
        "outputId": "a426f9c2-fbb2-4e11-e527-b6332cdecf06",
        "colab": {
          "base_uri": "https://localhost:8080/"
        }
      },
      "source": [
        "conv_ser_df.equals(df_plot)"
      ],
      "execution_count": 84,
      "outputs": [
        {
          "output_type": "execute_result",
          "data": {
            "text/plain": [
              "False"
            ]
          },
          "metadata": {
            "tags": []
          },
          "execution_count": 84
        }
      ]
    },
    {
      "cell_type": "code",
      "metadata": {
        "id": "4oDLrHaIol2P"
      },
      "source": [
        "conv_ser_df.columns = ['labels']"
      ],
      "execution_count": 70,
      "outputs": []
    },
    {
      "cell_type": "code",
      "metadata": {
        "id": "DMCPi8hyoIAT",
        "outputId": "844a0d4a-7630-446f-bdc1-3461861bbddf",
        "colab": {
          "base_uri": "https://localhost:8080/"
        }
      },
      "source": [
        "conv_ser_df.labels.unique()"
      ],
      "execution_count": 71,
      "outputs": [
        {
          "output_type": "execute_result",
          "data": {
            "text/plain": [
              "array([1, 0, 2])"
            ]
          },
          "metadata": {
            "tags": []
          },
          "execution_count": 71
        }
      ]
    },
    {
      "cell_type": "code",
      "metadata": {
        "id": "U-mTDzAUplio"
      },
      "source": [
        "df_plot = pd.concat([df_plot, conv_ser_df], axis=1) "
      ],
      "execution_count": 93,
      "outputs": []
    },
    {
      "cell_type": "code",
      "metadata": {
        "id": "IPh_tyiQrTxh",
        "outputId": "2c0fb969-f7d0-4a8f-9f94-b8d7b9b0f197",
        "colab": {
          "base_uri": "https://localhost:8080/"
        }
      },
      "source": [
        "print(df_plot)"
      ],
      "execution_count": 96,
      "outputs": [
        {
          "output_type": "stream",
          "text": [
            "             Value  labels\n",
            "0       329.996735       1\n",
            "1       330.208771       1\n",
            "2      2309.598389       0\n",
            "3       329.727112       1\n",
            "4       360.813446       1\n",
            "...            ...     ...\n",
            "12078   330.318817       1\n",
            "12079   363.662292       1\n",
            "12080   331.320648       1\n",
            "12081   330.544861       1\n",
            "12082   330.223846       1\n",
            "\n",
            "[12083 rows x 2 columns]\n"
          ],
          "name": "stdout"
        }
      ]
    },
    {
      "cell_type": "code",
      "metadata": {
        "id": "-qVuMmjrsBYe"
      },
      "source": [
        "df_plot.drop(['Column','num'],axis='columns', inplace=True)"
      ],
      "execution_count": 95,
      "outputs": []
    },
    {
      "cell_type": "code",
      "metadata": {
        "id": "HlWNk-ZJsd0s"
      },
      "source": [
        "df_plot.to_csv(\"hc_labeling.csv\")"
      ],
      "execution_count": 97,
      "outputs": []
    },
    {
      "cell_type": "code",
      "metadata": {
        "id": "Ha8-yZi83nM6",
        "outputId": "65749ea6-2c2c-4720-a049-223157f99f00",
        "colab": {
          "base_uri": "https://localhost:8080/"
        }
      },
      "source": [
        "len(df_plot.index)"
      ],
      "execution_count": 116,
      "outputs": [
        {
          "output_type": "execute_result",
          "data": {
            "text/plain": [
              "12083"
            ]
          },
          "metadata": {
            "tags": []
          },
          "execution_count": 116
        }
      ]
    },
    {
      "cell_type": "code",
      "metadata": {
        "id": "ZbokSSXIu6lN"
      },
      "source": [
        "dfhc_label_0= df_plot[df_plot['labels']==0].copy()"
      ],
      "execution_count": 98,
      "outputs": []
    },
    {
      "cell_type": "code",
      "metadata": {
        "id": "sToVkHU_vaoD",
        "outputId": "c1c99a0d-cb71-4bb9-9cb5-315eda2f438a",
        "colab": {
          "base_uri": "https://localhost:8080/"
        }
      },
      "source": [
        "print(dfhc_label_0)"
      ],
      "execution_count": 104,
      "outputs": [
        {
          "output_type": "stream",
          "text": [
            "             Value  labels\n",
            "2      2309.598389       0\n",
            "10     2321.235107       0\n",
            "91     2337.567627       0\n",
            "92     2381.911865       0\n",
            "93     2291.888184       0\n",
            "...            ...     ...\n",
            "11869  2294.967285       0\n",
            "11876  2296.531738       0\n",
            "11920  2304.652344       0\n",
            "11933  2303.780762       0\n",
            "11990  2306.362305       0\n",
            "\n",
            "[724 rows x 2 columns]\n"
          ],
          "name": "stdout"
        }
      ]
    },
    {
      "cell_type": "code",
      "metadata": {
        "id": "qer_5-YIvGfY",
        "outputId": "52611bd8-6940-4413-cb1f-00da9c184b40",
        "colab": {
          "base_uri": "https://localhost:8080/"
        }
      },
      "source": [
        "dfhc_label_0['Value'].std()"
      ],
      "execution_count": 108,
      "outputs": [
        {
          "output_type": "execute_result",
          "data": {
            "text/plain": [
              "226.1065475240539"
            ]
          },
          "metadata": {
            "tags": []
          },
          "execution_count": 108
        }
      ]
    },
    {
      "cell_type": "code",
      "metadata": {
        "id": "fgdTxElN29xP",
        "outputId": "95683466-e462-47c5-8086-e703f8ebdbb2",
        "colab": {
          "base_uri": "https://localhost:8080/"
        }
      },
      "source": [
        "len(dfhc_label_0.index)"
      ],
      "execution_count": 117,
      "outputs": [
        {
          "output_type": "execute_result",
          "data": {
            "text/plain": [
              "724"
            ]
          },
          "metadata": {
            "tags": []
          },
          "execution_count": 117
        }
      ]
    },
    {
      "cell_type": "code",
      "metadata": {
        "id": "raS8mtY1vKxz"
      },
      "source": [
        "dfhc_label_1= df_plot[df_plot['labels']==1].copy()"
      ],
      "execution_count": 100,
      "outputs": []
    },
    {
      "cell_type": "code",
      "metadata": {
        "id": "CJjY_EwqveYm",
        "outputId": "7efcca64-f3de-4aa3-fcf0-48b75d84eef0",
        "colab": {
          "base_uri": "https://localhost:8080/"
        }
      },
      "source": [
        "print(dfhc_label_1)"
      ],
      "execution_count": 105,
      "outputs": [
        {
          "output_type": "stream",
          "text": [
            "            Value  labels\n",
            "0      329.996735       1\n",
            "1      330.208771       1\n",
            "3      329.727112       1\n",
            "4      360.813446       1\n",
            "5      330.187531       1\n",
            "...           ...     ...\n",
            "12078  330.318817       1\n",
            "12079  363.662292       1\n",
            "12080  331.320648       1\n",
            "12081  330.544861       1\n",
            "12082  330.223846       1\n",
            "\n",
            "[6151 rows x 2 columns]\n"
          ],
          "name": "stdout"
        }
      ]
    },
    {
      "cell_type": "code",
      "metadata": {
        "id": "etJLTaLdvQYI",
        "outputId": "e87b1037-4f7d-4909-f838-5bd43d5b854c",
        "colab": {
          "base_uri": "https://localhost:8080/"
        }
      },
      "source": [
        "dfhc_label_1['Value'].std()"
      ],
      "execution_count": 110,
      "outputs": [
        {
          "output_type": "execute_result",
          "data": {
            "text/plain": [
              "65.11521128357079"
            ]
          },
          "metadata": {
            "tags": []
          },
          "execution_count": 110
        }
      ]
    },
    {
      "cell_type": "code",
      "metadata": {
        "id": "_NQMGCM83OXh",
        "outputId": "2a861a14-39da-4f81-9e86-085147e04120",
        "colab": {
          "base_uri": "https://localhost:8080/"
        }
      },
      "source": [
        "len(dfhc_label_1.index)"
      ],
      "execution_count": 118,
      "outputs": [
        {
          "output_type": "execute_result",
          "data": {
            "text/plain": [
              "6151"
            ]
          },
          "metadata": {
            "tags": []
          },
          "execution_count": 118
        }
      ]
    },
    {
      "cell_type": "code",
      "metadata": {
        "id": "B29IRDhpvTCi"
      },
      "source": [
        "dfhc_label_2= df_plot[df_plot['labels']==2].copy()"
      ],
      "execution_count": 102,
      "outputs": []
    },
    {
      "cell_type": "code",
      "metadata": {
        "id": "KNJa_09Zvhix",
        "outputId": "91171080-2480-4d06-d3a7-73e17b615103",
        "colab": {
          "base_uri": "https://localhost:8080/"
        }
      },
      "source": [
        "print(dfhc_label_2)"
      ],
      "execution_count": 107,
      "outputs": [
        {
          "output_type": "stream",
          "text": [
            "             Value  labels\n",
            "86     2599.917969       2\n",
            "89     2509.802246       2\n",
            "376    2623.934082       2\n",
            "377    2529.280518       2\n",
            "379    2600.648438       2\n",
            "...            ...     ...\n",
            "11184  2612.839111       2\n",
            "11254  2550.220215       2\n",
            "11657  2521.514404       2\n",
            "11825  2551.750732       2\n",
            "11932  2495.293701       2\n",
            "\n",
            "[5208 rows x 2 columns]\n"
          ],
          "name": "stdout"
        }
      ]
    },
    {
      "cell_type": "code",
      "metadata": {
        "id": "39DE1DesvXg2",
        "outputId": "1971d6cb-a99c-4bdb-c3a0-3f01dfd7a4b7",
        "colab": {
          "base_uri": "https://localhost:8080/"
        }
      },
      "source": [
        "dfhc_label_2['Value'].std()"
      ],
      "execution_count": 112,
      "outputs": [
        {
          "output_type": "execute_result",
          "data": {
            "text/plain": [
              "58.40746613488687"
            ]
          },
          "metadata": {
            "tags": []
          },
          "execution_count": 112
        }
      ]
    },
    {
      "cell_type": "code",
      "metadata": {
        "id": "PGmGJWhB3YPx",
        "outputId": "0c274902-300f-432f-c039-017452adf1ec",
        "colab": {
          "base_uri": "https://localhost:8080/"
        }
      },
      "source": [
        "len(dfhc_label_2.index)"
      ],
      "execution_count": 119,
      "outputs": [
        {
          "output_type": "execute_result",
          "data": {
            "text/plain": [
              "5208"
            ]
          },
          "metadata": {
            "tags": []
          },
          "execution_count": 119
        }
      ]
    },
    {
      "cell_type": "code",
      "metadata": {
        "id": "mn_uiehi6oBS"
      },
      "source": [
        "label_1_cl = dfhc_label_1.iloc[:, [0]].values"
      ],
      "execution_count": 122,
      "outputs": []
    },
    {
      "cell_type": "code",
      "metadata": {
        "id": "KvtkrxaC6vRI",
        "outputId": "099da68b-767c-4036-d593-603289afc483",
        "colab": {
          "base_uri": "https://localhost:8080/",
          "height": 298
        }
      },
      "source": [
        "dendrogram = sch.dendrogram(sch.linkage(label_1_cl, method  = \"ward\"))\n",
        "plt.title('Dendrogram')\n",
        "plt.xlabel('Clusters(lbl1)')\n",
        "plt.ylabel('Euclidean distance')\n",
        "plt.show()"
      ],
      "execution_count": 123,
      "outputs": [
        {
          "output_type": "display_data",
          "data": {
            "image/png": "[encoded data removed]",
            "text/plain": [
              "<Figure size 432x288 with 1 Axes>"
            ]
          },
          "metadata": {
            "tags": [],
            "needs_background": "light"
          }
        }
      ]
    },
    {
      "cell_type": "code",
      "metadata": {
        "id": "d_O4aEA76_15"
      },
      "source": [
        "label_2_cl = dfhc_label_2.iloc[:, [0]].values"
      ],
      "execution_count": 124,
      "outputs": []
    },
    {
      "cell_type": "code",
      "metadata": {
        "id": "bnWcZQUL7FVt",
        "outputId": "2df2e64c-457a-40e3-8753-432905487ac1",
        "colab": {
          "base_uri": "https://localhost:8080/",
          "height": 298
        }
      },
      "source": [
        "dendrogram = sch.dendrogram(sch.linkage(label_2_cl, method  = \"ward\"))\n",
        "plt.title('Dendrogram')\n",
        "plt.xlabel('Clusters(lbl2)')\n",
        "plt.ylabel('Euclidean distance')\n",
        "plt.show()"
      ],
      "execution_count": 125,
      "outputs": [
        {
          "output_type": "display_data",
          "data": {
            "image/png": "[encoded data removed]",
            "text/plain": [
              "<Figure size 432x288 with 1 Axes>"
            ]
          },
          "metadata": {
            "tags": [],
            "needs_background": "light"
          }
        }
      ]
    },
    {
      "cell_type": "code",
      "metadata": {
        "colab": {
          "base_uri": "https://localhost:8080/",
          "height": 312
        },
        "id": "Qne3XKIYN0wr",
        "outputId": "09182e42-0f60-49c3-9a73-65e4ca381e67"
      },
      "source": [
        "plt.scatter(X[y_hc==0, 0], X[y_hc==0, 0], s=100, c='red', label ='Cluster 1')\n",
        "plt.scatter(X[y_hc==1, 0], X[y_hc==1, 0], s=100, c='blue', label ='Cluster 2')\n",
        "plt.scatter(X[y_hc==2, 0], X[y_hc==2, 0], s=100, c='green', label ='Cluster 3')\n",
        "plt.title('Clusters of Values (Hierarchical Clustering Model)')\n",
        "plt.xlabel('Value')\n",
        "plt.ylabel('Value')\n",
        "plt.show()"
      ],
      "execution_count": 37,
      "outputs": [
        {
          "output_type": "execute_result",
          "data": {
            "text/plain": [
              "Text(0, 0.5, 'Value')"
            ]
          },
          "metadata": {
            "tags": []
          },
          "execution_count": 37
        },
        {
          "output_type": "display_data",
          "data": {
            "image/png": "[encoded data removed]",
            "text/plain": [
              "<Figure size 432x288 with 1 Axes>"
            ]
          },
          "metadata": {
            "tags": [],
            "needs_background": "light"
          }
        }
      ]
    },
    {
      "cell_type": "code",
      "metadata": {
        "id": "tzg63l0Q--HK"
      },
      "source": [
        ""
      ],
      "execution_count": null,
      "outputs": []
    }
  ]
}