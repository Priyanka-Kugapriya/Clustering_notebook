{
  "nbformat": 4,
  "nbformat_minor": 0,
  "metadata": {
    "colab": {
      "name": "Untitled0.ipynb",
      "provenance": [],
      "authorship_tag": "ABX9TyMYuE1Ds25jfq5KTg0zhYZC",
      "include_colab_link": true
    },
    "kernelspec": {
      "name": "python3",
      "display_name": "Python 3"
    },
    "language_info": {
      "name": "python"
    }
  },
  "cells": [
    {
      "cell_type": "markdown",
      "metadata": {
        "id": "view-in-github",
        "colab_type": "text"
      },
      "source": [
        "<a href=\"https://colab.research.google.com/github/Priyanka-Kugapriya/Clustering_notebook/blob/main/Hierarchical%20clustering.ipynb\" target=\"_parent\"><img src=\"https://colab.research.google.com/assets/colab-badge.svg\" alt=\"Open In Colab\"/></a>"
      ]
    },
    {
      "cell_type": "code",
      "metadata": {
        "id": "R5riOvLn06SD"
      },
      "source": [
        "import pandas as pd\n",
        "import plotly.express as px\n",
        "import plotly.graph_objects as go\n",
        "import numpy as np\n",
        "\n",
        "#changepath to CSV\n",
        "\n",
        "df= pd.read_csv(\"/content/sample_data/Layer-Readings_2.csv\",header=None)"
      ],
      "execution_count": 3,
      "outputs": []
    },
    {
      "cell_type": "code",
      "metadata": {
        "colab": {
          "base_uri": "https://localhost:8080/"
        },
        "id": "-K2TrvqB3-6P",
        "outputId": "657726fb-979c-4a0c-8440-1dfdd1e446dd"
      },
      "source": [
        "print(df)"
      ],
      "execution_count": 2,
      "outputs": [
        {
          "output_type": "stream",
          "text": [
            "           0        1           2          3   ...   11   12   13     14\n",
            "0           0        0  329.996735  36.054607  ...  0.0  0.0  0.0  31669\n",
            "1           0        0  330.775604  37.902195  ...  0.0  0.0  0.0  31670\n",
            "2           0        0  329.943512  42.349632  ...  0.0  0.0  0.0  31671\n",
            "3           0        0  329.553131  41.687881  ...  0.0  0.0  0.0  31672\n",
            "4           0        0  332.050140  42.752476  ...  0.0  0.0  0.0  31673\n",
            "...       ...      ...         ...        ...  ...  ...  ...  ...    ...\n",
            "663109  16854  2293761  331.718628  42.900658  ...  0.0  0.0  0.0  21033\n",
            "663110  16959  2293761  330.562775  37.563095  ...  0.0  0.0  0.0  21034\n",
            "663111  17065  2293761  330.347748  41.163986  ...  0.0  0.0  0.0  21035\n",
            "663112  17172  2293761  331.059784  32.140606  ...  0.0  0.0  0.0  21036\n",
            "663113  17277  2293761  330.106598  31.508242  ...  0.0  0.0  0.0  21037\n",
            "\n",
            "[663114 rows x 15 columns]\n"
          ],
          "name": "stdout"
        }
      ]
    },
    {
      "cell_type": "code",
      "metadata": {
        "id": "3PQ122Wy34A3"
      },
      "source": [
        "df.columns = ['0','1','2', '3','4','5','6','7','8','9','10','11','12','13','14']"
      ],
      "execution_count": 4,
      "outputs": []
    },
    {
      "cell_type": "code",
      "metadata": {
        "colab": {
          "base_uri": "https://localhost:8080/"
        },
        "id": "xMrL_Hk64Gk4",
        "outputId": "7f31d1df-8d5a-492a-b505-f0fcae579932"
      },
      "source": [
        "sorted(df)"
      ],
      "execution_count": 4,
      "outputs": [
        {
          "output_type": "execute_result",
          "data": {
            "text/plain": [
              "['0',\n",
              " '1',\n",
              " '10',\n",
              " '11',\n",
              " '12',\n",
              " '13',\n",
              " '14',\n",
              " '2',\n",
              " '3',\n",
              " '4',\n",
              " '5',\n",
              " '6',\n",
              " '7',\n",
              " '8',\n",
              " '9']"
            ]
          },
          "metadata": {
            "tags": []
          },
          "execution_count": 4
        }
      ]
    },
    {
      "cell_type": "code",
      "metadata": {
        "colab": {
          "base_uri": "https://localhost:8080/"
        },
        "id": "iPT6QRyi4HpB",
        "outputId": "0c74d262-802c-405e-eab8-1d1fcaaadc58"
      },
      "source": [
        "df.isnull().sum()"
      ],
      "execution_count": 5,
      "outputs": [
        {
          "output_type": "execute_result",
          "data": {
            "text/plain": [
              "0     0\n",
              "1     0\n",
              "2     0\n",
              "3     0\n",
              "4     0\n",
              "5     0\n",
              "6     0\n",
              "7     0\n",
              "8     0\n",
              "9     0\n",
              "10    0\n",
              "11    0\n",
              "12    0\n",
              "13    0\n",
              "14    0\n",
              "dtype: int64"
            ]
          },
          "metadata": {
            "tags": []
          },
          "execution_count": 5
        }
      ]
    },
    {
      "cell_type": "code",
      "metadata": {
        "id": "Nql5pNvz4JRv"
      },
      "source": [
        "df.drop(['0','1','3','5', '8','10','12','14', '7', '9', '11', '13'],axis='columns', inplace=True)"
      ],
      "execution_count": 6,
      "outputs": []
    },
    {
      "cell_type": "code",
      "metadata": {
        "colab": {
          "base_uri": "https://localhost:8080/"
        },
        "id": "lDxbG9By4NE3",
        "outputId": "70cc5e9e-ce1b-4cc9-f697-07aae2d38ebb"
      },
      "source": [
        "print(df)"
      ],
      "execution_count": 7,
      "outputs": [
        {
          "output_type": "stream",
          "text": [
            "                 2            4          6\n",
            "0       329.996735     0.000000    0.00000\n",
            "1       330.775604     0.000000    0.00000\n",
            "2       329.943512   363.551544    0.00000\n",
            "3       329.553131  2318.262207  364.41507\n",
            "4       332.050140     0.000000    0.00000\n",
            "...            ...          ...        ...\n",
            "663109  331.718628     0.000000    0.00000\n",
            "663110  330.562775   361.645508    0.00000\n",
            "663111  330.347748   362.771545    0.00000\n",
            "663112  331.059784     0.000000    0.00000\n",
            "663113  330.106598     0.000000    0.00000\n",
            "\n",
            "[663114 rows x 3 columns]\n"
          ],
          "name": "stdout"
        }
      ]
    },
    {
      "cell_type": "code",
      "metadata": {
        "id": "WXER3wtA4P7Q"
      },
      "source": [
        "df['Index'] = range(0, 0+len(df))"
      ],
      "execution_count": 7,
      "outputs": []
    },
    {
      "cell_type": "code",
      "metadata": {
        "colab": {
          "base_uri": "https://localhost:8080/"
        },
        "id": "9UKZSPI24eP3",
        "outputId": "4c8edc3d-ed17-4af1-9ed1-fb74e02ba5e3"
      },
      "source": [
        "cols = df.columns.tolist()\n",
        "cols"
      ],
      "execution_count": 8,
      "outputs": [
        {
          "output_type": "execute_result",
          "data": {
            "text/plain": [
              "['2', '4', '6', 'Index']"
            ]
          },
          "metadata": {
            "tags": []
          },
          "execution_count": 8
        }
      ]
    },
    {
      "cell_type": "code",
      "metadata": {
        "colab": {
          "base_uri": "https://localhost:8080/"
        },
        "id": "kM4CVa_f4gtT",
        "outputId": "66c2c0ac-d8ab-4e76-a663-e4bf0b2a2114"
      },
      "source": [
        "cols = cols[-1:] + cols[:-1]\n",
        "cols"
      ],
      "execution_count": 9,
      "outputs": [
        {
          "output_type": "execute_result",
          "data": {
            "text/plain": [
              "['Index', '2', '4', '6']"
            ]
          },
          "metadata": {
            "tags": []
          },
          "execution_count": 9
        }
      ]
    },
    {
      "cell_type": "code",
      "metadata": {
        "colab": {
          "base_uri": "https://localhost:8080/"
        },
        "id": "m7-9S7pQ4i-n",
        "outputId": "255fc0df-6fdb-49ed-847c-d3bd4caf57c6"
      },
      "source": [
        "df = df[cols]\n",
        "print(df)"
      ],
      "execution_count": 10,
      "outputs": [
        {
          "output_type": "stream",
          "text": [
            "         Index           2            4          6\n",
            "0            0  329.996735     0.000000    0.00000\n",
            "1            1  330.775604     0.000000    0.00000\n",
            "2            2  329.943512   363.551544    0.00000\n",
            "3            3  329.553131  2318.262207  364.41507\n",
            "4            4  332.050140     0.000000    0.00000\n",
            "...        ...         ...          ...        ...\n",
            "663109  663109  331.718628     0.000000    0.00000\n",
            "663110  663110  330.562775   361.645508    0.00000\n",
            "663111  663111  330.347748   362.771545    0.00000\n",
            "663112  663112  331.059784     0.000000    0.00000\n",
            "663113  663113  330.106598     0.000000    0.00000\n",
            "\n",
            "[663114 rows x 4 columns]\n"
          ],
          "name": "stdout"
        }
      ]
    },
    {
      "cell_type": "code",
      "metadata": {
        "id": "mVy_qu8g4lL2"
      },
      "source": [
        "df2 = df.set_index('Index').stack().reset_index()"
      ],
      "execution_count": 11,
      "outputs": []
    },
    {
      "cell_type": "code",
      "metadata": {
        "colab": {
          "base_uri": "https://localhost:8080/"
        },
        "id": "cl0bnddq4nMx",
        "outputId": "46c2972e-59ab-44f7-f3b4-0758e996169a"
      },
      "source": [
        "print(df2)"
      ],
      "execution_count": 13,
      "outputs": [
        {
          "output_type": "stream",
          "text": [
            "          Index level_1           0\n",
            "0             0       2  329.996735\n",
            "1             0       4    0.000000\n",
            "2             0       6    0.000000\n",
            "3             1       2  330.775604\n",
            "4             1       4    0.000000\n",
            "...         ...     ...         ...\n",
            "1989337  663112       4    0.000000\n",
            "1989338  663112       6    0.000000\n",
            "1989339  663113       2  330.106598\n",
            "1989340  663113       4    0.000000\n",
            "1989341  663113       6    0.000000\n",
            "\n",
            "[1989342 rows x 3 columns]\n"
          ],
          "name": "stdout"
        }
      ]
    },
    {
      "cell_type": "code",
      "metadata": {
        "id": "5dtZKtGM4o-1"
      },
      "source": [
        "df3 = df2.rename(columns = {'level_1': 'Column', 0: 'Value'}, inplace = False)"
      ],
      "execution_count": 12,
      "outputs": []
    },
    {
      "cell_type": "code",
      "metadata": {
        "id": "_jUuwVtT4rzZ"
      },
      "source": [
        "df4 = df3.loc[~((df3['Value'] == 0))]"
      ],
      "execution_count": 13,
      "outputs": []
    },
    {
      "cell_type": "code",
      "metadata": {
        "colab": {
          "base_uri": "https://localhost:8080/"
        },
        "id": "ABUVZ4b65IAP",
        "outputId": "9264b7ab-5e02-4621-8076-594642012894"
      },
      "source": [
        "print(df4)"
      ],
      "execution_count": 16,
      "outputs": [
        {
          "output_type": "stream",
          "text": [
            "          Index Column       Value\n",
            "0             0      2  329.996735\n",
            "3             1      2  330.775604\n",
            "6             2      2  329.943512\n",
            "7             2      4  363.551544\n",
            "9             3      2  329.553131\n",
            "...         ...    ...         ...\n",
            "1989331  663110      4  361.645508\n",
            "1989333  663111      2  330.347748\n",
            "1989334  663111      4  362.771545\n",
            "1989336  663112      2  331.059784\n",
            "1989339  663113      2  330.106598\n",
            "\n",
            "[1212626 rows x 3 columns]\n"
          ],
          "name": "stdout"
        }
      ]
    },
    {
      "cell_type": "code",
      "metadata": {
        "colab": {
          "base_uri": "https://localhost:8080/"
        },
        "id": "At6gPWMV5sCj",
        "outputId": "5086d407-6637-409b-8da5-55155efd267e"
      },
      "source": [
        "df4_test = pd.DataFrame(df4)\n",
        "selected_columns = df4_test[[\"Value\",\"Column\"]]\n",
        "\n",
        "new_df = selected_columns.copy()\n",
        "print(new_df)"
      ],
      "execution_count": 14,
      "outputs": [
        {
          "output_type": "stream",
          "text": [
            "              Value Column\n",
            "0        329.996735      2\n",
            "3        330.775604      2\n",
            "6        329.943512      2\n",
            "7        363.551544      4\n",
            "9        329.553131      2\n",
            "...             ...    ...\n",
            "1989331  361.645508      4\n",
            "1989333  330.347748      2\n",
            "1989334  362.771545      4\n",
            "1989336  331.059784      2\n",
            "1989339  330.106598      2\n",
            "\n",
            "[1212626 rows x 2 columns]\n"
          ],
          "name": "stdout"
        }
      ]
    },
    {
      "cell_type": "code",
      "metadata": {
        "id": "eAkZ77L951eb"
      },
      "source": [
        "df_plot= new_df\n",
        "df_plot['num']=df_plot.index\n",
        "df_plot=df_plot[df_plot['num']%100==0]"
      ],
      "execution_count": 15,
      "outputs": []
    },
    {
      "cell_type": "code",
      "metadata": {
        "colab": {
          "base_uri": "https://localhost:8080/"
        },
        "id": "AjCGdLm3J6U_",
        "outputId": "59dc2f24-e1b3-468d-820a-985d69bd6c6c"
      },
      "source": [
        "print(df_plot)"
      ],
      "execution_count": 16,
      "outputs": [
        {
          "output_type": "stream",
          "text": [
            "               Value Column      num\n",
            "0         329.996735      2        0\n",
            "300       330.208771      2      300\n",
            "400      2309.598389      4      400\n",
            "600       329.727112      2      600\n",
            "900       360.813446      2      900\n",
            "...              ...    ...      ...\n",
            "1988400   330.318817      2  1988400\n",
            "1988500   363.662292      4  1988500\n",
            "1988700   331.320648      2  1988700\n",
            "1989000   330.544861      2  1989000\n",
            "1989300   330.223846      2  1989300\n",
            "\n",
            "[12083 rows x 3 columns]\n"
          ],
          "name": "stdout"
        }
      ]
    },
    {
      "cell_type": "code",
      "metadata": {
        "colab": {
          "base_uri": "https://localhost:8080/"
        },
        "id": "gdZcO4I4J79y",
        "outputId": "709b9ca9-9ef8-4a4c-8d91-566776223dc2"
      },
      "source": [
        "test_plot = pd.DataFrame(df_plot)\n",
        "selected_columns = test_plot[[\"Value\"]]\n",
        "\n",
        "test_plot = selected_columns.copy()\n",
        "print(test_plot)"
      ],
      "execution_count": 17,
      "outputs": [
        {
          "output_type": "stream",
          "text": [
            "               Value\n",
            "0         329.996735\n",
            "300       330.208771\n",
            "400      2309.598389\n",
            "600       329.727112\n",
            "900       360.813446\n",
            "...              ...\n",
            "1988400   330.318817\n",
            "1988500   363.662292\n",
            "1988700   331.320648\n",
            "1989000   330.544861\n",
            "1989300   330.223846\n",
            "\n",
            "[12083 rows x 1 columns]\n"
          ],
          "name": "stdout"
        }
      ]
    },
    {
      "cell_type": "markdown",
      "metadata": {
        "id": "tQpvLXzjOiig"
      },
      "source": [
        "Hierarchihcal clustering"
      ]
    },
    {
      "cell_type": "code",
      "metadata": {
        "id": "YgOtDmoX47wB"
      },
      "source": [
        "import numpy as np\n",
        "import matplotlib.pyplot as plt\n",
        "import pandas as pd\n",
        "import scipy.cluster.hierarchy as sch"
      ],
      "execution_count": 18,
      "outputs": []
    },
    {
      "cell_type": "code",
      "metadata": {
        "id": "iEshGM2hLmtS"
      },
      "source": [
        "X = test_plot.iloc[:, [0]].values"
      ],
      "execution_count": 19,
      "outputs": []
    },
    {
      "cell_type": "code",
      "metadata": {
        "id": "D5Z5VI7xqcLD",
        "colab": {
          "base_uri": "https://localhost:8080/"
        },
        "outputId": "b78b5bc1-d75b-4ef7-f068-a118b2371bd0"
      },
      "source": [
        "test_plot.size"
      ],
      "execution_count": 23,
      "outputs": [
        {
          "output_type": "execute_result",
          "data": {
            "text/plain": [
              "12083"
            ]
          },
          "metadata": {
            "tags": []
          },
          "execution_count": 23
        }
      ]
    },
    {
      "cell_type": "code",
      "metadata": {
        "id": "ex5wB91AqT5O",
        "colab": {
          "base_uri": "https://localhost:8080/"
        },
        "outputId": "3ab8295e-a15d-4303-cb0c-b4edbc425bec"
      },
      "source": [
        "X.size"
      ],
      "execution_count": 20,
      "outputs": [
        {
          "output_type": "execute_result",
          "data": {
            "text/plain": [
              "12083"
            ]
          },
          "metadata": {
            "tags": []
          },
          "execution_count": 20
        }
      ]
    },
    {
      "cell_type": "code",
      "metadata": {
        "colab": {
          "base_uri": "https://localhost:8080/",
          "height": 301
        },
        "id": "dmc6_uoZO9z2",
        "outputId": "079eb636-275b-469f-dcca-b30187ef88f6"
      },
      "source": [
        "dendrogram = sch.dendrogram(sch.linkage(X, method  = \"ward\"))\n",
        "plt.title('Dendrogram')\n",
        "plt.xlabel('Clusters')\n",
        "plt.ylabel('Euclidean distance')\n",
        "plt.show()"
      ],
      "execution_count": 25,
      "outputs": [
        {
          "output_type": "display_data",
          "data": {
            "image/png": "[encoded data removed]",
            "text/plain": [
              "<Figure size 432x288 with 1 Axes>"
            ]
          },
          "metadata": {
            "tags": [],
            "needs_background": "light"
          }
        }
      ]
    },
    {
      "cell_type": "code",
      "metadata": {
        "id": "dsPWAREyP_4_"
      },
      "source": [
        "from sklearn.cluster import AgglomerativeClustering \n",
        "hc = AgglomerativeClustering(n_clusters = 3, affinity = 'euclidean', linkage ='ward')"
      ],
      "execution_count": 21,
      "outputs": []
    },
    {
      "cell_type": "code",
      "metadata": {
        "id": "4YplRYQmQFg2"
      },
      "source": [
        "y_hc=hc.fit_predict(X)"
      ],
      "execution_count": 22,
      "outputs": []
    },
    {
      "cell_type": "code",
      "metadata": {
        "id": "a-JlcQyR5NL0",
        "colab": {
          "base_uri": "https://localhost:8080/"
        },
        "outputId": "01bd9c43-c571-4154-ad43-48cea282f802"
      },
      "source": [
        "print(y_hc)"
      ],
      "execution_count": 23,
      "outputs": [
        {
          "output_type": "stream",
          "text": [
            "[1 1 0 ... 1 1 1]\n"
          ],
          "name": "stdout"
        }
      ]
    },
    {
      "cell_type": "code",
      "metadata": {
        "id": "K6cfT61XqOML",
        "colab": {
          "base_uri": "https://localhost:8080/"
        },
        "outputId": "2dadeb0e-9522-4dc8-8271-2f283f2d010c"
      },
      "source": [
        "y_hc.size"
      ],
      "execution_count": 24,
      "outputs": [
        {
          "output_type": "execute_result",
          "data": {
            "text/plain": [
              "12083"
            ]
          },
          "metadata": {
            "tags": []
          },
          "execution_count": 24
        }
      ]
    },
    {
      "cell_type": "code",
      "metadata": {
        "id": "VGytww9Pq_WW",
        "colab": {
          "base_uri": "https://localhost:8080/"
        },
        "outputId": "069f424c-5562-4cbd-cebd-5e3f9383fdd7"
      },
      "source": [
        "print(df_plot)"
      ],
      "execution_count": 30,
      "outputs": [
        {
          "output_type": "stream",
          "text": [
            "               Value Column      num\n",
            "0         329.996735      2        0\n",
            "300       330.208771      2      300\n",
            "400      2309.598389      4      400\n",
            "600       329.727112      2      600\n",
            "900       360.813446      2      900\n",
            "...              ...    ...      ...\n",
            "1988400   330.318817      2  1988400\n",
            "1988500   363.662292      4  1988500\n",
            "1988700   331.320648      2  1988700\n",
            "1989000   330.544861      2  1989000\n",
            "1989300   330.223846      2  1989300\n",
            "\n",
            "[12083 rows x 3 columns]\n"
          ],
          "name": "stdout"
        }
      ]
    },
    {
      "cell_type": "code",
      "metadata": {
        "id": "OgC8xTN9p8Iv",
        "colab": {
          "base_uri": "https://localhost:8080/"
        },
        "outputId": "0b5896a1-c70a-47d1-dafc-5df8bf1ae2db"
      },
      "source": [
        "df_plot.reset_index(drop=True, inplace=True)\n",
        "print(df_plot)"
      ],
      "execution_count": 25,
      "outputs": [
        {
          "output_type": "stream",
          "text": [
            "             Value Column      num\n",
            "0       329.996735      2        0\n",
            "1       330.208771      2      300\n",
            "2      2309.598389      4      400\n",
            "3       329.727112      2      600\n",
            "4       360.813446      2      900\n",
            "...            ...    ...      ...\n",
            "12078   330.318817      2  1988400\n",
            "12079   363.662292      4  1988500\n",
            "12080   331.320648      2  1988700\n",
            "12081   330.544861      2  1989000\n",
            "12082   330.223846      2  1989300\n",
            "\n",
            "[12083 rows x 3 columns]\n"
          ],
          "name": "stdout"
        }
      ]
    },
    {
      "cell_type": "code",
      "metadata": {
        "id": "XKriPnaidbbx"
      },
      "source": [
        "new_series = pd.Series(y_hc)"
      ],
      "execution_count": 26,
      "outputs": []
    },
    {
      "cell_type": "code",
      "metadata": {
        "id": "ozHImNeqnyQt"
      },
      "source": [
        "conv_ser_df = new_series.to_frame()"
      ],
      "execution_count": 27,
      "outputs": []
    },
    {
      "cell_type": "code",
      "metadata": {
        "id": "24iE-N-On32l",
        "colab": {
          "base_uri": "https://localhost:8080/"
        },
        "outputId": "d21b6857-8807-4d8b-995a-c113fb3c5f16"
      },
      "source": [
        "print(conv_ser_df)"
      ],
      "execution_count": 34,
      "outputs": [
        {
          "output_type": "stream",
          "text": [
            "       0\n",
            "0      1\n",
            "1      1\n",
            "2      0\n",
            "3      1\n",
            "4      1\n",
            "...   ..\n",
            "12078  1\n",
            "12079  1\n",
            "12080  1\n",
            "12081  1\n",
            "12082  1\n",
            "\n",
            "[12083 rows x 1 columns]\n"
          ],
          "name": "stdout"
        }
      ]
    },
    {
      "cell_type": "code",
      "metadata": {
        "id": "4oDLrHaIol2P"
      },
      "source": [
        "conv_ser_df.columns = ['labels']"
      ],
      "execution_count": 28,
      "outputs": []
    },
    {
      "cell_type": "code",
      "metadata": {
        "id": "DMCPi8hyoIAT",
        "colab": {
          "base_uri": "https://localhost:8080/"
        },
        "outputId": "8859dc0e-345c-4888-fa89-ecfb6f3ec786"
      },
      "source": [
        "conv_ser_df.labels.unique()"
      ],
      "execution_count": 29,
      "outputs": [
        {
          "output_type": "execute_result",
          "data": {
            "text/plain": [
              "array([1, 0, 2])"
            ]
          },
          "metadata": {
            "tags": []
          },
          "execution_count": 29
        }
      ]
    },
    {
      "cell_type": "code",
      "metadata": {
        "id": "U-mTDzAUplio"
      },
      "source": [
        "df_plot = pd.concat([df_plot, conv_ser_df], axis=1) "
      ],
      "execution_count": 30,
      "outputs": []
    },
    {
      "cell_type": "code",
      "metadata": {
        "id": "IPh_tyiQrTxh",
        "colab": {
          "base_uri": "https://localhost:8080/"
        },
        "outputId": "06b34807-26f1-4efb-beac-2c6c096d4a37"
      },
      "source": [
        "print(df_plot)"
      ],
      "execution_count": 31,
      "outputs": [
        {
          "output_type": "stream",
          "text": [
            "             Value Column      num  labels\n",
            "0       329.996735      2        0       1\n",
            "1       330.208771      2      300       1\n",
            "2      2309.598389      4      400       0\n",
            "3       329.727112      2      600       1\n",
            "4       360.813446      2      900       1\n",
            "...            ...    ...      ...     ...\n",
            "12078   330.318817      2  1988400       1\n",
            "12079   363.662292      4  1988500       1\n",
            "12080   331.320648      2  1988700       1\n",
            "12081   330.544861      2  1989000       1\n",
            "12082   330.223846      2  1989300       1\n",
            "\n",
            "[12083 rows x 4 columns]\n"
          ],
          "name": "stdout"
        }
      ]
    },
    {
      "cell_type": "code",
      "metadata": {
        "id": "-qVuMmjrsBYe"
      },
      "source": [
        "df_plot.drop(['Column','num'],axis='columns', inplace=True)"
      ],
      "execution_count": 32,
      "outputs": []
    },
    {
      "cell_type": "code",
      "metadata": {
        "id": "HlWNk-ZJsd0s"
      },
      "source": [
        "df_plot.to_csv(\"hc_labeling.csv\")"
      ],
      "execution_count": null,
      "outputs": []
    },
    {
      "cell_type": "code",
      "metadata": {
        "id": "Ha8-yZi83nM6",
        "colab": {
          "base_uri": "https://localhost:8080/"
        },
        "outputId": "277153fc-5a80-4791-8d37-f0bda62ccd51"
      },
      "source": [
        "len(df_plot.index)"
      ],
      "execution_count": 40,
      "outputs": [
        {
          "output_type": "execute_result",
          "data": {
            "text/plain": [
              "12083"
            ]
          },
          "metadata": {
            "tags": []
          },
          "execution_count": 40
        }
      ]
    },
    {
      "cell_type": "code",
      "metadata": {
        "id": "ZbokSSXIu6lN"
      },
      "source": [
        "dfhc_label_0= df_plot[df_plot['labels']==0].copy()"
      ],
      "execution_count": 33,
      "outputs": []
    },
    {
      "cell_type": "code",
      "metadata": {
        "id": "sToVkHU_vaoD",
        "colab": {
          "base_uri": "https://localhost:8080/"
        },
        "outputId": "a3db53ef-a62e-4a91-e6b5-e6ee3ee5c6e5"
      },
      "source": [
        "print(dfhc_label_0)"
      ],
      "execution_count": 34,
      "outputs": [
        {
          "output_type": "stream",
          "text": [
            "             Value  labels\n",
            "2      2309.598389       0\n",
            "10     2321.235107       0\n",
            "91     2337.567627       0\n",
            "92     2381.911865       0\n",
            "93     2291.888184       0\n",
            "...            ...     ...\n",
            "11869  2294.967285       0\n",
            "11876  2296.531738       0\n",
            "11920  2304.652344       0\n",
            "11933  2303.780762       0\n",
            "11990  2306.362305       0\n",
            "\n",
            "[724 rows x 2 columns]\n"
          ],
          "name": "stdout"
        }
      ]
    },
    {
      "cell_type": "code",
      "metadata": {
        "id": "qer_5-YIvGfY",
        "colab": {
          "base_uri": "https://localhost:8080/"
        },
        "outputId": "52611bd8-6940-4413-cb1f-00da9c184b40"
      },
      "source": [
        "dfhc_label_0['Value'].std()"
      ],
      "execution_count": null,
      "outputs": [
        {
          "output_type": "execute_result",
          "data": {
            "text/plain": [
              "226.1065475240539"
            ]
          },
          "metadata": {
            "tags": []
          },
          "execution_count": 108
        }
      ]
    },
    {
      "cell_type": "code",
      "metadata": {
        "id": "raS8mtY1vKxz"
      },
      "source": [
        "dfhc_label_1= df_plot[df_plot['labels']==1].copy()"
      ],
      "execution_count": 35,
      "outputs": []
    },
    {
      "cell_type": "code",
      "metadata": {
        "id": "CJjY_EwqveYm",
        "colab": {
          "base_uri": "https://localhost:8080/"
        },
        "outputId": "0703987c-d60e-4395-d12d-0df71cf7257d"
      },
      "source": [
        "print(dfhc_label_1)"
      ],
      "execution_count": 36,
      "outputs": [
        {
          "output_type": "stream",
          "text": [
            "            Value  labels\n",
            "0      329.996735       1\n",
            "1      330.208771       1\n",
            "3      329.727112       1\n",
            "4      360.813446       1\n",
            "5      330.187531       1\n",
            "...           ...     ...\n",
            "12078  330.318817       1\n",
            "12079  363.662292       1\n",
            "12080  331.320648       1\n",
            "12081  330.544861       1\n",
            "12082  330.223846       1\n",
            "\n",
            "[6151 rows x 2 columns]\n"
          ],
          "name": "stdout"
        }
      ]
    },
    {
      "cell_type": "code",
      "metadata": {
        "id": "etJLTaLdvQYI",
        "colab": {
          "base_uri": "https://localhost:8080/"
        },
        "outputId": "e87b1037-4f7d-4909-f838-5bd43d5b854c"
      },
      "source": [
        "dfhc_label_1['Value'].std()"
      ],
      "execution_count": null,
      "outputs": [
        {
          "output_type": "execute_result",
          "data": {
            "text/plain": [
              "65.11521128357079"
            ]
          },
          "metadata": {
            "tags": []
          },
          "execution_count": 110
        }
      ]
    },
    {
      "cell_type": "code",
      "metadata": {
        "id": "B29IRDhpvTCi"
      },
      "source": [
        "dfhc_label_2= df_plot[df_plot['labels']==2].copy()"
      ],
      "execution_count": 37,
      "outputs": []
    },
    {
      "cell_type": "code",
      "metadata": {
        "id": "KNJa_09Zvhix",
        "colab": {
          "base_uri": "https://localhost:8080/"
        },
        "outputId": "018b5d52-adeb-4087-b7a3-aa7dfaa30bcd"
      },
      "source": [
        "print(dfhc_label_2)"
      ],
      "execution_count": 38,
      "outputs": [
        {
          "output_type": "stream",
          "text": [
            "             Value  labels\n",
            "86     2599.917969       2\n",
            "89     2509.802246       2\n",
            "376    2623.934082       2\n",
            "377    2529.280518       2\n",
            "379    2600.648438       2\n",
            "...            ...     ...\n",
            "11184  2612.839111       2\n",
            "11254  2550.220215       2\n",
            "11657  2521.514404       2\n",
            "11825  2551.750732       2\n",
            "11932  2495.293701       2\n",
            "\n",
            "[5208 rows x 2 columns]\n"
          ],
          "name": "stdout"
        }
      ]
    },
    {
      "cell_type": "code",
      "metadata": {
        "id": "39DE1DesvXg2",
        "colab": {
          "base_uri": "https://localhost:8080/"
        },
        "outputId": "1971d6cb-a99c-4bdb-c3a0-3f01dfd7a4b7"
      },
      "source": [
        "dfhc_label_2['Value'].std()"
      ],
      "execution_count": null,
      "outputs": [
        {
          "output_type": "execute_result",
          "data": {
            "text/plain": [
              "58.40746613488687"
            ]
          },
          "metadata": {
            "tags": []
          },
          "execution_count": 112
        }
      ]
    },
    {
      "cell_type": "code",
      "metadata": {
        "id": "mn_uiehi6oBS"
      },
      "source": [
        "label_1_cl = dfhc_label_1.iloc[:, [0]].values"
      ],
      "execution_count": 39,
      "outputs": []
    },
    {
      "cell_type": "code",
      "metadata": {
        "colab": {
          "base_uri": "https://localhost:8080/"
        },
        "id": "uG72L-VBrD3H",
        "outputId": "bf13cca1-e5e5-40b8-c865-708b75c07691"
      },
      "source": [
        "label_1_cl.size"
      ],
      "execution_count": 40,
      "outputs": [
        {
          "output_type": "execute_result",
          "data": {
            "text/plain": [
              "6151"
            ]
          },
          "metadata": {
            "tags": []
          },
          "execution_count": 40
        }
      ]
    },
    {
      "cell_type": "code",
      "metadata": {
        "id": "KvtkrxaC6vRI",
        "colab": {
          "base_uri": "https://localhost:8080/",
          "height": 298
        },
        "outputId": "8fec676a-c963-4432-c5ce-1254ee9f0f12"
      },
      "source": [
        "dendrogram = sch.dendrogram(sch.linkage(label_1_cl, method  = \"ward\"))\n",
        "plt.title('Dendrogram')\n",
        "plt.xlabel('Clusters(lbl1)')\n",
        "plt.ylabel('Euclidean distance')\n",
        "plt.show()"
      ],
      "execution_count": 48,
      "outputs": [
        {
          "output_type": "display_data",
          "data": {
            "image/png": "[encoded data removed]",
            "text/plain": [
              "<Figure size 432x288 with 1 Axes>"
            ]
          },
          "metadata": {
            "tags": [],
            "needs_background": "light"
          }
        }
      ]
    },
    {
      "cell_type": "code",
      "metadata": {
        "id": "HsKiHjMooGKh"
      },
      "source": [
        "from sklearn.cluster import AgglomerativeClustering \n",
        "hc1 = AgglomerativeClustering(n_clusters = 3, affinity = 'euclidean', linkage ='ward')"
      ],
      "execution_count": 41,
      "outputs": []
    },
    {
      "cell_type": "code",
      "metadata": {
        "id": "fvNHbi_YoQ07"
      },
      "source": [
        "y_hc1=hc1.fit_predict(label_1_cl)"
      ],
      "execution_count": 42,
      "outputs": []
    },
    {
      "cell_type": "code",
      "metadata": {
        "colab": {
          "base_uri": "https://localhost:8080/"
        },
        "id": "GUeE5cyGor6n",
        "outputId": "bc81be31-7b75-4a0c-9b34-6a19a1711f97"
      },
      "source": [
        "print(y_hc1)"
      ],
      "execution_count": 43,
      "outputs": [
        {
          "output_type": "stream",
          "text": [
            "[0 0 0 ... 0 0 0]\n"
          ],
          "name": "stdout"
        }
      ]
    },
    {
      "cell_type": "code",
      "metadata": {
        "id": "EPdJ0Tc6o9x6"
      },
      "source": [
        "new_series1 = pd.Series(y_hc1)"
      ],
      "execution_count": 44,
      "outputs": []
    },
    {
      "cell_type": "code",
      "metadata": {
        "id": "hKP2i9pGpBTJ"
      },
      "source": [
        "conv_ser_df1 = new_series1.to_frame()"
      ],
      "execution_count": 45,
      "outputs": []
    },
    {
      "cell_type": "code",
      "metadata": {
        "id": "3QzNici0pHuB"
      },
      "source": [
        "conv_ser_df1.columns = ['2nd labeling']"
      ],
      "execution_count": 46,
      "outputs": []
    },
    {
      "cell_type": "code",
      "metadata": {
        "colab": {
          "base_uri": "https://localhost:8080/"
        },
        "id": "vsDbl2WapK6t",
        "outputId": "6d7b7c7c-9a1d-462c-a143-64b89fb16ee8"
      },
      "source": [
        "print(conv_ser_df1)"
      ],
      "execution_count": 125,
      "outputs": [
        {
          "output_type": "stream",
          "text": [
            "      2nd labeling\n",
            "0                0\n",
            "1                0\n",
            "2                0\n",
            "3                0\n",
            "4                0\n",
            "...            ...\n",
            "6146             0\n",
            "6147             0\n",
            "6148             0\n",
            "6149             0\n",
            "6150             0\n",
            "\n",
            "[6151 rows x 1 columns]\n"
          ],
          "name": "stdout"
        }
      ]
    },
    {
      "cell_type": "code",
      "metadata": {
        "colab": {
          "base_uri": "https://localhost:8080/"
        },
        "id": "AWXzAuM5v1QS",
        "outputId": "2220dccf-4f70-44e8-9708-48aa64d28e79"
      },
      "source": [
        "dfhc_label_1.reset_index(drop=True, inplace=True)\n",
        "print(dfhc_label_1)"
      ],
      "execution_count": 47,
      "outputs": [
        {
          "output_type": "stream",
          "text": [
            "           Value  labels\n",
            "0     329.996735       1\n",
            "1     330.208771       1\n",
            "2     329.727112       1\n",
            "3     360.813446       1\n",
            "4     330.187531       1\n",
            "...          ...     ...\n",
            "6146  330.318817       1\n",
            "6147  363.662292       1\n",
            "6148  331.320648       1\n",
            "6149  330.544861       1\n",
            "6150  330.223846       1\n",
            "\n",
            "[6151 rows x 2 columns]\n"
          ],
          "name": "stdout"
        }
      ]
    },
    {
      "cell_type": "code",
      "metadata": {
        "colab": {
          "base_uri": "https://localhost:8080/"
        },
        "id": "oGnopqUTpSbR",
        "outputId": "8b8617b8-073e-4e06-c592-61f142862d3c"
      },
      "source": [
        "dfhc_label_1 = pd.concat([dfhc_label_1, conv_ser_df1], axis=1) \n",
        "print(dfhc_label_1)"
      ],
      "execution_count": 48,
      "outputs": [
        {
          "output_type": "stream",
          "text": [
            "           Value  labels  2nd labeling\n",
            "0     329.996735       1             0\n",
            "1     330.208771       1             0\n",
            "2     329.727112       1             0\n",
            "3     360.813446       1             0\n",
            "4     330.187531       1             0\n",
            "...          ...     ...           ...\n",
            "6146  330.318817       1             0\n",
            "6147  363.662292       1             0\n",
            "6148  331.320648       1             0\n",
            "6149  330.544861       1             0\n",
            "6150  330.223846       1             0\n",
            "\n",
            "[6151 rows x 3 columns]\n"
          ],
          "name": "stdout"
        }
      ]
    },
    {
      "cell_type": "code",
      "metadata": {
        "colab": {
          "base_uri": "https://localhost:8080/"
        },
        "id": "43wTxOhkxqMB",
        "outputId": "89f197d3-554e-4234-9cdb-9004d5fb81fc"
      },
      "source": [
        "sum_column = dfhc_label_1[\"labels\"] + dfhc_label_1[\"2nd labeling\"]\n",
        "dfhc_label_1[\"Final Cluster\"] = sum_column\n",
        "print(dfhc_label_1)"
      ],
      "execution_count": 143,
      "outputs": [
        {
          "output_type": "stream",
          "text": [
            "           Value  labels  2nd labeling  Final Cluster\n",
            "0     329.996735       1             0              1\n",
            "1     330.208771       1             0              1\n",
            "2     329.727112       1             0              1\n",
            "3     360.813446       1             0              1\n",
            "4     330.187531       1             0              1\n",
            "...          ...     ...           ...            ...\n",
            "6146  330.318817       1             0              1\n",
            "6147  363.662292       1             0              1\n",
            "6148  331.320648       1             0              1\n",
            "6149  330.544861       1             0              1\n",
            "6150  330.223846       1             0              1\n",
            "\n",
            "[6151 rows x 4 columns]\n"
          ],
          "name": "stdout"
        }
      ]
    },
    {
      "cell_type": "code",
      "metadata": {
        "id": "wZn6Z6MuxET9"
      },
      "source": [
        "dfhc_label_1.to_csv(\"dfhc_label_1.csv\")"
      ],
      "execution_count": 144,
      "outputs": []
    },
    {
      "cell_type": "code",
      "metadata": {
        "id": "d_O4aEA76_15"
      },
      "source": [
        "label_2_cl = dfhc_label_2.iloc[:, [0]].values"
      ],
      "execution_count": 49,
      "outputs": []
    },
    {
      "cell_type": "code",
      "metadata": {
        "id": "bnWcZQUL7FVt",
        "colab": {
          "base_uri": "https://localhost:8080/",
          "height": 298
        },
        "outputId": "f1994250-a1ff-4301-a0db-6a2e59641671"
      },
      "source": [
        "dendrogram = sch.dendrogram(sch.linkage(label_2_cl, method  = \"ward\"))\n",
        "plt.title('Dendrogram')\n",
        "plt.xlabel('Clusters(lbl2)')\n",
        "plt.ylabel('Euclidean distance')\n",
        "plt.show()"
      ],
      "execution_count": 50,
      "outputs": [
        {
          "output_type": "display_data",
          "data": {
            "image/png": "[encoded data removed]",
            "text/plain": [
              "<Figure size 432x288 with 1 Axes>"
            ]
          },
          "metadata": {
            "tags": [],
            "needs_background": "light"
          }
        }
      ]
    },
    {
      "cell_type": "code",
      "metadata": {
        "id": "BSJKgl5gthZO"
      },
      "source": [
        "from sklearn.cluster import AgglomerativeClustering \n",
        "hc2 = AgglomerativeClustering(n_clusters = 4, affinity = 'euclidean', linkage ='ward')"
      ],
      "execution_count": 50,
      "outputs": []
    },
    {
      "cell_type": "code",
      "metadata": {
        "id": "vHjbdw5Otl4K"
      },
      "source": [
        "y_hc2=hc2.fit_predict(label_2_cl)"
      ],
      "execution_count": 51,
      "outputs": []
    },
    {
      "cell_type": "code",
      "metadata": {
        "colab": {
          "base_uri": "https://localhost:8080/"
        },
        "id": "DYw1yzgLtuBa",
        "outputId": "b9149cc9-4ec5-4bc3-8ea1-6b6cc7501c23"
      },
      "source": [
        "print(y_hc2)"
      ],
      "execution_count": 52,
      "outputs": [
        {
          "output_type": "stream",
          "text": [
            "[1 1 1 ... 1 1 1]\n"
          ],
          "name": "stdout"
        }
      ]
    },
    {
      "cell_type": "code",
      "metadata": {
        "id": "3nCY-Xiytyet"
      },
      "source": [
        "new_series2 = pd.Series(y_hc2)"
      ],
      "execution_count": 53,
      "outputs": []
    },
    {
      "cell_type": "code",
      "metadata": {
        "id": "3dpsxzrct2IY"
      },
      "source": [
        "conv_ser_df2 = new_series2.to_frame()"
      ],
      "execution_count": 54,
      "outputs": []
    },
    {
      "cell_type": "code",
      "metadata": {
        "id": "2DhCT24St5K-"
      },
      "source": [
        "conv_ser_df2.columns = ['2nd labeling']"
      ],
      "execution_count": 55,
      "outputs": []
    },
    {
      "cell_type": "code",
      "metadata": {
        "colab": {
          "base_uri": "https://localhost:8080/"
        },
        "id": "SjPLQg4bwlHq",
        "outputId": "d82423c6-42f3-4f63-91c5-30cfa0b99751"
      },
      "source": [
        "dfhc_label_2.reset_index(drop=True, inplace=True)\n",
        "print(dfhc_label_2)"
      ],
      "execution_count": 56,
      "outputs": [
        {
          "output_type": "stream",
          "text": [
            "            Value  labels\n",
            "0     2599.917969       2\n",
            "1     2509.802246       2\n",
            "2     2623.934082       2\n",
            "3     2529.280518       2\n",
            "4     2600.648438       2\n",
            "...           ...     ...\n",
            "5203  2612.839111       2\n",
            "5204  2550.220215       2\n",
            "5205  2521.514404       2\n",
            "5206  2551.750732       2\n",
            "5207  2495.293701       2\n",
            "\n",
            "[5208 rows x 2 columns]\n"
          ],
          "name": "stdout"
        }
      ]
    },
    {
      "cell_type": "code",
      "metadata": {
        "colab": {
          "base_uri": "https://localhost:8080/"
        },
        "id": "AFcsx7XwuPNY",
        "outputId": "ebc9f669-f2e7-4fd6-dd55-7282742ae627"
      },
      "source": [
        "dfhc_label_2 = pd.concat([dfhc_label_2, conv_ser_df2], axis=1)\n",
        "print(dfhc_label_2)"
      ],
      "execution_count": 57,
      "outputs": [
        {
          "output_type": "stream",
          "text": [
            "            Value  labels  2nd labeling\n",
            "0     2599.917969       2             1\n",
            "1     2509.802246       2             1\n",
            "2     2623.934082       2             1\n",
            "3     2529.280518       2             1\n",
            "4     2600.648438       2             1\n",
            "...           ...     ...           ...\n",
            "5203  2612.839111       2             1\n",
            "5204  2550.220215       2             1\n",
            "5205  2521.514404       2             1\n",
            "5206  2551.750732       2             1\n",
            "5207  2495.293701       2             1\n",
            "\n",
            "[5208 rows x 3 columns]\n"
          ],
          "name": "stdout"
        }
      ]
    },
    {
      "cell_type": "code",
      "metadata": {
        "colab": {
          "base_uri": "https://localhost:8080/"
        },
        "id": "SYwJ5J0Cx_0j",
        "outputId": "6a755553-10ce-48d8-ad93-e9777f8cb26a"
      },
      "source": [
        "dfhc_label_2[\"Final Cluster\"] = dfhc_label_2.apply(lambda row: row['labels'] + row['2nd labeling'], axis=1)\n",
        "print(dfhc_label_2)"
      ],
      "execution_count": 151,
      "outputs": [
        {
          "output_type": "stream",
          "text": [
            "            Value  labels  2nd labeling  Final Cluster\n",
            "0     2599.917969       2             1            3.0\n",
            "1     2509.802246       2             1            3.0\n",
            "2     2623.934082       2             1            3.0\n",
            "3     2529.280518       2             1            3.0\n",
            "4     2600.648438       2             1            3.0\n",
            "...           ...     ...           ...            ...\n",
            "5203  2612.839111       2             1            3.0\n",
            "5204  2550.220215       2             1            3.0\n",
            "5205  2521.514404       2             1            3.0\n",
            "5206  2551.750732       2             1            3.0\n",
            "5207  2495.293701       2             1            3.0\n",
            "\n",
            "[5208 rows x 4 columns]\n"
          ],
          "name": "stdout"
        }
      ]
    },
    {
      "cell_type": "code",
      "metadata": {
        "id": "oZppywIYw-C6"
      },
      "source": [
        "dfhc_label_2.to_csv(\"dfhc_label_2.csv\")"
      ],
      "execution_count": 152,
      "outputs": []
    },
    {
      "cell_type": "code",
      "metadata": {
        "id": "z0qzHHuSvLjQ"
      },
      "source": [
        "dfhc_label_0['2nd labeling'] = 0"
      ],
      "execution_count": 58,
      "outputs": []
    },
    {
      "cell_type": "code",
      "metadata": {
        "colab": {
          "base_uri": "https://localhost:8080/"
        },
        "id": "WDA9kQeE0_Rg",
        "outputId": "37e61bdf-4e0a-4e89-e811-f755a2c68fac"
      },
      "source": [
        "dfhc_label_0[\"Final Cluster\"] = dfhc_label_0.apply(lambda row: row['labels'] + row['2nd labeling'], axis=1)\n",
        "print(dfhc_label_0)"
      ],
      "execution_count": 59,
      "outputs": [
        {
          "output_type": "stream",
          "text": [
            "             Value  labels  2nd labeling  Final Cluster\n",
            "2      2309.598389       0             0            0.0\n",
            "10     2321.235107       0             0            0.0\n",
            "91     2337.567627       0             0            0.0\n",
            "92     2381.911865       0             0            0.0\n",
            "93     2291.888184       0             0            0.0\n",
            "...            ...     ...           ...            ...\n",
            "11869  2294.967285       0             0            0.0\n",
            "11876  2296.531738       0             0            0.0\n",
            "11920  2304.652344       0             0            0.0\n",
            "11933  2303.780762       0             0            0.0\n",
            "11990  2306.362305       0             0            0.0\n",
            "\n",
            "[724 rows x 4 columns]\n"
          ],
          "name": "stdout"
        }
      ]
    },
    {
      "cell_type": "code",
      "metadata": {
        "colab": {
          "base_uri": "https://localhost:8080/"
        },
        "id": "xQ1m0kVaz9fk",
        "outputId": "2607f847-1cf8-45c9-8985-410ac4b7f4cb"
      },
      "source": [
        "frames = [dfhc_label_0,dfhc_label_1,dfhc_label_2]\n",
        "df_finalized_cluster = pd.concat(frames, keys=['label0', 'label1', 'label2'])\n",
        "print(df_finalized_cluster)"
      ],
      "execution_count": 87,
      "outputs": [
        {
          "output_type": "stream",
          "text": [
            "                   Value  labels  2nd labeling  Final Cluster\n",
            "label0 2     2309.598389       0             0            0.0\n",
            "       10    2321.235107       0             0            0.0\n",
            "       91    2337.567627       0             0            0.0\n",
            "       92    2381.911865       0             0            0.0\n",
            "       93    2291.888184       0             0            0.0\n",
            "...                  ...     ...           ...            ...\n",
            "label2 5203  2612.839111       2             1            NaN\n",
            "       5204  2550.220215       2             1            NaN\n",
            "       5205  2521.514404       2             1            NaN\n",
            "       5206  2551.750732       2             1            NaN\n",
            "       5207  2495.293701       2             1            NaN\n",
            "\n",
            "[12083 rows x 4 columns]\n"
          ],
          "name": "stdout"
        }
      ]
    },
    {
      "cell_type": "code",
      "metadata": {
        "id": "zMoTzIcSoaWL"
      },
      "source": [
        "df_finalized_cluster.drop(['Final Cluster'],axis='columns', inplace=True)"
      ],
      "execution_count": 89,
      "outputs": []
    },
    {
      "cell_type": "code",
      "metadata": {
        "colab": {
          "base_uri": "https://localhost:8080/"
        },
        "id": "EuSMojIbonaP",
        "outputId": "8126bb99-4586-4861-fac5-83f210f281fa"
      },
      "source": [
        "print(df_finalized_cluster)"
      ],
      "execution_count": 90,
      "outputs": [
        {
          "output_type": "stream",
          "text": [
            "                   Value  labels  2nd labeling\n",
            "label0 2     2309.598389       0             0\n",
            "       10    2321.235107       0             0\n",
            "       91    2337.567627       0             0\n",
            "       92    2381.911865       0             0\n",
            "       93    2291.888184       0             0\n",
            "...                  ...     ...           ...\n",
            "label2 5203  2612.839111       2             1\n",
            "       5204  2550.220215       2             1\n",
            "       5205  2521.514404       2             1\n",
            "       5206  2551.750732       2             1\n",
            "       5207  2495.293701       2             1\n",
            "\n",
            "[12083 rows x 3 columns]\n"
          ],
          "name": "stdout"
        }
      ]
    },
    {
      "cell_type": "code",
      "metadata": {
        "colab": {
          "base_uri": "https://localhost:8080/",
          "height": 295
        },
        "id": "_gMaBeya1Lb7",
        "outputId": "9e46bd16-5a87-4a21-96de-145dd04ec0b9"
      },
      "source": [
        "import matplotlib.pyplot as plot\n",
        "\n",
        "df_finalized_cluster.plot.scatter(x=\"Final Cluster\", y=\"Value\", title= \"Scatter plot\");\n",
        "plot.show(block=True);"
      ],
      "execution_count": 157,
      "outputs": [
        {
          "output_type": "display_data",
          "data": {
            "image/png": "[encoded data removed]",
            "text/plain": [
              "<Figure size 432x288 with 1 Axes>"
            ]
          },
          "metadata": {
            "tags": [],
            "needs_background": "light"
          }
        }
      ]
    },
    {
      "cell_type": "code",
      "metadata": {
        "colab": {
          "base_uri": "https://localhost:8080/"
        },
        "id": "II3DjTF6wHg8",
        "outputId": "55289316-3a4d-43cc-c7fe-d3d7cccdd582"
      },
      "source": [
        "df_finalized_cluster.rename(columns={'2nd_labeling':'Second_labeling'},inplace=True)\n",
        "print(df_finalized_cluster)"
      ],
      "execution_count": 104,
      "outputs": [
        {
          "output_type": "stream",
          "text": [
            "                   Value  labels  Second_labeling\n",
            "label0 2     2309.598389       0                0\n",
            "       10    2321.235107       0                0\n",
            "       91    2337.567627       0                0\n",
            "       92    2381.911865       0                0\n",
            "       93    2291.888184       0                0\n",
            "...                  ...     ...              ...\n",
            "label2 5203  2612.839111       2                1\n",
            "       5204  2550.220215       2                1\n",
            "       5205  2521.514404       2                1\n",
            "       5206  2551.750732       2                1\n",
            "       5207  2495.293701       2                1\n",
            "\n",
            "[12083 rows x 3 columns]\n"
          ],
          "name": "stdout"
        }
      ]
    },
    {
      "cell_type": "code",
      "metadata": {
        "id": "d4Zh67aepcB-"
      },
      "source": [
        "def final_cluster(flabel,slabel):\n",
        "    if (flabel==0) & (slabel ==0):\n",
        "         return 0\n",
        "    elif ((flabel==1) & (slabel ==0)):\n",
        "         return 1\n",
        "    elif ((flabel==1) & (slabel ==1)):\n",
        "         return 2\n",
        "    elif (flabel==1) & (slabel ==2):\n",
        "         return 3\n",
        "    elif (flabel==2) & (slabel ==0):\n",
        "         return 4\n",
        "    elif (flabel==2) & (slabel ==1):\n",
        "         return 5\n",
        "    elif (flabel==2) & (slabel ==2):\n",
        "         return 6\n",
        "    else:\n",
        "         return 7"
      ],
      "execution_count": 180,
      "outputs": []
    },
    {
      "cell_type": "code",
      "metadata": {
        "id": "DH-gtCsKpc2q"
      },
      "source": [
        "df_finalized_cluster['Final Cluster'] = df_finalized_cluster.apply(lambda x: final_cluster(x.labels,x.Second_labeling), axis=1)"
      ],
      "execution_count": 181,
      "outputs": []
    },
    {
      "cell_type": "code",
      "metadata": {
        "colab": {
          "base_uri": "https://localhost:8080/"
        },
        "id": "xcaKe75GxgOZ",
        "outputId": "ee68c0a0-01a0-4892-d7cd-4af4160d0a14"
      },
      "source": [
        "df_finalized_cluster.head"
      ],
      "execution_count": 182,
      "outputs": [
        {
          "output_type": "execute_result",
          "data": {
            "text/plain": [
              "<bound method NDFrame.head of                    Value  labels  Second_labeling  Final Cluster\n",
              "label0 2     2309.598389       0                0              0\n",
              "       10    2321.235107       0                0              0\n",
              "       91    2337.567627       0                0              0\n",
              "       92    2381.911865       0                0              0\n",
              "       93    2291.888184       0                0              0\n",
              "...                  ...     ...              ...            ...\n",
              "label2 5203  2612.839111       2                1              5\n",
              "       5204  2550.220215       2                1              5\n",
              "       5205  2521.514404       2                1              5\n",
              "       5206  2551.750732       2                1              5\n",
              "       5207  2495.293701       2                1              5\n",
              "\n",
              "[12083 rows x 4 columns]>"
            ]
          },
          "metadata": {
            "tags": []
          },
          "execution_count": 182
        }
      ]
    },
    {
      "cell_type": "code",
      "metadata": {
        "colab": {
          "base_uri": "https://localhost:8080/",
          "height": 297
        },
        "id": "7uspJzNq00-z",
        "outputId": "569fcee1-af38-4b4a-8bcc-a790ba5b39cb"
      },
      "source": [
        "df_finalized_cluster.describe()"
      ],
      "execution_count": 183,
      "outputs": [
        {
          "output_type": "execute_result",
          "data": {
            "text/html": [
              "<div>\n",
              "<style scoped>\n",
              "    .dataframe tbody tr th:only-of-type {\n",
              "        vertical-align: middle;\n",
              "    }\n",
              "\n",
              "    .dataframe tbody tr th {\n",
              "        vertical-align: top;\n",
              "    }\n",
              "\n",
              "    .dataframe thead th {\n",
              "        text-align: right;\n",
              "    }\n",
              "</style>\n",
              "<table border=\"1\" class=\"dataframe\">\n",
              "  <thead>\n",
              "    <tr style=\"text-align: right;\">\n",
              "      <th></th>\n",
              "      <th>Value</th>\n",
              "      <th>labels</th>\n",
              "      <th>Second_labeling</th>\n",
              "      <th>Final Cluster</th>\n",
              "    </tr>\n",
              "  </thead>\n",
              "  <tbody>\n",
              "    <tr>\n",
              "      <th>count</th>\n",
              "      <td>12083.000000</td>\n",
              "      <td>12083.00000</td>\n",
              "      <td>12083.000000</td>\n",
              "      <td>12083.00000</td>\n",
              "    </tr>\n",
              "    <tr>\n",
              "      <th>mean</th>\n",
              "      <td>1520.120111</td>\n",
              "      <td>1.37110</td>\n",
              "      <td>0.933543</td>\n",
              "      <td>3.16668</td>\n",
              "    </tr>\n",
              "    <tr>\n",
              "      <th>std</th>\n",
              "      <td>1223.833518</td>\n",
              "      <td>0.59435</td>\n",
              "      <td>1.192512</td>\n",
              "      <td>2.64882</td>\n",
              "    </tr>\n",
              "    <tr>\n",
              "      <th>min</th>\n",
              "      <td>9.638062</td>\n",
              "      <td>0.00000</td>\n",
              "      <td>0.000000</td>\n",
              "      <td>0.00000</td>\n",
              "    </tr>\n",
              "    <tr>\n",
              "      <th>25%</th>\n",
              "      <td>331.244293</td>\n",
              "      <td>1.00000</td>\n",
              "      <td>0.000000</td>\n",
              "      <td>1.00000</td>\n",
              "    </tr>\n",
              "    <tr>\n",
              "      <th>50%</th>\n",
              "      <td>364.946594</td>\n",
              "      <td>1.00000</td>\n",
              "      <td>0.000000</td>\n",
              "      <td>1.00000</td>\n",
              "    </tr>\n",
              "    <tr>\n",
              "      <th>75%</th>\n",
              "      <td>2813.928955</td>\n",
              "      <td>2.00000</td>\n",
              "      <td>2.000000</td>\n",
              "      <td>6.00000</td>\n",
              "    </tr>\n",
              "    <tr>\n",
              "      <th>max</th>\n",
              "      <td>3512.961670</td>\n",
              "      <td>2.00000</td>\n",
              "      <td>3.000000</td>\n",
              "      <td>7.00000</td>\n",
              "    </tr>\n",
              "  </tbody>\n",
              "</table>\n",
              "</div>"
            ],
            "text/plain": [
              "              Value       labels  Second_labeling  Final Cluster\n",
              "count  12083.000000  12083.00000     12083.000000    12083.00000\n",
              "mean    1520.120111      1.37110         0.933543        3.16668\n",
              "std     1223.833518      0.59435         1.192512        2.64882\n",
              "min        9.638062      0.00000         0.000000        0.00000\n",
              "25%      331.244293      1.00000         0.000000        1.00000\n",
              "50%      364.946594      1.00000         0.000000        1.00000\n",
              "75%     2813.928955      2.00000         2.000000        6.00000\n",
              "max     3512.961670      2.00000         3.000000        7.00000"
            ]
          },
          "metadata": {
            "tags": []
          },
          "execution_count": 183
        }
      ]
    },
    {
      "cell_type": "code",
      "metadata": {
        "colab": {
          "base_uri": "https://localhost:8080/",
          "height": 295
        },
        "id": "gjYjKnu-0gpu",
        "outputId": "d0d4a100-4330-469b-911d-994a7b0ff527"
      },
      "source": [
        "import matplotlib.pyplot as plot\n",
        "\n",
        "df_finalized_cluster.plot.scatter(x=\"Final Cluster\", y=\"Value\", title= \"Scatter plot\");\n",
        "plot.show(block=True);"
      ],
      "execution_count": 184,
      "outputs": [
        {
          "output_type": "display_data",
          "data": {
            "image/png": "[encoded data removed]",
            "text/plain": [
              "<Figure size 432x288 with 1 Axes>"
            ]
          },
          "metadata": {
            "tags": [],
            "needs_background": "light"
          }
        }
      ]
    },
    {
      "cell_type": "code",
      "metadata": {
        "id": "tzg63l0Q--HK"
      },
      "source": [
        "df_finalized_cluster.to_csv(\"df_finalized_cluster.csv\")"
      ],
      "execution_count": 155,
      "outputs": []
    },
    {
      "cell_type": "code",
      "metadata": {
        "colab": {
          "base_uri": "https://localhost:8080/"
        },
        "id": "Bhuojmek191F",
        "outputId": "4f7b4c96-8949-495e-fe2f-4f2b867de60f"
      },
      "source": [
        "df_finalized_cluster['Final Cluster'].unique()"
      ],
      "execution_count": 185,
      "outputs": [
        {
          "output_type": "execute_result",
          "data": {
            "text/plain": [
              "array([0, 1, 3, 2, 5, 7, 6, 4])"
            ]
          },
          "metadata": {
            "tags": []
          },
          "execution_count": 185
        }
      ]
    },
    {
      "cell_type": "code",
      "metadata": {
        "colab": {
          "base_uri": "https://localhost:8080/"
        },
        "id": "_LxmD5mC32Eq",
        "outputId": "56f97be9-4a91-4ec5-fa35-58710c6dedf2"
      },
      "source": [
        "print(df_finalized_cluster['Final Cluster'].value_counts())"
      ],
      "execution_count": 187,
      "outputs": [
        {
          "output_type": "stream",
          "text": [
            "1    5925\n",
            "6    2652\n",
            "7    1847\n",
            "0     724\n",
            "4     523\n",
            "2     203\n",
            "5     186\n",
            "3      23\n",
            "Name: Final Cluster, dtype: int64\n"
          ],
          "name": "stdout"
        }
      ]
    },
    {
      "cell_type": "code",
      "metadata": {
        "colab": {
          "base_uri": "https://localhost:8080/"
        },
        "id": "XbiEV0mr5Rah",
        "outputId": "b89e8f01-3da3-437e-9a4d-a7b0fc7b191d"
      },
      "source": [
        "percent0 = 724 / 12083 * 100\n",
        "print(percent0)"
      ],
      "execution_count": 161,
      "outputs": [
        {
          "output_type": "stream",
          "text": [
            "5.9918894314325915\n"
          ],
          "name": "stdout"
        }
      ]
    },
    {
      "cell_type": "code",
      "metadata": {
        "colab": {
          "base_uri": "https://localhost:8080/"
        },
        "id": "bLy1dgb65vLG",
        "outputId": "80aefb4c-3be7-4067-b5fc-e07812cd3f01"
      },
      "source": [
        "percent1 = 5925 / 12083 * 100\n",
        "print(percent1)"
      ],
      "execution_count": 162,
      "outputs": [
        {
          "output_type": "stream",
          "text": [
            "49.035835471323345\n"
          ],
          "name": "stdout"
        }
      ]
    },
    {
      "cell_type": "code",
      "metadata": {
        "colab": {
          "base_uri": "https://localhost:8080/"
        },
        "id": "-h6Qp1ba5z7z",
        "outputId": "cb805ce6-3d39-4fbe-cc56-913276a05e27"
      },
      "source": [
        "percent2 = 523 / 12083 * 100\n",
        "print(percent2)"
      ],
      "execution_count": 199,
      "outputs": [
        {
          "output_type": "stream",
          "text": [
            "4.328395266076305\n"
          ],
          "name": "stdout"
        }
      ]
    },
    {
      "cell_type": "code",
      "metadata": {
        "id": "Mm1-h2ptymIs",
        "outputId": "d651a726-5097-4593-d7aa-b9a237bb05ad",
        "colab": {
          "base_uri": "https://localhost:8080/"
        }
      },
      "source": [
        "percent3 = 23 / 12083 * 100\n",
        "print(percent3)"
      ],
      "execution_count": 200,
      "outputs": [
        {
          "output_type": "stream",
          "text": [
            "0.19035007862285855\n"
          ],
          "name": "stdout"
        }
      ]
    },
    {
      "cell_type": "code",
      "metadata": {
        "colab": {
          "base_uri": "https://localhost:8080/"
        },
        "id": "d21xBlKo54AE",
        "outputId": "6598da67-77eb-4e1d-9cf4-2d2b342beb41"
      },
      "source": [
        "percent4 = 523 / 12083 * 100\n",
        "print(percent4)"
      ],
      "execution_count": 163,
      "outputs": [
        {
          "output_type": "stream",
          "text": [
            "1.6800463461060993\n"
          ],
          "name": "stdout"
        }
      ]
    },
    {
      "cell_type": "code",
      "metadata": {
        "id": "-nv0FrhJywty",
        "outputId": "3df165be-135d-4833-8a15-8df87f422446",
        "colab": {
          "base_uri": "https://localhost:8080/"
        }
      },
      "source": [
        "percent5 = 186 / 12083 * 100\n",
        "print(percent5)"
      ],
      "execution_count": 201,
      "outputs": [
        {
          "output_type": "stream",
          "text": [
            "1.5393528097326823\n"
          ],
          "name": "stdout"
        }
      ]
    },
    {
      "cell_type": "code",
      "metadata": {
        "colab": {
          "base_uri": "https://localhost:8080/"
        },
        "id": "nStcWbsX5-nB",
        "outputId": "5ab33f79-86bc-4d35-8042-965a745cd850"
      },
      "source": [
        "percent6 = 2652 / 12083 * 100\n",
        "print(percent6)"
      ],
      "execution_count": 196,
      "outputs": [
        {
          "output_type": "stream",
          "text": [
            "21.948191674253085\n"
          ],
          "name": "stdout"
        }
      ]
    },
    {
      "cell_type": "code",
      "metadata": {
        "colab": {
          "base_uri": "https://localhost:8080/"
        },
        "id": "yprZxqkq6A6c",
        "outputId": "cdb9ce4e-50b4-4329-b03a-85b0be8ef129"
      },
      "source": [
        "percent7 = 1847 / 12083 * 100\n",
        "print(percent7)"
      ],
      "execution_count": 197,
      "outputs": [
        {
          "output_type": "stream",
          "text": [
            "15.285938922453033\n"
          ],
          "name": "stdout"
        }
      ]
    },
    {
      "cell_type": "code",
      "metadata": {
        "id": "18d_OFF4d55Y"
      },
      "source": [
        "df_label_1= df_finalized_cluster[df_finalized_cluster['Final Cluster']==1].copy()"
      ],
      "execution_count": 188,
      "outputs": []
    },
    {
      "cell_type": "code",
      "metadata": {
        "colab": {
          "base_uri": "https://localhost:8080/"
        },
        "id": "VWhYkHiQeXpT",
        "outputId": "22795d04-42f1-4bb5-90af-6d401e13f996"
      },
      "source": [
        "print(df_label_1)"
      ],
      "execution_count": 189,
      "outputs": [
        {
          "output_type": "stream",
          "text": [
            "                  Value  labels  Second_labeling  Final Cluster\n",
            "label1 0     329.996735       1                0              1\n",
            "       1     330.208771       1                0              1\n",
            "       2     329.727112       1                0              1\n",
            "       3     360.813446       1                0              1\n",
            "       4     330.187531       1                0              1\n",
            "...                 ...     ...              ...            ...\n",
            "       6146  330.318817       1                0              1\n",
            "       6147  363.662292       1                0              1\n",
            "       6148  331.320648       1                0              1\n",
            "       6149  330.544861       1                0              1\n",
            "       6150  330.223846       1                0              1\n",
            "\n",
            "[5925 rows x 4 columns]\n"
          ],
          "name": "stdout"
        }
      ]
    },
    {
      "cell_type": "code",
      "metadata": {
        "id": "t_rgj1_e9h2Y"
      },
      "source": [
        "df_label_1_fil = df_label_1.iloc[:, [0]].values"
      ],
      "execution_count": 204,
      "outputs": []
    },
    {
      "cell_type": "code",
      "metadata": {
        "id": "GeZTjw5k9UUD"
      },
      "source": [
        "import numpy as np\n",
        "import pandas as pd\n",
        "outliers=[]\n",
        "def detect_outlier(data_1):\n",
        "    \n",
        "    threshold=1\n",
        "    mean_1 = np.mean(data_1)\n",
        "    std_1 =np.std(data_1)\n",
        "    \n",
        "    \n",
        "    for y in data_1:\n",
        "        z_score= (y - mean_1)//std_1 \n",
        "        if np.abs(z_score) > threshold:\n",
        "            outliers.append(y)\n",
        "    return outliers"
      ],
      "execution_count": 206,
      "outputs": []
    },
    {
      "cell_type": "code",
      "metadata": {
        "id": "poQswud1-u1d",
        "outputId": "c983a927-51e1-4213-ecd2-a372b6ad4fa0",
        "colab": {
          "base_uri": "https://localhost:8080/"
        }
      },
      "source": [
        "outlier_datapoints = detect_outlier(df_label_1_fil)\n",
        "print(outlier_datapoints)"
      ],
      "execution_count": 207,
      "outputs": [
        {
          "output_type": "stream",
          "text": [
            "[array([410.6863708]), array([233.4234009]), array([391.3821716]), array([404.1696167]), array([410.3169556]), array([203.6439209]), array([220.41008]), array([282.7147217]), array([293.8190613]), array([293.4976807]), array([293.4474487]), array([230.9111023]), array([199.5223846]), array([221.8990784]), array([410.3270874]), array([410.826355]), array([409.4089966]), array([280.2159119]), array([175.8449402]), array([189.0060883]), array([234.8230591]), array([262.9851379]), array([397.2203979]), array([230.0513458]), array([209.1531525]), array([422.0570068]), array([186.9858856]), array([240.3462219]), array([280.9454346]), array([287.1135864]), array([168.4065552]), array([283.5693665]), array([275.4144897]), array([261.4732056]), array([260.0751343]), array([240.5026398]), array([269.877533]), array([292.3573608]), array([185.4667511]), array([199.9732513]), array([410.1991272]), array([239.5001068]), array([229.0778809]), array([196.2640686]), array([185.4111481]), array([170.2955933]), array([251.4184113]), array([293.5363159]), array([297.6388245]), array([166.5923462]), array([191.6427917]), array([310.8485107]), array([308.0027161]), array([285.1596375]), array([280.681488]), array([263.6078796]), array([261.3559875]), array([182.7468719]), array([194.9756165]), array([202.716507]), array([205.8387146]), array([431.3603516]), array([225.7312012]), array([467.6235046]), array([240.7306366]), array([294.5074158]), array([247.2107239]), array([221.2819519]), array([414.9476318]), array([203.3650665]), array([405.9497375]), array([194.4794464]), array([165.7490082]), array([275.4960938]), array([284.5559082]), array([167.4181366]), array([172.8030396]), array([181.743042]), array([203.9887543]), array([193.7571869]), array([178.5488586]), array([276.1044312]), array([270.3487549]), array([272.7618103]), array([275.5896912]), array([285.1514282]), array([286.0176086]), array([162.0373383]), array([182.7670288]), array([194.6048737]), array([199.5582123]), array([205.4546967]), array([225.1528168]), array([229.9416504]), array([474.1723633]), array([244.5642395]), array([249.7539063]), array([256.9047546]), array([281.6936646]), array([256.9801331]), array([243.6155701]), array([212.1052551]), array([201.7444]), array([174.6098022]), array([268.0106506]), array([449.2149963]), array([311.2143555]), array([177.1817627]), array([176.000824]), array([194.8349762]), array([192.8826599]), array([411.6917725]), array([177.0455627]), array([267.891571]), array([258.4762268]), array([263.539856]), array([283.7314148]), array([294.9499207]), array([308.8576965]), array([188.4159393]), array([201.27034]), array([213.7183685]), array([218.4503174]), array([451.7872009]), array([472.9289856]), array([239.8553162]), array([242.942215]), array([253.6342316]), array([507.7442627]), array([262.4616394]), array([261.8779602]), array([294.1136169]), array([505.9689636]), array([242.9681854]), array([242.9404297]), array([220.9984436]), array([216.368927]), array([397.4447327]), array([192.5584717]), array([173.5827637]), array([219.7861481]), array([177.961792]), array([169.3845215]), array([238.5809326]), array([222.913681]), array([261.2931519]), array([299.2648315]), array([169.0915985]), array([186.9288025]), array([195.848465]), array([200.1521759]), array([213.4126892]), array([225.214798]), array([458.372406]), array([232.2163086]), array([228.4050903]), array([234.3495331]), array([243.251236]), array([260.447876]), array([225.0908813]), array([218.1443939]), array([433.8326416]), array([419.7576904]), array([212.5075684]), array([282.2799377]), array([274.6194153]), array([214.6022491]), array([166.2864685]), array([165.2357941]), array([308.1809998]), array([271.9406433]), array([292.4537659]), array([284.7850037]), array([300.4719849]), array([242.0162811]), array([182.9019165]), array([191.6943054]), array([394.1391907]), array([404.6260376]), array([409.3406067]), array([201.536499]), array([201.152771]), array([396.9963684]), array([238.2208557]), array([191.4968262]), array([183.2782135]), array([185.2322388]), array([186.1888428]), array([176.9209137]), array([171.9276428]), array([272.6217957]), array([265.2107239]), array([229.9776917]), array([241.2058716]), array([235.5762482]), array([243.4205475]), array([167.997406]), array([202.0691681]), array([411.8597107]), array([216.4909821]), array([307.6034241]), array([309.0823059]), array([309.9931335]), array([246.9858398]), array([200.2115631]), array([186.5264435]), array([263.1220093]), array([263.9870605]), array([196.7789917]), array([409.8977051]), array([182.3860779]), array([259.0604248]), array([409.7698669]), array([289.9564209]), array([408.7140808]), array([409.5829468]), array([411.5041199]), array([410.5791931]), array([413.0688477]), array([413.0381165]), array([413.382019])]\n"
          ],
          "name": "stdout"
        }
      ]
    },
    {
      "cell_type": "code",
      "metadata": {
        "id": "9K5U8ONP-wKf",
        "outputId": "efb09a42-fd51-4d2a-d433-18405cf4f8ee",
        "colab": {
          "base_uri": "https://localhost:8080/"
        }
      },
      "source": [
        "print('Identified z score outliers: %d' % len(outlier_datapoints))"
      ],
      "execution_count": 208,
      "outputs": [
        {
          "output_type": "stream",
          "text": [
            "Identified z score outliers: 221\n"
          ],
          "name": "stdout"
        }
      ]
    },
    {
      "cell_type": "code",
      "metadata": {
        "id": "HmLIwcqgd76A"
      },
      "source": [
        "df_label_6= df_finalized_cluster[df_finalized_cluster['Final Cluster']==6].copy()"
      ],
      "execution_count": 190,
      "outputs": []
    },
    {
      "cell_type": "code",
      "metadata": {
        "id": "yhS3es6HecUN",
        "outputId": "6fc968b6-e29f-454b-fd0c-4fc5aef9a7e1",
        "colab": {
          "base_uri": "https://localhost:8080/"
        }
      },
      "source": [
        "print(df_label_6)"
      ],
      "execution_count": 192,
      "outputs": [
        {
          "output_type": "stream",
          "text": [
            "                   Value  labels  Second_labeling  Final Cluster\n",
            "label2 10    2808.967773       2                2              6\n",
            "       13    2810.079834       2                2              6\n",
            "       15    2810.781494       2                2              6\n",
            "       18    2810.694580       2                2              6\n",
            "       19    2810.710205       2                2              6\n",
            "...                  ...     ...              ...            ...\n",
            "       5195  2811.371826       2                2              6\n",
            "       5197  2812.454834       2                2              6\n",
            "       5198  2810.744141       2                2              6\n",
            "       5200  2811.723633       2                2              6\n",
            "       5202  2797.922363       2                2              6\n",
            "\n",
            "[2652 rows x 4 columns]\n"
          ],
          "name": "stdout"
        }
      ]
    },
    {
      "cell_type": "code",
      "metadata": {
        "id": "fwgRadYQ_FYu"
      },
      "source": [
        "df_label_6_fil = df_label_6.iloc[:, [0]].values"
      ],
      "execution_count": 209,
      "outputs": []
    },
    {
      "cell_type": "code",
      "metadata": {
        "id": "XZ3AhCHP_CsH",
        "outputId": "c7af0b41-282d-4a24-8269-a5431ac5e6d9",
        "colab": {
          "base_uri": "https://localhost:8080/"
        }
      },
      "source": [
        "outlier_datapoints = detect_outlier(df_label_6_fil)\n",
        "print(outlier_datapoints)"
      ],
      "execution_count": 210,
      "outputs": [
        {
          "output_type": "stream",
          "text": [
            "[array([410.6863708]), array([233.4234009]), array([391.3821716]), array([404.1696167]), array([410.3169556]), array([203.6439209]), array([220.41008]), array([282.7147217]), array([293.8190613]), array([293.4976807]), array([293.4474487]), array([230.9111023]), array([199.5223846]), array([221.8990784]), array([410.3270874]), array([410.826355]), array([409.4089966]), array([280.2159119]), array([175.8449402]), array([189.0060883]), array([234.8230591]), array([262.9851379]), array([397.2203979]), array([230.0513458]), array([209.1531525]), array([422.0570068]), array([186.9858856]), array([240.3462219]), array([280.9454346]), array([287.1135864]), array([168.4065552]), array([283.5693665]), array([275.4144897]), array([261.4732056]), array([260.0751343]), array([240.5026398]), array([269.877533]), array([292.3573608]), array([185.4667511]), array([199.9732513]), array([410.1991272]), array([239.5001068]), array([229.0778809]), array([196.2640686]), array([185.4111481]), array([170.2955933]), array([251.4184113]), array([293.5363159]), array([297.6388245]), array([166.5923462]), array([191.6427917]), array([310.8485107]), array([308.0027161]), array([285.1596375]), array([280.681488]), array([263.6078796]), array([261.3559875]), array([182.7468719]), array([194.9756165]), array([202.716507]), array([205.8387146]), array([431.3603516]), array([225.7312012]), array([467.6235046]), array([240.7306366]), array([294.5074158]), array([247.2107239]), array([221.2819519]), array([414.9476318]), array([203.3650665]), array([405.9497375]), array([194.4794464]), array([165.7490082]), array([275.4960938]), array([284.5559082]), array([167.4181366]), array([172.8030396]), array([181.743042]), array([203.9887543]), array([193.7571869]), array([178.5488586]), array([276.1044312]), array([270.3487549]), array([272.7618103]), array([275.5896912]), array([285.1514282]), array([286.0176086]), array([162.0373383]), array([182.7670288]), array([194.6048737]), array([199.5582123]), array([205.4546967]), array([225.1528168]), array([229.9416504]), array([474.1723633]), array([244.5642395]), array([249.7539063]), array([256.9047546]), array([281.6936646]), array([256.9801331]), array([243.6155701]), array([212.1052551]), array([201.7444]), array([174.6098022]), array([268.0106506]), array([449.2149963]), array([311.2143555]), array([177.1817627]), array([176.000824]), array([194.8349762]), array([192.8826599]), array([411.6917725]), array([177.0455627]), array([267.891571]), array([258.4762268]), array([263.539856]), array([283.7314148]), array([294.9499207]), array([308.8576965]), array([188.4159393]), array([201.27034]), array([213.7183685]), array([218.4503174]), array([451.7872009]), array([472.9289856]), array([239.8553162]), array([242.942215]), array([253.6342316]), array([507.7442627]), array([262.4616394]), array([261.8779602]), array([294.1136169]), array([505.9689636]), array([242.9681854]), array([242.9404297]), array([220.9984436]), array([216.368927]), array([397.4447327]), array([192.5584717]), array([173.5827637]), array([219.7861481]), array([177.961792]), array([169.3845215]), array([238.5809326]), array([222.913681]), array([261.2931519]), array([299.2648315]), array([169.0915985]), array([186.9288025]), array([195.848465]), array([200.1521759]), array([213.4126892]), array([225.214798]), array([458.372406]), array([232.2163086]), array([228.4050903]), array([234.3495331]), array([243.251236]), array([260.447876]), array([225.0908813]), array([218.1443939]), array([433.8326416]), array([419.7576904]), array([212.5075684]), array([282.2799377]), array([274.6194153]), array([214.6022491]), array([166.2864685]), array([165.2357941]), array([308.1809998]), array([271.9406433]), array([292.4537659]), array([284.7850037]), array([300.4719849]), array([242.0162811]), array([182.9019165]), array([191.6943054]), array([394.1391907]), array([404.6260376]), array([409.3406067]), array([201.536499]), array([201.152771]), array([396.9963684]), array([238.2208557]), array([191.4968262]), array([183.2782135]), array([185.2322388]), array([186.1888428]), array([176.9209137]), array([171.9276428]), array([272.6217957]), array([265.2107239]), array([229.9776917]), array([241.2058716]), array([235.5762482]), array([243.4205475]), array([167.997406]), array([202.0691681]), array([411.8597107]), array([216.4909821]), array([307.6034241]), array([309.0823059]), array([309.9931335]), array([246.9858398]), array([200.2115631]), array([186.5264435]), array([263.1220093]), array([263.9870605]), array([196.7789917]), array([409.8977051]), array([182.3860779]), array([259.0604248]), array([409.7698669]), array([289.9564209]), array([408.7140808]), array([409.5829468]), array([411.5041199]), array([410.5791931]), array([413.0688477]), array([413.0381165]), array([413.382019]), array([2746.55957]), array([2749.432129]), array([2799.363281]), array([2753.442627]), array([2739.922119]), array([2744.610107]), array([2762.93335]), array([2744.558105]), array([2740.897217]), array([2744.89209]), array([2748.029297]), array([2752.885742]), array([2762.339355]), array([2756.186768]), array([2758.688965]), array([2752.54834]), array([2748.368652]), array([2754.225586]), array([2762.523193]), array([2765.050537]), array([2771.998779]), array([2773.473389]), array([2768.541504]), array([2771.551758]), array([2763.625488]), array([2768.144043]), array([2776.807373]), array([2751.239014]), array([2783.696289]), array([2776.463135]), array([2776.634277]), array([2756.565918]), array([2757.650879]), array([2747.911133]), array([2776.984863]), array([2792.727539]), array([2793.956055]), array([2787.565918]), array([2781.689697]), array([2787.774902]), array([2792.30127]), array([2789.823975]), array([2785.287354]), array([2756.739014]), array([2786.004639]), array([2756.32251]), array([2770.458984]), array([2770.12793]), array([2794.303955]), array([2767.368164]), array([2771.289307]), array([2795.601318]), array([2784.932617]), array([2780.151611]), array([2783.253906]), array([2782.267578]), array([2787.792969]), array([2784.436768]), array([2789.683105]), array([2783.211426]), array([2758.465576]), array([2775.05127]), array([2780.924805]), array([2773.203613]), array([2774.372559]), array([2776.57251]), array([2767.37085]), array([2771.252197]), array([2773.861816]), array([2769.275635]), array([2776.992432]), array([2775.227295]), array([2757.866943]), array([2770.419434]), array([2765.104492]), array([2767.767822]), array([2769.164063]), array([2765.514648]), array([2770.094971]), array([2754.043701]), array([2760.293213]), array([2759.950195]), array([2759.098145]), array([2760.927979]), array([2760.745361]), array([2760.070068]), array([2757.183594]), array([2764.30957]), array([2793.310791]), array([2749.576904]), array([2739.660889]), array([2756.89502]), array([2744.83374]), array([2747.500244]), array([2750.925537]), array([2751.513184]), array([2743.571777]), array([2745.047363]), array([2755.833496]), array([2797.63208]), array([2741.571045]), array([2741.966064]), array([2739.154053]), array([2760.812744]), array([2759.268066]), array([2755.268555]), array([2754.518555]), array([2755.976807]), array([2756.055176]), array([2760.278809]), array([2742.369873]), array([2753.397705]), array([2765.758789]), array([2755.585693]), array([2753.463135]), array([2768.681152]), array([2775.939453]), array([2749.249512]), array([2753.093262]), array([2761.78833]), array([2748.375]), array([2796.448486]), array([2746.561523]), array([2759.68457]), array([2758.497559]), array([2766.836426]), array([2774.78833]), array([2774.774902]), array([2769.397217]), array([2797.922363])]\n"
          ],
          "name": "stdout"
        }
      ]
    },
    {
      "cell_type": "code",
      "metadata": {
        "id": "gZHuJ40a_Nan",
        "outputId": "57da4cf1-1c9f-4adc-ac18-adc07a039162",
        "colab": {
          "base_uri": "https://localhost:8080/"
        }
      },
      "source": [
        "print('Identified z score outliers: %d' % len(outlier_datapoints))"
      ],
      "execution_count": 211,
      "outputs": [
        {
          "output_type": "stream",
          "text": [
            "Identified z score outliers: 351\n"
          ],
          "name": "stdout"
        }
      ]
    },
    {
      "cell_type": "code",
      "metadata": {
        "id": "kifG15qtd-cm"
      },
      "source": [
        "df_label_7= df_finalized_cluster[df_finalized_cluster['Final Cluster']==7].copy()"
      ],
      "execution_count": 193,
      "outputs": []
    },
    {
      "cell_type": "code",
      "metadata": {
        "id": "8oz1WyG0ee-w",
        "outputId": "6ef66f9c-d49e-468c-95b7-64284bb7f536",
        "colab": {
          "base_uri": "https://localhost:8080/"
        }
      },
      "source": [
        "print(df_label_7)"
      ],
      "execution_count": 194,
      "outputs": [
        {
          "output_type": "stream",
          "text": [
            "                   Value  labels  Second_labeling  Final Cluster\n",
            "label2 9     2877.055420       2                3              7\n",
            "       25    2884.017334       2                3              7\n",
            "       30    2867.845459       2                3              7\n",
            "       32    2883.833496       2                3              7\n",
            "       34    2878.962402       2                3              7\n",
            "...                  ...     ...              ...            ...\n",
            "       5192  2869.436768       2                3              7\n",
            "       5194  2873.517090       2                3              7\n",
            "       5196  2870.421387       2                3              7\n",
            "       5199  2872.702637       2                3              7\n",
            "       5201  2871.365723       2                3              7\n",
            "\n",
            "[1847 rows x 4 columns]\n"
          ],
          "name": "stdout"
        }
      ]
    },
    {
      "cell_type": "code",
      "metadata": {
        "id": "JCPCWkRmemzn"
      },
      "source": [
        "df_label_7_fil = df_label_7.iloc[:, [0]].values"
      ],
      "execution_count": 212,
      "outputs": []
    },
    {
      "cell_type": "code",
      "metadata": {
        "id": "87JMZlOR_U0T",
        "outputId": "dbb1d13a-0d67-415b-d069-ad76a1b9a3ed",
        "colab": {
          "base_uri": "https://localhost:8080/"
        }
      },
      "source": [
        "outlier_datapoints = detect_outlier(df_label_7_fil)\n",
        "print(outlier_datapoints)"
      ],
      "execution_count": 213,
      "outputs": [
        {
          "output_type": "stream",
          "text": [
            "[array([410.6863708]), array([233.4234009]), array([391.3821716]), array([404.1696167]), array([410.3169556]), array([203.6439209]), array([220.41008]), array([282.7147217]), array([293.8190613]), array([293.4976807]), array([293.4474487]), array([230.9111023]), array([199.5223846]), array([221.8990784]), array([410.3270874]), array([410.826355]), array([409.4089966]), array([280.2159119]), array([175.8449402]), array([189.0060883]), array([234.8230591]), array([262.9851379]), array([397.2203979]), array([230.0513458]), array([209.1531525]), array([422.0570068]), array([186.9858856]), array([240.3462219]), array([280.9454346]), array([287.1135864]), array([168.4065552]), array([283.5693665]), array([275.4144897]), array([261.4732056]), array([260.0751343]), array([240.5026398]), array([269.877533]), array([292.3573608]), array([185.4667511]), array([199.9732513]), array([410.1991272]), array([239.5001068]), array([229.0778809]), array([196.2640686]), array([185.4111481]), array([170.2955933]), array([251.4184113]), array([293.5363159]), array([297.6388245]), array([166.5923462]), array([191.6427917]), array([310.8485107]), array([308.0027161]), array([285.1596375]), array([280.681488]), array([263.6078796]), array([261.3559875]), array([182.7468719]), array([194.9756165]), array([202.716507]), array([205.8387146]), array([431.3603516]), array([225.7312012]), array([467.6235046]), array([240.7306366]), array([294.5074158]), array([247.2107239]), array([221.2819519]), array([414.9476318]), array([203.3650665]), array([405.9497375]), array([194.4794464]), array([165.7490082]), array([275.4960938]), array([284.5559082]), array([167.4181366]), array([172.8030396]), array([181.743042]), array([203.9887543]), array([193.7571869]), array([178.5488586]), array([276.1044312]), array([270.3487549]), array([272.7618103]), array([275.5896912]), array([285.1514282]), array([286.0176086]), array([162.0373383]), array([182.7670288]), array([194.6048737]), array([199.5582123]), array([205.4546967]), array([225.1528168]), array([229.9416504]), array([474.1723633]), array([244.5642395]), array([249.7539063]), array([256.9047546]), array([281.6936646]), array([256.9801331]), array([243.6155701]), array([212.1052551]), array([201.7444]), array([174.6098022]), array([268.0106506]), array([449.2149963]), array([311.2143555]), array([177.1817627]), array([176.000824]), array([194.8349762]), array([192.8826599]), array([411.6917725]), array([177.0455627]), array([267.891571]), array([258.4762268]), array([263.539856]), array([283.7314148]), array([294.9499207]), array([308.8576965]), array([188.4159393]), array([201.27034]), array([213.7183685]), array([218.4503174]), array([451.7872009]), array([472.9289856]), array([239.8553162]), array([242.942215]), array([253.6342316]), array([507.7442627]), array([262.4616394]), array([261.8779602]), array([294.1136169]), array([505.9689636]), array([242.9681854]), array([242.9404297]), array([220.9984436]), array([216.368927]), array([397.4447327]), array([192.5584717]), array([173.5827637]), array([219.7861481]), array([177.961792]), array([169.3845215]), array([238.5809326]), array([222.913681]), array([261.2931519]), array([299.2648315]), array([169.0915985]), array([186.9288025]), array([195.848465]), array([200.1521759]), array([213.4126892]), array([225.214798]), array([458.372406]), array([232.2163086]), array([228.4050903]), array([234.3495331]), array([243.251236]), array([260.447876]), array([225.0908813]), array([218.1443939]), array([433.8326416]), array([419.7576904]), array([212.5075684]), array([282.2799377]), array([274.6194153]), array([214.6022491]), array([166.2864685]), array([165.2357941]), array([308.1809998]), array([271.9406433]), array([292.4537659]), array([284.7850037]), array([300.4719849]), array([242.0162811]), array([182.9019165]), array([191.6943054]), array([394.1391907]), array([404.6260376]), array([409.3406067]), array([201.536499]), array([201.152771]), array([396.9963684]), array([238.2208557]), array([191.4968262]), array([183.2782135]), array([185.2322388]), array([186.1888428]), array([176.9209137]), array([171.9276428]), array([272.6217957]), array([265.2107239]), array([229.9776917]), array([241.2058716]), array([235.5762482]), array([243.4205475]), array([167.997406]), array([202.0691681]), array([411.8597107]), array([216.4909821]), array([307.6034241]), array([309.0823059]), array([309.9931335]), array([246.9858398]), array([200.2115631]), array([186.5264435]), array([263.1220093]), array([263.9870605]), array([196.7789917]), array([409.8977051]), array([182.3860779]), array([259.0604248]), array([409.7698669]), array([289.9564209]), array([408.7140808]), array([409.5829468]), array([411.5041199]), array([410.5791931]), array([413.0688477]), array([413.0381165]), array([413.382019]), array([2746.55957]), array([2749.432129]), array([2799.363281]), array([2753.442627]), array([2739.922119]), array([2744.610107]), array([2762.93335]), array([2744.558105]), array([2740.897217]), array([2744.89209]), array([2748.029297]), array([2752.885742]), array([2762.339355]), array([2756.186768]), array([2758.688965]), array([2752.54834]), array([2748.368652]), array([2754.225586]), array([2762.523193]), array([2765.050537]), array([2771.998779]), array([2773.473389]), array([2768.541504]), array([2771.551758]), array([2763.625488]), array([2768.144043]), array([2776.807373]), array([2751.239014]), array([2783.696289]), array([2776.463135]), array([2776.634277]), array([2756.565918]), array([2757.650879]), array([2747.911133]), array([2776.984863]), array([2792.727539]), array([2793.956055]), array([2787.565918]), array([2781.689697]), array([2787.774902]), array([2792.30127]), array([2789.823975]), array([2785.287354]), array([2756.739014]), array([2786.004639]), array([2756.32251]), array([2770.458984]), array([2770.12793]), array([2794.303955]), array([2767.368164]), array([2771.289307]), array([2795.601318]), array([2784.932617]), array([2780.151611]), array([2783.253906]), array([2782.267578]), array([2787.792969]), array([2784.436768]), array([2789.683105]), array([2783.211426]), array([2758.465576]), array([2775.05127]), array([2780.924805]), array([2773.203613]), array([2774.372559]), array([2776.57251]), array([2767.37085]), array([2771.252197]), array([2773.861816]), array([2769.275635]), array([2776.992432]), array([2775.227295]), array([2757.866943]), array([2770.419434]), array([2765.104492]), array([2767.767822]), array([2769.164063]), array([2765.514648]), array([2770.094971]), array([2754.043701]), array([2760.293213]), array([2759.950195]), array([2759.098145]), array([2760.927979]), array([2760.745361]), array([2760.070068]), array([2757.183594]), array([2764.30957]), array([2793.310791]), array([2749.576904]), array([2739.660889]), array([2756.89502]), array([2744.83374]), array([2747.500244]), array([2750.925537]), array([2751.513184]), array([2743.571777]), array([2745.047363]), array([2755.833496]), array([2797.63208]), array([2741.571045]), array([2741.966064]), array([2739.154053]), array([2760.812744]), array([2759.268066]), array([2755.268555]), array([2754.518555]), array([2755.976807]), array([2756.055176]), array([2760.278809]), array([2742.369873]), array([2753.397705]), array([2765.758789]), array([2755.585693]), array([2753.463135]), array([2768.681152]), array([2775.939453]), array([2749.249512]), array([2753.093262]), array([2761.78833]), array([2748.375]), array([2796.448486]), array([2746.561523]), array([2759.68457]), array([2758.497559]), array([2766.836426]), array([2774.78833]), array([2774.774902]), array([2769.397217]), array([2797.922363]), array([2885.354248]), array([2886.043213]), array([2886.207031]), array([2888.889404]), array([2885.934814]), array([2885.921631]), array([2886.201172]), array([2887.792969]), array([2885.350342]), array([2859.18042]), array([2887.202148]), array([2858.345703]), array([2886.865723]), array([2886.478271]), array([2857.501221]), array([2858.932129]), array([2857.771484]), array([2857.627197]), array([2858.350098]), array([2856.108643]), array([2886.425781]), array([2855.469727]), array([2858.143311]), array([2887.849854]), array([2885.875488]), array([2886.253174]), array([2854.461914]), array([2857.312012]), array([2887.535889]), array([2859.298584]), array([2855.989258]), array([2857.784668]), array([2885.25]), array([2885.600098]), array([2858.850098]), array([2885.085693]), array([2854.056152]), array([2851.032959]), array([2856.983887]), array([2855.847168]), array([2859.423584]), array([2855.561523]), array([2857.577148]), array([2846.550049]), array([2847.295898]), array([2839.813965]), array([2848.684814]), array([2852.335693]), array([2848.087158]), array([2849.327148]), array([2846.57959]), array([2854.914063]), array([2854.82373]), array([2888.648438]), array([2847.626709]), array([2841.112549]), array([2839.538086]), array([2843.270752]), array([2840.943848]), array([2840.745605]), array([2849.089355]), array([2839.499023]), array([2848.669922]), array([2851.351318]), array([2848.304688]), array([2855.535645]), array([2845.724365]), array([2842.858154]), array([2845.022461]), array([2840.802002]), array([2845.284668]), array([2836.884521]), array([2837.810791]), array([2839.041992]), array([2858.867676]), array([2840.632568]), array([2836.871338]), array([2832.595215]), array([2842.123535]), array([2829.681396]), array([2840.765381]), array([2855.166504]), array([2837.571533]), array([2839.584473]), array([2858.087646]), array([2833.152588]), array([2837.344727]), array([2858.862061]), array([2885.212646]), array([2837.036377]), array([2833.838867]), array([2832.226074]), array([2843.852295]), array([2829.658203]), array([2829.482178]), array([2853.398193]), array([2834.926514]), array([2838.057373]), array([2839.154785]), array([2852.450684]), array([2829.354736]), array([2846.869385]), array([2859.44751]), array([2848.855225]), array([2837.0896]), array([2836.067139]), array([2839.095947]), array([2839.051758]), array([2847.339844]), array([2829.445068]), array([2888.299805]), array([2859.431641]), array([2842.937744]), array([2840.967041]), array([2830.810547]), array([2843.352295]), array([2837.699951]), array([2848.889648]), array([2843.407227]), array([2848.831299]), array([2841.702637]), array([2844.088867]), array([2843.960693]), array([2835.391357]), array([2845.256836]), array([2856.759521]), array([2850.354492]), array([2847.487061]), array([2887.120117]), array([2840.625732]), array([2836.920654]), array([2845.601074]), array([2851.616943]), array([2854.851807]), array([2849.755127]), array([2851.596924]), array([2889.36792]), array([2852.708252]), array([2850.097168]), array([2858.47998]), array([2856.086182]), array([2859.672363]), array([2851.662842]), array([2859.083984]), array([2858.63623]), array([2857.737793]), array([2855.643311]), array([2856.790283]), array([2854.034424]), array([2888.712402]), array([2887.407715]), array([2885.555664]), array([2859.129639]), array([2885.76123]), array([2885.090088]), array([2848.088379]), array([2854.0896]), array([2859.546875]), array([2851.068115]), array([2859.587646]), array([2858.506348]), array([2857.713379]), array([2856.980469]), array([2857.831055]), array([2859.358154]), array([2851.712402]), array([2852.358643]), array([2854.731201]), array([2854.297607]), array([2859.338135]), array([2855.492676]), array([2859.610596]), array([2859.709229]), array([2858.576904]), array([2859.299561]), array([2859.391113]), array([2857.522217]), array([2858.52832]), array([2885.92041]), array([2857.598389]), array([2850.081055]), array([2859.640869]), array([2859.015381]), array([2858.134766]), array([2857.710938]), array([2856.939941]), array([2859.260498]), array([2858.255615]), array([2858.705811]), array([2886.542236]), array([2859.697998]), array([2856.295166]), array([2851.044678]), array([2855.823242]), array([2888.069336]), array([2885.278564]), array([2852.168701]), array([2858.621582]), array([2858.023682]), array([2857.251953]), array([2857.51709]), array([2853.911133]), array([2859.521484]), array([2854.970703]), array([2858.679443]), array([2840.958496]), array([2832.556885]), array([2854.526367]), array([2854.70752]), array([2858.949219]), array([2887.717041]), array([2886.207764]), array([2857.877441]), array([2849.679688]), array([2856.087891]), array([2859.692383]), array([2856.003906]), array([2859.460205]), array([2858.221436]), array([2846.693359]), array([2856.913574]), array([2858.898193]), array([2859.569824])]\n"
          ],
          "name": "stdout"
        }
      ]
    },
    {
      "cell_type": "code",
      "metadata": {
        "id": "7Zdn7qM3_Yvv",
        "outputId": "8b15de34-71a7-466d-cfbe-9f6f123393bb",
        "colab": {
          "base_uri": "https://localhost:8080/"
        }
      },
      "source": [
        "print('Identified z score outliers: %d' % len(outlier_datapoints))"
      ],
      "execution_count": 214,
      "outputs": [
        {
          "output_type": "stream",
          "text": [
            "Identified z score outliers: 574\n"
          ],
          "name": "stdout"
        }
      ]
    }
  ]
}