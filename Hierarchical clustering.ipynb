{
  "nbformat": 4,
  "nbformat_minor": 0,
  "metadata": {
    "colab": {
      "name": "Untitled0.ipynb",
      "provenance": [],
      "authorship_tag": "ABX9TyOgrUsYASvV9BG+glMBrSI7",
      "include_colab_link": true
    },
    "kernelspec": {
      "name": "python3",
      "display_name": "Python 3"
    },
    "language_info": {
      "name": "python"
    }
  },
  "cells": [
    {
      "cell_type": "markdown",
      "metadata": {
        "id": "view-in-github",
        "colab_type": "text"
      },
      "source": [
        "<a href=\"https://colab.research.google.com/github/Priyanka-Kugapriya/Clustering_notebook/blob/main/Hierarchical%20clustering.ipynb\" target=\"_parent\"><img src=\"https://colab.research.google.com/assets/colab-badge.svg\" alt=\"Open In Colab\"/></a>"
      ]
    },
    {
      "cell_type": "code",
      "metadata": {
        "id": "R5riOvLn06SD"
      },
      "source": [
        "import pandas as pd\n",
        "import plotly.express as px\n",
        "import plotly.graph_objects as go\n",
        "import numpy as np\n",
        "\n",
        "#changepath to CSV\n",
        "\n",
        "df= pd.read_csv(\"/content/sample_data/Layer-Readings_2.csv\",header=None)"
      ],
      "execution_count": 1,
      "outputs": []
    },
    {
      "cell_type": "code",
      "metadata": {
        "colab": {
          "base_uri": "https://localhost:8080/"
        },
        "id": "-K2TrvqB3-6P",
        "outputId": "aba613da-855a-4f99-bf7f-7a3da433b427"
      },
      "source": [
        "print(df)"
      ],
      "execution_count": 2,
      "outputs": [
        {
          "output_type": "stream",
          "text": [
            "           0        1           2          3   ...   11   12   13     14\n",
            "0           0        0  329.996735  36.054607  ...  0.0  0.0  0.0  31669\n",
            "1           0        0  330.775604  37.902195  ...  0.0  0.0  0.0  31670\n",
            "2           0        0  329.943512  42.349632  ...  0.0  0.0  0.0  31671\n",
            "3           0        0  329.553131  41.687881  ...  0.0  0.0  0.0  31672\n",
            "4           0        0  332.050140  42.752476  ...  0.0  0.0  0.0  31673\n",
            "...       ...      ...         ...        ...  ...  ...  ...  ...    ...\n",
            "663109  16854  2293761  331.718628  42.900658  ...  0.0  0.0  0.0  21033\n",
            "663110  16959  2293761  330.562775  37.563095  ...  0.0  0.0  0.0  21034\n",
            "663111  17065  2293761  330.347748  41.163986  ...  0.0  0.0  0.0  21035\n",
            "663112  17172  2293761  331.059784  32.140606  ...  0.0  0.0  0.0  21036\n",
            "663113  17277  2293761  330.106598  31.508242  ...  0.0  0.0  0.0  21037\n",
            "\n",
            "[663114 rows x 15 columns]\n"
          ],
          "name": "stdout"
        }
      ]
    },
    {
      "cell_type": "code",
      "metadata": {
        "id": "3PQ122Wy34A3"
      },
      "source": [
        "df.columns = ['0','1','2', '3','4','5','6','7','8','9','10','11','12','13','14']"
      ],
      "execution_count": 3,
      "outputs": []
    },
    {
      "cell_type": "code",
      "metadata": {
        "colab": {
          "base_uri": "https://localhost:8080/"
        },
        "id": "xMrL_Hk64Gk4",
        "outputId": "43744393-b893-43a0-ca87-0f82d0723d85"
      },
      "source": [
        "sorted(df)"
      ],
      "execution_count": 4,
      "outputs": [
        {
          "output_type": "execute_result",
          "data": {
            "text/plain": [
              "['0',\n",
              " '1',\n",
              " '10',\n",
              " '11',\n",
              " '12',\n",
              " '13',\n",
              " '14',\n",
              " '2',\n",
              " '3',\n",
              " '4',\n",
              " '5',\n",
              " '6',\n",
              " '7',\n",
              " '8',\n",
              " '9']"
            ]
          },
          "metadata": {
            "tags": []
          },
          "execution_count": 4
        }
      ]
    },
    {
      "cell_type": "code",
      "metadata": {
        "colab": {
          "base_uri": "https://localhost:8080/"
        },
        "id": "iPT6QRyi4HpB",
        "outputId": "c8c14056-65c7-47e7-97a5-257d49943239"
      },
      "source": [
        "df.isnull().sum()"
      ],
      "execution_count": 5,
      "outputs": [
        {
          "output_type": "execute_result",
          "data": {
            "text/plain": [
              "0     0\n",
              "1     0\n",
              "2     0\n",
              "3     0\n",
              "4     0\n",
              "5     0\n",
              "6     0\n",
              "7     0\n",
              "8     0\n",
              "9     0\n",
              "10    0\n",
              "11    0\n",
              "12    0\n",
              "13    0\n",
              "14    0\n",
              "dtype: int64"
            ]
          },
          "metadata": {
            "tags": []
          },
          "execution_count": 5
        }
      ]
    },
    {
      "cell_type": "code",
      "metadata": {
        "id": "Nql5pNvz4JRv"
      },
      "source": [
        "df.drop(['0','1','3','5', '8','10','12','14', '7', '9', '11', '13'],axis='columns', inplace=True)"
      ],
      "execution_count": 6,
      "outputs": []
    },
    {
      "cell_type": "code",
      "metadata": {
        "colab": {
          "base_uri": "https://localhost:8080/"
        },
        "id": "lDxbG9By4NE3",
        "outputId": "ba0f16aa-354d-4c10-b234-7e66e379dc2a"
      },
      "source": [
        "print(df)"
      ],
      "execution_count": 7,
      "outputs": [
        {
          "output_type": "stream",
          "text": [
            "                 2            4          6\n",
            "0       329.996735     0.000000    0.00000\n",
            "1       330.775604     0.000000    0.00000\n",
            "2       329.943512   363.551544    0.00000\n",
            "3       329.553131  2318.262207  364.41507\n",
            "4       332.050140     0.000000    0.00000\n",
            "...            ...          ...        ...\n",
            "663109  331.718628     0.000000    0.00000\n",
            "663110  330.562775   361.645508    0.00000\n",
            "663111  330.347748   362.771545    0.00000\n",
            "663112  331.059784     0.000000    0.00000\n",
            "663113  330.106598     0.000000    0.00000\n",
            "\n",
            "[663114 rows x 3 columns]\n"
          ],
          "name": "stdout"
        }
      ]
    },
    {
      "cell_type": "code",
      "metadata": {
        "id": "WXER3wtA4P7Q"
      },
      "source": [
        "df['Index'] = range(0, 0+len(df))"
      ],
      "execution_count": 8,
      "outputs": []
    },
    {
      "cell_type": "code",
      "metadata": {
        "colab": {
          "base_uri": "https://localhost:8080/"
        },
        "id": "9UKZSPI24eP3",
        "outputId": "2d3733db-a43e-4f05-8f30-0d949bd3a78c"
      },
      "source": [
        "cols = df.columns.tolist()\n",
        "cols"
      ],
      "execution_count": 9,
      "outputs": [
        {
          "output_type": "execute_result",
          "data": {
            "text/plain": [
              "['2', '4', '6', 'Index']"
            ]
          },
          "metadata": {
            "tags": []
          },
          "execution_count": 9
        }
      ]
    },
    {
      "cell_type": "code",
      "metadata": {
        "colab": {
          "base_uri": "https://localhost:8080/"
        },
        "id": "kM4CVa_f4gtT",
        "outputId": "bc4477d0-2074-4277-9039-f1a43b92e1a3"
      },
      "source": [
        "cols = cols[-1:] + cols[:-1]\n",
        "cols"
      ],
      "execution_count": 10,
      "outputs": [
        {
          "output_type": "execute_result",
          "data": {
            "text/plain": [
              "['Index', '2', '4', '6']"
            ]
          },
          "metadata": {
            "tags": []
          },
          "execution_count": 10
        }
      ]
    },
    {
      "cell_type": "code",
      "metadata": {
        "colab": {
          "base_uri": "https://localhost:8080/"
        },
        "id": "m7-9S7pQ4i-n",
        "outputId": "31b4d455-1ba6-4e08-b7db-f3df823258ec"
      },
      "source": [
        "df = df[cols]\n",
        "print(df)"
      ],
      "execution_count": 11,
      "outputs": [
        {
          "output_type": "stream",
          "text": [
            "         Index           2            4          6\n",
            "0            0  329.996735     0.000000    0.00000\n",
            "1            1  330.775604     0.000000    0.00000\n",
            "2            2  329.943512   363.551544    0.00000\n",
            "3            3  329.553131  2318.262207  364.41507\n",
            "4            4  332.050140     0.000000    0.00000\n",
            "...        ...         ...          ...        ...\n",
            "663109  663109  331.718628     0.000000    0.00000\n",
            "663110  663110  330.562775   361.645508    0.00000\n",
            "663111  663111  330.347748   362.771545    0.00000\n",
            "663112  663112  331.059784     0.000000    0.00000\n",
            "663113  663113  330.106598     0.000000    0.00000\n",
            "\n",
            "[663114 rows x 4 columns]\n"
          ],
          "name": "stdout"
        }
      ]
    },
    {
      "cell_type": "code",
      "metadata": {
        "id": "mVy_qu8g4lL2"
      },
      "source": [
        "df2 = df.set_index('Index').stack().reset_index()"
      ],
      "execution_count": 12,
      "outputs": []
    },
    {
      "cell_type": "code",
      "metadata": {
        "colab": {
          "base_uri": "https://localhost:8080/"
        },
        "id": "cl0bnddq4nMx",
        "outputId": "78933394-cd87-4fe0-a135-3d3199d84c9f"
      },
      "source": [
        "print(df2)"
      ],
      "execution_count": 13,
      "outputs": [
        {
          "output_type": "stream",
          "text": [
            "          Index level_1           0\n",
            "0             0       2  329.996735\n",
            "1             0       4    0.000000\n",
            "2             0       6    0.000000\n",
            "3             1       2  330.775604\n",
            "4             1       4    0.000000\n",
            "...         ...     ...         ...\n",
            "1989337  663112       4    0.000000\n",
            "1989338  663112       6    0.000000\n",
            "1989339  663113       2  330.106598\n",
            "1989340  663113       4    0.000000\n",
            "1989341  663113       6    0.000000\n",
            "\n",
            "[1989342 rows x 3 columns]\n"
          ],
          "name": "stdout"
        }
      ]
    },
    {
      "cell_type": "code",
      "metadata": {
        "id": "5dtZKtGM4o-1"
      },
      "source": [
        "df3 = df2.rename(columns = {'level_1': 'Column', 0: 'Value'}, inplace = False)"
      ],
      "execution_count": 14,
      "outputs": []
    },
    {
      "cell_type": "code",
      "metadata": {
        "id": "_jUuwVtT4rzZ"
      },
      "source": [
        "df4 = df3.loc[~((df3['Value'] == 0))]"
      ],
      "execution_count": 15,
      "outputs": []
    },
    {
      "cell_type": "code",
      "metadata": {
        "colab": {
          "base_uri": "https://localhost:8080/"
        },
        "id": "ABUVZ4b65IAP",
        "outputId": "c27103dc-17bc-480e-bf04-4cc8cfbd3d2e"
      },
      "source": [
        "print(df4)"
      ],
      "execution_count": 16,
      "outputs": [
        {
          "output_type": "stream",
          "text": [
            "          Index Column       Value\n",
            "0             0      2  329.996735\n",
            "3             1      2  330.775604\n",
            "6             2      2  329.943512\n",
            "7             2      4  363.551544\n",
            "9             3      2  329.553131\n",
            "...         ...    ...         ...\n",
            "1989331  663110      4  361.645508\n",
            "1989333  663111      2  330.347748\n",
            "1989334  663111      4  362.771545\n",
            "1989336  663112      2  331.059784\n",
            "1989339  663113      2  330.106598\n",
            "\n",
            "[1212626 rows x 3 columns]\n"
          ],
          "name": "stdout"
        }
      ]
    },
    {
      "cell_type": "code",
      "metadata": {
        "colab": {
          "base_uri": "https://localhost:8080/"
        },
        "id": "At6gPWMV5sCj",
        "outputId": "6d3dd4b2-8a4a-416b-d48e-8f6d9d9d9dbd"
      },
      "source": [
        "df4_test = pd.DataFrame(df4)\n",
        "selected_columns = df4_test[[\"Value\",\"Column\"]]\n",
        "\n",
        "new_df = selected_columns.copy()\n",
        "print(new_df)"
      ],
      "execution_count": 28,
      "outputs": [
        {
          "output_type": "stream",
          "text": [
            "              Value Column\n",
            "0        329.996735      2\n",
            "3        330.775604      2\n",
            "6        329.943512      2\n",
            "7        363.551544      4\n",
            "9        329.553131      2\n",
            "...             ...    ...\n",
            "1989331  361.645508      4\n",
            "1989333  330.347748      2\n",
            "1989334  362.771545      4\n",
            "1989336  331.059784      2\n",
            "1989339  330.106598      2\n",
            "\n",
            "[1212626 rows x 2 columns]\n"
          ],
          "name": "stdout"
        }
      ]
    },
    {
      "cell_type": "code",
      "metadata": {
        "id": "eAkZ77L951eb"
      },
      "source": [
        "df_plot= new_df\n",
        "df_plot['num']=df_plot.index\n",
        "df_plot=df_plot[df_plot['num']%100==0]"
      ],
      "execution_count": 29,
      "outputs": []
    },
    {
      "cell_type": "code",
      "metadata": {
        "colab": {
          "base_uri": "https://localhost:8080/"
        },
        "id": "AjCGdLm3J6U_",
        "outputId": "2d3f4cdc-0641-4b1c-fc4b-1e67241e4a17"
      },
      "source": [
        "print(df_plot)"
      ],
      "execution_count": 30,
      "outputs": [
        {
          "output_type": "stream",
          "text": [
            "               Value Column      num\n",
            "0         329.996735      2        0\n",
            "300       330.208771      2      300\n",
            "400      2309.598389      4      400\n",
            "600       329.727112      2      600\n",
            "900       360.813446      2      900\n",
            "...              ...    ...      ...\n",
            "1988400   330.318817      2  1988400\n",
            "1988500   363.662292      4  1988500\n",
            "1988700   331.320648      2  1988700\n",
            "1989000   330.544861      2  1989000\n",
            "1989300   330.223846      2  1989300\n",
            "\n",
            "[12083 rows x 3 columns]\n"
          ],
          "name": "stdout"
        }
      ]
    },
    {
      "cell_type": "code",
      "metadata": {
        "colab": {
          "base_uri": "https://localhost:8080/"
        },
        "id": "gdZcO4I4J79y",
        "outputId": "1de67976-7d97-4886-87e3-e21fcb598dd6"
      },
      "source": [
        "test_plot = pd.DataFrame(df_plot)\n",
        "selected_columns = test_plot[[\"Value\",\"Column\",\"num\"]]\n",
        "\n",
        "test_plot = selected_columns.copy()\n",
        "print(test_plot)"
      ],
      "execution_count": 50,
      "outputs": [
        {
          "output_type": "stream",
          "text": [
            "               Value Column      num\n",
            "0         329.996735      2        0\n",
            "300       330.208771      2      300\n",
            "400      2309.598389      4      400\n",
            "600       329.727112      2      600\n",
            "900       360.813446      2      900\n",
            "...              ...    ...      ...\n",
            "1988400   330.318817      2  1988400\n",
            "1988500   363.662292      4  1988500\n",
            "1988700   331.320648      2  1988700\n",
            "1989000   330.544861      2  1989000\n",
            "1989300   330.223846      2  1989300\n",
            "\n",
            "[12083 rows x 3 columns]\n"
          ],
          "name": "stdout"
        }
      ]
    },
    {
      "cell_type": "markdown",
      "metadata": {
        "id": "tQpvLXzjOiig"
      },
      "source": [
        "Hierarchihcal clustering"
      ]
    },
    {
      "cell_type": "code",
      "metadata": {
        "id": "YgOtDmoX47wB"
      },
      "source": [
        "import numpy as np\n",
        "import matplotlib.pyplot as plt\n",
        "import pandas as pd\n",
        "import scipy.cluster.hierarchy as sch"
      ],
      "execution_count": 19,
      "outputs": []
    },
    {
      "cell_type": "code",
      "metadata": {
        "id": "iEshGM2hLmtS"
      },
      "source": [
        "X = test_plot.iloc[:, [0,1,2]].values"
      ],
      "execution_count": 51,
      "outputs": []
    },
    {
      "cell_type": "code",
      "metadata": {
        "colab": {
          "base_uri": "https://localhost:8080/",
          "height": 301
        },
        "id": "dmc6_uoZO9z2",
        "outputId": "f6d0e30c-b182-4f99-cb17-17ebcfe06841"
      },
      "source": [
        "dendrogram = sch.dendrogram(sch.linkage(X, method  = \"ward\"))\n",
        "plt.title('Dendrogram')\n",
        "plt.xlabel('Clusters')\n",
        "plt.ylabel('Euclidean distance')\n",
        "plt.show()"
      ],
      "execution_count": 52,
      "outputs": [
        {
          "output_type": "display_data",
          "data": {
            "image/png": "[encoded data removed]",
            "text/plain": [
              "<Figure size 432x288 with 1 Axes>"
            ]
          },
          "metadata": {
            "tags": [],
            "needs_background": "light"
          }
        }
      ]
    },
    {
      "cell_type": "code",
      "metadata": {
        "id": "dsPWAREyP_4_"
      },
      "source": [
        "from sklearn.cluster import AgglomerativeClustering \n",
        "hc = AgglomerativeClustering(n_clusters = 3, affinity = 'euclidean', linkage ='ward')"
      ],
      "execution_count": 58,
      "outputs": []
    },
    {
      "cell_type": "code",
      "metadata": {
        "id": "4YplRYQmQFg2"
      },
      "source": [
        "y_hc=hc.fit_predict(X)"
      ],
      "execution_count": 59,
      "outputs": []
    },
    {
      "cell_type": "code",
      "metadata": {
        "colab": {
          "base_uri": "https://localhost:8080/",
          "height": 295
        },
        "id": "Qne3XKIYN0wr",
        "outputId": "a4a31b07-8a29-4746-d44a-2336c1762615"
      },
      "source": [
        "plt.scatter(X[y_hc==0, 2], X[y_hc==0, 0], s=100, c='red', label ='Cluster 1')\n",
        "plt.scatter(X[y_hc==1, 2], X[y_hc==1, 0], s=100, c='blue', label ='Cluster 2')\n",
        "plt.scatter(X[y_hc==2, 2], X[y_hc==2, 0], s=100, c='green', label ='Cluster 2')\n",
        "plt.title('Clusters of Values (Hierarchical Clustering Model)')\n",
        "plt.xlabel('num')\n",
        "plt.ylabel('Value')\n",
        "plt.show()"
      ],
      "execution_count": 62,
      "outputs": [
        {
          "output_type": "display_data",
          "data": {
            "image/png": "[encoded data removed]",
            "text/plain": [
              "<Figure size 432x288 with 1 Axes>"
            ]
          },
          "metadata": {
            "tags": [],
            "needs_background": "light"
          }
        }
      ]
    }
  ]
}