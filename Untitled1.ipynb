{
  "nbformat": 4,
  "nbformat_minor": 0,
  "metadata": {
    "colab": {
      "name": "Untitled1.ipynb",
      "provenance": [],
      "collapsed_sections": [],
      "authorship_tag": "ABX9TyOegfUeMKUzKDNprDP0gcyv",
      "include_colab_link": true
    },
    "kernelspec": {
      "name": "python3",
      "display_name": "Python 3"
    },
    "language_info": {
      "name": "python"
    }
  },
  "cells": [
    {
      "cell_type": "markdown",
      "metadata": {
        "id": "view-in-github",
        "colab_type": "text"
      },
      "source": [
        "<a href=\"https://colab.research.google.com/github/Priyanka-Kugapriya/Clustering_notebook/blob/main/Untitled1.ipynb\" target=\"_parent\"><img src=\"https://colab.research.google.com/assets/colab-badge.svg\" alt=\"Open In Colab\"/></a>"
      ]
    },
    {
      "cell_type": "code",
      "metadata": {
        "id": "8rkCr-AMzMWB"
      },
      "source": [
        "import pandas as pd\n",
        "import plotly.express as px\n",
        "import plotly.graph_objects as go\n",
        "import numpy as np\n",
        "\n",
        "#changepath to CSV\n",
        "\n",
        "df= pd.read_csv(\"/content/sample_data/Layer-Readings_2.csv\",header=None)"
      ],
      "execution_count": 28,
      "outputs": []
    },
    {
      "cell_type": "code",
      "metadata": {
        "id": "AYlw-Y7w9r2a"
      },
      "source": [
        "df.columns = ['0','1','2', '3','4','5','6','7','8','9','10','11','12','13','14']"
      ],
      "execution_count": 29,
      "outputs": []
    },
    {
      "cell_type": "code",
      "metadata": {
        "id": "7RgrdPlP9-KJ"
      },
      "source": [
        "#encoder reding - real reading\n",
        "df['0'] =df['0']-1291345.5\n",
        "df['0'] =df['0']/6553.6\n",
        "df['1'] =df['1'] - 1069419\n",
        "df['1'] =df['1']/6553.6"
      ],
      "execution_count": 30,
      "outputs": []
    },
    {
      "cell_type": "code",
      "metadata": {
        "id": "7-LMZo3S-BHE"
      },
      "source": [
        "def in_range(val,threshold=1500,ranges=50):\n",
        "    try:\n",
        "        \n",
        "        for i in range (0,len(val)):\n",
        "            val1=float(val[i])\n",
        "            if val1<threshold+ranges and val1>threshold-ranges:\n",
        "                return val1\n",
        "        \n",
        "        return -1  \n",
        "    except:\n",
        "        print(val1)\n",
        "        print(val2)\n",
        "        print(val3)\n",
        "        return -1"
      ],
      "execution_count": 6,
      "outputs": []
    },
    {
      "cell_type": "code",
      "metadata": {
        "id": "U86uF1gG-EX6"
      },
      "source": [
        "df['2_R'] = df.apply(lambda x: in_range([x['2'],x['4'],x['6']],2900,100), axis=1)"
      ],
      "execution_count": 7,
      "outputs": []
    },
    {
      "cell_type": "code",
      "metadata": {
        "id": "xO4Mh6Bq-jeN"
      },
      "source": [
        "df['num']=df. index\n",
        "df1= df[df['2_R']>0]\n",
        "df1['num']=df1. index\n",
        "df1=df1[df1['num']%10==0]\n",
        "\n",
        "x=df1['0']\n",
        "y=df1['1']\n",
        "z=df1['2_R']\n",
        "\n",
        "\n",
        "fig = go.Figure(data=[go.Scatter3d(\n",
        "    x=x,\n",
        "    y=y,\n",
        "    z=z,\n",
        "    mode='markers',\n",
        "    marker=dict(\n",
        "        size=2,\n",
        "        color=z,                # set color to an array/list of desired values\n",
        "        colorscale='Viridis',   # choose a colorscale\n",
        "        opacity=0.8\n",
        "    )\n",
        ")])\n",
        "\n",
        "# tight layout\n",
        "fig.update_layout(margin=dict(l=0, r=0, b=0, t=0))\n",
        "fig.show()"
      ],
      "execution_count": null,
      "outputs": []
    },
    {
      "cell_type": "code",
      "metadata": {
        "id": "IHfBGsDgouQU"
      },
      "source": [
        "df['Index'] = range(0, 0+len(df))"
      ],
      "execution_count": 9,
      "outputs": []
    },
    {
      "cell_type": "code",
      "metadata": {
        "id": "dubSssTNhYsN"
      },
      "source": [
        "df.drop(['3','5','14', '7', '9', '11', '13','2_R','num'],axis='columns', inplace=True)"
      ],
      "execution_count": 13,
      "outputs": []
    },
    {
      "cell_type": "code",
      "metadata": {
        "colab": {
          "base_uri": "https://localhost:8080/"
        },
        "id": "57gNvW1IhL6d",
        "outputId": "aba15886-851d-41c7-c1e3-ac62d34991b9"
      },
      "source": [
        "cols = df.columns.tolist()\n",
        "cols"
      ],
      "execution_count": 14,
      "outputs": [
        {
          "output_type": "execute_result",
          "data": {
            "text/plain": [
              "['0', '1', '2', '4', '6', '8', '10', '12', 'Index']"
            ]
          },
          "metadata": {
            "tags": []
          },
          "execution_count": 14
        }
      ]
    },
    {
      "cell_type": "code",
      "metadata": {
        "colab": {
          "base_uri": "https://localhost:8080/"
        },
        "id": "zvQpxDKchpKi",
        "outputId": "f50d96ea-8a93-4aed-b5f9-689b51f52a03"
      },
      "source": [
        "cols = cols[-1:] + cols[:-1]\n",
        "cols"
      ],
      "execution_count": 15,
      "outputs": [
        {
          "output_type": "execute_result",
          "data": {
            "text/plain": [
              "['Index', '0', '1', '2', '4', '6', '8', '10', '12']"
            ]
          },
          "metadata": {
            "tags": []
          },
          "execution_count": 15
        }
      ]
    },
    {
      "cell_type": "code",
      "metadata": {
        "id": "wRwm0Mt1hqws"
      },
      "source": [
        "df2 = df.set_index('Index','0','1').stack().reset_index()"
      ],
      "execution_count": 18,
      "outputs": []
    },
    {
      "cell_type": "code",
      "metadata": {
        "id": "A_gPNzKlsf4S"
      },
      "source": [
        "df4 = df.sort_values(by = ['0', '1'], ascending = [False, True])"
      ],
      "execution_count": 25,
      "outputs": []
    },
    {
      "cell_type": "code",
      "metadata": {
        "colab": {
          "base_uri": "https://localhost:8080/",
          "height": 204
        },
        "id": "0xEA-48Phwox",
        "outputId": "f41e6682-1f0d-4cc2-d107-bdf4009e6682"
      },
      "source": [
        "df4.head()"
      ],
      "execution_count": 26,
      "outputs": [
        {
          "output_type": "execute_result",
          "data": {
            "text/html": [
              "<div>\n",
              "<style scoped>\n",
              "    .dataframe tbody tr th:only-of-type {\n",
              "        vertical-align: middle;\n",
              "    }\n",
              "\n",
              "    .dataframe tbody tr th {\n",
              "        vertical-align: top;\n",
              "    }\n",
              "\n",
              "    .dataframe thead th {\n",
              "        text-align: right;\n",
              "    }\n",
              "</style>\n",
              "<table border=\"1\" class=\"dataframe\">\n",
              "  <thead>\n",
              "    <tr style=\"text-align: right;\">\n",
              "      <th></th>\n",
              "      <th>0</th>\n",
              "      <th>1</th>\n",
              "      <th>2</th>\n",
              "      <th>4</th>\n",
              "      <th>6</th>\n",
              "      <th>8</th>\n",
              "      <th>10</th>\n",
              "      <th>12</th>\n",
              "      <th>Index</th>\n",
              "    </tr>\n",
              "  </thead>\n",
              "  <tbody>\n",
              "    <tr>\n",
              "      <th>128386</th>\n",
              "      <td>182.957687</td>\n",
              "      <td>-103.180237</td>\n",
              "      <td>330.267792</td>\n",
              "      <td>2313.579102</td>\n",
              "      <td>0.000000</td>\n",
              "      <td>0.0</td>\n",
              "      <td>0.0</td>\n",
              "      <td>0.0</td>\n",
              "      <td>128386</td>\n",
              "    </tr>\n",
              "    <tr>\n",
              "      <th>128388</th>\n",
              "      <td>182.957687</td>\n",
              "      <td>-103.180237</td>\n",
              "      <td>332.196533</td>\n",
              "      <td>0.000000</td>\n",
              "      <td>0.000000</td>\n",
              "      <td>0.0</td>\n",
              "      <td>0.0</td>\n",
              "      <td>0.0</td>\n",
              "      <td>128388</td>\n",
              "    </tr>\n",
              "    <tr>\n",
              "      <th>128389</th>\n",
              "      <td>182.957687</td>\n",
              "      <td>-103.180237</td>\n",
              "      <td>331.460358</td>\n",
              "      <td>0.000000</td>\n",
              "      <td>0.000000</td>\n",
              "      <td>0.0</td>\n",
              "      <td>0.0</td>\n",
              "      <td>0.0</td>\n",
              "      <td>128389</td>\n",
              "    </tr>\n",
              "    <tr>\n",
              "      <th>128390</th>\n",
              "      <td>182.957687</td>\n",
              "      <td>-103.180237</td>\n",
              "      <td>329.837982</td>\n",
              "      <td>2321.022461</td>\n",
              "      <td>361.812347</td>\n",
              "      <td>0.0</td>\n",
              "      <td>0.0</td>\n",
              "      <td>0.0</td>\n",
              "      <td>128390</td>\n",
              "    </tr>\n",
              "    <tr>\n",
              "      <th>128391</th>\n",
              "      <td>182.957687</td>\n",
              "      <td>-103.180237</td>\n",
              "      <td>332.957672</td>\n",
              "      <td>0.000000</td>\n",
              "      <td>0.000000</td>\n",
              "      <td>0.0</td>\n",
              "      <td>0.0</td>\n",
              "      <td>0.0</td>\n",
              "      <td>128391</td>\n",
              "    </tr>\n",
              "  </tbody>\n",
              "</table>\n",
              "</div>"
            ],
            "text/plain": [
              "                 0           1           2            4  ...    8   10   12   Index\n",
              "128386  182.957687 -103.180237  330.267792  2313.579102  ...  0.0  0.0  0.0  128386\n",
              "128388  182.957687 -103.180237  332.196533     0.000000  ...  0.0  0.0  0.0  128388\n",
              "128389  182.957687 -103.180237  331.460358     0.000000  ...  0.0  0.0  0.0  128389\n",
              "128390  182.957687 -103.180237  329.837982  2321.022461  ...  0.0  0.0  0.0  128390\n",
              "128391  182.957687 -103.180237  332.957672     0.000000  ...  0.0  0.0  0.0  128391\n",
              "\n",
              "[5 rows x 9 columns]"
            ]
          },
          "metadata": {
            "tags": []
          },
          "execution_count": 26
        }
      ]
    },
    {
      "cell_type": "code",
      "metadata": {
        "colab": {
          "base_uri": "https://localhost:8080/"
        },
        "id": "NYoUCUG7s6qr",
        "outputId": "d9de6f49-b741-4eae-fb58-e131e8a97778"
      },
      "source": [
        "print(df)"
      ],
      "execution_count": 27,
      "outputs": [
        {
          "output_type": "stream",
          "text": [
            "                 0           1           2  ...   10   12   Index\n",
            "0      -197.043686 -163.180389  329.996735  ...  0.0  0.0       0\n",
            "1      -197.043686 -163.180389  330.775604  ...  0.0  0.0       1\n",
            "2      -197.043686 -163.180389  329.943512  ...  0.0  0.0       2\n",
            "3      -197.043686 -163.180389  329.553131  ...  0.0  0.0       3\n",
            "4      -197.043686 -163.180389  332.050140  ...  0.0  0.0       4\n",
            "...            ...         ...         ...  ...  ...  ...     ...\n",
            "663109 -194.471970  186.819763  331.718628  ...  0.0  0.0  663109\n",
            "663110 -194.455948  186.819763  330.562775  ...  0.0  0.0  663110\n",
            "663111 -194.439774  186.819763  330.347748  ...  0.0  0.0  663111\n",
            "663112 -194.423447  186.819763  331.059784  ...  0.0  0.0  663112\n",
            "663113 -194.407425  186.819763  330.106598  ...  0.0  0.0  663113\n",
            "\n",
            "[663114 rows x 9 columns]\n"
          ],
          "name": "stdout"
        }
      ]
    },
    {
      "cell_type": "code",
      "metadata": {
        "colab": {
          "base_uri": "https://localhost:8080/",
          "height": 299
        },
        "id": "3dpjJGM_ofiG",
        "outputId": "1ecb6968-7d31-4cbf-b5a6-3f2e73e27df2"
      },
      "source": [
        "import pandas as pd\n",
        "import numpy as np\n",
        "import matplotlib.pyplot as plt\n",
        "import pandas as pd\n",
        "from os import path\n",
        "\n",
        "# Special imports\n",
        "from scipy.cluster.hierarchy import dendrogram, linkage\n",
        "import scipy.cluster.hierarchy as shc\n",
        "from sklearn.cluster import AgglomerativeClustering\n",
        "\n",
        "# %matplotlib inline\n",
        "\n",
        "print(\"============================================================\")\n",
        "print(\"       Hierarchical Clustering demo - num of clusters       \")\n",
        "print(\"============================================================\")\n",
        "print(\" \")\n",
        "\n",
        "\n",
        "# Retain only the last two columns\n",
        "data = df.iloc[:, 3:5].values\n",
        "\n",
        "\n",
        "# Initialize hiererchial clustering method, in order for the algorithm to determine the number of clusters\n",
        "# put n_clusters=None, compute_full_tree = True,\n",
        "# best distance threshold value for this dataset is distance_threshold = 200\n",
        "cluster = AgglomerativeClustering(n_clusters=None, affinity='euclidean', linkage='ward', compute_full_tree=True, distance_threshold=200)\n",
        "\n",
        "# Cluster the data\n",
        "cluster.fit_predict(data)\n",
        "\n",
        "print(f\"Number of clusters = {1+np.amax(cluster.labels_)}\")"
      ],
      "execution_count": 10,
      "outputs": [
        {
          "output_type": "stream",
          "text": [
            "============================================================\n",
            "       Hierarchical Clustering demo - num of clusters       \n",
            "============================================================\n",
            " \n"
          ],
          "name": "stdout"
        },
        {
          "output_type": "error",
          "ename": "NameError",
          "evalue": "ignored",
          "traceback": [
            "\u001b[0;31m---------------------------------------------------------------------------\u001b[0m",
            "\u001b[0;31mNameError\u001b[0m                                 Traceback (most recent call last)",
            "\u001b[0;32m<ipython-input-10-695522bbc058>\u001b[0m in \u001b[0;36m<module>\u001b[0;34m()\u001b[0m\n\u001b[1;32m     18\u001b[0m \u001b[0;34m\u001b[0m\u001b[0m\n\u001b[1;32m     19\u001b[0m \u001b[0;34m\u001b[0m\u001b[0m\n\u001b[0;32m---> 20\u001b[0;31m \u001b[0mfolder\u001b[0m \u001b[0;34m=\u001b[0m \u001b[0mpath\u001b[0m\u001b[0;34m.\u001b[0m\u001b[0mdirname\u001b[0m\u001b[0;34m(\u001b[0m\u001b[0mpath\u001b[0m\u001b[0;34m.\u001b[0m\u001b[0mrealpath\u001b[0m\u001b[0;34m(\u001b[0m\u001b[0m__file__\u001b[0m\u001b[0;34m)\u001b[0m\u001b[0;34m)\u001b[0m \u001b[0;31m# set current folder\u001b[0m\u001b[0;34m\u001b[0m\u001b[0;34m\u001b[0m\u001b[0m\n\u001b[0m\u001b[1;32m     21\u001b[0m \u001b[0;34m\u001b[0m\u001b[0m\n\u001b[1;32m     22\u001b[0m \u001b[0;34m\u001b[0m\u001b[0m\n",
            "\u001b[0;31mNameError\u001b[0m: name '__file__' is not defined"
          ]
        }
      ]
    },
    {
      "cell_type": "code",
      "metadata": {
        "colab": {
          "base_uri": "https://localhost:8080/"
        },
        "id": "5XYHgdrTPlmL",
        "outputId": "3174da8c-97df-4b3e-e526-3fc5e0222b70"
      },
      "source": [
        "print(df)"
      ],
      "execution_count": 31,
      "outputs": [
        {
          "output_type": "stream",
          "text": [
            "                 0           1           2          3  ...   11   12   13     14\n",
            "0      -197.043686 -163.180389  329.996735  36.054607  ...  0.0  0.0  0.0  31669\n",
            "1      -197.043686 -163.180389  330.775604  37.902195  ...  0.0  0.0  0.0  31670\n",
            "2      -197.043686 -163.180389  329.943512  42.349632  ...  0.0  0.0  0.0  31671\n",
            "3      -197.043686 -163.180389  329.553131  41.687881  ...  0.0  0.0  0.0  31672\n",
            "4      -197.043686 -163.180389  332.050140  42.752476  ...  0.0  0.0  0.0  31673\n",
            "...            ...         ...         ...        ...  ...  ...  ...  ...    ...\n",
            "663109 -194.471970  186.819763  331.718628  42.900658  ...  0.0  0.0  0.0  21033\n",
            "663110 -194.455948  186.819763  330.562775  37.563095  ...  0.0  0.0  0.0  21034\n",
            "663111 -194.439774  186.819763  330.347748  41.163986  ...  0.0  0.0  0.0  21035\n",
            "663112 -194.423447  186.819763  331.059784  32.140606  ...  0.0  0.0  0.0  21036\n",
            "663113 -194.407425  186.819763  330.106598  31.508242  ...  0.0  0.0  0.0  21037\n",
            "\n",
            "[663114 rows x 15 columns]\n"
          ],
          "name": "stdout"
        }
      ]
    },
    {
      "cell_type": "code",
      "metadata": {
        "id": "5qW3HKGcPuL0"
      },
      "source": [
        "df.drop(['3','5','14', '7', '9', '11', '13','14'],axis='columns', inplace=True)"
      ],
      "execution_count": 32,
      "outputs": []
    },
    {
      "cell_type": "code",
      "metadata": {
        "id": "eDaETo2hP8v9"
      },
      "source": [
        "abc = df.head(3)"
      ],
      "execution_count": 39,
      "outputs": []
    },
    {
      "cell_type": "code",
      "metadata": {
        "colab": {
          "base_uri": "https://localhost:8080/",
          "height": 142
        },
        "id": "kctSGzr9QEdu",
        "outputId": "5bd0f277-804d-4aeb-d86e-6968628262dd"
      },
      "source": [
        "abc"
      ],
      "execution_count": 40,
      "outputs": [
        {
          "output_type": "execute_result",
          "data": {
            "text/html": [
              "<div>\n",
              "<style scoped>\n",
              "    .dataframe tbody tr th:only-of-type {\n",
              "        vertical-align: middle;\n",
              "    }\n",
              "\n",
              "    .dataframe tbody tr th {\n",
              "        vertical-align: top;\n",
              "    }\n",
              "\n",
              "    .dataframe thead th {\n",
              "        text-align: right;\n",
              "    }\n",
              "</style>\n",
              "<table border=\"1\" class=\"dataframe\">\n",
              "  <thead>\n",
              "    <tr style=\"text-align: right;\">\n",
              "      <th></th>\n",
              "      <th>0</th>\n",
              "      <th>1</th>\n",
              "      <th>2</th>\n",
              "      <th>4</th>\n",
              "      <th>6</th>\n",
              "      <th>8</th>\n",
              "      <th>10</th>\n",
              "      <th>12</th>\n",
              "    </tr>\n",
              "  </thead>\n",
              "  <tbody>\n",
              "    <tr>\n",
              "      <th>0</th>\n",
              "      <td>-197.043686</td>\n",
              "      <td>-163.180389</td>\n",
              "      <td>329.996735</td>\n",
              "      <td>0.000000</td>\n",
              "      <td>0.0</td>\n",
              "      <td>0.0</td>\n",
              "      <td>0.0</td>\n",
              "      <td>0.0</td>\n",
              "    </tr>\n",
              "    <tr>\n",
              "      <th>1</th>\n",
              "      <td>-197.043686</td>\n",
              "      <td>-163.180389</td>\n",
              "      <td>330.775604</td>\n",
              "      <td>0.000000</td>\n",
              "      <td>0.0</td>\n",
              "      <td>0.0</td>\n",
              "      <td>0.0</td>\n",
              "      <td>0.0</td>\n",
              "    </tr>\n",
              "    <tr>\n",
              "      <th>2</th>\n",
              "      <td>-197.043686</td>\n",
              "      <td>-163.180389</td>\n",
              "      <td>329.943512</td>\n",
              "      <td>363.551544</td>\n",
              "      <td>0.0</td>\n",
              "      <td>0.0</td>\n",
              "      <td>0.0</td>\n",
              "      <td>0.0</td>\n",
              "    </tr>\n",
              "  </tbody>\n",
              "</table>\n",
              "</div>"
            ],
            "text/plain": [
              "            0           1           2           4    6    8   10   12\n",
              "0 -197.043686 -163.180389  329.996735    0.000000  0.0  0.0  0.0  0.0\n",
              "1 -197.043686 -163.180389  330.775604    0.000000  0.0  0.0  0.0  0.0\n",
              "2 -197.043686 -163.180389  329.943512  363.551544  0.0  0.0  0.0  0.0"
            ]
          },
          "metadata": {
            "tags": []
          },
          "execution_count": 40
        }
      ]
    },
    {
      "cell_type": "code",
      "metadata": {
        "id": "z5tqjacXQK3l"
      },
      "source": [
        "test = abc.to_dict(orient=\"records\")"
      ],
      "execution_count": 41,
      "outputs": []
    },
    {
      "cell_type": "code",
      "metadata": {
        "id": "LB64J8ODQp7v"
      },
      "source": [
        "[{'0': -197.04368591308594,\n",
        "  '1': -163.18038940429688,\n",
        "  '10': 0.0,\n",
        "  '12': 0.0,\n",
        "  '2': 329.9967346,\n",
        "  '4': 0.0,\n",
        "  '6': 0.0,\n",
        "  '8': 0.0},\n",
        " {'0': -197.04368591308594,\n",
        "  '1': -163.18038940429688,\n",
        "  '10': 0.0,\n",
        "  '12': 0.0,\n",
        "  '2': 330.7756042,\n",
        "  '4': 0.0,\n",
        "  '6': 0.0,\n",
        "  '8': 0.0},"
      ],
      "execution_count": null,
      "outputs": []
    },
    {
      "cell_type": "code",
      "metadata": {
        "id": "89WlOmWEQ0Pq"
      },
      "source": [
        "frame_define = []\n",
        "for i in test:\n",
        "  key_arr = i.keys()\n",
        "  for key in key_arr:\n",
        "    if key not in ['0','1']:\n",
        "      dc1 = {}\n",
        "      dc1['X'] = i.get('0')\n",
        "      dc1['Y'] = i.get('1')\n",
        "      dc1['Column'] = key\n",
        "      dc1['Value'] = i.get(key)\n",
        "      frame_define.append(dc1)"
      ],
      "execution_count": 78,
      "outputs": []
    },
    {
      "cell_type": "code",
      "metadata": {
        "colab": {
          "base_uri": "https://localhost:8080/"
        },
        "id": "_ynfID6VWyD5",
        "outputId": "0d691912-5bed-4e76-a90c-7b46d0ad1756"
      },
      "source": [
        "frame_define"
      ],
      "execution_count": 76,
      "outputs": [
        {
          "output_type": "execute_result",
          "data": {
            "text/plain": [
              "[{'Column': '2',\n",
              "  'Value': 329.9967346,\n",
              "  'X': -197.04368591308594,\n",
              "  'Y': -163.18038940429688},\n",
              " {'Column': '4',\n",
              "  'Value': 0.0,\n",
              "  'X': -197.04368591308594,\n",
              "  'Y': -163.18038940429688},\n",
              " {'Column': '6',\n",
              "  'Value': 0.0,\n",
              "  'X': -197.04368591308594,\n",
              "  'Y': -163.18038940429688},\n",
              " {'Column': '8',\n",
              "  'Value': 0.0,\n",
              "  'X': -197.04368591308594,\n",
              "  'Y': -163.18038940429688},\n",
              " {'Column': '10',\n",
              "  'Value': 0.0,\n",
              "  'X': -197.04368591308594,\n",
              "  'Y': -163.18038940429688},\n",
              " {'Column': '12',\n",
              "  'Value': 0.0,\n",
              "  'X': -197.04368591308594,\n",
              "  'Y': -163.18038940429688},\n",
              " {'Column': '2',\n",
              "  'Value': 330.7756042,\n",
              "  'X': -197.04368591308594,\n",
              "  'Y': -163.18038940429688},\n",
              " {'Column': '4',\n",
              "  'Value': 0.0,\n",
              "  'X': -197.04368591308594,\n",
              "  'Y': -163.18038940429688},\n",
              " {'Column': '6',\n",
              "  'Value': 0.0,\n",
              "  'X': -197.04368591308594,\n",
              "  'Y': -163.18038940429688},\n",
              " {'Column': '8',\n",
              "  'Value': 0.0,\n",
              "  'X': -197.04368591308594,\n",
              "  'Y': -163.18038940429688},\n",
              " {'Column': '10',\n",
              "  'Value': 0.0,\n",
              "  'X': -197.04368591308594,\n",
              "  'Y': -163.18038940429688},\n",
              " {'Column': '12',\n",
              "  'Value': 0.0,\n",
              "  'X': -197.04368591308594,\n",
              "  'Y': -163.18038940429688},\n",
              " {'Column': '2',\n",
              "  'Value': 329.943512,\n",
              "  'X': -197.04368591308594,\n",
              "  'Y': -163.18038940429688},\n",
              " {'Column': '4',\n",
              "  'Value': 363.55154419999997,\n",
              "  'X': -197.04368591308594,\n",
              "  'Y': -163.18038940429688},\n",
              " {'Column': '6',\n",
              "  'Value': 0.0,\n",
              "  'X': -197.04368591308594,\n",
              "  'Y': -163.18038940429688},\n",
              " {'Column': '8',\n",
              "  'Value': 0.0,\n",
              "  'X': -197.04368591308594,\n",
              "  'Y': -163.18038940429688},\n",
              " {'Column': '10',\n",
              "  'Value': 0.0,\n",
              "  'X': -197.04368591308594,\n",
              "  'Y': -163.18038940429688},\n",
              " {'Column': '12',\n",
              "  'Value': 0.0,\n",
              "  'X': -197.04368591308594,\n",
              "  'Y': -163.18038940429688}]"
            ]
          },
          "metadata": {
            "tags": []
          },
          "execution_count": 76
        }
      ]
    },
    {
      "cell_type": "code",
      "metadata": {
        "colab": {
          "base_uri": "https://localhost:8080/"
        },
        "id": "sViJDkwPWnc4",
        "outputId": "2800aa8d-d2d3-4f37-9c01-aacbe7e5380a"
      },
      "source": [
        "frame_define"
      ],
      "execution_count": 63,
      "outputs": [
        {
          "output_type": "execute_result",
          "data": {
            "text/plain": [
              "[{'Column': '12',\n",
              "  'Value': 0.0,\n",
              "  'X': -197.04368591308594,\n",
              "  'Y': -163.18038940429688},\n",
              " {'Column': '12',\n",
              "  'Value': 0.0,\n",
              "  'X': -197.04368591308594,\n",
              "  'Y': -163.18038940429688},\n",
              " {'Column': '12',\n",
              "  'Value': 0.0,\n",
              "  'X': -197.04368591308594,\n",
              "  'Y': -163.18038940429688},\n",
              " {'Column': '12',\n",
              "  'Value': 0.0,\n",
              "  'X': -197.04368591308594,\n",
              "  'Y': -163.18038940429688},\n",
              " {'Column': '12',\n",
              "  'Value': 0.0,\n",
              "  'X': -197.04368591308594,\n",
              "  'Y': -163.18038940429688},\n",
              " {'Column': '12',\n",
              "  'Value': 0.0,\n",
              "  'X': -197.04368591308594,\n",
              "  'Y': -163.18038940429688},\n",
              " {'Column': '12',\n",
              "  'Value': 0.0,\n",
              "  'X': -197.04368591308594,\n",
              "  'Y': -163.18038940429688},\n",
              " {'Column': '12',\n",
              "  'Value': 0.0,\n",
              "  'X': -197.04368591308594,\n",
              "  'Y': -163.18038940429688},\n",
              " {'Column': '12',\n",
              "  'Value': 0.0,\n",
              "  'X': -197.04368591308594,\n",
              "  'Y': -163.18038940429688},\n",
              " {'Column': '12',\n",
              "  'Value': 0.0,\n",
              "  'X': -197.04368591308594,\n",
              "  'Y': -163.18038940429688},\n",
              " {'Column': '12',\n",
              "  'Value': 0.0,\n",
              "  'X': -197.04368591308594,\n",
              "  'Y': -163.18038940429688},\n",
              " {'Column': '12',\n",
              "  'Value': 0.0,\n",
              "  'X': -197.04368591308594,\n",
              "  'Y': -163.18038940429688},\n",
              " {'Column': '12',\n",
              "  'Value': 0.0,\n",
              "  'X': -197.04368591308594,\n",
              "  'Y': -163.18038940429688},\n",
              " {'Column': '12',\n",
              "  'Value': 0.0,\n",
              "  'X': -197.04368591308594,\n",
              "  'Y': -163.18038940429688},\n",
              " {'Column': '12',\n",
              "  'Value': 0.0,\n",
              "  'X': -197.04368591308594,\n",
              "  'Y': -163.18038940429688},\n",
              " {'Column': '12',\n",
              "  'Value': 0.0,\n",
              "  'X': -197.04368591308594,\n",
              "  'Y': -163.18038940429688},\n",
              " {'Column': '12',\n",
              "  'Value': 0.0,\n",
              "  'X': -197.04368591308594,\n",
              "  'Y': -163.18038940429688},\n",
              " {'Column': '12',\n",
              "  'Value': 0.0,\n",
              "  'X': -197.04368591308594,\n",
              "  'Y': -163.18038940429688}]"
            ]
          },
          "metadata": {
            "tags": []
          },
          "execution_count": 63
        }
      ]
    },
    {
      "cell_type": "code",
      "metadata": {
        "colab": {
          "base_uri": "https://localhost:8080/",
          "height": 607
        },
        "id": "8GEqTDnpU3i2",
        "outputId": "206bc3b5-4795-4d91-de5d-9bef76d62637"
      },
      "source": [
        "pd.DataFrame(frame_define)"
      ],
      "execution_count": 77,
      "outputs": [
        {
          "output_type": "execute_result",
          "data": {
            "text/html": [
              "<div>\n",
              "<style scoped>\n",
              "    .dataframe tbody tr th:only-of-type {\n",
              "        vertical-align: middle;\n",
              "    }\n",
              "\n",
              "    .dataframe tbody tr th {\n",
              "        vertical-align: top;\n",
              "    }\n",
              "\n",
              "    .dataframe thead th {\n",
              "        text-align: right;\n",
              "    }\n",
              "</style>\n",
              "<table border=\"1\" class=\"dataframe\">\n",
              "  <thead>\n",
              "    <tr style=\"text-align: right;\">\n",
              "      <th></th>\n",
              "      <th>X</th>\n",
              "      <th>Y</th>\n",
              "      <th>Column</th>\n",
              "      <th>Value</th>\n",
              "    </tr>\n",
              "  </thead>\n",
              "  <tbody>\n",
              "    <tr>\n",
              "      <th>0</th>\n",
              "      <td>-197.043686</td>\n",
              "      <td>-163.180389</td>\n",
              "      <td>2</td>\n",
              "      <td>329.996735</td>\n",
              "    </tr>\n",
              "    <tr>\n",
              "      <th>1</th>\n",
              "      <td>-197.043686</td>\n",
              "      <td>-163.180389</td>\n",
              "      <td>4</td>\n",
              "      <td>0.000000</td>\n",
              "    </tr>\n",
              "    <tr>\n",
              "      <th>2</th>\n",
              "      <td>-197.043686</td>\n",
              "      <td>-163.180389</td>\n",
              "      <td>6</td>\n",
              "      <td>0.000000</td>\n",
              "    </tr>\n",
              "    <tr>\n",
              "      <th>3</th>\n",
              "      <td>-197.043686</td>\n",
              "      <td>-163.180389</td>\n",
              "      <td>8</td>\n",
              "      <td>0.000000</td>\n",
              "    </tr>\n",
              "    <tr>\n",
              "      <th>4</th>\n",
              "      <td>-197.043686</td>\n",
              "      <td>-163.180389</td>\n",
              "      <td>10</td>\n",
              "      <td>0.000000</td>\n",
              "    </tr>\n",
              "    <tr>\n",
              "      <th>5</th>\n",
              "      <td>-197.043686</td>\n",
              "      <td>-163.180389</td>\n",
              "      <td>12</td>\n",
              "      <td>0.000000</td>\n",
              "    </tr>\n",
              "    <tr>\n",
              "      <th>6</th>\n",
              "      <td>-197.043686</td>\n",
              "      <td>-163.180389</td>\n",
              "      <td>2</td>\n",
              "      <td>330.775604</td>\n",
              "    </tr>\n",
              "    <tr>\n",
              "      <th>7</th>\n",
              "      <td>-197.043686</td>\n",
              "      <td>-163.180389</td>\n",
              "      <td>4</td>\n",
              "      <td>0.000000</td>\n",
              "    </tr>\n",
              "    <tr>\n",
              "      <th>8</th>\n",
              "      <td>-197.043686</td>\n",
              "      <td>-163.180389</td>\n",
              "      <td>6</td>\n",
              "      <td>0.000000</td>\n",
              "    </tr>\n",
              "    <tr>\n",
              "      <th>9</th>\n",
              "      <td>-197.043686</td>\n",
              "      <td>-163.180389</td>\n",
              "      <td>8</td>\n",
              "      <td>0.000000</td>\n",
              "    </tr>\n",
              "    <tr>\n",
              "      <th>10</th>\n",
              "      <td>-197.043686</td>\n",
              "      <td>-163.180389</td>\n",
              "      <td>10</td>\n",
              "      <td>0.000000</td>\n",
              "    </tr>\n",
              "    <tr>\n",
              "      <th>11</th>\n",
              "      <td>-197.043686</td>\n",
              "      <td>-163.180389</td>\n",
              "      <td>12</td>\n",
              "      <td>0.000000</td>\n",
              "    </tr>\n",
              "    <tr>\n",
              "      <th>12</th>\n",
              "      <td>-197.043686</td>\n",
              "      <td>-163.180389</td>\n",
              "      <td>2</td>\n",
              "      <td>329.943512</td>\n",
              "    </tr>\n",
              "    <tr>\n",
              "      <th>13</th>\n",
              "      <td>-197.043686</td>\n",
              "      <td>-163.180389</td>\n",
              "      <td>4</td>\n",
              "      <td>363.551544</td>\n",
              "    </tr>\n",
              "    <tr>\n",
              "      <th>14</th>\n",
              "      <td>-197.043686</td>\n",
              "      <td>-163.180389</td>\n",
              "      <td>6</td>\n",
              "      <td>0.000000</td>\n",
              "    </tr>\n",
              "    <tr>\n",
              "      <th>15</th>\n",
              "      <td>-197.043686</td>\n",
              "      <td>-163.180389</td>\n",
              "      <td>8</td>\n",
              "      <td>0.000000</td>\n",
              "    </tr>\n",
              "    <tr>\n",
              "      <th>16</th>\n",
              "      <td>-197.043686</td>\n",
              "      <td>-163.180389</td>\n",
              "      <td>10</td>\n",
              "      <td>0.000000</td>\n",
              "    </tr>\n",
              "    <tr>\n",
              "      <th>17</th>\n",
              "      <td>-197.043686</td>\n",
              "      <td>-163.180389</td>\n",
              "      <td>12</td>\n",
              "      <td>0.000000</td>\n",
              "    </tr>\n",
              "  </tbody>\n",
              "</table>\n",
              "</div>"
            ],
            "text/plain": [
              "             X           Y Column       Value\n",
              "0  -197.043686 -163.180389      2  329.996735\n",
              "1  -197.043686 -163.180389      4    0.000000\n",
              "2  -197.043686 -163.180389      6    0.000000\n",
              "3  -197.043686 -163.180389      8    0.000000\n",
              "4  -197.043686 -163.180389     10    0.000000\n",
              "5  -197.043686 -163.180389     12    0.000000\n",
              "6  -197.043686 -163.180389      2  330.775604\n",
              "7  -197.043686 -163.180389      4    0.000000\n",
              "8  -197.043686 -163.180389      6    0.000000\n",
              "9  -197.043686 -163.180389      8    0.000000\n",
              "10 -197.043686 -163.180389     10    0.000000\n",
              "11 -197.043686 -163.180389     12    0.000000\n",
              "12 -197.043686 -163.180389      2  329.943512\n",
              "13 -197.043686 -163.180389      4  363.551544\n",
              "14 -197.043686 -163.180389      6    0.000000\n",
              "15 -197.043686 -163.180389      8    0.000000\n",
              "16 -197.043686 -163.180389     10    0.000000\n",
              "17 -197.043686 -163.180389     12    0.000000"
            ]
          },
          "metadata": {
            "tags": []
          },
          "execution_count": 77
        }
      ]
    },
    {
      "cell_type": "code",
      "metadata": {
        "colab": {
          "base_uri": "https://localhost:8080/",
          "height": 142
        },
        "id": "5Z2nM2eMVT5u",
        "outputId": "cd148bbf-9aaa-4e49-9b56-618cdc9b482c"
      },
      "source": [
        "abc"
      ],
      "execution_count": 54,
      "outputs": [
        {
          "output_type": "execute_result",
          "data": {
            "text/html": [
              "<div>\n",
              "<style scoped>\n",
              "    .dataframe tbody tr th:only-of-type {\n",
              "        vertical-align: middle;\n",
              "    }\n",
              "\n",
              "    .dataframe tbody tr th {\n",
              "        vertical-align: top;\n",
              "    }\n",
              "\n",
              "    .dataframe thead th {\n",
              "        text-align: right;\n",
              "    }\n",
              "</style>\n",
              "<table border=\"1\" class=\"dataframe\">\n",
              "  <thead>\n",
              "    <tr style=\"text-align: right;\">\n",
              "      <th></th>\n",
              "      <th>0</th>\n",
              "      <th>1</th>\n",
              "      <th>2</th>\n",
              "      <th>4</th>\n",
              "      <th>6</th>\n",
              "      <th>8</th>\n",
              "      <th>10</th>\n",
              "      <th>12</th>\n",
              "    </tr>\n",
              "  </thead>\n",
              "  <tbody>\n",
              "    <tr>\n",
              "      <th>0</th>\n",
              "      <td>-197.043686</td>\n",
              "      <td>-163.180389</td>\n",
              "      <td>329.996735</td>\n",
              "      <td>0.000000</td>\n",
              "      <td>0.0</td>\n",
              "      <td>0.0</td>\n",
              "      <td>0.0</td>\n",
              "      <td>0.0</td>\n",
              "    </tr>\n",
              "    <tr>\n",
              "      <th>1</th>\n",
              "      <td>-197.043686</td>\n",
              "      <td>-163.180389</td>\n",
              "      <td>330.775604</td>\n",
              "      <td>0.000000</td>\n",
              "      <td>0.0</td>\n",
              "      <td>0.0</td>\n",
              "      <td>0.0</td>\n",
              "      <td>0.0</td>\n",
              "    </tr>\n",
              "    <tr>\n",
              "      <th>2</th>\n",
              "      <td>-197.043686</td>\n",
              "      <td>-163.180389</td>\n",
              "      <td>329.943512</td>\n",
              "      <td>363.551544</td>\n",
              "      <td>0.0</td>\n",
              "      <td>0.0</td>\n",
              "      <td>0.0</td>\n",
              "      <td>0.0</td>\n",
              "    </tr>\n",
              "  </tbody>\n",
              "</table>\n",
              "</div>"
            ],
            "text/plain": [
              "            0           1           2           4    6    8   10   12\n",
              "0 -197.043686 -163.180389  329.996735    0.000000  0.0  0.0  0.0  0.0\n",
              "1 -197.043686 -163.180389  330.775604    0.000000  0.0  0.0  0.0  0.0\n",
              "2 -197.043686 -163.180389  329.943512  363.551544  0.0  0.0  0.0  0.0"
            ]
          },
          "metadata": {
            "tags": []
          },
          "execution_count": 54
        }
      ]
    }
  ]
}