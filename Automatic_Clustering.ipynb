{
  "nbformat": 4,
  "nbformat_minor": 0,
  "metadata": {
    "colab": {
      "name": "Automatic Clustering.ipynb",
      "provenance": [],
      "authorship_tag": "ABX9TyOAlDARj6mB3kL3dbTa12RK",
      "include_colab_link": true
    },
    "kernelspec": {
      "name": "python3",
      "display_name": "Python 3"
    },
    "language_info": {
      "name": "python"
    }
  },
  "cells": [
    {
      "cell_type": "markdown",
      "metadata": {
        "id": "view-in-github",
        "colab_type": "text"
      },
      "source": [
        "<a href=\"https://colab.research.google.com/github/Priyanka-Kugapriya/Clustering_notebook/blob/main/Automatic_Clustering.ipynb\" target=\"_parent\"><img src=\"https://colab.research.google.com/assets/colab-badge.svg\" alt=\"Open In Colab\"/></a>"
      ]
    },
    {
      "cell_type": "code",
      "metadata": {
        "id": "iPVhCFNiUYUC"
      },
      "source": [
        "import pandas as pd\n",
        "import plotly.express as px\n",
        "import plotly.graph_objects as go\n",
        "import numpy as np\n",
        "\n",
        "#changepath to CSV\n",
        "\n",
        "df= pd.read_csv(\"/content/sample_data/CustomerW3_IT_6_Test_20210225182626301.csv\",header=None)"
      ],
      "execution_count": 1,
      "outputs": []
    },
    {
      "cell_type": "code",
      "metadata": {
        "id": "KQ3edsL_UmM6"
      },
      "source": [
        "df.columns = ['0','1','2', '3','4','5','6','7','8','9','10','11','12','13','14']"
      ],
      "execution_count": 2,
      "outputs": []
    },
    {
      "cell_type": "code",
      "metadata": {
        "colab": {
          "base_uri": "https://localhost:8080/"
        },
        "id": "VXnZXxJXUph4",
        "outputId": "8d94de37-aa45-4dfe-9943-c726d2e2c7af"
      },
      "source": [
        "df.isnull().sum()"
      ],
      "execution_count": 3,
      "outputs": [
        {
          "output_type": "execute_result",
          "data": {
            "text/plain": [
              "0     0\n",
              "1     0\n",
              "2     0\n",
              "3     0\n",
              "4     0\n",
              "5     0\n",
              "6     0\n",
              "7     0\n",
              "8     0\n",
              "9     0\n",
              "10    0\n",
              "11    0\n",
              "12    0\n",
              "13    0\n",
              "14    0\n",
              "dtype: int64"
            ]
          },
          "metadata": {
            "tags": []
          },
          "execution_count": 3
        }
      ]
    },
    {
      "cell_type": "code",
      "metadata": {
        "id": "g-4Qrt3GUrhE"
      },
      "source": [
        "df.drop(['3','5','14', '7', '9', '11', '13'],axis='columns', inplace=True)"
      ],
      "execution_count": 4,
      "outputs": []
    },
    {
      "cell_type": "code",
      "metadata": {
        "colab": {
          "base_uri": "https://localhost:8080/"
        },
        "id": "OgITg186UtMR",
        "outputId": "3ad89d2f-6033-4a15-b794-c7149dadfc4b"
      },
      "source": [
        "print(df)"
      ],
      "execution_count": 5,
      "outputs": [
        {
          "output_type": "stream",
          "text": [
            "         0        1           2           4           6    8   10   12\n",
            "0        0        0  331.497681  366.443085     0.00000  0.0  0.0  0.0\n",
            "1        0        0  328.913696  362.517304  2372.15332  0.0  0.0  0.0\n",
            "2        0        0  332.411896    0.000000     0.00000  0.0  0.0  0.0\n",
            "3        0        0  327.737640  363.017761     0.00000  0.0  0.0  0.0\n",
            "4        0        0  329.433319    0.000000     0.00000  0.0  0.0  0.0\n",
            "...     ..      ...         ...         ...         ...  ...  ...  ...\n",
            "678332  94  2293759  329.108093    0.000000     0.00000  0.0  0.0  0.0\n",
            "678333  94  2293759  329.762146    0.000000     0.00000  0.0  0.0  0.0\n",
            "678334  94  2293759  333.106567  363.926758     0.00000  0.0  0.0  0.0\n",
            "678335  94  2293759  328.430756    0.000000     0.00000  0.0  0.0  0.0\n",
            "678336  94  2293759  333.265350    0.000000     0.00000  0.0  0.0  0.0\n",
            "\n",
            "[678337 rows x 8 columns]\n"
          ],
          "name": "stdout"
        }
      ]
    },
    {
      "cell_type": "code",
      "metadata": {
        "id": "C0tyoHsHcV_Q"
      },
      "source": [
        "test = df.to_dict(orient=\"records\")"
      ],
      "execution_count": 6,
      "outputs": []
    },
    {
      "cell_type": "code",
      "metadata": {
        "id": "E2Y63m_GcP2k"
      },
      "source": [
        "frame_define = []\n",
        "for i in test:\n",
        "  key_arr = i.keys()\n",
        "  for key in key_arr:\n",
        "    if key not in ['0','1']:\n",
        "      dc1 = {}\n",
        "      dc1['X'] = i.get('0')\n",
        "      dc1['Y'] = i.get('1')\n",
        "      dc1['Column'] = key\n",
        "      dc1['Value'] = i.get(key)\n",
        "      frame_define.append(dc1)"
      ],
      "execution_count": 7,
      "outputs": []
    },
    {
      "cell_type": "code",
      "metadata": {
        "id": "u0a0o8ltcfK9"
      },
      "source": [
        "df2 = pd.DataFrame(frame_define)"
      ],
      "execution_count": 8,
      "outputs": []
    },
    {
      "cell_type": "code",
      "metadata": {
        "id": "yyDbV2mzekyV",
        "outputId": "dda055a6-27c8-4396-ad08-3a54c1784681",
        "colab": {
          "base_uri": "https://localhost:8080/",
          "height": 419
        }
      },
      "source": [
        "df2"
      ],
      "execution_count": 9,
      "outputs": [
        {
          "output_type": "execute_result",
          "data": {
            "text/html": [
              "<div>\n",
              "<style scoped>\n",
              "    .dataframe tbody tr th:only-of-type {\n",
              "        vertical-align: middle;\n",
              "    }\n",
              "\n",
              "    .dataframe tbody tr th {\n",
              "        vertical-align: top;\n",
              "    }\n",
              "\n",
              "    .dataframe thead th {\n",
              "        text-align: right;\n",
              "    }\n",
              "</style>\n",
              "<table border=\"1\" class=\"dataframe\">\n",
              "  <thead>\n",
              "    <tr style=\"text-align: right;\">\n",
              "      <th></th>\n",
              "      <th>X</th>\n",
              "      <th>Y</th>\n",
              "      <th>Column</th>\n",
              "      <th>Value</th>\n",
              "    </tr>\n",
              "  </thead>\n",
              "  <tbody>\n",
              "    <tr>\n",
              "      <th>0</th>\n",
              "      <td>0</td>\n",
              "      <td>0</td>\n",
              "      <td>2</td>\n",
              "      <td>331.497681</td>\n",
              "    </tr>\n",
              "    <tr>\n",
              "      <th>1</th>\n",
              "      <td>0</td>\n",
              "      <td>0</td>\n",
              "      <td>4</td>\n",
              "      <td>366.443085</td>\n",
              "    </tr>\n",
              "    <tr>\n",
              "      <th>2</th>\n",
              "      <td>0</td>\n",
              "      <td>0</td>\n",
              "      <td>6</td>\n",
              "      <td>0.000000</td>\n",
              "    </tr>\n",
              "    <tr>\n",
              "      <th>3</th>\n",
              "      <td>0</td>\n",
              "      <td>0</td>\n",
              "      <td>8</td>\n",
              "      <td>0.000000</td>\n",
              "    </tr>\n",
              "    <tr>\n",
              "      <th>4</th>\n",
              "      <td>0</td>\n",
              "      <td>0</td>\n",
              "      <td>10</td>\n",
              "      <td>0.000000</td>\n",
              "    </tr>\n",
              "    <tr>\n",
              "      <th>...</th>\n",
              "      <td>...</td>\n",
              "      <td>...</td>\n",
              "      <td>...</td>\n",
              "      <td>...</td>\n",
              "    </tr>\n",
              "    <tr>\n",
              "      <th>4070017</th>\n",
              "      <td>94</td>\n",
              "      <td>2293759</td>\n",
              "      <td>4</td>\n",
              "      <td>0.000000</td>\n",
              "    </tr>\n",
              "    <tr>\n",
              "      <th>4070018</th>\n",
              "      <td>94</td>\n",
              "      <td>2293759</td>\n",
              "      <td>6</td>\n",
              "      <td>0.000000</td>\n",
              "    </tr>\n",
              "    <tr>\n",
              "      <th>4070019</th>\n",
              "      <td>94</td>\n",
              "      <td>2293759</td>\n",
              "      <td>8</td>\n",
              "      <td>0.000000</td>\n",
              "    </tr>\n",
              "    <tr>\n",
              "      <th>4070020</th>\n",
              "      <td>94</td>\n",
              "      <td>2293759</td>\n",
              "      <td>10</td>\n",
              "      <td>0.000000</td>\n",
              "    </tr>\n",
              "    <tr>\n",
              "      <th>4070021</th>\n",
              "      <td>94</td>\n",
              "      <td>2293759</td>\n",
              "      <td>12</td>\n",
              "      <td>0.000000</td>\n",
              "    </tr>\n",
              "  </tbody>\n",
              "</table>\n",
              "<p>4070022 rows × 4 columns</p>\n",
              "</div>"
            ],
            "text/plain": [
              "          X        Y Column       Value\n",
              "0         0        0      2  331.497681\n",
              "1         0        0      4  366.443085\n",
              "2         0        0      6    0.000000\n",
              "3         0        0      8    0.000000\n",
              "4         0        0     10    0.000000\n",
              "...      ..      ...    ...         ...\n",
              "4070017  94  2293759      4    0.000000\n",
              "4070018  94  2293759      6    0.000000\n",
              "4070019  94  2293759      8    0.000000\n",
              "4070020  94  2293759     10    0.000000\n",
              "4070021  94  2293759     12    0.000000\n",
              "\n",
              "[4070022 rows x 4 columns]"
            ]
          },
          "metadata": {
            "tags": []
          },
          "execution_count": 9
        }
      ]
    },
    {
      "cell_type": "markdown",
      "metadata": {
        "id": "TcXf9E7RVQSf"
      },
      "source": [
        "**Using Silhouette Score**"
      ]
    },
    {
      "cell_type": "code",
      "metadata": {
        "id": "k2zgx1R5vBYQ"
      },
      "source": [
        "from sklearn.cluster import KMeans\n",
        "from sklearn.metrics import silhouette_score"
      ],
      "execution_count": 21,
      "outputs": []
    },
    {
      "cell_type": "code",
      "metadata": {
        "id": "woDmED-hulrT"
      },
      "source": [
        "X = df2.iloc[:, [0]].values"
      ],
      "execution_count": 19,
      "outputs": []
    },
    {
      "cell_type": "code",
      "metadata": {
        "id": "6lHON3XRudOt",
        "outputId": "d80f5375-6a6e-406a-cfd2-d1f8ae56d2ad",
        "colab": {
          "base_uri": "https://localhost:8080/"
        }
      },
      "source": [
        "sil_score_max = -1 #this is the minimum possible score\n",
        "\n",
        "for n_clusters in range(2,10):\n",
        "  model = KMeans(n_clusters = n_clusters, init='k-means++', max_iter=100, n_init=1)\n",
        "  labels = model.fit_predict(X)\n",
        "  sil_score = silhouette_score(X, labels)\n",
        "  print(\"The average silhouette score for %i clusters is %0.2f\" %(n_clusters,sil_score))\n",
        "  if sil_score > sil_score_max:\n",
        "    sil_score_max = sil_score\n",
        "    best_n_clusters = n_clusters"
      ],
      "execution_count": 22,
      "outputs": [
        {
          "output_type": "stream",
          "text": [
            "The average silhouette score for 2 clusters is 0.66\n",
            "The average silhouette score for 3 clusters is 0.64\n",
            "The average silhouette score for 4 clusters is 0.64\n",
            "The average silhouette score for 5 clusters is 0.63\n",
            "The average silhouette score for 6 clusters is 0.63\n",
            "The average silhouette score for 7 clusters is 0.63\n",
            "The average silhouette score for 8 clusters is 0.63\n",
            "The average silhouette score for 9 clusters is 0.63\n"
          ],
          "name": "stdout"
        }
      ]
    }
  ]
}