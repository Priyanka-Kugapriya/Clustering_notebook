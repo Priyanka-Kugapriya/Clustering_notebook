{
  "nbformat": 4,
  "nbformat_minor": 0,
  "metadata": {
    "colab": {
      "name": "Assigning labels.ipynb",
      "provenance": [],
      "collapsed_sections": [],
      "authorship_tag": "ABX9TyOignrO0nhACgROmgYZZ9+D",
      "include_colab_link": true
    },
    "kernelspec": {
      "name": "python3",
      "display_name": "Python 3"
    },
    "language_info": {
      "name": "python"
    }
  },
  "cells": [
    {
      "cell_type": "markdown",
      "metadata": {
        "id": "view-in-github",
        "colab_type": "text"
      },
      "source": [
        "<a href=\"https://colab.research.google.com/github/Priyanka-Kugapriya/Clustering_notebook/blob/main/Assigning_labels.ipynb\" target=\"_parent\"><img src=\"https://colab.research.google.com/assets/colab-badge.svg\" alt=\"Open In Colab\"/></a>"
      ]
    },
    {
      "cell_type": "code",
      "metadata": {
        "id": "M0h1yn-Poe8q"
      },
      "source": [
        "import pandas as pd\n",
        "import plotly.express as px\n",
        "import plotly.graph_objects as go\n",
        "import numpy as np\n",
        "\n",
        "#changepath to CSV\n",
        "\n",
        "df= pd.read_csv(\"/content/sample_data/Layer-Readings_2.csv\",header=None)"
      ],
      "execution_count": 1,
      "outputs": []
    },
    {
      "cell_type": "code",
      "metadata": {
        "id": "-eFlV57Y1By8"
      },
      "source": [
        "df.columns = ['0','1','2', '3','4','5','6','7','8','9','10','11','12','13','14']"
      ],
      "execution_count": 2,
      "outputs": []
    },
    {
      "cell_type": "code",
      "metadata": {
        "colab": {
          "base_uri": "https://localhost:8080/"
        },
        "id": "Y3OcH6vl1ICM",
        "outputId": "3d97cb73-316e-4611-9f75-c84ce3ab7c62"
      },
      "source": [
        "print(df)"
      ],
      "execution_count": 3,
      "outputs": [
        {
          "output_type": "stream",
          "text": [
            "            0        1           2          3  ...   11   12   13     14\n",
            "0           0        0  329.996735  36.054607  ...  0.0  0.0  0.0  31669\n",
            "1           0        0  330.775604  37.902195  ...  0.0  0.0  0.0  31670\n",
            "2           0        0  329.943512  42.349632  ...  0.0  0.0  0.0  31671\n",
            "3           0        0  329.553131  41.687881  ...  0.0  0.0  0.0  31672\n",
            "4           0        0  332.050140  42.752476  ...  0.0  0.0  0.0  31673\n",
            "...       ...      ...         ...        ...  ...  ...  ...  ...    ...\n",
            "663109  16854  2293761  331.718628  42.900658  ...  0.0  0.0  0.0  21033\n",
            "663110  16959  2293761  330.562775  37.563095  ...  0.0  0.0  0.0  21034\n",
            "663111  17065  2293761  330.347748  41.163986  ...  0.0  0.0  0.0  21035\n",
            "663112  17172  2293761  331.059784  32.140606  ...  0.0  0.0  0.0  21036\n",
            "663113  17277  2293761  330.106598  31.508242  ...  0.0  0.0  0.0  21037\n",
            "\n",
            "[663114 rows x 15 columns]\n"
          ],
          "name": "stdout"
        }
      ]
    },
    {
      "cell_type": "code",
      "metadata": {
        "id": "CjMKGaDo1CtF"
      },
      "source": [
        "df.drop(['0','1','3','5','14', '7', '9', '11', '13'],axis='columns', inplace=True)"
      ],
      "execution_count": 4,
      "outputs": []
    },
    {
      "cell_type": "code",
      "metadata": {
        "colab": {
          "base_uri": "https://localhost:8080/"
        },
        "id": "V5Au2G0b3M5I",
        "outputId": "2db199c6-4a96-443e-d89f-57d4cc2d0b46"
      },
      "source": [
        "print(df)"
      ],
      "execution_count": 5,
      "outputs": [
        {
          "output_type": "stream",
          "text": [
            "                 2            4          6            8   10   12\n",
            "0       329.996735     0.000000    0.00000     0.000000  0.0  0.0\n",
            "1       330.775604     0.000000    0.00000     0.000000  0.0  0.0\n",
            "2       329.943512   363.551544    0.00000     0.000000  0.0  0.0\n",
            "3       329.553131  2318.262207  364.41507  2280.695313  0.0  0.0\n",
            "4       332.050140     0.000000    0.00000     0.000000  0.0  0.0\n",
            "...            ...          ...        ...          ...  ...  ...\n",
            "663109  331.718628     0.000000    0.00000     0.000000  0.0  0.0\n",
            "663110  330.562775   361.645508    0.00000     0.000000  0.0  0.0\n",
            "663111  330.347748   362.771545    0.00000     0.000000  0.0  0.0\n",
            "663112  331.059784     0.000000    0.00000     0.000000  0.0  0.0\n",
            "663113  330.106598     0.000000    0.00000     0.000000  0.0  0.0\n",
            "\n",
            "[663114 rows x 6 columns]\n"
          ],
          "name": "stdout"
        }
      ]
    },
    {
      "cell_type": "code",
      "metadata": {
        "id": "D3NOfkaF3YEf"
      },
      "source": [
        "df['Index'] = range(0, 0+len(df))"
      ],
      "execution_count": 6,
      "outputs": []
    },
    {
      "cell_type": "code",
      "metadata": {
        "colab": {
          "base_uri": "https://localhost:8080/"
        },
        "id": "AXGBgXIH3Zav",
        "outputId": "6a284ab6-440c-4ba1-d689-9c7682017b96"
      },
      "source": [
        "cols = df.columns.tolist()\n",
        "cols"
      ],
      "execution_count": 7,
      "outputs": [
        {
          "output_type": "execute_result",
          "data": {
            "text/plain": [
              "['2', '4', '6', '8', '10', '12', 'Index']"
            ]
          },
          "metadata": {
            "tags": []
          },
          "execution_count": 7
        }
      ]
    },
    {
      "cell_type": "code",
      "metadata": {
        "colab": {
          "base_uri": "https://localhost:8080/"
        },
        "id": "Fw-IUiN83dkH",
        "outputId": "847f0bf5-de5c-4e07-f621-87a9b354cd0a"
      },
      "source": [
        "cols = cols[-1:] + cols[:-1]\n",
        "cols"
      ],
      "execution_count": 8,
      "outputs": [
        {
          "output_type": "execute_result",
          "data": {
            "text/plain": [
              "['Index', '2', '4', '6', '8', '10', '12']"
            ]
          },
          "metadata": {
            "tags": []
          },
          "execution_count": 8
        }
      ]
    },
    {
      "cell_type": "code",
      "metadata": {
        "colab": {
          "base_uri": "https://localhost:8080/"
        },
        "id": "sh2hxS1B3kyo",
        "outputId": "aa13a8c4-1d7c-4e04-a74c-de9dbc3f9ed3"
      },
      "source": [
        "df = df[cols]\n",
        "print(df)"
      ],
      "execution_count": 9,
      "outputs": [
        {
          "output_type": "stream",
          "text": [
            "         Index           2            4          6            8   10   12\n",
            "0            0  329.996735     0.000000    0.00000     0.000000  0.0  0.0\n",
            "1            1  330.775604     0.000000    0.00000     0.000000  0.0  0.0\n",
            "2            2  329.943512   363.551544    0.00000     0.000000  0.0  0.0\n",
            "3            3  329.553131  2318.262207  364.41507  2280.695313  0.0  0.0\n",
            "4            4  332.050140     0.000000    0.00000     0.000000  0.0  0.0\n",
            "...        ...         ...          ...        ...          ...  ...  ...\n",
            "663109  663109  331.718628     0.000000    0.00000     0.000000  0.0  0.0\n",
            "663110  663110  330.562775   361.645508    0.00000     0.000000  0.0  0.0\n",
            "663111  663111  330.347748   362.771545    0.00000     0.000000  0.0  0.0\n",
            "663112  663112  331.059784     0.000000    0.00000     0.000000  0.0  0.0\n",
            "663113  663113  330.106598     0.000000    0.00000     0.000000  0.0  0.0\n",
            "\n",
            "[663114 rows x 7 columns]\n"
          ],
          "name": "stdout"
        }
      ]
    },
    {
      "cell_type": "code",
      "metadata": {
        "id": "UNhfcoDv3m6x"
      },
      "source": [
        "df2 = df.set_index('Index').stack().reset_index()"
      ],
      "execution_count": 10,
      "outputs": []
    },
    {
      "cell_type": "code",
      "metadata": {
        "colab": {
          "base_uri": "https://localhost:8080/"
        },
        "id": "mjdV0Z523pst",
        "outputId": "abe397f0-5c58-4d98-91b6-7c7647d7773b"
      },
      "source": [
        "print(df2)"
      ],
      "execution_count": 11,
      "outputs": [
        {
          "output_type": "stream",
          "text": [
            "          Index level_1           0\n",
            "0             0       2  329.996735\n",
            "1             0       4    0.000000\n",
            "2             0       6    0.000000\n",
            "3             0       8    0.000000\n",
            "4             0      10    0.000000\n",
            "...         ...     ...         ...\n",
            "3978679  663113       4    0.000000\n",
            "3978680  663113       6    0.000000\n",
            "3978681  663113       8    0.000000\n",
            "3978682  663113      10    0.000000\n",
            "3978683  663113      12    0.000000\n",
            "\n",
            "[3978684 rows x 3 columns]\n"
          ],
          "name": "stdout"
        }
      ]
    },
    {
      "cell_type": "code",
      "metadata": {
        "id": "70WDO4423wdA"
      },
      "source": [
        "df3 = df2.rename(columns = {'level_1': 'Column', 0: 'Value'}, inplace = False)"
      ],
      "execution_count": 12,
      "outputs": []
    },
    {
      "cell_type": "code",
      "metadata": {
        "id": "WXfg9EfW30sR"
      },
      "source": [
        "df4 = df3.loc[~((df3['Value'] == 0))]"
      ],
      "execution_count": 13,
      "outputs": []
    },
    {
      "cell_type": "code",
      "metadata": {
        "colab": {
          "base_uri": "https://localhost:8080/"
        },
        "id": "337TKl2m32g0",
        "outputId": "63c83d09-26a4-43a8-ad4f-2544977cacaf"
      },
      "source": [
        "print(df4)"
      ],
      "execution_count": 14,
      "outputs": [
        {
          "output_type": "stream",
          "text": [
            "          Index Column       Value\n",
            "0             0      2  329.996735\n",
            "6             1      2  330.775604\n",
            "12            2      2  329.943512\n",
            "13            2      4  363.551544\n",
            "18            3      2  329.553131\n",
            "...         ...    ...         ...\n",
            "3978661  663110      4  361.645508\n",
            "3978666  663111      2  330.347748\n",
            "3978667  663111      4  362.771545\n",
            "3978672  663112      2  331.059784\n",
            "3978678  663113      2  330.106598\n",
            "\n",
            "[1336996 rows x 3 columns]\n"
          ],
          "name": "stdout"
        }
      ]
    },
    {
      "cell_type": "code",
      "metadata": {
        "colab": {
          "base_uri": "https://localhost:8080/"
        },
        "id": "iIjlaSDs3-se",
        "outputId": "26c8cdd5-143c-45a4-a50d-2fc7aedb7e8e"
      },
      "source": [
        "df_plot= df4\n",
        "df_plot['num']=df_plot.index\n",
        "df_plot=df_plot[df_plot['num']%10==0]"
      ],
      "execution_count": 43,
      "outputs": [
        {
          "output_type": "stream",
          "text": [
            "/usr/local/lib/python3.7/dist-packages/ipykernel_launcher.py:2: SettingWithCopyWarning:\n",
            "\n",
            "\n",
            "A value is trying to be set on a copy of a slice from a DataFrame.\n",
            "Try using .loc[row_indexer,col_indexer] = value instead\n",
            "\n",
            "See the caveats in the documentation: https://pandas.pydata.org/pandas-docs/stable/user_guide/indexing.html#returning-a-view-versus-a-copy\n",
            "\n"
          ],
          "name": "stderr"
        }
      ]
    },
    {
      "cell_type": "code",
      "metadata": {
        "colab": {
          "base_uri": "https://localhost:8080/"
        },
        "id": "IVSMfzro4GM2",
        "outputId": "6a175527-faa6-43d8-bf29-d6de3666d4f9"
      },
      "source": [
        "print(df_plot)"
      ],
      "execution_count": 44,
      "outputs": [
        {
          "output_type": "stream",
          "text": [
            "          Index Column       Value      num\n",
            "0             0      2  329.996735        0\n",
            "20            3      6  364.415070       20\n",
            "30            5      2  330.559082       30\n",
            "60           10      2  330.936737       60\n",
            "90           15      2  331.180298       90\n",
            "...         ...    ...         ...      ...\n",
            "3978540  663090      2  330.824951  3978540\n",
            "3978570  663095      2  331.899994  3978570\n",
            "3978600  663100      2  330.223846  3978600\n",
            "3978630  663105      2  329.867157  3978630\n",
            "3978660  663110      2  330.562775  3978660\n",
            "\n",
            "[164174 rows x 4 columns]\n"
          ],
          "name": "stdout"
        }
      ]
    },
    {
      "cell_type": "code",
      "metadata": {
        "colab": {
          "base_uri": "https://localhost:8080/",
          "height": 297
        },
        "id": "X0L4Yce9IgtY",
        "outputId": "07248ec3-ef7c-4e7d-e158-8b07a56e55a1"
      },
      "source": [
        "df_plot.describe()"
      ],
      "execution_count": 34,
      "outputs": [
        {
          "output_type": "execute_result",
          "data": {
            "text/html": [
              "<div>\n",
              "<style scoped>\n",
              "    .dataframe tbody tr th:only-of-type {\n",
              "        vertical-align: middle;\n",
              "    }\n",
              "\n",
              "    .dataframe tbody tr th {\n",
              "        vertical-align: top;\n",
              "    }\n",
              "\n",
              "    .dataframe thead th {\n",
              "        text-align: right;\n",
              "    }\n",
              "</style>\n",
              "<table border=\"1\" class=\"dataframe\">\n",
              "  <thead>\n",
              "    <tr style=\"text-align: right;\">\n",
              "      <th></th>\n",
              "      <th>Index</th>\n",
              "      <th>Value</th>\n",
              "      <th>Estimated_layer</th>\n",
              "    </tr>\n",
              "  </thead>\n",
              "  <tbody>\n",
              "    <tr>\n",
              "      <th>count</th>\n",
              "      <td>164174.000000</td>\n",
              "      <td>164174.000000</td>\n",
              "      <td>164174.000000</td>\n",
              "    </tr>\n",
              "    <tr>\n",
              "      <th>mean</th>\n",
              "      <td>332684.240373</td>\n",
              "      <td>1471.093961</td>\n",
              "      <td>3.884738</td>\n",
              "    </tr>\n",
              "    <tr>\n",
              "      <th>std</th>\n",
              "      <td>183402.384787</td>\n",
              "      <td>1205.233925</td>\n",
              "      <td>2.516534</td>\n",
              "    </tr>\n",
              "    <tr>\n",
              "      <th>min</th>\n",
              "      <td>0.000000</td>\n",
              "      <td>9.512921</td>\n",
              "      <td>0.000000</td>\n",
              "    </tr>\n",
              "    <tr>\n",
              "      <th>25%</th>\n",
              "      <td>176091.250000</td>\n",
              "      <td>330.499931</td>\n",
              "      <td>2.000000</td>\n",
              "    </tr>\n",
              "    <tr>\n",
              "      <th>50%</th>\n",
              "      <td>342084.000000</td>\n",
              "      <td>362.593002</td>\n",
              "      <td>2.000000</td>\n",
              "    </tr>\n",
              "    <tr>\n",
              "      <th>75%</th>\n",
              "      <td>481272.250000</td>\n",
              "      <td>2812.474365</td>\n",
              "      <td>7.000000</td>\n",
              "    </tr>\n",
              "    <tr>\n",
              "      <th>max</th>\n",
              "      <td>663110.000000</td>\n",
              "      <td>3550.302002</td>\n",
              "      <td>8.000000</td>\n",
              "    </tr>\n",
              "  </tbody>\n",
              "</table>\n",
              "</div>"
            ],
            "text/plain": [
              "               Index          Value  Estimated_layer\n",
              "count  164174.000000  164174.000000    164174.000000\n",
              "mean   332684.240373    1471.093961         3.884738\n",
              "std    183402.384787    1205.233925         2.516534\n",
              "min         0.000000       9.512921         0.000000\n",
              "25%    176091.250000     330.499931         2.000000\n",
              "50%    342084.000000     362.593002         2.000000\n",
              "75%    481272.250000    2812.474365         7.000000\n",
              "max    663110.000000    3550.302002         8.000000"
            ]
          },
          "metadata": {
            "tags": []
          },
          "execution_count": 34
        }
      ]
    },
    {
      "cell_type": "code",
      "metadata": {
        "id": "UEPzAEUF44xc"
      },
      "source": [
        "def  estimated_flayer_check(Value):\n",
        "    if 1640.422485\t<= Value < 2454.603760:   #range values defined using previously found 8 clusters \n",
        "        return 1\n",
        "    elif 162.037338\t<= Value < 507.744263:\n",
        "        return 2\n",
        "    elif 9.638062 <= Value < 158.638474:\n",
        "        return 3\n",
        "    elif 571.511841 <= Value < 1173.570801:\n",
        "        return 4\n",
        "    elif 2889.859619 <= Value < 3512.961670:\n",
        "        return 5\n",
        "    elif 2495.293701 <= Value < 2737.822754:\n",
        "        return 6\n",
        "    elif 2739.154053 <= Value < 2824.901123:\n",
        "        return 7\n",
        "    elif 2829.354736\t<= Value < 2889.367920:\n",
        "        return 8\n",
        "    else:\n",
        "        return 0                                  #values which does not come under specified range"
      ],
      "execution_count": 25,
      "outputs": []
    },
    {
      "cell_type": "code",
      "metadata": {
        "colab": {
          "base_uri": "https://localhost:8080/"
        },
        "id": "P_SC9QwPKJN7",
        "outputId": "dc112a01-8222-4bb5-c046-c1dcdbd3ef52"
      },
      "source": [
        "#checked on the original dataset without any reduction\n",
        "df4['Estimated_layer'] = df4['Value'].apply(estimated_flayer_check)"
      ],
      "execution_count": 45,
      "outputs": [
        {
          "output_type": "stream",
          "text": [
            "/usr/local/lib/python3.7/dist-packages/ipykernel_launcher.py:1: SettingWithCopyWarning:\n",
            "\n",
            "\n",
            "A value is trying to be set on a copy of a slice from a DataFrame.\n",
            "Try using .loc[row_indexer,col_indexer] = value instead\n",
            "\n",
            "See the caveats in the documentation: https://pandas.pydata.org/pandas-docs/stable/user_guide/indexing.html#returning-a-view-versus-a-copy\n",
            "\n"
          ],
          "name": "stderr"
        }
      ]
    },
    {
      "cell_type": "code",
      "metadata": {
        "colab": {
          "base_uri": "https://localhost:8080/"
        },
        "id": "u8TMjPCH4Nce",
        "outputId": "03a8b396-eaf4-47d8-de15-b36912866ea0"
      },
      "source": [
        "df_plot['Estimated_layer'] = df_plot['Value'].apply(estimated_flayer_check)"
      ],
      "execution_count": 27,
      "outputs": [
        {
          "output_type": "stream",
          "text": [
            "/usr/local/lib/python3.7/dist-packages/ipykernel_launcher.py:1: SettingWithCopyWarning:\n",
            "\n",
            "\n",
            "A value is trying to be set on a copy of a slice from a DataFrame.\n",
            "Try using .loc[row_indexer,col_indexer] = value instead\n",
            "\n",
            "See the caveats in the documentation: https://pandas.pydata.org/pandas-docs/stable/user_guide/indexing.html#returning-a-view-versus-a-copy\n",
            "\n"
          ],
          "name": "stderr"
        }
      ]
    },
    {
      "cell_type": "code",
      "metadata": {
        "colab": {
          "base_uri": "https://localhost:8080/"
        },
        "id": "qgm5PNycKRCm",
        "outputId": "853134e0-07ba-484c-bf29-4b3b173f1e83"
      },
      "source": [
        "print(df4['Estimated_layer'].value_counts())"
      ],
      "execution_count": 46,
      "outputs": [
        {
          "output_type": "stream",
          "text": [
            "2    606676\n",
            "7    270612\n",
            "8    196676\n",
            "1    127908\n",
            "5     72054\n",
            "6     31295\n",
            "3     26254\n",
            "0      3276\n",
            "4      2245\n",
            "Name: Estimated_layer, dtype: int64\n"
          ],
          "name": "stdout"
        }
      ]
    },
    {
      "cell_type": "code",
      "metadata": {
        "colab": {
          "base_uri": "https://localhost:8080/"
        },
        "id": "dYa7COTgJenf",
        "outputId": "f543597e-3529-47f6-a8f9-7f9720bce09e"
      },
      "source": [
        "print(df_plot['Estimated_layer'].value_counts())"
      ],
      "execution_count": 39,
      "outputs": [
        {
          "output_type": "stream",
          "text": [
            "2    80534\n",
            "7    47214\n",
            "1    14118\n",
            "8     8770\n",
            "5     6416\n",
            "3     3547\n",
            "6     3092\n",
            "0      319\n",
            "4      164\n",
            "Name: Estimated_layer, dtype: int64\n"
          ],
          "name": "stdout"
        }
      ]
    },
    {
      "cell_type": "code",
      "metadata": {
        "colab": {
          "base_uri": "https://localhost:8080/",
          "height": 296
        },
        "id": "eaBzulWKKYZQ",
        "outputId": "8e8af1d5-c251-45a5-eaac-b3f5dce60ac3"
      },
      "source": [
        "#original dataset df4 without any reduction\n",
        "import matplotlib.pyplot as plot\n",
        "\n",
        "df4.plot.scatter(x=\"Estimated_layer\", y=\"Value\", title= \"Scatter plot\");\n",
        "plot.show(block=True);"
      ],
      "execution_count": 47,
      "outputs": [
        {
          "output_type": "display_data",
          "data": {
            "image/png": "[encoded data removed]",
            "text/plain": [
              "<Figure size 432x288 with 1 Axes>"
            ]
          },
          "metadata": {
            "tags": [],
            "needs_background": "light"
          }
        }
      ]
    },
    {
      "cell_type": "code",
      "metadata": {
        "colab": {
          "base_uri": "https://localhost:8080/",
          "height": 296
        },
        "id": "fONFmuZkAp96",
        "outputId": "c1ca36f6-10b8-4b9c-9352-98983dae0923"
      },
      "source": [
        "#dataset df_plot after reduction from df4\n",
        "import matplotlib.pyplot as plot\n",
        "\n",
        "df_plot.plot.scatter(x=\"Estimated_layer\", y=\"Value\", title= \"Scatter plot\");\n",
        "plot.show(block=True);"
      ],
      "execution_count": 32,
      "outputs": [
        {
          "output_type": "display_data",
          "data": {
            "image/png": "[encoded data removed]",
            "text/plain": [
              "<Figure size 432x288 with 1 Axes>"
            ]
          },
          "metadata": {
            "tags": [],
            "needs_background": "light"
          }
        }
      ]
    },
    {
      "cell_type": "code",
      "metadata": {
        "id": "fybPDCR-KfSJ"
      },
      "source": [
        "df4_0= df4[df4['Estimated_layer']==0].copy()"
      ],
      "execution_count": 48,
      "outputs": []
    },
    {
      "cell_type": "code",
      "metadata": {
        "colab": {
          "base_uri": "https://localhost:8080/",
          "height": 297
        },
        "id": "lQ63NA-NKn_6",
        "outputId": "dbd7c395-ef53-42ce-fea5-39b02e444100"
      },
      "source": [
        "df4_0.describe()"
      ],
      "execution_count": 50,
      "outputs": [
        {
          "output_type": "execute_result",
          "data": {
            "text/html": [
              "<div>\n",
              "<style scoped>\n",
              "    .dataframe tbody tr th:only-of-type {\n",
              "        vertical-align: middle;\n",
              "    }\n",
              "\n",
              "    .dataframe tbody tr th {\n",
              "        vertical-align: top;\n",
              "    }\n",
              "\n",
              "    .dataframe thead th {\n",
              "        text-align: right;\n",
              "    }\n",
              "</style>\n",
              "<table border=\"1\" class=\"dataframe\">\n",
              "  <thead>\n",
              "    <tr style=\"text-align: right;\">\n",
              "      <th></th>\n",
              "      <th>Index</th>\n",
              "      <th>Value</th>\n",
              "      <th>num</th>\n",
              "      <th>Estimated_layer</th>\n",
              "    </tr>\n",
              "  </thead>\n",
              "  <tbody>\n",
              "    <tr>\n",
              "      <th>count</th>\n",
              "      <td>3276.000000</td>\n",
              "      <td>3276.000000</td>\n",
              "      <td>3.276000e+03</td>\n",
              "      <td>3276.0</td>\n",
              "    </tr>\n",
              "    <tr>\n",
              "      <th>mean</th>\n",
              "      <td>326502.337302</td>\n",
              "      <td>1919.211580</td>\n",
              "      <td>1.959016e+06</td>\n",
              "      <td>0.0</td>\n",
              "    </tr>\n",
              "    <tr>\n",
              "      <th>std</th>\n",
              "      <td>165782.789407</td>\n",
              "      <td>1157.216839</td>\n",
              "      <td>9.946968e+05</td>\n",
              "      <td>0.0</td>\n",
              "    </tr>\n",
              "    <tr>\n",
              "      <th>min</th>\n",
              "      <td>1414.000000</td>\n",
              "      <td>9.512921</td>\n",
              "      <td>8.486000e+03</td>\n",
              "      <td>0.0</td>\n",
              "    </tr>\n",
              "    <tr>\n",
              "      <th>25%</th>\n",
              "      <td>189929.750000</td>\n",
              "      <td>520.646133</td>\n",
              "      <td>1.139581e+06</td>\n",
              "      <td>0.0</td>\n",
              "    </tr>\n",
              "    <tr>\n",
              "      <th>50%</th>\n",
              "      <td>366936.500000</td>\n",
              "      <td>2487.697387</td>\n",
              "      <td>2.201620e+06</td>\n",
              "      <td>0.0</td>\n",
              "    </tr>\n",
              "    <tr>\n",
              "      <th>75%</th>\n",
              "      <td>452023.000000</td>\n",
              "      <td>2827.781738</td>\n",
              "      <td>2.712142e+06</td>\n",
              "      <td>0.0</td>\n",
              "    </tr>\n",
              "    <tr>\n",
              "      <th>max</th>\n",
              "      <td>660047.000000</td>\n",
              "      <td>3562.331055</td>\n",
              "      <td>3.960283e+06</td>\n",
              "      <td>0.0</td>\n",
              "    </tr>\n",
              "  </tbody>\n",
              "</table>\n",
              "</div>"
            ],
            "text/plain": [
              "               Index        Value           num  Estimated_layer\n",
              "count    3276.000000  3276.000000  3.276000e+03           3276.0\n",
              "mean   326502.337302  1919.211580  1.959016e+06              0.0\n",
              "std    165782.789407  1157.216839  9.946968e+05              0.0\n",
              "min      1414.000000     9.512921  8.486000e+03              0.0\n",
              "25%    189929.750000   520.646133  1.139581e+06              0.0\n",
              "50%    366936.500000  2487.697387  2.201620e+06              0.0\n",
              "75%    452023.000000  2827.781738  2.712142e+06              0.0\n",
              "max    660047.000000  3562.331055  3.960283e+06              0.0"
            ]
          },
          "metadata": {
            "tags": []
          },
          "execution_count": 50
        }
      ]
    },
    {
      "cell_type": "code",
      "metadata": {
        "colab": {
          "base_uri": "https://localhost:8080/"
        },
        "id": "5vuKnB4mKzYk",
        "outputId": "9109180c-9354-403a-90e4-54eb6cea4ff5"
      },
      "source": [
        "percent0 = 3276 / 1336996 * 100\n",
        "print(percent0)"
      ],
      "execution_count": 51,
      "outputs": [
        {
          "output_type": "stream",
          "text": [
            "0.24502691107527622\n"
          ],
          "name": "stdout"
        }
      ]
    },
    {
      "cell_type": "code",
      "metadata": {
        "id": "5FNKerSYIurO"
      },
      "source": [
        "df_plot_0= df_plot[df_plot['Estimated_layer']==0].copy()"
      ],
      "execution_count": 35,
      "outputs": []
    },
    {
      "cell_type": "code",
      "metadata": {
        "colab": {
          "base_uri": "https://localhost:8080/",
          "height": 297
        },
        "id": "BvnL0O3pI-lC",
        "outputId": "20f0f844-11f6-443c-8d8f-113c7fc192ea"
      },
      "source": [
        "df_plot_0.describe()"
      ],
      "execution_count": 37,
      "outputs": [
        {
          "output_type": "execute_result",
          "data": {
            "text/html": [
              "<div>\n",
              "<style scoped>\n",
              "    .dataframe tbody tr th:only-of-type {\n",
              "        vertical-align: middle;\n",
              "    }\n",
              "\n",
              "    .dataframe tbody tr th {\n",
              "        vertical-align: top;\n",
              "    }\n",
              "\n",
              "    .dataframe thead th {\n",
              "        text-align: right;\n",
              "    }\n",
              "</style>\n",
              "<table border=\"1\" class=\"dataframe\">\n",
              "  <thead>\n",
              "    <tr style=\"text-align: right;\">\n",
              "      <th></th>\n",
              "      <th>Index</th>\n",
              "      <th>Value</th>\n",
              "      <th>Estimated_layer</th>\n",
              "    </tr>\n",
              "  </thead>\n",
              "  <tbody>\n",
              "    <tr>\n",
              "      <th>count</th>\n",
              "      <td>319.000000</td>\n",
              "      <td>319.000000</td>\n",
              "      <td>319.0</td>\n",
              "    </tr>\n",
              "    <tr>\n",
              "      <th>mean</th>\n",
              "      <td>344911.733542</td>\n",
              "      <td>1830.760776</td>\n",
              "      <td>0.0</td>\n",
              "    </tr>\n",
              "    <tr>\n",
              "      <th>std</th>\n",
              "      <td>157204.943180</td>\n",
              "      <td>1182.870793</td>\n",
              "      <td>0.0</td>\n",
              "    </tr>\n",
              "    <tr>\n",
              "      <th>min</th>\n",
              "      <td>15450.000000</td>\n",
              "      <td>9.512921</td>\n",
              "      <td>0.0</td>\n",
              "    </tr>\n",
              "    <tr>\n",
              "      <th>25%</th>\n",
              "      <td>228210.000000</td>\n",
              "      <td>334.885628</td>\n",
              "      <td>0.0</td>\n",
              "    </tr>\n",
              "    <tr>\n",
              "      <th>50%</th>\n",
              "      <td>376485.000000</td>\n",
              "      <td>2472.815430</td>\n",
              "      <td>0.0</td>\n",
              "    </tr>\n",
              "    <tr>\n",
              "      <th>75%</th>\n",
              "      <td>452254.000000</td>\n",
              "      <td>2825.786743</td>\n",
              "      <td>0.0</td>\n",
              "    </tr>\n",
              "    <tr>\n",
              "      <th>max</th>\n",
              "      <td>651578.000000</td>\n",
              "      <td>3550.302002</td>\n",
              "      <td>0.0</td>\n",
              "    </tr>\n",
              "  </tbody>\n",
              "</table>\n",
              "</div>"
            ],
            "text/plain": [
              "               Index        Value  Estimated_layer\n",
              "count     319.000000   319.000000            319.0\n",
              "mean   344911.733542  1830.760776              0.0\n",
              "std    157204.943180  1182.870793              0.0\n",
              "min     15450.000000     9.512921              0.0\n",
              "25%    228210.000000   334.885628              0.0\n",
              "50%    376485.000000  2472.815430              0.0\n",
              "75%    452254.000000  2825.786743              0.0\n",
              "max    651578.000000  3550.302002              0.0"
            ]
          },
          "metadata": {
            "tags": []
          },
          "execution_count": 37
        }
      ]
    },
    {
      "cell_type": "code",
      "metadata": {
        "colab": {
          "base_uri": "https://localhost:8080/"
        },
        "id": "K5kw9M8pJqLE",
        "outputId": "ae130c2a-6c25-414a-cd54-4e15e903328a"
      },
      "source": [
        "percent0 = 319 / 164174 * 100\n",
        "print(percent0)"
      ],
      "execution_count": 40,
      "outputs": [
        {
          "output_type": "stream",
          "text": [
            "0.19430604115146125\n"
          ],
          "name": "stdout"
        }
      ]
    }
  ]
}