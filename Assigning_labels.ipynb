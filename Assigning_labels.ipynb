{
  "nbformat": 4,
  "nbformat_minor": 0,
  "metadata": {
    "colab": {
      "name": "Assigning labels.ipynb",
      "provenance": [],
      "authorship_tag": "ABX9TyM7O0G/PDINn3NIomAQArFf",
      "include_colab_link": true
    },
    "kernelspec": {
      "name": "python3",
      "display_name": "Python 3"
    },
    "language_info": {
      "name": "python"
    }
  },
  "cells": [
    {
      "cell_type": "markdown",
      "metadata": {
        "id": "view-in-github",
        "colab_type": "text"
      },
      "source": [
        "<a href=\"https://colab.research.google.com/github/Priyanka-Kugapriya/Clustering_notebook/blob/main/Assigning_labels.ipynb\" target=\"_parent\"><img src=\"https://colab.research.google.com/assets/colab-badge.svg\" alt=\"Open In Colab\"/></a>"
      ]
    },
    {
      "cell_type": "code",
      "metadata": {
        "id": "M0h1yn-Poe8q"
      },
      "source": [
        "import pandas as pd\n",
        "import plotly.express as px\n",
        "import plotly.graph_objects as go\n",
        "import numpy as np\n",
        "\n",
        "#changepath to CSV\n",
        "\n",
        "df= pd.read_csv(\"/content/sample_data/Layer-Readings_2.csv\",header=None)"
      ],
      "execution_count": 1,
      "outputs": []
    },
    {
      "cell_type": "code",
      "metadata": {
        "id": "-eFlV57Y1By8"
      },
      "source": [
        "df.columns = ['0','1','2', '3','4','5','6','7','8','9','10','11','12','13','14']"
      ],
      "execution_count": 2,
      "outputs": []
    },
    {
      "cell_type": "code",
      "metadata": {
        "colab": {
          "base_uri": "https://localhost:8080/"
        },
        "id": "Y3OcH6vl1ICM",
        "outputId": "3d97cb73-316e-4611-9f75-c84ce3ab7c62"
      },
      "source": [
        "print(df)"
      ],
      "execution_count": 3,
      "outputs": [
        {
          "output_type": "stream",
          "text": [
            "            0        1           2          3  ...   11   12   13     14\n",
            "0           0        0  329.996735  36.054607  ...  0.0  0.0  0.0  31669\n",
            "1           0        0  330.775604  37.902195  ...  0.0  0.0  0.0  31670\n",
            "2           0        0  329.943512  42.349632  ...  0.0  0.0  0.0  31671\n",
            "3           0        0  329.553131  41.687881  ...  0.0  0.0  0.0  31672\n",
            "4           0        0  332.050140  42.752476  ...  0.0  0.0  0.0  31673\n",
            "...       ...      ...         ...        ...  ...  ...  ...  ...    ...\n",
            "663109  16854  2293761  331.718628  42.900658  ...  0.0  0.0  0.0  21033\n",
            "663110  16959  2293761  330.562775  37.563095  ...  0.0  0.0  0.0  21034\n",
            "663111  17065  2293761  330.347748  41.163986  ...  0.0  0.0  0.0  21035\n",
            "663112  17172  2293761  331.059784  32.140606  ...  0.0  0.0  0.0  21036\n",
            "663113  17277  2293761  330.106598  31.508242  ...  0.0  0.0  0.0  21037\n",
            "\n",
            "[663114 rows x 15 columns]\n"
          ],
          "name": "stdout"
        }
      ]
    },
    {
      "cell_type": "code",
      "metadata": {
        "id": "CjMKGaDo1CtF"
      },
      "source": [
        "df.drop(['0','1','3','5','14', '7', '9', '11', '13'],axis='columns', inplace=True)"
      ],
      "execution_count": 4,
      "outputs": []
    },
    {
      "cell_type": "code",
      "metadata": {
        "colab": {
          "base_uri": "https://localhost:8080/"
        },
        "id": "V5Au2G0b3M5I",
        "outputId": "2db199c6-4a96-443e-d89f-57d4cc2d0b46"
      },
      "source": [
        "print(df)"
      ],
      "execution_count": 5,
      "outputs": [
        {
          "output_type": "stream",
          "text": [
            "                 2            4          6            8   10   12\n",
            "0       329.996735     0.000000    0.00000     0.000000  0.0  0.0\n",
            "1       330.775604     0.000000    0.00000     0.000000  0.0  0.0\n",
            "2       329.943512   363.551544    0.00000     0.000000  0.0  0.0\n",
            "3       329.553131  2318.262207  364.41507  2280.695313  0.0  0.0\n",
            "4       332.050140     0.000000    0.00000     0.000000  0.0  0.0\n",
            "...            ...          ...        ...          ...  ...  ...\n",
            "663109  331.718628     0.000000    0.00000     0.000000  0.0  0.0\n",
            "663110  330.562775   361.645508    0.00000     0.000000  0.0  0.0\n",
            "663111  330.347748   362.771545    0.00000     0.000000  0.0  0.0\n",
            "663112  331.059784     0.000000    0.00000     0.000000  0.0  0.0\n",
            "663113  330.106598     0.000000    0.00000     0.000000  0.0  0.0\n",
            "\n",
            "[663114 rows x 6 columns]\n"
          ],
          "name": "stdout"
        }
      ]
    },
    {
      "cell_type": "code",
      "metadata": {
        "id": "D3NOfkaF3YEf"
      },
      "source": [
        "df['Index'] = range(0, 0+len(df))"
      ],
      "execution_count": 6,
      "outputs": []
    },
    {
      "cell_type": "code",
      "metadata": {
        "colab": {
          "base_uri": "https://localhost:8080/"
        },
        "id": "AXGBgXIH3Zav",
        "outputId": "6a284ab6-440c-4ba1-d689-9c7682017b96"
      },
      "source": [
        "cols = df.columns.tolist()\n",
        "cols"
      ],
      "execution_count": 7,
      "outputs": [
        {
          "output_type": "execute_result",
          "data": {
            "text/plain": [
              "['2', '4', '6', '8', '10', '12', 'Index']"
            ]
          },
          "metadata": {
            "tags": []
          },
          "execution_count": 7
        }
      ]
    },
    {
      "cell_type": "code",
      "metadata": {
        "colab": {
          "base_uri": "https://localhost:8080/"
        },
        "id": "Fw-IUiN83dkH",
        "outputId": "847f0bf5-de5c-4e07-f621-87a9b354cd0a"
      },
      "source": [
        "cols = cols[-1:] + cols[:-1]\n",
        "cols"
      ],
      "execution_count": 8,
      "outputs": [
        {
          "output_type": "execute_result",
          "data": {
            "text/plain": [
              "['Index', '2', '4', '6', '8', '10', '12']"
            ]
          },
          "metadata": {
            "tags": []
          },
          "execution_count": 8
        }
      ]
    },
    {
      "cell_type": "code",
      "metadata": {
        "colab": {
          "base_uri": "https://localhost:8080/"
        },
        "id": "sh2hxS1B3kyo",
        "outputId": "aa13a8c4-1d7c-4e04-a74c-de9dbc3f9ed3"
      },
      "source": [
        "df = df[cols]\n",
        "print(df)"
      ],
      "execution_count": 9,
      "outputs": [
        {
          "output_type": "stream",
          "text": [
            "         Index           2            4          6            8   10   12\n",
            "0            0  329.996735     0.000000    0.00000     0.000000  0.0  0.0\n",
            "1            1  330.775604     0.000000    0.00000     0.000000  0.0  0.0\n",
            "2            2  329.943512   363.551544    0.00000     0.000000  0.0  0.0\n",
            "3            3  329.553131  2318.262207  364.41507  2280.695313  0.0  0.0\n",
            "4            4  332.050140     0.000000    0.00000     0.000000  0.0  0.0\n",
            "...        ...         ...          ...        ...          ...  ...  ...\n",
            "663109  663109  331.718628     0.000000    0.00000     0.000000  0.0  0.0\n",
            "663110  663110  330.562775   361.645508    0.00000     0.000000  0.0  0.0\n",
            "663111  663111  330.347748   362.771545    0.00000     0.000000  0.0  0.0\n",
            "663112  663112  331.059784     0.000000    0.00000     0.000000  0.0  0.0\n",
            "663113  663113  330.106598     0.000000    0.00000     0.000000  0.0  0.0\n",
            "\n",
            "[663114 rows x 7 columns]\n"
          ],
          "name": "stdout"
        }
      ]
    },
    {
      "cell_type": "code",
      "metadata": {
        "id": "UNhfcoDv3m6x"
      },
      "source": [
        "df2 = df.set_index('Index').stack().reset_index()"
      ],
      "execution_count": 10,
      "outputs": []
    },
    {
      "cell_type": "code",
      "metadata": {
        "colab": {
          "base_uri": "https://localhost:8080/"
        },
        "id": "mjdV0Z523pst",
        "outputId": "abe397f0-5c58-4d98-91b6-7c7647d7773b"
      },
      "source": [
        "print(df2)"
      ],
      "execution_count": 11,
      "outputs": [
        {
          "output_type": "stream",
          "text": [
            "          Index level_1           0\n",
            "0             0       2  329.996735\n",
            "1             0       4    0.000000\n",
            "2             0       6    0.000000\n",
            "3             0       8    0.000000\n",
            "4             0      10    0.000000\n",
            "...         ...     ...         ...\n",
            "3978679  663113       4    0.000000\n",
            "3978680  663113       6    0.000000\n",
            "3978681  663113       8    0.000000\n",
            "3978682  663113      10    0.000000\n",
            "3978683  663113      12    0.000000\n",
            "\n",
            "[3978684 rows x 3 columns]\n"
          ],
          "name": "stdout"
        }
      ]
    },
    {
      "cell_type": "code",
      "metadata": {
        "id": "70WDO4423wdA"
      },
      "source": [
        "df3 = df2.rename(columns = {'level_1': 'Column', 0: 'Value'}, inplace = False)"
      ],
      "execution_count": 12,
      "outputs": []
    },
    {
      "cell_type": "code",
      "metadata": {
        "id": "WXfg9EfW30sR"
      },
      "source": [
        "df4 = df3.loc[~((df3['Value'] == 0))]"
      ],
      "execution_count": 13,
      "outputs": []
    },
    {
      "cell_type": "code",
      "metadata": {
        "colab": {
          "base_uri": "https://localhost:8080/"
        },
        "id": "337TKl2m32g0",
        "outputId": "63c83d09-26a4-43a8-ad4f-2544977cacaf"
      },
      "source": [
        "print(df4)"
      ],
      "execution_count": 14,
      "outputs": [
        {
          "output_type": "stream",
          "text": [
            "          Index Column       Value\n",
            "0             0      2  329.996735\n",
            "6             1      2  330.775604\n",
            "12            2      2  329.943512\n",
            "13            2      4  363.551544\n",
            "18            3      2  329.553131\n",
            "...         ...    ...         ...\n",
            "3978661  663110      4  361.645508\n",
            "3978666  663111      2  330.347748\n",
            "3978667  663111      4  362.771545\n",
            "3978672  663112      2  331.059784\n",
            "3978678  663113      2  330.106598\n",
            "\n",
            "[1336996 rows x 3 columns]\n"
          ],
          "name": "stdout"
        }
      ]
    },
    {
      "cell_type": "code",
      "metadata": {
        "colab": {
          "base_uri": "https://localhost:8080/"
        },
        "id": "iIjlaSDs3-se",
        "outputId": "85956e1a-caf1-49f8-e63e-136d969483f6"
      },
      "source": [
        "df_plot= df4\n",
        "df_plot['num']=df_plot.index\n",
        "df_plot=df_plot[df_plot['num']%10==0]"
      ],
      "execution_count": 23,
      "outputs": [
        {
          "output_type": "stream",
          "text": [
            "/usr/local/lib/python3.7/dist-packages/ipykernel_launcher.py:2: SettingWithCopyWarning:\n",
            "\n",
            "\n",
            "A value is trying to be set on a copy of a slice from a DataFrame.\n",
            "Try using .loc[row_indexer,col_indexer] = value instead\n",
            "\n",
            "See the caveats in the documentation: https://pandas.pydata.org/pandas-docs/stable/user_guide/indexing.html#returning-a-view-versus-a-copy\n",
            "\n"
          ],
          "name": "stderr"
        }
      ]
    },
    {
      "cell_type": "code",
      "metadata": {
        "colab": {
          "base_uri": "https://localhost:8080/"
        },
        "id": "IVSMfzro4GM2",
        "outputId": "5c8b430e-0230-46ec-a770-6a73a9e5b241"
      },
      "source": [
        "print(df_plot)"
      ],
      "execution_count": 24,
      "outputs": [
        {
          "output_type": "stream",
          "text": [
            "          Index Column       Value      num\n",
            "0             0      2  329.996735        0\n",
            "20            3      6  364.415070       20\n",
            "30            5      2  330.559082       30\n",
            "60           10      2  330.936737       60\n",
            "90           15      2  331.180298       90\n",
            "...         ...    ...         ...      ...\n",
            "3978540  663090      2  330.824951  3978540\n",
            "3978570  663095      2  331.899994  3978570\n",
            "3978600  663100      2  330.223846  3978600\n",
            "3978630  663105      2  329.867157  3978630\n",
            "3978660  663110      2  330.562775  3978660\n",
            "\n",
            "[164174 rows x 4 columns]\n"
          ],
          "name": "stdout"
        }
      ]
    },
    {
      "cell_type": "code",
      "metadata": {
        "id": "UEPzAEUF44xc"
      },
      "source": [
        "def  estimated_flayer_check(Value):\n",
        "    if 1640.422485\t<= Value < 2454.603760:   #range values defined using previously found 8 clusters \n",
        "        return 1\n",
        "    elif 162.037338\t<= Value < 507.744263:\n",
        "        return 2\n",
        "    elif 9.638062 <= Value < 158.638474:\n",
        "        return 3\n",
        "    elif 571.511841 <= Value < 1173.570801:\n",
        "        return 4\n",
        "    elif 2889.859619 <= Value < 3512.961670:\n",
        "        return 5\n",
        "    elif 2495.293701 <= Value < 2737.822754:\n",
        "        return 6\n",
        "    elif 2739.154053 <= Value < 2824.901123:\n",
        "        return 7\n",
        "    elif 2829.354736\t<= Value < 2889.367920:\n",
        "        return 8\n",
        "    else:\n",
        "        return 0                                  #values which does not come under specified range"
      ],
      "execution_count": 25,
      "outputs": []
    },
    {
      "cell_type": "code",
      "metadata": {
        "colab": {
          "base_uri": "https://localhost:8080/"
        },
        "id": "u8TMjPCH4Nce",
        "outputId": "03a8b396-eaf4-47d8-de15-b36912866ea0"
      },
      "source": [
        "df_plot['Estimated_layer'] = df_plot['Value'].apply(estimated_flayer_check)"
      ],
      "execution_count": 27,
      "outputs": [
        {
          "output_type": "stream",
          "text": [
            "/usr/local/lib/python3.7/dist-packages/ipykernel_launcher.py:1: SettingWithCopyWarning:\n",
            "\n",
            "\n",
            "A value is trying to be set on a copy of a slice from a DataFrame.\n",
            "Try using .loc[row_indexer,col_indexer] = value instead\n",
            "\n",
            "See the caveats in the documentation: https://pandas.pydata.org/pandas-docs/stable/user_guide/indexing.html#returning-a-view-versus-a-copy\n",
            "\n"
          ],
          "name": "stderr"
        }
      ]
    },
    {
      "cell_type": "code",
      "metadata": {
        "colab": {
          "base_uri": "https://localhost:8080/"
        },
        "id": "jVEKZr1DAdVX",
        "outputId": "6aed9936-6c75-4d4e-bebe-94a00e06c8bc"
      },
      "source": [
        "print(df_plot)"
      ],
      "execution_count": 31,
      "outputs": [
        {
          "output_type": "stream",
          "text": [
            "          Index Column       Value  Estimated_layer\n",
            "0             0      2  329.996735                2\n",
            "20            3      6  364.415070                2\n",
            "30            5      2  330.559082                2\n",
            "60           10      2  330.936737                2\n",
            "90           15      2  331.180298                2\n",
            "...         ...    ...         ...              ...\n",
            "3978540  663090      2  330.824951                2\n",
            "3978570  663095      2  331.899994                2\n",
            "3978600  663100      2  330.223846                2\n",
            "3978630  663105      2  329.867157                2\n",
            "3978660  663110      2  330.562775                2\n",
            "\n",
            "[164174 rows x 4 columns]\n"
          ],
          "name": "stdout"
        }
      ]
    },
    {
      "cell_type": "code",
      "metadata": {
        "colab": {
          "base_uri": "https://localhost:8080/"
        },
        "id": "f4k18JkoAgQl",
        "outputId": "34b3e4d5-f59d-4b21-dfb0-d347a46d7bc6"
      },
      "source": [
        "df_plot.drop(['num'],axis='columns', inplace=True)"
      ],
      "execution_count": 30,
      "outputs": [
        {
          "output_type": "stream",
          "text": [
            "/usr/local/lib/python3.7/dist-packages/pandas/core/frame.py:4174: SettingWithCopyWarning:\n",
            "\n",
            "\n",
            "A value is trying to be set on a copy of a slice from a DataFrame\n",
            "\n",
            "See the caveats in the documentation: https://pandas.pydata.org/pandas-docs/stable/user_guide/indexing.html#returning-a-view-versus-a-copy\n",
            "\n"
          ],
          "name": "stderr"
        }
      ]
    },
    {
      "cell_type": "code",
      "metadata": {
        "colab": {
          "base_uri": "https://localhost:8080/",
          "height": 296
        },
        "id": "fONFmuZkAp96",
        "outputId": "c1ca36f6-10b8-4b9c-9352-98983dae0923"
      },
      "source": [
        "import matplotlib.pyplot as plot\n",
        "\n",
        "df_plot.plot.scatter(x=\"Estimated_layer\", y=\"Value\", title= \"Scatter plot\");\n",
        "plot.show(block=True);"
      ],
      "execution_count": 32,
      "outputs": [
        {
          "output_type": "display_data",
          "data": {
            "image/png": "[encoded data removed]",
            "text/plain": [
              "<Figure size 432x288 with 1 Axes>"
            ]
          },
          "metadata": {
            "tags": [],
            "needs_background": "light"
          }
        }
      ]
    }
  ]
}