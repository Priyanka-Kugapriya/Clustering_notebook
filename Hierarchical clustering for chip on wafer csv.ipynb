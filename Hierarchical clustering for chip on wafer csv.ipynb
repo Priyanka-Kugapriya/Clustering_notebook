{
  "nbformat": 4,
  "nbformat_minor": 0,
  "metadata": {
    "colab": {
      "name": "Untitled0.ipynb",
      "provenance": [],
      "authorship_tag": "ABX9TyPAYOTFHgTFLcLSEXE10Zmj",
      "include_colab_link": true
    },
    "kernelspec": {
      "name": "python3",
      "display_name": "Python 3"
    },
    "language_info": {
      "name": "python"
    }
  },
  "cells": [
    {
      "cell_type": "markdown",
      "metadata": {
        "id": "view-in-github",
        "colab_type": "text"
      },
      "source": [
        "<a href=\"https://colab.research.google.com/github/Priyanka-Kugapriya/Clustering_notebook/blob/main/Hierarchical%20clustering%20for%20chip%20on%20wafer%20csv.ipynb\" target=\"_parent\"><img src=\"https://colab.research.google.com/assets/colab-badge.svg\" alt=\"Open In Colab\"/></a>"
      ]
    },
    {
      "cell_type": "code",
      "metadata": {
        "id": "R5riOvLn06SD"
      },
      "source": [
        "import pandas as pd\n",
        "import plotly.express as px\n",
        "import plotly.graph_objects as go\n",
        "import numpy as np\n",
        "\n",
        "#changepath to CSV\n",
        "\n",
        "df= pd.read_csv(\"/content/sample_data/CustomerW3_IT_6_Test_20210225182626301.csv\",header=None)"
      ],
      "execution_count": 2,
      "outputs": []
    },
    {
      "cell_type": "code",
      "metadata": {
        "id": "zqNHyygU2_gG"
      },
      "source": [
        ""
      ],
      "execution_count": 2,
      "outputs": []
    },
    {
      "cell_type": "code",
      "metadata": {
        "colab": {
          "base_uri": "https://localhost:8080/"
        },
        "id": "-K2TrvqB3-6P",
        "outputId": "6d821e4f-9bc9-4f5e-fb93-78bd8e81bcf6"
      },
      "source": [
        "print(df)"
      ],
      "execution_count": 3,
      "outputs": [
        {
          "output_type": "stream",
          "text": [
            "        0        1           2          3   ...   11   12   13     14\n",
            "0        0        0  331.497681  38.590508  ...  0.0  0.0  0.0  54725\n",
            "1        0        0  328.913696  35.928177  ...  0.0  0.0  0.0  54726\n",
            "2        0        0  332.411896  43.757309  ...  0.0  0.0  0.0  54727\n",
            "3        0        0  327.737640  45.355579  ...  0.0  0.0  0.0  54728\n",
            "4        0        0  329.433319  41.014294  ...  0.0  0.0  0.0  54729\n",
            "...     ..      ...         ...        ...  ...  ...  ...  ...    ...\n",
            "678332  94  2293759  329.108093  37.959175  ...  0.0  0.0  0.0  63869\n",
            "678333  94  2293759  329.762146  39.259834  ...  0.0  0.0  0.0  63870\n",
            "678334  94  2293759  333.106567  39.688843  ...  0.0  0.0  0.0  63871\n",
            "678335  94  2293759  328.430756  34.968334  ...  0.0  0.0  0.0  63872\n",
            "678336  94  2293759  333.265350  45.473488  ...  0.0  0.0  0.0  63873\n",
            "\n",
            "[678337 rows x 15 columns]\n"
          ],
          "name": "stdout"
        }
      ]
    },
    {
      "cell_type": "code",
      "metadata": {
        "id": "3PQ122Wy34A3"
      },
      "source": [
        "df.columns = ['0','1','2', '3','4','5','6','7','8','9','10','11','12','13','14']"
      ],
      "execution_count": 4,
      "outputs": []
    },
    {
      "cell_type": "code",
      "metadata": {
        "colab": {
          "base_uri": "https://localhost:8080/"
        },
        "id": "xMrL_Hk64Gk4",
        "outputId": "307ab403-4aa2-468f-c485-835eaac1bd92"
      },
      "source": [
        "sorted(df)"
      ],
      "execution_count": 5,
      "outputs": [
        {
          "output_type": "execute_result",
          "data": {
            "text/plain": [
              "['0',\n",
              " '1',\n",
              " '10',\n",
              " '11',\n",
              " '12',\n",
              " '13',\n",
              " '14',\n",
              " '2',\n",
              " '3',\n",
              " '4',\n",
              " '5',\n",
              " '6',\n",
              " '7',\n",
              " '8',\n",
              " '9']"
            ]
          },
          "metadata": {
            "tags": []
          },
          "execution_count": 5
        }
      ]
    },
    {
      "cell_type": "code",
      "metadata": {
        "colab": {
          "base_uri": "https://localhost:8080/"
        },
        "id": "iPT6QRyi4HpB",
        "outputId": "27652d9d-a62a-406f-e500-331ef7eaf362"
      },
      "source": [
        "df.isnull().sum()"
      ],
      "execution_count": 6,
      "outputs": [
        {
          "output_type": "execute_result",
          "data": {
            "text/plain": [
              "0     0\n",
              "1     0\n",
              "2     0\n",
              "3     0\n",
              "4     0\n",
              "5     0\n",
              "6     0\n",
              "7     0\n",
              "8     0\n",
              "9     0\n",
              "10    0\n",
              "11    0\n",
              "12    0\n",
              "13    0\n",
              "14    0\n",
              "dtype: int64"
            ]
          },
          "metadata": {
            "tags": []
          },
          "execution_count": 6
        }
      ]
    },
    {
      "cell_type": "code",
      "metadata": {
        "id": "Nql5pNvz4JRv"
      },
      "source": [
        "df.drop(['0','1','3','5','14', '7', '9', '11', '13'],axis='columns', inplace=True)"
      ],
      "execution_count": 7,
      "outputs": []
    },
    {
      "cell_type": "code",
      "metadata": {
        "colab": {
          "base_uri": "https://localhost:8080/"
        },
        "id": "lDxbG9By4NE3",
        "outputId": "2c26b24e-3601-4524-fe8c-caa9db498069"
      },
      "source": [
        "print(df)"
      ],
      "execution_count": 8,
      "outputs": [
        {
          "output_type": "stream",
          "text": [
            "                 2           4           6    8   10   12\n",
            "0       331.497681  366.443085     0.00000  0.0  0.0  0.0\n",
            "1       328.913696  362.517304  2372.15332  0.0  0.0  0.0\n",
            "2       332.411896    0.000000     0.00000  0.0  0.0  0.0\n",
            "3       327.737640  363.017761     0.00000  0.0  0.0  0.0\n",
            "4       329.433319    0.000000     0.00000  0.0  0.0  0.0\n",
            "...            ...         ...         ...  ...  ...  ...\n",
            "678332  329.108093    0.000000     0.00000  0.0  0.0  0.0\n",
            "678333  329.762146    0.000000     0.00000  0.0  0.0  0.0\n",
            "678334  333.106567  363.926758     0.00000  0.0  0.0  0.0\n",
            "678335  328.430756    0.000000     0.00000  0.0  0.0  0.0\n",
            "678336  333.265350    0.000000     0.00000  0.0  0.0  0.0\n",
            "\n",
            "[678337 rows x 6 columns]\n"
          ],
          "name": "stdout"
        }
      ]
    },
    {
      "cell_type": "code",
      "metadata": {
        "id": "WXER3wtA4P7Q"
      },
      "source": [
        "df['Index'] = range(0, 0+len(df))"
      ],
      "execution_count": 9,
      "outputs": []
    },
    {
      "cell_type": "code",
      "metadata": {
        "colab": {
          "base_uri": "https://localhost:8080/"
        },
        "id": "9UKZSPI24eP3",
        "outputId": "5166d70e-c108-4522-d212-3d66735ccac9"
      },
      "source": [
        "cols = df.columns.tolist()\n",
        "cols"
      ],
      "execution_count": 10,
      "outputs": [
        {
          "output_type": "execute_result",
          "data": {
            "text/plain": [
              "['2', '4', '6', '8', '10', '12', 'Index']"
            ]
          },
          "metadata": {
            "tags": []
          },
          "execution_count": 10
        }
      ]
    },
    {
      "cell_type": "code",
      "metadata": {
        "colab": {
          "base_uri": "https://localhost:8080/"
        },
        "id": "kM4CVa_f4gtT",
        "outputId": "6a2c9a77-faa2-4cd0-a234-ce2b6ceabb10"
      },
      "source": [
        "cols = cols[-1:] + cols[:-1]\n",
        "cols"
      ],
      "execution_count": 11,
      "outputs": [
        {
          "output_type": "execute_result",
          "data": {
            "text/plain": [
              "['Index', '2', '4', '6', '8', '10', '12']"
            ]
          },
          "metadata": {
            "tags": []
          },
          "execution_count": 11
        }
      ]
    },
    {
      "cell_type": "code",
      "metadata": {
        "colab": {
          "base_uri": "https://localhost:8080/"
        },
        "id": "m7-9S7pQ4i-n",
        "outputId": "d91adc4a-1f42-4c45-8d9e-8a4b82173757"
      },
      "source": [
        "df = df[cols]\n",
        "print(df)"
      ],
      "execution_count": 12,
      "outputs": [
        {
          "output_type": "stream",
          "text": [
            "         Index           2           4           6    8   10   12\n",
            "0            0  331.497681  366.443085     0.00000  0.0  0.0  0.0\n",
            "1            1  328.913696  362.517304  2372.15332  0.0  0.0  0.0\n",
            "2            2  332.411896    0.000000     0.00000  0.0  0.0  0.0\n",
            "3            3  327.737640  363.017761     0.00000  0.0  0.0  0.0\n",
            "4            4  329.433319    0.000000     0.00000  0.0  0.0  0.0\n",
            "...        ...         ...         ...         ...  ...  ...  ...\n",
            "678332  678332  329.108093    0.000000     0.00000  0.0  0.0  0.0\n",
            "678333  678333  329.762146    0.000000     0.00000  0.0  0.0  0.0\n",
            "678334  678334  333.106567  363.926758     0.00000  0.0  0.0  0.0\n",
            "678335  678335  328.430756    0.000000     0.00000  0.0  0.0  0.0\n",
            "678336  678336  333.265350    0.000000     0.00000  0.0  0.0  0.0\n",
            "\n",
            "[678337 rows x 7 columns]\n"
          ],
          "name": "stdout"
        }
      ]
    },
    {
      "cell_type": "code",
      "metadata": {
        "id": "mVy_qu8g4lL2"
      },
      "source": [
        "df2 = df.set_index('Index').stack().reset_index()"
      ],
      "execution_count": 13,
      "outputs": []
    },
    {
      "cell_type": "code",
      "metadata": {
        "colab": {
          "base_uri": "https://localhost:8080/"
        },
        "id": "cl0bnddq4nMx",
        "outputId": "331561ff-3b8c-474a-f590-8a1c3e00bfb5"
      },
      "source": [
        "print(df2)"
      ],
      "execution_count": 14,
      "outputs": [
        {
          "output_type": "stream",
          "text": [
            "          Index level_1           0\n",
            "0             0       2  331.497681\n",
            "1             0       4  366.443085\n",
            "2             0       6    0.000000\n",
            "3             0       8    0.000000\n",
            "4             0      10    0.000000\n",
            "...         ...     ...         ...\n",
            "4070017  678336       4    0.000000\n",
            "4070018  678336       6    0.000000\n",
            "4070019  678336       8    0.000000\n",
            "4070020  678336      10    0.000000\n",
            "4070021  678336      12    0.000000\n",
            "\n",
            "[4070022 rows x 3 columns]\n"
          ],
          "name": "stdout"
        }
      ]
    },
    {
      "cell_type": "code",
      "metadata": {
        "id": "5dtZKtGM4o-1"
      },
      "source": [
        "df3 = df2.rename(columns = {'level_1': 'Column', 0: 'Value'}, inplace = False)"
      ],
      "execution_count": 15,
      "outputs": []
    },
    {
      "cell_type": "code",
      "metadata": {
        "id": "_jUuwVtT4rzZ"
      },
      "source": [
        "df4 = df3.loc[~((df3['Value'] == 0))]"
      ],
      "execution_count": 16,
      "outputs": []
    },
    {
      "cell_type": "code",
      "metadata": {
        "colab": {
          "base_uri": "https://localhost:8080/"
        },
        "id": "ABUVZ4b65IAP",
        "outputId": "dc48ae2e-e719-4e2a-e843-8714cd1ddb37"
      },
      "source": [
        "print(df4)"
      ],
      "execution_count": 17,
      "outputs": [
        {
          "output_type": "stream",
          "text": [
            "          Index Column        Value\n",
            "0             0      2   331.497681\n",
            "1             0      4   366.443085\n",
            "6             1      2   328.913696\n",
            "7             1      4   362.517304\n",
            "8             1      6  2372.153320\n",
            "...         ...    ...          ...\n",
            "4069998  678333      2   329.762146\n",
            "4070004  678334      2   333.106567\n",
            "4070005  678334      4   363.926758\n",
            "4070010  678335      2   328.430756\n",
            "4070016  678336      2   333.265350\n",
            "\n",
            "[1491755 rows x 3 columns]\n"
          ],
          "name": "stdout"
        }
      ]
    },
    {
      "cell_type": "code",
      "metadata": {
        "colab": {
          "base_uri": "https://localhost:8080/"
        },
        "id": "At6gPWMV5sCj",
        "outputId": "18798959-2300-41cb-f7d0-a9f01b748c21"
      },
      "source": [
        "df4_test = pd.DataFrame(df4)\n",
        "selected_columns = df4_test[[\"Value\",\"Column\"]]\n",
        "\n",
        "new_df = selected_columns.copy()\n",
        "print(new_df)"
      ],
      "execution_count": 18,
      "outputs": [
        {
          "output_type": "stream",
          "text": [
            "               Value Column\n",
            "0         331.497681      2\n",
            "1         366.443085      4\n",
            "6         328.913696      2\n",
            "7         362.517304      4\n",
            "8        2372.153320      6\n",
            "...              ...    ...\n",
            "4069998   329.762146      2\n",
            "4070004   333.106567      2\n",
            "4070005   363.926758      4\n",
            "4070010   328.430756      2\n",
            "4070016   333.265350      2\n",
            "\n",
            "[1491755 rows x 2 columns]\n"
          ],
          "name": "stdout"
        }
      ]
    },
    {
      "cell_type": "code",
      "metadata": {
        "id": "eAkZ77L951eb"
      },
      "source": [
        "df_plot= new_df\n",
        "df_plot['num']=df_plot.index\n",
        "df_plot=df_plot[df_plot['num']%50==0]"
      ],
      "execution_count": 19,
      "outputs": []
    },
    {
      "cell_type": "code",
      "metadata": {
        "colab": {
          "base_uri": "https://localhost:8080/"
        },
        "id": "AjCGdLm3J6U_",
        "outputId": "b098d05d-607b-4b1f-876d-e4c47e388f07"
      },
      "source": [
        "print(df_plot)"
      ],
      "execution_count": 20,
      "outputs": [
        {
          "output_type": "stream",
          "text": [
            "              Value Column      num\n",
            "0        331.497681      2        0\n",
            "150      329.105591      2      150\n",
            "300      329.315704      2      300\n",
            "450      330.067627      2      450\n",
            "600      331.295105      2      600\n",
            "...             ...    ...      ...\n",
            "4069350  361.759003      2  4069350\n",
            "4069500  329.251679      2  4069500\n",
            "4069650  329.366669      2  4069650\n",
            "4069800  331.729919      2  4069800\n",
            "4069950  333.619995      2  4069950\n",
            "\n",
            "[35528 rows x 3 columns]\n"
          ],
          "name": "stdout"
        }
      ]
    },
    {
      "cell_type": "code",
      "metadata": {
        "colab": {
          "base_uri": "https://localhost:8080/"
        },
        "id": "gdZcO4I4J79y",
        "outputId": "99ce06e2-1959-48ef-b397-f71b9d414d42"
      },
      "source": [
        "test_plot = pd.DataFrame(df_plot)\n",
        "selected_columns = test_plot[[\"Value\"]]\n",
        "\n",
        "test_plot = selected_columns.copy()\n",
        "print(test_plot)"
      ],
      "execution_count": 21,
      "outputs": [
        {
          "output_type": "stream",
          "text": [
            "              Value\n",
            "0        331.497681\n",
            "150      329.105591\n",
            "300      329.315704\n",
            "450      330.067627\n",
            "600      331.295105\n",
            "...             ...\n",
            "4069350  361.759003\n",
            "4069500  329.251679\n",
            "4069650  329.366669\n",
            "4069800  331.729919\n",
            "4069950  333.619995\n",
            "\n",
            "[35528 rows x 1 columns]\n"
          ],
          "name": "stdout"
        }
      ]
    },
    {
      "cell_type": "markdown",
      "metadata": {
        "id": "tQpvLXzjOiig"
      },
      "source": [
        "Hierarchihcal clustering"
      ]
    },
    {
      "cell_type": "code",
      "metadata": {
        "id": "YgOtDmoX47wB"
      },
      "source": [
        "import numpy as np\n",
        "import matplotlib.pyplot as plt\n",
        "import pandas as pd\n",
        "import scipy.cluster.hierarchy as sch"
      ],
      "execution_count": 22,
      "outputs": []
    },
    {
      "cell_type": "code",
      "metadata": {
        "id": "iEshGM2hLmtS"
      },
      "source": [
        "X = test_plot.iloc[:, [0]].values\n",
        "# X = new_df.iloc[:, [0]].values"
      ],
      "execution_count": 23,
      "outputs": []
    },
    {
      "cell_type": "code",
      "metadata": {
        "id": "D5Z5VI7xqcLD",
        "colab": {
          "base_uri": "https://localhost:8080/"
        },
        "outputId": "e0145324-7376-4887-af56-b111c2870d37"
      },
      "source": [
        "test_plot.size\n",
        "# new_df.size"
      ],
      "execution_count": 24,
      "outputs": [
        {
          "output_type": "execute_result",
          "data": {
            "text/plain": [
              "35528"
            ]
          },
          "metadata": {
            "tags": []
          },
          "execution_count": 24
        }
      ]
    },
    {
      "cell_type": "code",
      "metadata": {
        "id": "ex5wB91AqT5O",
        "colab": {
          "base_uri": "https://localhost:8080/"
        },
        "outputId": "29fc6fa3-1a0c-424f-904d-a20e32bcd33e"
      },
      "source": [
        "X.size"
      ],
      "execution_count": 25,
      "outputs": [
        {
          "output_type": "execute_result",
          "data": {
            "text/plain": [
              "35528"
            ]
          },
          "metadata": {
            "tags": []
          },
          "execution_count": 25
        }
      ]
    },
    {
      "cell_type": "code",
      "metadata": {
        "colab": {
          "base_uri": "https://localhost:8080/",
          "height": 301
        },
        "id": "dmc6_uoZO9z2",
        "outputId": "af3a73e5-2bd9-4d7c-edc7-8eb53d57a508"
      },
      "source": [
        "import scipy.cluster.hierarchy as sch\n",
        "dendrogram = sch.dendrogram(sch.linkage(X, method  = \"ward\"))\n",
        "plt.title('Dendrogram')\n",
        "plt.xlabel('Clusters')\n",
        "plt.ylabel('Euclidean distance')\n",
        "plt.show()"
      ],
      "execution_count": 26,
      "outputs": [
        {
          "output_type": "display_data",
          "data": {
            "image/png": "[encoded data removed]",
            "text/plain": [
              "<Figure size 432x288 with 1 Axes>"
            ]
          },
          "metadata": {
            "tags": [],
            "needs_background": "light"
          }
        }
      ]
    },
    {
      "cell_type": "code",
      "metadata": {
        "id": "dsPWAREyP_4_"
      },
      "source": [
        "from sklearn.cluster import AgglomerativeClustering \n",
        "hc = AgglomerativeClustering(n_clusters = 4, affinity = 'euclidean', linkage ='ward')"
      ],
      "execution_count": 27,
      "outputs": []
    },
    {
      "cell_type": "code",
      "metadata": {
        "id": "4YplRYQmQFg2"
      },
      "source": [
        "y_hc=hc.fit_predict(X)"
      ],
      "execution_count": 28,
      "outputs": []
    },
    {
      "cell_type": "code",
      "metadata": {
        "id": "a-JlcQyR5NL0",
        "colab": {
          "base_uri": "https://localhost:8080/"
        },
        "outputId": "e5cb4646-282d-47f6-8458-2e5ac5982edf"
      },
      "source": [
        "print(y_hc)"
      ],
      "execution_count": 29,
      "outputs": [
        {
          "output_type": "stream",
          "text": [
            "[0 0 0 ... 0 0 0]\n"
          ],
          "name": "stdout"
        }
      ]
    },
    {
      "cell_type": "code",
      "metadata": {
        "id": "K6cfT61XqOML",
        "colab": {
          "base_uri": "https://localhost:8080/"
        },
        "outputId": "dc0dbee2-b255-4b63-d7c4-b4396428df7c"
      },
      "source": [
        "y_hc.size"
      ],
      "execution_count": 30,
      "outputs": [
        {
          "output_type": "execute_result",
          "data": {
            "text/plain": [
              "35528"
            ]
          },
          "metadata": {
            "tags": []
          },
          "execution_count": 30
        }
      ]
    },
    {
      "cell_type": "code",
      "metadata": {
        "id": "VGytww9Pq_WW",
        "colab": {
          "base_uri": "https://localhost:8080/"
        },
        "outputId": "98ac2efe-de0a-4706-9a65-cd174920be60"
      },
      "source": [
        "print(df_plot)"
      ],
      "execution_count": 31,
      "outputs": [
        {
          "output_type": "stream",
          "text": [
            "              Value Column      num\n",
            "0        331.497681      2        0\n",
            "150      329.105591      2      150\n",
            "300      329.315704      2      300\n",
            "450      330.067627      2      450\n",
            "600      331.295105      2      600\n",
            "...             ...    ...      ...\n",
            "4069350  361.759003      2  4069350\n",
            "4069500  329.251679      2  4069500\n",
            "4069650  329.366669      2  4069650\n",
            "4069800  331.729919      2  4069800\n",
            "4069950  333.619995      2  4069950\n",
            "\n",
            "[35528 rows x 3 columns]\n"
          ],
          "name": "stdout"
        }
      ]
    },
    {
      "cell_type": "code",
      "metadata": {
        "id": "OgC8xTN9p8Iv",
        "colab": {
          "base_uri": "https://localhost:8080/"
        },
        "outputId": "9c0f69b8-a46b-4790-dc42-635c0336c236"
      },
      "source": [
        "df_plot.reset_index(drop=True, inplace=True)\n",
        "print(df_plot)"
      ],
      "execution_count": 32,
      "outputs": [
        {
          "output_type": "stream",
          "text": [
            "            Value Column      num\n",
            "0      331.497681      2        0\n",
            "1      329.105591      2      150\n",
            "2      329.315704      2      300\n",
            "3      330.067627      2      450\n",
            "4      331.295105      2      600\n",
            "...           ...    ...      ...\n",
            "35523  361.759003      2  4069350\n",
            "35524  329.251679      2  4069500\n",
            "35525  329.366669      2  4069650\n",
            "35526  331.729919      2  4069800\n",
            "35527  333.619995      2  4069950\n",
            "\n",
            "[35528 rows x 3 columns]\n"
          ],
          "name": "stdout"
        }
      ]
    },
    {
      "cell_type": "code",
      "metadata": {
        "id": "XKriPnaidbbx"
      },
      "source": [
        "new_series = pd.Series(y_hc)"
      ],
      "execution_count": 33,
      "outputs": []
    },
    {
      "cell_type": "code",
      "metadata": {
        "id": "ozHImNeqnyQt"
      },
      "source": [
        "conv_ser_df = new_series.to_frame()"
      ],
      "execution_count": 34,
      "outputs": []
    },
    {
      "cell_type": "code",
      "metadata": {
        "id": "24iE-N-On32l",
        "colab": {
          "base_uri": "https://localhost:8080/"
        },
        "outputId": "5270ef03-3d17-4246-a91a-523ac4ad856d"
      },
      "source": [
        "print(conv_ser_df)"
      ],
      "execution_count": 35,
      "outputs": [
        {
          "output_type": "stream",
          "text": [
            "       0\n",
            "0      0\n",
            "1      0\n",
            "2      0\n",
            "3      0\n",
            "4      0\n",
            "...   ..\n",
            "35523  0\n",
            "35524  0\n",
            "35525  0\n",
            "35526  0\n",
            "35527  0\n",
            "\n",
            "[35528 rows x 1 columns]\n"
          ],
          "name": "stdout"
        }
      ]
    },
    {
      "cell_type": "code",
      "metadata": {
        "id": "4oDLrHaIol2P"
      },
      "source": [
        "conv_ser_df.columns = ['labels']"
      ],
      "execution_count": 36,
      "outputs": []
    },
    {
      "cell_type": "code",
      "metadata": {
        "id": "DMCPi8hyoIAT",
        "colab": {
          "base_uri": "https://localhost:8080/"
        },
        "outputId": "52e31684-057d-498b-992a-1b47c626eec7"
      },
      "source": [
        "conv_ser_df.labels.unique()"
      ],
      "execution_count": 37,
      "outputs": [
        {
          "output_type": "execute_result",
          "data": {
            "text/plain": [
              "array([0, 1, 3, 2])"
            ]
          },
          "metadata": {
            "tags": []
          },
          "execution_count": 37
        }
      ]
    },
    {
      "cell_type": "code",
      "metadata": {
        "id": "U-mTDzAUplio"
      },
      "source": [
        "df_plot = pd.concat([df_plot, conv_ser_df], axis=1) "
      ],
      "execution_count": 38,
      "outputs": []
    },
    {
      "cell_type": "code",
      "metadata": {
        "id": "IPh_tyiQrTxh",
        "colab": {
          "base_uri": "https://localhost:8080/",
          "height": 419
        },
        "outputId": "2edf4580-5749-40e1-eed6-fe81ebbef614"
      },
      "source": [
        "df_plot"
      ],
      "execution_count": 54,
      "outputs": [
        {
          "output_type": "execute_result",
          "data": {
            "text/html": [
              "<div>\n",
              "<style scoped>\n",
              "    .dataframe tbody tr th:only-of-type {\n",
              "        vertical-align: middle;\n",
              "    }\n",
              "\n",
              "    .dataframe tbody tr th {\n",
              "        vertical-align: top;\n",
              "    }\n",
              "\n",
              "    .dataframe thead th {\n",
              "        text-align: right;\n",
              "    }\n",
              "</style>\n",
              "<table border=\"1\" class=\"dataframe\">\n",
              "  <thead>\n",
              "    <tr style=\"text-align: right;\">\n",
              "      <th></th>\n",
              "      <th>Value</th>\n",
              "      <th>labels</th>\n",
              "    </tr>\n",
              "  </thead>\n",
              "  <tbody>\n",
              "    <tr>\n",
              "      <th>0</th>\n",
              "      <td>331.497681</td>\n",
              "      <td>0</td>\n",
              "    </tr>\n",
              "    <tr>\n",
              "      <th>1</th>\n",
              "      <td>329.105591</td>\n",
              "      <td>0</td>\n",
              "    </tr>\n",
              "    <tr>\n",
              "      <th>2</th>\n",
              "      <td>329.315704</td>\n",
              "      <td>0</td>\n",
              "    </tr>\n",
              "    <tr>\n",
              "      <th>3</th>\n",
              "      <td>330.067627</td>\n",
              "      <td>0</td>\n",
              "    </tr>\n",
              "    <tr>\n",
              "      <th>4</th>\n",
              "      <td>331.295105</td>\n",
              "      <td>0</td>\n",
              "    </tr>\n",
              "    <tr>\n",
              "      <th>...</th>\n",
              "      <td>...</td>\n",
              "      <td>...</td>\n",
              "    </tr>\n",
              "    <tr>\n",
              "      <th>35523</th>\n",
              "      <td>361.759003</td>\n",
              "      <td>0</td>\n",
              "    </tr>\n",
              "    <tr>\n",
              "      <th>35524</th>\n",
              "      <td>329.251679</td>\n",
              "      <td>0</td>\n",
              "    </tr>\n",
              "    <tr>\n",
              "      <th>35525</th>\n",
              "      <td>329.366669</td>\n",
              "      <td>0</td>\n",
              "    </tr>\n",
              "    <tr>\n",
              "      <th>35526</th>\n",
              "      <td>331.729919</td>\n",
              "      <td>0</td>\n",
              "    </tr>\n",
              "    <tr>\n",
              "      <th>35527</th>\n",
              "      <td>333.619995</td>\n",
              "      <td>0</td>\n",
              "    </tr>\n",
              "  </tbody>\n",
              "</table>\n",
              "<p>35528 rows × 2 columns</p>\n",
              "</div>"
            ],
            "text/plain": [
              "            Value  labels\n",
              "0      331.497681       0\n",
              "1      329.105591       0\n",
              "2      329.315704       0\n",
              "3      330.067627       0\n",
              "4      331.295105       0\n",
              "...           ...     ...\n",
              "35523  361.759003       0\n",
              "35524  329.251679       0\n",
              "35525  329.366669       0\n",
              "35526  331.729919       0\n",
              "35527  333.619995       0\n",
              "\n",
              "[35528 rows x 2 columns]"
            ]
          },
          "metadata": {
            "tags": []
          },
          "execution_count": 54
        }
      ]
    },
    {
      "cell_type": "code",
      "metadata": {
        "colab": {
          "base_uri": "https://localhost:8080/"
        },
        "id": "tbeU45p0Fc0A",
        "outputId": "7139e5ef-090e-4246-c840-b1d0ad0023cb"
      },
      "source": [
        "print(df_plot['labels'].value_counts())"
      ],
      "execution_count": 55,
      "outputs": [
        {
          "output_type": "stream",
          "text": [
            "0    18047\n",
            "3     8512\n",
            "1     4907\n",
            "2     4062\n",
            "Name: labels, dtype: int64\n"
          ],
          "name": "stdout"
        }
      ]
    },
    {
      "cell_type": "code",
      "metadata": {
        "colab": {
          "base_uri": "https://localhost:8080/"
        },
        "id": "ZaKYtN5sFlzY",
        "outputId": "f5dc5ad0-dc16-42d1-d487-8ea1ae9717cb"
      },
      "source": [
        "percent0 = 18047/ 35528 * 100\n",
        "percent0"
      ],
      "execution_count": 56,
      "outputs": [
        {
          "output_type": "execute_result",
          "data": {
            "text/plain": [
              "50.79655482999325"
            ]
          },
          "metadata": {
            "tags": []
          },
          "execution_count": 56
        }
      ]
    },
    {
      "cell_type": "code",
      "metadata": {
        "colab": {
          "base_uri": "https://localhost:8080/"
        },
        "id": "jOelxeJcF7pG",
        "outputId": "3dabf900-fc10-418f-acb5-406c1228f2c9"
      },
      "source": [
        "percent1 = 4907/ 35528 * 100\n",
        "percent1"
      ],
      "execution_count": 58,
      "outputs": [
        {
          "output_type": "execute_result",
          "data": {
            "text/plain": [
              "13.811641522179688"
            ]
          },
          "metadata": {
            "tags": []
          },
          "execution_count": 58
        }
      ]
    },
    {
      "cell_type": "code",
      "metadata": {
        "colab": {
          "base_uri": "https://localhost:8080/"
        },
        "id": "UQ2wrFNtF_yL",
        "outputId": "882626bb-6179-4cf9-fce0-380107d0d66a"
      },
      "source": [
        "percent2 = 4062/ 35528 * 100\n",
        "percent2"
      ],
      "execution_count": 59,
      "outputs": [
        {
          "output_type": "execute_result",
          "data": {
            "text/plain": [
              "11.433235757712227"
            ]
          },
          "metadata": {
            "tags": []
          },
          "execution_count": 59
        }
      ]
    },
    {
      "cell_type": "code",
      "metadata": {
        "colab": {
          "base_uri": "https://localhost:8080/"
        },
        "id": "ue6hmLYtGHbW",
        "outputId": "f1867442-56e0-4b91-acc0-83696bb3fef3"
      },
      "source": [
        "percent3 = 8512/ 35528 * 100\n",
        "percent3"
      ],
      "execution_count": 60,
      "outputs": [
        {
          "output_type": "execute_result",
          "data": {
            "text/plain": [
              "23.95856789011484"
            ]
          },
          "metadata": {
            "tags": []
          },
          "execution_count": 60
        }
      ]
    },
    {
      "cell_type": "code",
      "metadata": {
        "id": "-qVuMmjrsBYe"
      },
      "source": [
        "df_plot.drop(['Column','num'],axis='columns', inplace=True)"
      ],
      "execution_count": 40,
      "outputs": []
    },
    {
      "cell_type": "code",
      "metadata": {
        "id": "ZbokSSXIu6lN"
      },
      "source": [
        "dfhc_label_0= df_plot[df_plot['labels']==0].copy()"
      ],
      "execution_count": 42,
      "outputs": []
    },
    {
      "cell_type": "code",
      "metadata": {
        "id": "sToVkHU_vaoD"
      },
      "source": [
        "print(dfhc_label_0)"
      ],
      "execution_count": null,
      "outputs": []
    },
    {
      "cell_type": "code",
      "metadata": {
        "id": "qer_5-YIvGfY",
        "colab": {
          "base_uri": "https://localhost:8080/"
        },
        "outputId": "cb634c72-3c0b-40c3-f9ef-1387418b7a1a"
      },
      "source": [
        "dfhc_label_0['Value'].()"
      ],
      "execution_count": 43,
      "outputs": [
        {
          "output_type": "execute_result",
          "data": {
            "text/plain": [
              "61.014023409622816"
            ]
          },
          "metadata": {
            "tags": []
          },
          "execution_count": 43
        }
      ]
    },
    {
      "cell_type": "code",
      "metadata": {
        "id": "raS8mtY1vKxz"
      },
      "source": [
        "dfhc_label_1= df_plot[df_plot['labels']==1].copy()"
      ],
      "execution_count": 45,
      "outputs": []
    },
    {
      "cell_type": "code",
      "metadata": {
        "id": "CJjY_EwqveYm"
      },
      "source": [
        "print(dfhc_label_1)"
      ],
      "execution_count": null,
      "outputs": []
    },
    {
      "cell_type": "code",
      "metadata": {
        "id": "etJLTaLdvQYI",
        "colab": {
          "base_uri": "https://localhost:8080/"
        },
        "outputId": "101c0118-3a16-41a0-de8e-6242497190dd"
      },
      "source": [
        "dfhc_label_1['Value'].std()"
      ],
      "execution_count": 47,
      "outputs": [
        {
          "output_type": "execute_result",
          "data": {
            "text/plain": [
              "112.58900991704087"
            ]
          },
          "metadata": {
            "tags": []
          },
          "execution_count": 47
        }
      ]
    },
    {
      "cell_type": "code",
      "metadata": {
        "id": "B29IRDhpvTCi"
      },
      "source": [
        "dfhc_label_2= df_plot[df_plot['labels']==2].copy()"
      ],
      "execution_count": 48,
      "outputs": []
    },
    {
      "cell_type": "code",
      "metadata": {
        "id": "KNJa_09Zvhix"
      },
      "source": [
        "print(dfhc_label_2)"
      ],
      "execution_count": null,
      "outputs": []
    },
    {
      "cell_type": "code",
      "metadata": {
        "id": "39DE1DesvXg2",
        "colab": {
          "base_uri": "https://localhost:8080/"
        },
        "outputId": "978c03ec-3540-4f41-cb36-4aa136c541c7"
      },
      "source": [
        "dfhc_label_2['Value'].std()"
      ],
      "execution_count": 50,
      "outputs": [
        {
          "output_type": "execute_result",
          "data": {
            "text/plain": [
              "36.790322903572864"
            ]
          },
          "metadata": {
            "tags": []
          },
          "execution_count": 50
        }
      ]
    },
    {
      "cell_type": "code",
      "metadata": {
        "id": "GQlBxlDcBHLR"
      },
      "source": [
        "dfhc_label_3= df_plot[df_plot['labels']==3].copy()"
      ],
      "execution_count": 51,
      "outputs": []
    },
    {
      "cell_type": "code",
      "metadata": {
        "id": "2-CNj5yzBLAZ"
      },
      "source": [
        "dfhc_label_3"
      ],
      "execution_count": null,
      "outputs": []
    },
    {
      "cell_type": "code",
      "metadata": {
        "colab": {
          "base_uri": "https://localhost:8080/"
        },
        "id": "9D1ZUjh5BQAA",
        "outputId": "9bbdb7ce-4cae-4d50-e4b0-853a59e6f693"
      },
      "source": [
        "dfhc_label_3['Value'].std()"
      ],
      "execution_count": 53,
      "outputs": [
        {
          "output_type": "execute_result",
          "data": {
            "text/plain": [
              "19.936133192681016"
            ]
          },
          "metadata": {
            "tags": []
          },
          "execution_count": 53
        }
      ]
    },
    {
      "cell_type": "code",
      "metadata": {
        "id": "mn_uiehi6oBS"
      },
      "source": [
        "label_0_cl = dfhc_label_0.iloc[:, [0]].values"
      ],
      "execution_count": 101,
      "outputs": []
    },
    {
      "cell_type": "code",
      "metadata": {
        "colab": {
          "base_uri": "https://localhost:8080/"
        },
        "id": "uG72L-VBrD3H",
        "outputId": "f3ca1cc2-04b8-40e7-e964-68c426d6422b"
      },
      "source": [
        "label_0_cl.size"
      ],
      "execution_count": 102,
      "outputs": [
        {
          "output_type": "execute_result",
          "data": {
            "text/plain": [
              "18047"
            ]
          },
          "metadata": {
            "tags": []
          },
          "execution_count": 102
        }
      ]
    },
    {
      "cell_type": "code",
      "metadata": {
        "id": "KvtkrxaC6vRI",
        "colab": {
          "base_uri": "https://localhost:8080/",
          "height": 301
        },
        "outputId": "b126cca7-f567-4564-9ec3-ff7e50b3280c"
      },
      "source": [
        "dendrogram = sch.dendrogram(sch.linkage(label_0_cl, method  = \"ward\"))\n",
        "plt.title('Dendrogram')\n",
        "plt.xlabel('Clusters(lbl1)')\n",
        "plt.ylabel('Euclidean distance')\n",
        "plt.show()"
      ],
      "execution_count": 63,
      "outputs": [
        {
          "output_type": "display_data",
          "data": {
            "image/png": "[encoded data removed]",
            "text/plain": [
              "<Figure size 432x288 with 1 Axes>"
            ]
          },
          "metadata": {
            "tags": [],
            "needs_background": "light"
          }
        }
      ]
    },
    {
      "cell_type": "code",
      "metadata": {
        "id": "HsKiHjMooGKh"
      },
      "source": [
        "from sklearn.cluster import AgglomerativeClustering \n",
        "hc0 = AgglomerativeClustering(n_clusters = 3, affinity = 'euclidean', linkage ='ward')"
      ],
      "execution_count": 103,
      "outputs": []
    },
    {
      "cell_type": "code",
      "metadata": {
        "id": "fvNHbi_YoQ07"
      },
      "source": [
        "y_hc0=hc0.fit_predict(label_0_cl)"
      ],
      "execution_count": 104,
      "outputs": []
    },
    {
      "cell_type": "code",
      "metadata": {
        "colab": {
          "base_uri": "https://localhost:8080/"
        },
        "id": "GUeE5cyGor6n",
        "outputId": "5e3c3bae-cbb2-4b35-83cb-229431fe13be"
      },
      "source": [
        "print(y_hc0)"
      ],
      "execution_count": 106,
      "outputs": [
        {
          "output_type": "stream",
          "text": [
            "[0 0 0 ... 0 0 0]\n"
          ],
          "name": "stdout"
        }
      ]
    },
    {
      "cell_type": "code",
      "metadata": {
        "id": "EPdJ0Tc6o9x6"
      },
      "source": [
        "new_series0 = pd.Series(y_hc0)"
      ],
      "execution_count": 107,
      "outputs": []
    },
    {
      "cell_type": "code",
      "metadata": {
        "id": "hKP2i9pGpBTJ"
      },
      "source": [
        "conv_ser_df0 = new_series0.to_frame()"
      ],
      "execution_count": 108,
      "outputs": []
    },
    {
      "cell_type": "code",
      "metadata": {
        "id": "3QzNici0pHuB"
      },
      "source": [
        "conv_ser_df0.columns = ['2nd labeling']"
      ],
      "execution_count": 109,
      "outputs": []
    },
    {
      "cell_type": "code",
      "metadata": {
        "colab": {
          "base_uri": "https://localhost:8080/",
          "height": 419
        },
        "id": "vsDbl2WapK6t",
        "outputId": "967b0423-2b5c-403f-ca26-0e739d6a2578"
      },
      "source": [
        "conv_ser_df0"
      ],
      "execution_count": 110,
      "outputs": [
        {
          "output_type": "execute_result",
          "data": {
            "text/html": [
              "<div>\n",
              "<style scoped>\n",
              "    .dataframe tbody tr th:only-of-type {\n",
              "        vertical-align: middle;\n",
              "    }\n",
              "\n",
              "    .dataframe tbody tr th {\n",
              "        vertical-align: top;\n",
              "    }\n",
              "\n",
              "    .dataframe thead th {\n",
              "        text-align: right;\n",
              "    }\n",
              "</style>\n",
              "<table border=\"1\" class=\"dataframe\">\n",
              "  <thead>\n",
              "    <tr style=\"text-align: right;\">\n",
              "      <th></th>\n",
              "      <th>2nd labeling</th>\n",
              "    </tr>\n",
              "  </thead>\n",
              "  <tbody>\n",
              "    <tr>\n",
              "      <th>0</th>\n",
              "      <td>0</td>\n",
              "    </tr>\n",
              "    <tr>\n",
              "      <th>1</th>\n",
              "      <td>0</td>\n",
              "    </tr>\n",
              "    <tr>\n",
              "      <th>2</th>\n",
              "      <td>0</td>\n",
              "    </tr>\n",
              "    <tr>\n",
              "      <th>3</th>\n",
              "      <td>0</td>\n",
              "    </tr>\n",
              "    <tr>\n",
              "      <th>4</th>\n",
              "      <td>0</td>\n",
              "    </tr>\n",
              "    <tr>\n",
              "      <th>...</th>\n",
              "      <td>...</td>\n",
              "    </tr>\n",
              "    <tr>\n",
              "      <th>18042</th>\n",
              "      <td>0</td>\n",
              "    </tr>\n",
              "    <tr>\n",
              "      <th>18043</th>\n",
              "      <td>0</td>\n",
              "    </tr>\n",
              "    <tr>\n",
              "      <th>18044</th>\n",
              "      <td>0</td>\n",
              "    </tr>\n",
              "    <tr>\n",
              "      <th>18045</th>\n",
              "      <td>0</td>\n",
              "    </tr>\n",
              "    <tr>\n",
              "      <th>18046</th>\n",
              "      <td>0</td>\n",
              "    </tr>\n",
              "  </tbody>\n",
              "</table>\n",
              "<p>18047 rows × 1 columns</p>\n",
              "</div>"
            ],
            "text/plain": [
              "       2nd labeling\n",
              "0                 0\n",
              "1                 0\n",
              "2                 0\n",
              "3                 0\n",
              "4                 0\n",
              "...             ...\n",
              "18042             0\n",
              "18043             0\n",
              "18044             0\n",
              "18045             0\n",
              "18046             0\n",
              "\n",
              "[18047 rows x 1 columns]"
            ]
          },
          "metadata": {
            "tags": []
          },
          "execution_count": 110
        }
      ]
    },
    {
      "cell_type": "code",
      "metadata": {
        "colab": {
          "base_uri": "https://localhost:8080/",
          "height": 419
        },
        "id": "oGnopqUTpSbR",
        "outputId": "c094a78a-2c74-4c4c-82a2-f0ae64a4e8fe"
      },
      "source": [
        "dfhc_label_0 = pd.concat([dfhc_label_0, conv_ser_df0], axis=1) \n",
        "dfhc_label_0"
      ],
      "execution_count": 123,
      "outputs": [
        {
          "output_type": "execute_result",
          "data": {
            "text/html": [
              "<div>\n",
              "<style scoped>\n",
              "    .dataframe tbody tr th:only-of-type {\n",
              "        vertical-align: middle;\n",
              "    }\n",
              "\n",
              "    .dataframe tbody tr th {\n",
              "        vertical-align: top;\n",
              "    }\n",
              "\n",
              "    .dataframe thead th {\n",
              "        text-align: right;\n",
              "    }\n",
              "</style>\n",
              "<table border=\"1\" class=\"dataframe\">\n",
              "  <thead>\n",
              "    <tr style=\"text-align: right;\">\n",
              "      <th></th>\n",
              "      <th>Value</th>\n",
              "      <th>labels</th>\n",
              "      <th>2nd labeling</th>\n",
              "    </tr>\n",
              "  </thead>\n",
              "  <tbody>\n",
              "    <tr>\n",
              "      <th>0</th>\n",
              "      <td>331.497681</td>\n",
              "      <td>0</td>\n",
              "      <td>0</td>\n",
              "    </tr>\n",
              "    <tr>\n",
              "      <th>1</th>\n",
              "      <td>329.105591</td>\n",
              "      <td>0</td>\n",
              "      <td>0</td>\n",
              "    </tr>\n",
              "    <tr>\n",
              "      <th>2</th>\n",
              "      <td>329.315704</td>\n",
              "      <td>0</td>\n",
              "      <td>0</td>\n",
              "    </tr>\n",
              "    <tr>\n",
              "      <th>3</th>\n",
              "      <td>330.067627</td>\n",
              "      <td>0</td>\n",
              "      <td>0</td>\n",
              "    </tr>\n",
              "    <tr>\n",
              "      <th>4</th>\n",
              "      <td>331.295105</td>\n",
              "      <td>0</td>\n",
              "      <td>0</td>\n",
              "    </tr>\n",
              "    <tr>\n",
              "      <th>...</th>\n",
              "      <td>...</td>\n",
              "      <td>...</td>\n",
              "      <td>...</td>\n",
              "    </tr>\n",
              "    <tr>\n",
              "      <th>18042</th>\n",
              "      <td>361.759003</td>\n",
              "      <td>0</td>\n",
              "      <td>0</td>\n",
              "    </tr>\n",
              "    <tr>\n",
              "      <th>18043</th>\n",
              "      <td>329.251679</td>\n",
              "      <td>0</td>\n",
              "      <td>0</td>\n",
              "    </tr>\n",
              "    <tr>\n",
              "      <th>18044</th>\n",
              "      <td>329.366669</td>\n",
              "      <td>0</td>\n",
              "      <td>0</td>\n",
              "    </tr>\n",
              "    <tr>\n",
              "      <th>18045</th>\n",
              "      <td>331.729919</td>\n",
              "      <td>0</td>\n",
              "      <td>0</td>\n",
              "    </tr>\n",
              "    <tr>\n",
              "      <th>18046</th>\n",
              "      <td>333.619995</td>\n",
              "      <td>0</td>\n",
              "      <td>0</td>\n",
              "    </tr>\n",
              "  </tbody>\n",
              "</table>\n",
              "<p>18047 rows × 3 columns</p>\n",
              "</div>"
            ],
            "text/plain": [
              "            Value  labels  2nd labeling\n",
              "0      331.497681       0             0\n",
              "1      329.105591       0             0\n",
              "2      329.315704       0             0\n",
              "3      330.067627       0             0\n",
              "4      331.295105       0             0\n",
              "...           ...     ...           ...\n",
              "18042  361.759003       0             0\n",
              "18043  329.251679       0             0\n",
              "18044  329.366669       0             0\n",
              "18045  331.729919       0             0\n",
              "18046  333.619995       0             0\n",
              "\n",
              "[18047 rows x 3 columns]"
            ]
          },
          "metadata": {
            "tags": []
          },
          "execution_count": 123
        }
      ]
    },
    {
      "cell_type": "code",
      "metadata": {
        "id": "wZn6Z6MuxET9"
      },
      "source": [
        "# dfhc_label_0.to_csv(\"dfhc_label_0.csv\")"
      ],
      "execution_count": null,
      "outputs": []
    },
    {
      "cell_type": "code",
      "metadata": {
        "id": "d_O4aEA76_15"
      },
      "source": [
        "label_3_cl = dfhc_label_3.iloc[:, [0]].values"
      ],
      "execution_count": 112,
      "outputs": []
    },
    {
      "cell_type": "code",
      "metadata": {
        "id": "bnWcZQUL7FVt",
        "colab": {
          "base_uri": "https://localhost:8080/",
          "height": 298
        },
        "outputId": "3082ec78-8b8b-4c5a-ad07-38d09a0f9d4a"
      },
      "source": [
        "dendrogram = sch.dendrogram(sch.linkage(label_3_cl, method  = \"ward\"))\n",
        "plt.title('Dendrogram')\n",
        "plt.xlabel('Clusters(lbl2)')\n",
        "plt.ylabel('Euclidean distance')\n",
        "plt.show()"
      ],
      "execution_count": 84,
      "outputs": [
        {
          "output_type": "display_data",
          "data": {
            "image/png": "[encoded data removed]",
            "text/plain": [
              "<Figure size 432x288 with 1 Axes>"
            ]
          },
          "metadata": {
            "tags": [],
            "needs_background": "light"
          }
        }
      ]
    },
    {
      "cell_type": "code",
      "metadata": {
        "id": "BSJKgl5gthZO"
      },
      "source": [
        "from sklearn.cluster import AgglomerativeClustering \n",
        "hc3 = AgglomerativeClustering(n_clusters = 4, affinity = 'euclidean', linkage ='ward')"
      ],
      "execution_count": 113,
      "outputs": []
    },
    {
      "cell_type": "code",
      "metadata": {
        "id": "vHjbdw5Otl4K"
      },
      "source": [
        "y_hc3=hc3.fit_predict(label_3_cl)"
      ],
      "execution_count": 114,
      "outputs": []
    },
    {
      "cell_type": "code",
      "metadata": {
        "colab": {
          "base_uri": "https://localhost:8080/"
        },
        "id": "DYw1yzgLtuBa",
        "outputId": "dda436ca-6e79-4acb-be77-561d4d5bef56"
      },
      "source": [
        "print(y_hc3)"
      ],
      "execution_count": 115,
      "outputs": [
        {
          "output_type": "stream",
          "text": [
            "[0 3 1 ... 1 1 3]\n"
          ],
          "name": "stdout"
        }
      ]
    },
    {
      "cell_type": "code",
      "metadata": {
        "id": "3nCY-Xiytyet"
      },
      "source": [
        "new_series3 = pd.Series(y_hc3)"
      ],
      "execution_count": 116,
      "outputs": []
    },
    {
      "cell_type": "code",
      "metadata": {
        "id": "3dpsxzrct2IY"
      },
      "source": [
        "conv_ser_df3 = new_series3.to_frame()"
      ],
      "execution_count": 117,
      "outputs": []
    },
    {
      "cell_type": "code",
      "metadata": {
        "id": "2DhCT24St5K-"
      },
      "source": [
        "conv_ser_df3.columns = ['2nd labeling']"
      ],
      "execution_count": 118,
      "outputs": []
    },
    {
      "cell_type": "code",
      "metadata": {
        "colab": {
          "base_uri": "https://localhost:8080/",
          "height": 419
        },
        "id": "AFcsx7XwuPNY",
        "outputId": "8947f6af-3de7-4532-ecd4-d8cb10535ec7"
      },
      "source": [
        "dfhc_label_3 = pd.concat([dfhc_label_3, conv_ser_df3], axis=1)\n",
        "dfhc_label_3"
      ],
      "execution_count": 121,
      "outputs": [
        {
          "output_type": "execute_result",
          "data": {
            "text/html": [
              "<div>\n",
              "<style scoped>\n",
              "    .dataframe tbody tr th:only-of-type {\n",
              "        vertical-align: middle;\n",
              "    }\n",
              "\n",
              "    .dataframe tbody tr th {\n",
              "        vertical-align: top;\n",
              "    }\n",
              "\n",
              "    .dataframe thead th {\n",
              "        text-align: right;\n",
              "    }\n",
              "</style>\n",
              "<table border=\"1\" class=\"dataframe\">\n",
              "  <thead>\n",
              "    <tr style=\"text-align: right;\">\n",
              "      <th></th>\n",
              "      <th>Value</th>\n",
              "      <th>labels</th>\n",
              "      <th>2nd labeling</th>\n",
              "    </tr>\n",
              "  </thead>\n",
              "  <tbody>\n",
              "    <tr>\n",
              "      <th>0</th>\n",
              "      <td>831.440918</td>\n",
              "      <td>3</td>\n",
              "      <td>0</td>\n",
              "    </tr>\n",
              "    <tr>\n",
              "      <th>1</th>\n",
              "      <td>652.428223</td>\n",
              "      <td>3</td>\n",
              "      <td>3</td>\n",
              "    </tr>\n",
              "    <tr>\n",
              "      <th>2</th>\n",
              "      <td>722.583801</td>\n",
              "      <td>3</td>\n",
              "      <td>1</td>\n",
              "    </tr>\n",
              "    <tr>\n",
              "      <th>3</th>\n",
              "      <td>994.612732</td>\n",
              "      <td>3</td>\n",
              "      <td>0</td>\n",
              "    </tr>\n",
              "    <tr>\n",
              "      <th>4</th>\n",
              "      <td>727.532288</td>\n",
              "      <td>3</td>\n",
              "      <td>1</td>\n",
              "    </tr>\n",
              "    <tr>\n",
              "      <th>...</th>\n",
              "      <td>...</td>\n",
              "      <td>...</td>\n",
              "      <td>...</td>\n",
              "    </tr>\n",
              "    <tr>\n",
              "      <th>8507</th>\n",
              "      <td>755.810120</td>\n",
              "      <td>3</td>\n",
              "      <td>2</td>\n",
              "    </tr>\n",
              "    <tr>\n",
              "      <th>8508</th>\n",
              "      <td>750.708252</td>\n",
              "      <td>3</td>\n",
              "      <td>2</td>\n",
              "    </tr>\n",
              "    <tr>\n",
              "      <th>8509</th>\n",
              "      <td>746.219116</td>\n",
              "      <td>3</td>\n",
              "      <td>1</td>\n",
              "    </tr>\n",
              "    <tr>\n",
              "      <th>8510</th>\n",
              "      <td>742.307678</td>\n",
              "      <td>3</td>\n",
              "      <td>1</td>\n",
              "    </tr>\n",
              "    <tr>\n",
              "      <th>8511</th>\n",
              "      <td>623.481079</td>\n",
              "      <td>3</td>\n",
              "      <td>3</td>\n",
              "    </tr>\n",
              "  </tbody>\n",
              "</table>\n",
              "<p>8512 rows × 3 columns</p>\n",
              "</div>"
            ],
            "text/plain": [
              "           Value  labels  2nd labeling\n",
              "0     831.440918       3             0\n",
              "1     652.428223       3             3\n",
              "2     722.583801       3             1\n",
              "3     994.612732       3             0\n",
              "4     727.532288       3             1\n",
              "...          ...     ...           ...\n",
              "8507  755.810120       3             2\n",
              "8508  750.708252       3             2\n",
              "8509  746.219116       3             1\n",
              "8510  742.307678       3             1\n",
              "8511  623.481079       3             3\n",
              "\n",
              "[8512 rows x 3 columns]"
            ]
          },
          "metadata": {
            "tags": []
          },
          "execution_count": 121
        }
      ]
    },
    {
      "cell_type": "code",
      "metadata": {
        "id": "oZppywIYw-C6"
      },
      "source": [
        "# dfhc_label_3.to_csv(\"dfhc_label_2.csv\")"
      ],
      "execution_count": null,
      "outputs": []
    },
    {
      "cell_type": "code",
      "metadata": {
        "id": "z0qzHHuSvLjQ",
        "colab": {
          "base_uri": "https://localhost:8080/",
          "height": 419
        },
        "outputId": "7a55a8f0-1641-4b5f-e221-b8cbade81f79"
      },
      "source": [
        "dfhc_label_1['2nd labeling'] = 1\n",
        "dfhc_label_1"
      ],
      "execution_count": 99,
      "outputs": [
        {
          "output_type": "execute_result",
          "data": {
            "text/html": [
              "<div>\n",
              "<style scoped>\n",
              "    .dataframe tbody tr th:only-of-type {\n",
              "        vertical-align: middle;\n",
              "    }\n",
              "\n",
              "    .dataframe tbody tr th {\n",
              "        vertical-align: top;\n",
              "    }\n",
              "\n",
              "    .dataframe thead th {\n",
              "        text-align: right;\n",
              "    }\n",
              "</style>\n",
              "<table border=\"1\" class=\"dataframe\">\n",
              "  <thead>\n",
              "    <tr style=\"text-align: right;\">\n",
              "      <th></th>\n",
              "      <th>Value</th>\n",
              "      <th>labels</th>\n",
              "      <th>2nd labeling</th>\n",
              "    </tr>\n",
              "  </thead>\n",
              "  <tbody>\n",
              "    <tr>\n",
              "      <th>0</th>\n",
              "      <td>2358.761719</td>\n",
              "      <td>1</td>\n",
              "      <td>1</td>\n",
              "    </tr>\n",
              "    <tr>\n",
              "      <th>1</th>\n",
              "      <td>2293.449707</td>\n",
              "      <td>1</td>\n",
              "      <td>1</td>\n",
              "    </tr>\n",
              "    <tr>\n",
              "      <th>2</th>\n",
              "      <td>2393.128418</td>\n",
              "      <td>1</td>\n",
              "      <td>1</td>\n",
              "    </tr>\n",
              "    <tr>\n",
              "      <th>3</th>\n",
              "      <td>2311.965576</td>\n",
              "      <td>1</td>\n",
              "      <td>1</td>\n",
              "    </tr>\n",
              "    <tr>\n",
              "      <th>4</th>\n",
              "      <td>2310.551758</td>\n",
              "      <td>1</td>\n",
              "      <td>1</td>\n",
              "    </tr>\n",
              "    <tr>\n",
              "      <th>...</th>\n",
              "      <td>...</td>\n",
              "      <td>...</td>\n",
              "      <td>...</td>\n",
              "    </tr>\n",
              "    <tr>\n",
              "      <th>4902</th>\n",
              "      <td>2298.450439</td>\n",
              "      <td>1</td>\n",
              "      <td>1</td>\n",
              "    </tr>\n",
              "    <tr>\n",
              "      <th>4903</th>\n",
              "      <td>2566.691406</td>\n",
              "      <td>1</td>\n",
              "      <td>1</td>\n",
              "    </tr>\n",
              "    <tr>\n",
              "      <th>4904</th>\n",
              "      <td>2285.279785</td>\n",
              "      <td>1</td>\n",
              "      <td>1</td>\n",
              "    </tr>\n",
              "    <tr>\n",
              "      <th>4905</th>\n",
              "      <td>2310.784424</td>\n",
              "      <td>1</td>\n",
              "      <td>1</td>\n",
              "    </tr>\n",
              "    <tr>\n",
              "      <th>4906</th>\n",
              "      <td>2309.765137</td>\n",
              "      <td>1</td>\n",
              "      <td>1</td>\n",
              "    </tr>\n",
              "  </tbody>\n",
              "</table>\n",
              "<p>4907 rows × 3 columns</p>\n",
              "</div>"
            ],
            "text/plain": [
              "            Value  labels  2nd labeling\n",
              "0     2358.761719       1             1\n",
              "1     2293.449707       1             1\n",
              "2     2393.128418       1             1\n",
              "3     2311.965576       1             1\n",
              "4     2310.551758       1             1\n",
              "...           ...     ...           ...\n",
              "4902  2298.450439       1             1\n",
              "4903  2566.691406       1             1\n",
              "4904  2285.279785       1             1\n",
              "4905  2310.784424       1             1\n",
              "4906  2309.765137       1             1\n",
              "\n",
              "[4907 rows x 3 columns]"
            ]
          },
          "metadata": {
            "tags": []
          },
          "execution_count": 99
        }
      ]
    },
    {
      "cell_type": "code",
      "metadata": {
        "colab": {
          "base_uri": "https://localhost:8080/",
          "height": 419
        },
        "id": "fMqBTFjVKG3A",
        "outputId": "f717633b-5c25-46a4-ed00-45fdb21d19f3"
      },
      "source": [
        "dfhc_label_2['2nd labeling'] = 2\n",
        "dfhc_label_2"
      ],
      "execution_count": 100,
      "outputs": [
        {
          "output_type": "execute_result",
          "data": {
            "text/html": [
              "<div>\n",
              "<style scoped>\n",
              "    .dataframe tbody tr th:only-of-type {\n",
              "        vertical-align: middle;\n",
              "    }\n",
              "\n",
              "    .dataframe tbody tr th {\n",
              "        vertical-align: top;\n",
              "    }\n",
              "\n",
              "    .dataframe thead th {\n",
              "        text-align: right;\n",
              "    }\n",
              "</style>\n",
              "<table border=\"1\" class=\"dataframe\">\n",
              "  <thead>\n",
              "    <tr style=\"text-align: right;\">\n",
              "      <th></th>\n",
              "      <th>Value</th>\n",
              "      <th>labels</th>\n",
              "      <th>2nd labeling</th>\n",
              "    </tr>\n",
              "  </thead>\n",
              "  <tbody>\n",
              "    <tr>\n",
              "      <th>3740</th>\n",
              "      <td>1496.938477</td>\n",
              "      <td>2</td>\n",
              "      <td>2</td>\n",
              "    </tr>\n",
              "    <tr>\n",
              "      <th>3741</th>\n",
              "      <td>1538.499878</td>\n",
              "      <td>2</td>\n",
              "      <td>2</td>\n",
              "    </tr>\n",
              "    <tr>\n",
              "      <th>3743</th>\n",
              "      <td>1529.189453</td>\n",
              "      <td>2</td>\n",
              "      <td>2</td>\n",
              "    </tr>\n",
              "    <tr>\n",
              "      <th>3747</th>\n",
              "      <td>1522.025635</td>\n",
              "      <td>2</td>\n",
              "      <td>2</td>\n",
              "    </tr>\n",
              "    <tr>\n",
              "      <th>3749</th>\n",
              "      <td>1481.627319</td>\n",
              "      <td>2</td>\n",
              "      <td>2</td>\n",
              "    </tr>\n",
              "    <tr>\n",
              "      <th>...</th>\n",
              "      <td>...</td>\n",
              "      <td>...</td>\n",
              "      <td>...</td>\n",
              "    </tr>\n",
              "    <tr>\n",
              "      <th>30200</th>\n",
              "      <td>1537.717285</td>\n",
              "      <td>2</td>\n",
              "      <td>2</td>\n",
              "    </tr>\n",
              "    <tr>\n",
              "      <th>30203</th>\n",
              "      <td>1536.825562</td>\n",
              "      <td>2</td>\n",
              "      <td>2</td>\n",
              "    </tr>\n",
              "    <tr>\n",
              "      <th>30214</th>\n",
              "      <td>1545.331299</td>\n",
              "      <td>2</td>\n",
              "      <td>2</td>\n",
              "    </tr>\n",
              "    <tr>\n",
              "      <th>30216</th>\n",
              "      <td>1539.624512</td>\n",
              "      <td>2</td>\n",
              "      <td>2</td>\n",
              "    </tr>\n",
              "    <tr>\n",
              "      <th>30218</th>\n",
              "      <td>1531.485596</td>\n",
              "      <td>2</td>\n",
              "      <td>2</td>\n",
              "    </tr>\n",
              "  </tbody>\n",
              "</table>\n",
              "<p>4062 rows × 3 columns</p>\n",
              "</div>"
            ],
            "text/plain": [
              "             Value  labels  2nd labeling\n",
              "3740   1496.938477       2             2\n",
              "3741   1538.499878       2             2\n",
              "3743   1529.189453       2             2\n",
              "3747   1522.025635       2             2\n",
              "3749   1481.627319       2             2\n",
              "...            ...     ...           ...\n",
              "30200  1537.717285       2             2\n",
              "30203  1536.825562       2             2\n",
              "30214  1545.331299       2             2\n",
              "30216  1539.624512       2             2\n",
              "30218  1531.485596       2             2\n",
              "\n",
              "[4062 rows x 3 columns]"
            ]
          },
          "metadata": {
            "tags": []
          },
          "execution_count": 100
        }
      ]
    },
    {
      "cell_type": "code",
      "metadata": {
        "colab": {
          "base_uri": "https://localhost:8080/",
          "height": 419
        },
        "id": "xQ1m0kVaz9fk",
        "outputId": "bfcc870a-50fc-4e89-b566-014aee42209c"
      },
      "source": [
        "frames = [dfhc_label_0,dfhc_label_1,dfhc_label_2,dfhc_label_3]\n",
        "df_finalized_cluster = pd.concat(frames, keys=['label0', 'label1', 'label2', 'label3'])\n",
        "df_finalized_cluster"
      ],
      "execution_count": 127,
      "outputs": [
        {
          "output_type": "execute_result",
          "data": {
            "text/html": [
              "<div>\n",
              "<style scoped>\n",
              "    .dataframe tbody tr th:only-of-type {\n",
              "        vertical-align: middle;\n",
              "    }\n",
              "\n",
              "    .dataframe tbody tr th {\n",
              "        vertical-align: top;\n",
              "    }\n",
              "\n",
              "    .dataframe thead th {\n",
              "        text-align: right;\n",
              "    }\n",
              "</style>\n",
              "<table border=\"1\" class=\"dataframe\">\n",
              "  <thead>\n",
              "    <tr style=\"text-align: right;\">\n",
              "      <th></th>\n",
              "      <th></th>\n",
              "      <th>Value</th>\n",
              "      <th>labels</th>\n",
              "      <th>2nd labeling</th>\n",
              "    </tr>\n",
              "  </thead>\n",
              "  <tbody>\n",
              "    <tr>\n",
              "      <th rowspan=\"5\" valign=\"top\">label0</th>\n",
              "      <th>0</th>\n",
              "      <td>331.497681</td>\n",
              "      <td>0</td>\n",
              "      <td>0</td>\n",
              "    </tr>\n",
              "    <tr>\n",
              "      <th>1</th>\n",
              "      <td>329.105591</td>\n",
              "      <td>0</td>\n",
              "      <td>0</td>\n",
              "    </tr>\n",
              "    <tr>\n",
              "      <th>2</th>\n",
              "      <td>329.315704</td>\n",
              "      <td>0</td>\n",
              "      <td>0</td>\n",
              "    </tr>\n",
              "    <tr>\n",
              "      <th>3</th>\n",
              "      <td>330.067627</td>\n",
              "      <td>0</td>\n",
              "      <td>0</td>\n",
              "    </tr>\n",
              "    <tr>\n",
              "      <th>4</th>\n",
              "      <td>331.295105</td>\n",
              "      <td>0</td>\n",
              "      <td>0</td>\n",
              "    </tr>\n",
              "    <tr>\n",
              "      <th>...</th>\n",
              "      <th>...</th>\n",
              "      <td>...</td>\n",
              "      <td>...</td>\n",
              "      <td>...</td>\n",
              "    </tr>\n",
              "    <tr>\n",
              "      <th rowspan=\"5\" valign=\"top\">label3</th>\n",
              "      <th>8507</th>\n",
              "      <td>755.810120</td>\n",
              "      <td>3</td>\n",
              "      <td>2</td>\n",
              "    </tr>\n",
              "    <tr>\n",
              "      <th>8508</th>\n",
              "      <td>750.708252</td>\n",
              "      <td>3</td>\n",
              "      <td>2</td>\n",
              "    </tr>\n",
              "    <tr>\n",
              "      <th>8509</th>\n",
              "      <td>746.219116</td>\n",
              "      <td>3</td>\n",
              "      <td>1</td>\n",
              "    </tr>\n",
              "    <tr>\n",
              "      <th>8510</th>\n",
              "      <td>742.307678</td>\n",
              "      <td>3</td>\n",
              "      <td>1</td>\n",
              "    </tr>\n",
              "    <tr>\n",
              "      <th>8511</th>\n",
              "      <td>623.481079</td>\n",
              "      <td>3</td>\n",
              "      <td>3</td>\n",
              "    </tr>\n",
              "  </tbody>\n",
              "</table>\n",
              "<p>35528 rows × 3 columns</p>\n",
              "</div>"
            ],
            "text/plain": [
              "                  Value  labels  2nd labeling\n",
              "label0 0     331.497681       0             0\n",
              "       1     329.105591       0             0\n",
              "       2     329.315704       0             0\n",
              "       3     330.067627       0             0\n",
              "       4     331.295105       0             0\n",
              "...                 ...     ...           ...\n",
              "label3 8507  755.810120       3             2\n",
              "       8508  750.708252       3             2\n",
              "       8509  746.219116       3             1\n",
              "       8510  742.307678       3             1\n",
              "       8511  623.481079       3             3\n",
              "\n",
              "[35528 rows x 3 columns]"
            ]
          },
          "metadata": {
            "tags": []
          },
          "execution_count": 127
        }
      ]
    },
    {
      "cell_type": "code",
      "metadata": {
        "colab": {
          "base_uri": "https://localhost:8080/"
        },
        "id": "II3DjTF6wHg8",
        "outputId": "c1feaf48-cad5-4423-f3cb-e7315862664c"
      },
      "source": [
        "df_finalized_cluster.rename(columns={'2nd labeling':'Second_labeling'},inplace=True)\n",
        "print(df_finalized_cluster)"
      ],
      "execution_count": 128,
      "outputs": [
        {
          "output_type": "stream",
          "text": [
            "                  Value  labels  Second_labeling\n",
            "label0 0     331.497681       0                0\n",
            "       1     329.105591       0                0\n",
            "       2     329.315704       0                0\n",
            "       3     330.067627       0                0\n",
            "       4     331.295105       0                0\n",
            "...                 ...     ...              ...\n",
            "label3 8507  755.810120       3                2\n",
            "       8508  750.708252       3                2\n",
            "       8509  746.219116       3                1\n",
            "       8510  742.307678       3                1\n",
            "       8511  623.481079       3                3\n",
            "\n",
            "[35528 rows x 3 columns]\n"
          ],
          "name": "stdout"
        }
      ]
    },
    {
      "cell_type": "code",
      "metadata": {
        "id": "d4Zh67aepcB-"
      },
      "source": [
        "def final_cluster(flabel,slabel):\n",
        "    if (flabel==0) & (slabel ==0):\n",
        "         return 0\n",
        "    elif ((flabel==0) & (slabel ==1)):\n",
        "         return 1\n",
        "    elif ((flabel==0) & (slabel ==2)):\n",
        "         return 2\n",
        "    elif (flabel==1) & (slabel ==1):\n",
        "         return 3\n",
        "    elif (flabel==2) & (slabel ==2):\n",
        "         return 4\n",
        "    elif (flabel==3) & (slabel ==0):\n",
        "         return 5\n",
        "    elif (flabel==3) & (slabel ==1):\n",
        "         return 6\n",
        "    elif (flabel==3) & (slabel ==2):\n",
        "         return 7\n",
        "    elif (flabel==3) & (slabel ==3):\n",
        "         return 8\n",
        "    else:\n",
        "         return 9"
      ],
      "execution_count": 129,
      "outputs": []
    },
    {
      "cell_type": "code",
      "metadata": {
        "id": "DH-gtCsKpc2q"
      },
      "source": [
        "df_finalized_cluster['Final Cluster'] = df_finalized_cluster.apply(lambda x: final_cluster(x.labels,x.Second_labeling), axis=1)"
      ],
      "execution_count": 130,
      "outputs": []
    },
    {
      "cell_type": "code",
      "metadata": {
        "colab": {
          "base_uri": "https://localhost:8080/",
          "height": 359
        },
        "id": "xcaKe75GxgOZ",
        "outputId": "beb7e7e2-6abc-4188-d551-1a37af277812"
      },
      "source": [
        "df_finalized_cluster.head(10)"
      ],
      "execution_count": 132,
      "outputs": [
        {
          "output_type": "execute_result",
          "data": {
            "text/html": [
              "<div>\n",
              "<style scoped>\n",
              "    .dataframe tbody tr th:only-of-type {\n",
              "        vertical-align: middle;\n",
              "    }\n",
              "\n",
              "    .dataframe tbody tr th {\n",
              "        vertical-align: top;\n",
              "    }\n",
              "\n",
              "    .dataframe thead th {\n",
              "        text-align: right;\n",
              "    }\n",
              "</style>\n",
              "<table border=\"1\" class=\"dataframe\">\n",
              "  <thead>\n",
              "    <tr style=\"text-align: right;\">\n",
              "      <th></th>\n",
              "      <th></th>\n",
              "      <th>Value</th>\n",
              "      <th>labels</th>\n",
              "      <th>Second_labeling</th>\n",
              "      <th>Final Cluster</th>\n",
              "    </tr>\n",
              "  </thead>\n",
              "  <tbody>\n",
              "    <tr>\n",
              "      <th rowspan=\"10\" valign=\"top\">label0</th>\n",
              "      <th>0</th>\n",
              "      <td>331.497681</td>\n",
              "      <td>0</td>\n",
              "      <td>0</td>\n",
              "      <td>0</td>\n",
              "    </tr>\n",
              "    <tr>\n",
              "      <th>1</th>\n",
              "      <td>329.105591</td>\n",
              "      <td>0</td>\n",
              "      <td>0</td>\n",
              "      <td>0</td>\n",
              "    </tr>\n",
              "    <tr>\n",
              "      <th>2</th>\n",
              "      <td>329.315704</td>\n",
              "      <td>0</td>\n",
              "      <td>0</td>\n",
              "      <td>0</td>\n",
              "    </tr>\n",
              "    <tr>\n",
              "      <th>3</th>\n",
              "      <td>330.067627</td>\n",
              "      <td>0</td>\n",
              "      <td>0</td>\n",
              "      <td>0</td>\n",
              "    </tr>\n",
              "    <tr>\n",
              "      <th>4</th>\n",
              "      <td>331.295105</td>\n",
              "      <td>0</td>\n",
              "      <td>0</td>\n",
              "      <td>0</td>\n",
              "    </tr>\n",
              "    <tr>\n",
              "      <th>5</th>\n",
              "      <td>328.376587</td>\n",
              "      <td>0</td>\n",
              "      <td>0</td>\n",
              "      <td>0</td>\n",
              "    </tr>\n",
              "    <tr>\n",
              "      <th>6</th>\n",
              "      <td>331.447174</td>\n",
              "      <td>0</td>\n",
              "      <td>0</td>\n",
              "      <td>0</td>\n",
              "    </tr>\n",
              "    <tr>\n",
              "      <th>7</th>\n",
              "      <td>331.400452</td>\n",
              "      <td>0</td>\n",
              "      <td>0</td>\n",
              "      <td>0</td>\n",
              "    </tr>\n",
              "    <tr>\n",
              "      <th>8</th>\n",
              "      <td>328.885468</td>\n",
              "      <td>0</td>\n",
              "      <td>0</td>\n",
              "      <td>0</td>\n",
              "    </tr>\n",
              "    <tr>\n",
              "      <th>9</th>\n",
              "      <td>331.597900</td>\n",
              "      <td>0</td>\n",
              "      <td>0</td>\n",
              "      <td>0</td>\n",
              "    </tr>\n",
              "  </tbody>\n",
              "</table>\n",
              "</div>"
            ],
            "text/plain": [
              "               Value  labels  Second_labeling  Final Cluster\n",
              "label0 0  331.497681       0                0              0\n",
              "       1  329.105591       0                0              0\n",
              "       2  329.315704       0                0              0\n",
              "       3  330.067627       0                0              0\n",
              "       4  331.295105       0                0              0\n",
              "       5  328.376587       0                0              0\n",
              "       6  331.447174       0                0              0\n",
              "       7  331.400452       0                0              0\n",
              "       8  328.885468       0                0              0\n",
              "       9  331.597900       0                0              0"
            ]
          },
          "metadata": {
            "tags": []
          },
          "execution_count": 132
        }
      ]
    },
    {
      "cell_type": "code",
      "metadata": {
        "colab": {
          "base_uri": "https://localhost:8080/",
          "height": 297
        },
        "id": "7uspJzNq00-z",
        "outputId": "320483a3-9111-44dc-9d0f-c130d2b18c02"
      },
      "source": [
        "df_finalized_cluster.describe()"
      ],
      "execution_count": 133,
      "outputs": [
        {
          "output_type": "execute_result",
          "data": {
            "text/html": [
              "<div>\n",
              "<style scoped>\n",
              "    .dataframe tbody tr th:only-of-type {\n",
              "        vertical-align: middle;\n",
              "    }\n",
              "\n",
              "    .dataframe tbody tr th {\n",
              "        vertical-align: top;\n",
              "    }\n",
              "\n",
              "    .dataframe thead th {\n",
              "        text-align: right;\n",
              "    }\n",
              "</style>\n",
              "<table border=\"1\" class=\"dataframe\">\n",
              "  <thead>\n",
              "    <tr style=\"text-align: right;\">\n",
              "      <th></th>\n",
              "      <th>Value</th>\n",
              "      <th>labels</th>\n",
              "      <th>Second_labeling</th>\n",
              "      <th>Final Cluster</th>\n",
              "    </tr>\n",
              "  </thead>\n",
              "  <tbody>\n",
              "    <tr>\n",
              "      <th>count</th>\n",
              "      <td>35528.000000</td>\n",
              "      <td>35528.000000</td>\n",
              "      <td>35528.000000</td>\n",
              "      <td>35528.000000</td>\n",
              "    </tr>\n",
              "    <tr>\n",
              "      <th>mean</th>\n",
              "      <td>845.716772</td>\n",
              "      <td>1.085538</td>\n",
              "      <td>0.719067</td>\n",
              "      <td>2.421893</td>\n",
              "    </tr>\n",
              "    <tr>\n",
              "      <th>std</th>\n",
              "      <td>712.088613</td>\n",
              "      <td>1.254340</td>\n",
              "      <td>0.828718</td>\n",
              "      <td>2.630163</td>\n",
              "    </tr>\n",
              "    <tr>\n",
              "      <th>min</th>\n",
              "      <td>9.598228</td>\n",
              "      <td>0.000000</td>\n",
              "      <td>0.000000</td>\n",
              "      <td>0.000000</td>\n",
              "    </tr>\n",
              "    <tr>\n",
              "      <th>25%</th>\n",
              "      <td>330.508698</td>\n",
              "      <td>0.000000</td>\n",
              "      <td>0.000000</td>\n",
              "      <td>0.000000</td>\n",
              "    </tr>\n",
              "    <tr>\n",
              "      <th>50%</th>\n",
              "      <td>482.961960</td>\n",
              "      <td>0.000000</td>\n",
              "      <td>0.000000</td>\n",
              "      <td>2.000000</td>\n",
              "    </tr>\n",
              "    <tr>\n",
              "      <th>75%</th>\n",
              "      <td>1473.051514</td>\n",
              "      <td>2.000000</td>\n",
              "      <td>1.000000</td>\n",
              "      <td>4.000000</td>\n",
              "    </tr>\n",
              "    <tr>\n",
              "      <th>max</th>\n",
              "      <td>3635.074951</td>\n",
              "      <td>3.000000</td>\n",
              "      <td>3.000000</td>\n",
              "      <td>8.000000</td>\n",
              "    </tr>\n",
              "  </tbody>\n",
              "</table>\n",
              "</div>"
            ],
            "text/plain": [
              "              Value        labels  Second_labeling  Final Cluster\n",
              "count  35528.000000  35528.000000     35528.000000   35528.000000\n",
              "mean     845.716772      1.085538         0.719067       2.421893\n",
              "std      712.088613      1.254340         0.828718       2.630163\n",
              "min        9.598228      0.000000         0.000000       0.000000\n",
              "25%      330.508698      0.000000         0.000000       0.000000\n",
              "50%      482.961960      0.000000         0.000000       2.000000\n",
              "75%     1473.051514      2.000000         1.000000       4.000000\n",
              "max     3635.074951      3.000000         3.000000       8.000000"
            ]
          },
          "metadata": {
            "tags": []
          },
          "execution_count": 133
        }
      ]
    },
    {
      "cell_type": "code",
      "metadata": {
        "colab": {
          "base_uri": "https://localhost:8080/",
          "height": 295
        },
        "id": "gjYjKnu-0gpu",
        "outputId": "ed14f404-268d-4e75-d58f-3741cbb8b667"
      },
      "source": [
        "import matplotlib.pyplot as plot\n",
        "\n",
        "df_finalized_cluster.plot.scatter(x=\"Final Cluster\", y=\"Value\", title= \"Scatter plot\");\n",
        "plot.show(block=True);"
      ],
      "execution_count": 134,
      "outputs": [
        {
          "output_type": "display_data",
          "data": {
            "image/png": "[encoded data removed]",
            "text/plain": [
              "<Figure size 432x288 with 1 Axes>"
            ]
          },
          "metadata": {
            "tags": [],
            "needs_background": "light"
          }
        }
      ]
    },
    {
      "cell_type": "code",
      "metadata": {
        "id": "tzg63l0Q--HK"
      },
      "source": [
        "df_finalized_cluster.to_csv(\"df_finalized_cluster.csv\")"
      ],
      "execution_count": null,
      "outputs": []
    },
    {
      "cell_type": "code",
      "metadata": {
        "colab": {
          "base_uri": "https://localhost:8080/"
        },
        "id": "Bhuojmek191F",
        "outputId": "5475fb19-767c-4d67-bfcd-24cd22e3a85b"
      },
      "source": [
        "df_finalized_cluster['Final Cluster'].unique()"
      ],
      "execution_count": 135,
      "outputs": [
        {
          "output_type": "execute_result",
          "data": {
            "text/plain": [
              "array([0, 1, 2, 3, 4, 5, 8, 6, 7])"
            ]
          },
          "metadata": {
            "tags": []
          },
          "execution_count": 135
        }
      ]
    },
    {
      "cell_type": "code",
      "metadata": {
        "colab": {
          "base_uri": "https://localhost:8080/"
        },
        "id": "_LxmD5mC32Eq",
        "outputId": "aef6b5a8-7ee0-467c-e826-0f2261f40730"
      },
      "source": [
        "print(df_finalized_cluster['Final Cluster'].value_counts())"
      ],
      "execution_count": 136,
      "outputs": [
        {
          "output_type": "stream",
          "text": [
            "0    17070\n",
            "3     4907\n",
            "4     4062\n",
            "7     3919\n",
            "6     3071\n",
            "5     1472\n",
            "1      497\n",
            "2      480\n",
            "8       50\n",
            "Name: Final Cluster, dtype: int64\n"
          ],
          "name": "stdout"
        }
      ]
    },
    {
      "cell_type": "code",
      "metadata": {
        "colab": {
          "base_uri": "https://localhost:8080/"
        },
        "id": "XbiEV0mr5Rah",
        "outputId": "f4255f6a-efdf-41fc-8d90-7657c38e4985"
      },
      "source": [
        "percent0 = 17070 / 35528 * 100\n",
        "print(percent0)"
      ],
      "execution_count": 137,
      "outputs": [
        {
          "output_type": "stream",
          "text": [
            "48.046611123620806\n"
          ],
          "name": "stdout"
        }
      ]
    },
    {
      "cell_type": "code",
      "metadata": {
        "colab": {
          "base_uri": "https://localhost:8080/"
        },
        "id": "bLy1dgb65vLG",
        "outputId": "d9f7fe5c-d68a-428a-b93c-c61dceb564bb"
      },
      "source": [
        "percent3 = 4907 / 35528 * 100\n",
        "print(percent3)"
      ],
      "execution_count": 138,
      "outputs": [
        {
          "output_type": "stream",
          "text": [
            "13.811641522179688\n"
          ],
          "name": "stdout"
        }
      ]
    },
    {
      "cell_type": "code",
      "metadata": {
        "colab": {
          "base_uri": "https://localhost:8080/"
        },
        "id": "-h6Qp1ba5z7z",
        "outputId": "b8b3672e-4e0c-479e-98a7-add0d4219d5f"
      },
      "source": [
        "percent4 = 4062 / 35528 * 100\n",
        "print(percent4)"
      ],
      "execution_count": 139,
      "outputs": [
        {
          "output_type": "stream",
          "text": [
            "11.433235757712227\n"
          ],
          "name": "stdout"
        }
      ]
    },
    {
      "cell_type": "code",
      "metadata": {
        "id": "18d_OFF4d55Y"
      },
      "source": [
        "df_label_0= df_finalized_cluster[df_finalized_cluster['Final Cluster']==0].copy()"
      ],
      "execution_count": 140,
      "outputs": []
    },
    {
      "cell_type": "code",
      "metadata": {
        "id": "VWhYkHiQeXpT"
      },
      "source": [
        "df_label_0.describe()"
      ],
      "execution_count": null,
      "outputs": []
    },
    {
      "cell_type": "code",
      "metadata": {
        "id": "t_rgj1_e9h2Y"
      },
      "source": [
        "df_label_0_fil = df_label_0.iloc[:, [0]].values"
      ],
      "execution_count": 142,
      "outputs": []
    },
    {
      "cell_type": "code",
      "metadata": {
        "id": "pRQ-8iZzYy-R"
      },
      "source": [
        "upper0 = df_label_0_fil.mean() + 3*df_label_0_fil.std()\n",
        "lower0 = df_label_0_fil.mean() -3*df_label_0_fil.std()"
      ],
      "execution_count": 204,
      "outputs": []
    },
    {
      "cell_type": "code",
      "metadata": {
        "id": "x98a8-ylZYrP"
      },
      "source": [
        "new_df_label_0_fil= df_label_0_fil[(df_label_0_fil<upper0) & (df_label_0_fil>lower0)]"
      ],
      "execution_count": 205,
      "outputs": []
    },
    {
      "cell_type": "code",
      "metadata": {
        "colab": {
          "base_uri": "https://localhost:8080/"
        },
        "id": "fYQFCvmTZjkG",
        "outputId": "484a0a6f-2c36-442c-f725-e924a94ee320"
      },
      "source": [
        "new_df_label_0_fil.size"
      ],
      "execution_count": 207,
      "outputs": [
        {
          "output_type": "execute_result",
          "data": {
            "text/plain": [
              "16723"
            ]
          },
          "metadata": {
            "tags": []
          },
          "execution_count": 207
        }
      ]
    },
    {
      "cell_type": "code",
      "metadata": {
        "colab": {
          "base_uri": "https://localhost:8080/",
          "height": 297
        },
        "id": "w3lOivSbz03T",
        "outputId": "a0421705-6a49-4916-d982-e06964da28c0"
      },
      "source": [
        "new_series0  = pd.Series(new_df_label_0_fil)\n",
        "conv_ser_df0 = new_series0.to_frame()\n",
        "conv_ser_df0.describe()"
      ],
      "execution_count": 224,
      "outputs": [
        {
          "output_type": "execute_result",
          "data": {
            "text/html": [
              "<div>\n",
              "<style scoped>\n",
              "    .dataframe tbody tr th:only-of-type {\n",
              "        vertical-align: middle;\n",
              "    }\n",
              "\n",
              "    .dataframe tbody tr th {\n",
              "        vertical-align: top;\n",
              "    }\n",
              "\n",
              "    .dataframe thead th {\n",
              "        text-align: right;\n",
              "    }\n",
              "</style>\n",
              "<table border=\"1\" class=\"dataframe\">\n",
              "  <thead>\n",
              "    <tr style=\"text-align: right;\">\n",
              "      <th></th>\n",
              "      <th>0</th>\n",
              "    </tr>\n",
              "  </thead>\n",
              "  <tbody>\n",
              "    <tr>\n",
              "      <th>count</th>\n",
              "      <td>16723.000000</td>\n",
              "    </tr>\n",
              "    <tr>\n",
              "      <th>mean</th>\n",
              "      <td>331.859354</td>\n",
              "    </tr>\n",
              "    <tr>\n",
              "      <th>std</th>\n",
              "      <td>7.362642</td>\n",
              "    </tr>\n",
              "    <tr>\n",
              "      <th>min</th>\n",
              "      <td>283.675293</td>\n",
              "    </tr>\n",
              "    <tr>\n",
              "      <th>25%</th>\n",
              "      <td>329.651901</td>\n",
              "    </tr>\n",
              "    <tr>\n",
              "      <th>50%</th>\n",
              "      <td>330.555328</td>\n",
              "    </tr>\n",
              "    <tr>\n",
              "      <th>75%</th>\n",
              "      <td>331.518555</td>\n",
              "    </tr>\n",
              "    <tr>\n",
              "      <th>max</th>\n",
              "      <td>377.307892</td>\n",
              "    </tr>\n",
              "  </tbody>\n",
              "</table>\n",
              "</div>"
            ],
            "text/plain": [
              "                  0\n",
              "count  16723.000000\n",
              "mean     331.859354\n",
              "std        7.362642\n",
              "min      283.675293\n",
              "25%      329.651901\n",
              "50%      330.555328\n",
              "75%      331.518555\n",
              "max      377.307892"
            ]
          },
          "metadata": {
            "tags": []
          },
          "execution_count": 224
        }
      ]
    },
    {
      "cell_type": "code",
      "metadata": {
        "id": "HmLIwcqgd76A"
      },
      "source": [
        "df_label_3= df_finalized_cluster[df_finalized_cluster['Final Cluster']==3].copy()"
      ],
      "execution_count": 174,
      "outputs": []
    },
    {
      "cell_type": "code",
      "metadata": {
        "id": "yhS3es6HecUN"
      },
      "source": [
        "df_label_3.describe()"
      ],
      "execution_count": null,
      "outputs": []
    },
    {
      "cell_type": "code",
      "metadata": {
        "id": "fwgRadYQ_FYu"
      },
      "source": [
        "df_label_3_fil = df_label_3.iloc[:, [0]].values"
      ],
      "execution_count": 176,
      "outputs": []
    },
    {
      "cell_type": "code",
      "metadata": {
        "id": "w_5O6N1BZs1e"
      },
      "source": [
        "upper3 = df_label_3_fil.mean() + 3*df_label_3_fil.std()\n",
        "lower3 = df_label_3_fil.mean() -3*df_label_3_fil.std()"
      ],
      "execution_count": 208,
      "outputs": []
    },
    {
      "cell_type": "code",
      "metadata": {
        "id": "UYuIBgnAZwXQ"
      },
      "source": [
        "new_df_label_3_fil= df_label_3_fil[(df_label_3_fil<upper3) & (df_label_3_fil>lower3)]"
      ],
      "execution_count": 209,
      "outputs": []
    },
    {
      "cell_type": "code",
      "metadata": {
        "colab": {
          "base_uri": "https://localhost:8080/"
        },
        "id": "1-P41BYtZ4Ga",
        "outputId": "6e5baf37-45d1-4601-d565-10e046069e49"
      },
      "source": [
        "new_df_label_3_fil.size"
      ],
      "execution_count": 211,
      "outputs": [
        {
          "output_type": "execute_result",
          "data": {
            "text/plain": [
              "4882"
            ]
          },
          "metadata": {
            "tags": []
          },
          "execution_count": 211
        }
      ]
    },
    {
      "cell_type": "code",
      "metadata": {
        "colab": {
          "base_uri": "https://localhost:8080/",
          "height": 297
        },
        "id": "GenRUWnFzvWa",
        "outputId": "1bf9fbe5-489f-422a-c9b9-07e5ef963f27"
      },
      "source": [
        "new_series3  = pd.Series(new_df_label_3_fil)\n",
        "conv_ser_df3 = new_series3.to_frame()\n",
        "conv_ser_df3.describe()"
      ],
      "execution_count": 223,
      "outputs": [
        {
          "output_type": "execute_result",
          "data": {
            "text/html": [
              "<div>\n",
              "<style scoped>\n",
              "    .dataframe tbody tr th:only-of-type {\n",
              "        vertical-align: middle;\n",
              "    }\n",
              "\n",
              "    .dataframe tbody tr th {\n",
              "        vertical-align: top;\n",
              "    }\n",
              "\n",
              "    .dataframe thead th {\n",
              "        text-align: right;\n",
              "    }\n",
              "</style>\n",
              "<table border=\"1\" class=\"dataframe\">\n",
              "  <thead>\n",
              "    <tr style=\"text-align: right;\">\n",
              "      <th></th>\n",
              "      <th>0</th>\n",
              "    </tr>\n",
              "  </thead>\n",
              "  <tbody>\n",
              "    <tr>\n",
              "      <th>count</th>\n",
              "      <td>4882.000000</td>\n",
              "    </tr>\n",
              "    <tr>\n",
              "      <th>mean</th>\n",
              "      <td>2345.326738</td>\n",
              "    </tr>\n",
              "    <tr>\n",
              "      <th>std</th>\n",
              "      <td>93.186949</td>\n",
              "    </tr>\n",
              "    <tr>\n",
              "      <th>min</th>\n",
              "      <td>2016.426392</td>\n",
              "    </tr>\n",
              "    <tr>\n",
              "      <th>25%</th>\n",
              "      <td>2281.963440</td>\n",
              "    </tr>\n",
              "    <tr>\n",
              "      <th>50%</th>\n",
              "      <td>2330.010132</td>\n",
              "    </tr>\n",
              "    <tr>\n",
              "      <th>75%</th>\n",
              "      <td>2403.991028</td>\n",
              "    </tr>\n",
              "    <tr>\n",
              "      <th>max</th>\n",
              "      <td>2686.274170</td>\n",
              "    </tr>\n",
              "  </tbody>\n",
              "</table>\n",
              "</div>"
            ],
            "text/plain": [
              "                 0\n",
              "count  4882.000000\n",
              "mean   2345.326738\n",
              "std      93.186949\n",
              "min    2016.426392\n",
              "25%    2281.963440\n",
              "50%    2330.010132\n",
              "75%    2403.991028\n",
              "max    2686.274170"
            ]
          },
          "metadata": {
            "tags": []
          },
          "execution_count": 223
        }
      ]
    },
    {
      "cell_type": "code",
      "metadata": {
        "id": "kifG15qtd-cm"
      },
      "source": [
        "df_label_4= df_finalized_cluster[df_finalized_cluster['Final Cluster']==4].copy()"
      ],
      "execution_count": 190,
      "outputs": []
    },
    {
      "cell_type": "code",
      "metadata": {
        "id": "8oz1WyG0ee-w"
      },
      "source": [
        "df_label_4.describe()"
      ],
      "execution_count": null,
      "outputs": []
    },
    {
      "cell_type": "code",
      "metadata": {
        "id": "JCPCWkRmemzn"
      },
      "source": [
        "df_label_4_fil = df_label_4.iloc[:, [0]].values"
      ],
      "execution_count": 192,
      "outputs": []
    },
    {
      "cell_type": "code",
      "metadata": {
        "id": "b3HcDwg2Z97Y"
      },
      "source": [
        "upper4 = df_label_4_fil.mean() + 3*df_label_4_fil.std()\n",
        "lower4 = df_label_4_fil.mean() -3*df_label_4_fil.std()"
      ],
      "execution_count": 212,
      "outputs": []
    },
    {
      "cell_type": "code",
      "metadata": {
        "id": "_AJz6UGbaBRr"
      },
      "source": [
        "new_df_label_4_fil= df_label_4_fil[(df_label_4_fil<upper4) & (df_label_4_fil>lower4)]"
      ],
      "execution_count": 213,
      "outputs": []
    },
    {
      "cell_type": "code",
      "metadata": {
        "colab": {
          "base_uri": "https://localhost:8080/"
        },
        "id": "7IL-qbC9aHR5",
        "outputId": "20d5e3cb-8cf8-4d4a-b986-148a6309413b"
      },
      "source": [
        "new_df_label_4_fil.size"
      ],
      "execution_count": 215,
      "outputs": [
        {
          "output_type": "execute_result",
          "data": {
            "text/plain": [
              "4003"
            ]
          },
          "metadata": {
            "tags": []
          },
          "execution_count": 215
        }
      ]
    },
    {
      "cell_type": "code",
      "metadata": {
        "colab": {
          "base_uri": "https://localhost:8080/",
          "height": 297
        },
        "id": "OOLeIVwEaMFH",
        "outputId": "bf39250a-a410-4728-bdfc-92d67b29e4d1"
      },
      "source": [
        "new_series4  = pd.Series(new_df_label_4_fil)\n",
        "conv_ser_df4 = new_series4.to_frame()\n",
        "conv_ser_df4.describe()"
      ],
      "execution_count": 222,
      "outputs": [
        {
          "output_type": "execute_result",
          "data": {
            "text/html": [
              "<div>\n",
              "<style scoped>\n",
              "    .dataframe tbody tr th:only-of-type {\n",
              "        vertical-align: middle;\n",
              "    }\n",
              "\n",
              "    .dataframe tbody tr th {\n",
              "        vertical-align: top;\n",
              "    }\n",
              "\n",
              "    .dataframe thead th {\n",
              "        text-align: right;\n",
              "    }\n",
              "</style>\n",
              "<table border=\"1\" class=\"dataframe\">\n",
              "  <thead>\n",
              "    <tr style=\"text-align: right;\">\n",
              "      <th></th>\n",
              "      <th>0</th>\n",
              "    </tr>\n",
              "  </thead>\n",
              "  <tbody>\n",
              "    <tr>\n",
              "      <th>count</th>\n",
              "      <td>4003.000000</td>\n",
              "    </tr>\n",
              "    <tr>\n",
              "      <th>mean</th>\n",
              "      <td>1523.341055</td>\n",
              "    </tr>\n",
              "    <tr>\n",
              "      <th>std</th>\n",
              "      <td>24.584263</td>\n",
              "    </tr>\n",
              "    <tr>\n",
              "      <th>min</th>\n",
              "      <td>1465.609985</td>\n",
              "    </tr>\n",
              "    <tr>\n",
              "      <th>25%</th>\n",
              "      <td>1503.128357</td>\n",
              "    </tr>\n",
              "    <tr>\n",
              "      <th>50%</th>\n",
              "      <td>1523.785889</td>\n",
              "    </tr>\n",
              "    <tr>\n",
              "      <th>75%</th>\n",
              "      <td>1544.121155</td>\n",
              "    </tr>\n",
              "    <tr>\n",
              "      <th>max</th>\n",
              "      <td>1593.281494</td>\n",
              "    </tr>\n",
              "  </tbody>\n",
              "</table>\n",
              "</div>"
            ],
            "text/plain": [
              "                 0\n",
              "count  4003.000000\n",
              "mean   1523.341055\n",
              "std      24.584263\n",
              "min    1465.609985\n",
              "25%    1503.128357\n",
              "50%    1523.785889\n",
              "75%    1544.121155\n",
              "max    1593.281494"
            ]
          },
          "metadata": {
            "tags": []
          },
          "execution_count": 222
        }
      ]
    },
    {
      "cell_type": "code",
      "metadata": {
        "id": "_6nlrSR9-McW"
      },
      "source": [
        "df_final_1= df_finalized_cluster[df_finalized_cluster['Final Cluster']==1].copy()\n",
        "df_final_2= df_finalized_cluster[df_finalized_cluster['Final Cluster']==2].copy()\n",
        "df_final_5= df_finalized_cluster[df_finalized_cluster['Final Cluster']==5].copy()\n",
        "df_final_6= df_finalized_cluster[df_finalized_cluster['Final Cluster']==6].copy()\n",
        "df_final_7= df_finalized_cluster[df_finalized_cluster['Final Cluster']==7].copy()\n",
        "df_final_8= df_finalized_cluster[df_finalized_cluster['Final Cluster']==8].copy()"
      ],
      "execution_count": 226,
      "outputs": []
    },
    {
      "cell_type": "code",
      "metadata": {
        "id": "wrrCqSX0-jh_",
        "outputId": "e65219fa-984b-4d12-aa54-2b8c195756fc",
        "colab": {
          "base_uri": "https://localhost:8080/",
          "height": 297
        }
      },
      "source": [
        "df_final_8.describe()"
      ],
      "execution_count": 232,
      "outputs": [
        {
          "output_type": "execute_result",
          "data": {
            "text/html": [
              "<div>\n",
              "<style scoped>\n",
              "    .dataframe tbody tr th:only-of-type {\n",
              "        vertical-align: middle;\n",
              "    }\n",
              "\n",
              "    .dataframe tbody tr th {\n",
              "        vertical-align: top;\n",
              "    }\n",
              "\n",
              "    .dataframe thead th {\n",
              "        text-align: right;\n",
              "    }\n",
              "</style>\n",
              "<table border=\"1\" class=\"dataframe\">\n",
              "  <thead>\n",
              "    <tr style=\"text-align: right;\">\n",
              "      <th></th>\n",
              "      <th>Value</th>\n",
              "      <th>labels</th>\n",
              "      <th>Second_labeling</th>\n",
              "      <th>Final Cluster</th>\n",
              "    </tr>\n",
              "  </thead>\n",
              "  <tbody>\n",
              "    <tr>\n",
              "      <th>count</th>\n",
              "      <td>50.000000</td>\n",
              "      <td>50.0</td>\n",
              "      <td>50.0</td>\n",
              "      <td>50.0</td>\n",
              "    </tr>\n",
              "    <tr>\n",
              "      <th>mean</th>\n",
              "      <td>656.171569</td>\n",
              "      <td>3.0</td>\n",
              "      <td>3.0</td>\n",
              "      <td>8.0</td>\n",
              "    </tr>\n",
              "    <tr>\n",
              "      <th>std</th>\n",
              "      <td>23.861995</td>\n",
              "      <td>0.0</td>\n",
              "      <td>0.0</td>\n",
              "      <td>0.0</td>\n",
              "    </tr>\n",
              "    <tr>\n",
              "      <th>min</th>\n",
              "      <td>622.455261</td>\n",
              "      <td>3.0</td>\n",
              "      <td>3.0</td>\n",
              "      <td>8.0</td>\n",
              "    </tr>\n",
              "    <tr>\n",
              "      <th>25%</th>\n",
              "      <td>635.752472</td>\n",
              "      <td>3.0</td>\n",
              "      <td>3.0</td>\n",
              "      <td>8.0</td>\n",
              "    </tr>\n",
              "    <tr>\n",
              "      <th>50%</th>\n",
              "      <td>652.448914</td>\n",
              "      <td>3.0</td>\n",
              "      <td>3.0</td>\n",
              "      <td>8.0</td>\n",
              "    </tr>\n",
              "    <tr>\n",
              "      <th>75%</th>\n",
              "      <td>680.837891</td>\n",
              "      <td>3.0</td>\n",
              "      <td>3.0</td>\n",
              "      <td>8.0</td>\n",
              "    </tr>\n",
              "    <tr>\n",
              "      <th>max</th>\n",
              "      <td>692.868164</td>\n",
              "      <td>3.0</td>\n",
              "      <td>3.0</td>\n",
              "      <td>8.0</td>\n",
              "    </tr>\n",
              "  </tbody>\n",
              "</table>\n",
              "</div>"
            ],
            "text/plain": [
              "            Value  labels  Second_labeling  Final Cluster\n",
              "count   50.000000    50.0             50.0           50.0\n",
              "mean   656.171569     3.0              3.0            8.0\n",
              "std     23.861995     0.0              0.0            0.0\n",
              "min    622.455261     3.0              3.0            8.0\n",
              "25%    635.752472     3.0              3.0            8.0\n",
              "50%    652.448914     3.0              3.0            8.0\n",
              "75%    680.837891     3.0              3.0            8.0\n",
              "max    692.868164     3.0              3.0            8.0"
            ]
          },
          "metadata": {
            "tags": []
          },
          "execution_count": 232
        }
      ]
    },
    {
      "cell_type": "code",
      "metadata": {
        "id": "4rPyZjFjABI3"
      },
      "source": [
        "df_final_0= df_finalized_cluster[df_finalized_cluster['Final Cluster']==0].copy()\n",
        "df_final_3= df_finalized_cluster[df_finalized_cluster['Final Cluster']==3].copy()\n",
        "df_final_4= df_finalized_cluster[df_finalized_cluster['Final Cluster']==4].copy()"
      ],
      "execution_count": 233,
      "outputs": []
    },
    {
      "cell_type": "code",
      "metadata": {
        "id": "tYyDNMUWAG56",
        "outputId": "1bd7da1d-d3aa-4269-f334-649ced9fb6f0",
        "colab": {
          "base_uri": "https://localhost:8080/",
          "height": 297
        }
      },
      "source": [
        "df_final_0.describe()"
      ],
      "execution_count": 237,
      "outputs": [
        {
          "output_type": "execute_result",
          "data": {
            "text/html": [
              "<div>\n",
              "<style scoped>\n",
              "    .dataframe tbody tr th:only-of-type {\n",
              "        vertical-align: middle;\n",
              "    }\n",
              "\n",
              "    .dataframe tbody tr th {\n",
              "        vertical-align: top;\n",
              "    }\n",
              "\n",
              "    .dataframe thead th {\n",
              "        text-align: right;\n",
              "    }\n",
              "</style>\n",
              "<table border=\"1\" class=\"dataframe\">\n",
              "  <thead>\n",
              "    <tr style=\"text-align: right;\">\n",
              "      <th></th>\n",
              "      <th>Value</th>\n",
              "      <th>labels</th>\n",
              "      <th>Second_labeling</th>\n",
              "      <th>Final Cluster</th>\n",
              "    </tr>\n",
              "  </thead>\n",
              "  <tbody>\n",
              "    <tr>\n",
              "      <th>count</th>\n",
              "      <td>17070.000000</td>\n",
              "      <td>17070.0</td>\n",
              "      <td>17070.0</td>\n",
              "      <td>17070.0</td>\n",
              "    </tr>\n",
              "    <tr>\n",
              "      <th>mean</th>\n",
              "      <td>330.603642</td>\n",
              "      <td>0.0</td>\n",
              "      <td>0.0</td>\n",
              "      <td>0.0</td>\n",
              "    </tr>\n",
              "    <tr>\n",
              "      <th>std</th>\n",
              "      <td>15.660261</td>\n",
              "      <td>0.0</td>\n",
              "      <td>0.0</td>\n",
              "      <td>0.0</td>\n",
              "    </tr>\n",
              "    <tr>\n",
              "      <th>min</th>\n",
              "      <td>139.366562</td>\n",
              "      <td>0.0</td>\n",
              "      <td>0.0</td>\n",
              "      <td>0.0</td>\n",
              "    </tr>\n",
              "    <tr>\n",
              "      <th>25%</th>\n",
              "      <td>329.607056</td>\n",
              "      <td>0.0</td>\n",
              "      <td>0.0</td>\n",
              "      <td>0.0</td>\n",
              "    </tr>\n",
              "    <tr>\n",
              "      <th>50%</th>\n",
              "      <td>330.538391</td>\n",
              "      <td>0.0</td>\n",
              "      <td>0.0</td>\n",
              "      <td>0.0</td>\n",
              "    </tr>\n",
              "    <tr>\n",
              "      <th>75%</th>\n",
              "      <td>331.517845</td>\n",
              "      <td>0.0</td>\n",
              "      <td>0.0</td>\n",
              "      <td>0.0</td>\n",
              "    </tr>\n",
              "    <tr>\n",
              "      <th>max</th>\n",
              "      <td>407.009552</td>\n",
              "      <td>0.0</td>\n",
              "      <td>0.0</td>\n",
              "      <td>0.0</td>\n",
              "    </tr>\n",
              "  </tbody>\n",
              "</table>\n",
              "</div>"
            ],
            "text/plain": [
              "              Value   labels  Second_labeling  Final Cluster\n",
              "count  17070.000000  17070.0          17070.0        17070.0\n",
              "mean     330.603642      0.0              0.0            0.0\n",
              "std       15.660261      0.0              0.0            0.0\n",
              "min      139.366562      0.0              0.0            0.0\n",
              "25%      329.607056      0.0              0.0            0.0\n",
              "50%      330.538391      0.0              0.0            0.0\n",
              "75%      331.517845      0.0              0.0            0.0\n",
              "max      407.009552      0.0              0.0            0.0"
            ]
          },
          "metadata": {
            "tags": []
          },
          "execution_count": 237
        }
      ]
    }
  ]
}